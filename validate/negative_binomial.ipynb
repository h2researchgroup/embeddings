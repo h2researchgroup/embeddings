{
 "cells": [
  {
   "cell_type": "code",
   "execution_count": 1,
   "metadata": {},
   "outputs": [
    {
     "ename": "NameError",
     "evalue": "name 'pd' is not defined",
     "output_type": "error",
     "traceback": [
      "\u001b[0;31m---------------------------------------------------------------------------\u001b[0m",
      "\u001b[0;31mNameError\u001b[0m                                 Traceback (most recent call last)",
      "\u001b[0;32m<ipython-input-1-8976fd11ee73>\u001b[0m in \u001b[0;36m<module>\u001b[0;34m\u001b[0m\n\u001b[1;32m      1\u001b[0m \u001b[0;32mimport\u001b[0m \u001b[0mast\u001b[0m\u001b[0;34m\u001b[0m\u001b[0;34m\u001b[0m\u001b[0m\n\u001b[0;32m----> 2\u001b[0;31m \u001b[0mdf\u001b[0m \u001b[0;34m=\u001b[0m \u001b[0mpd\u001b[0m\u001b[0;34m.\u001b[0m\u001b[0mread_csv\u001b[0m\u001b[0;34m(\u001b[0m\u001b[0;34m\"../../../models_storage/word_embeddings_data/ocr_text_with_tags_10000_jan21.csv\"\u001b[0m\u001b[0;34m)\u001b[0m\u001b[0;34m\u001b[0m\u001b[0;34m\u001b[0m\u001b[0m\n\u001b[0m",
      "\u001b[0;31mNameError\u001b[0m: name 'pd' is not defined"
     ]
    }
   ],
   "source": [
    "import ast\n",
    "df = pd.read_csv(\"../../../models_storage/word_embeddings_data/ocr_text_with_tags_10000_jan21.csv\")\n"
   ]
  },
  {
   "cell_type": "code",
   "execution_count": 109,
   "metadata": {},
   "outputs": [
    {
     "data": {
      "text/html": [
       "<div>\n",
       "<style scoped>\n",
       "    .dataframe tbody tr th:only-of-type {\n",
       "        vertical-align: middle;\n",
       "    }\n",
       "\n",
       "    .dataframe tbody tr th {\n",
       "        vertical-align: top;\n",
       "    }\n",
       "\n",
       "    .dataframe thead th {\n",
       "        text-align: right;\n",
       "    }\n",
       "</style>\n",
       "<table border=\"1\" class=\"dataframe\">\n",
       "  <thead>\n",
       "    <tr style=\"text-align: right;\">\n",
       "      <th></th>\n",
       "      <th>Unnamed: 0</th>\n",
       "      <th>filename</th>\n",
       "      <th>text</th>\n",
       "      <th>edited_filename</th>\n",
       "      <th>text_unpacked</th>\n",
       "    </tr>\n",
       "  </thead>\n",
       "  <tbody>\n",
       "    <tr>\n",
       "      <th>0</th>\n",
       "      <td>0</td>\n",
       "      <td>journal-article-10.2307_2065002</td>\n",
       "      <td>['research', 'note', 'church', 'membership', '...</td>\n",
       "      <td>10.2307_2065002</td>\n",
       "      <td>research note church membership netherlands ro...</td>\n",
       "    </tr>\n",
       "    <tr>\n",
       "      <th>1</th>\n",
       "      <td>1</td>\n",
       "      <td>journal-article-10.2307_3380821</td>\n",
       "      <td>['polish', 'i3o', 'oo', 'sociological', 'revie...</td>\n",
       "      <td>10.2307_3380821</td>\n",
       "      <td>polish i3o oo sociological review issn communi...</td>\n",
       "    </tr>\n",
       "    <tr>\n",
       "      <th>2</th>\n",
       "      <td>2</td>\n",
       "      <td>journal-article-10.2307_2095822</td>\n",
       "      <td>['article', 'jjdlbsj', 'grapliy', 'compassiona...</td>\n",
       "      <td>10.2307_2095822</td>\n",
       "      <td>article jjdlbsj grapliy compassionate egalitar...</td>\n",
       "    </tr>\n",
       "    <tr>\n",
       "      <th>3</th>\n",
       "      <td>3</td>\n",
       "      <td>journal-article-10.2307_2631839</td>\n",
       "      <td>['reply', 'allison', 'more', 'comparing', 'reg...</td>\n",
       "      <td>10.2307_2631839</td>\n",
       "      <td>reply allison more comparing regression coeffi...</td>\n",
       "    </tr>\n",
       "    <tr>\n",
       "      <th>4</th>\n",
       "      <td>4</td>\n",
       "      <td>journal-article-10.2307_40836133</td>\n",
       "      <td>['determinants', 'spousal', 'interaction', 'ma...</td>\n",
       "      <td>10.2307_40836133</td>\n",
       "      <td>determinants spousal interaction marital struc...</td>\n",
       "    </tr>\n",
       "  </tbody>\n",
       "</table>\n",
       "</div>"
      ],
      "text/plain": [
       "   Unnamed: 0                          filename  \\\n",
       "0           0   journal-article-10.2307_2065002   \n",
       "1           1   journal-article-10.2307_3380821   \n",
       "2           2   journal-article-10.2307_2095822   \n",
       "3           3   journal-article-10.2307_2631839   \n",
       "4           4  journal-article-10.2307_40836133   \n",
       "\n",
       "                                                text   edited_filename  \\\n",
       "0  ['research', 'note', 'church', 'membership', '...   10.2307_2065002   \n",
       "1  ['polish', 'i3o', 'oo', 'sociological', 'revie...   10.2307_3380821   \n",
       "2  ['article', 'jjdlbsj', 'grapliy', 'compassiona...   10.2307_2095822   \n",
       "3  ['reply', 'allison', 'more', 'comparing', 'reg...   10.2307_2631839   \n",
       "4  ['determinants', 'spousal', 'interaction', 'ma...  10.2307_40836133   \n",
       "\n",
       "                                       text_unpacked  \n",
       "0  research note church membership netherlands ro...  \n",
       "1  polish i3o oo sociological review issn communi...  \n",
       "2  article jjdlbsj grapliy compassionate egalitar...  \n",
       "3  reply allison more comparing regression coeffi...  \n",
       "4  determinants spousal interaction marital struc...  "
      ]
     },
     "execution_count": 109,
     "metadata": {},
     "output_type": "execute_result"
    }
   ],
   "source": [
    "df.head()"
   ]
  },
  {
   "cell_type": "code",
   "execution_count": 103,
   "metadata": {},
   "outputs": [
    {
     "ename": "KeyboardInterrupt",
     "evalue": "",
     "output_type": "error",
     "traceback": [
      "\u001b[0;31m---------------------------------------------------------------------------\u001b[0m",
      "\u001b[0;31mKeyboardInterrupt\u001b[0m                         Traceback (most recent call last)",
      "\u001b[0;32m<ipython-input-103-7c387d23ed4a>\u001b[0m in \u001b[0;36m<module>\u001b[0;34m\u001b[0m\n\u001b[0;32m----> 1\u001b[0;31m \u001b[0mtext_unpacked\u001b[0m \u001b[0;34m=\u001b[0m \u001b[0;34m[\u001b[0m\u001b[0mast\u001b[0m\u001b[0;34m.\u001b[0m\u001b[0mliteral_eval\u001b[0m\u001b[0;34m(\u001b[0m\u001b[0mt\u001b[0m\u001b[0;34m)\u001b[0m \u001b[0;32mfor\u001b[0m \u001b[0mt\u001b[0m \u001b[0;32min\u001b[0m \u001b[0mdf\u001b[0m\u001b[0;34m.\u001b[0m\u001b[0mtext\u001b[0m\u001b[0;34m]\u001b[0m\u001b[0;34m\u001b[0m\u001b[0;34m\u001b[0m\u001b[0m\n\u001b[0m\u001b[1;32m      2\u001b[0m \u001b[0mtext_unpacked_short\u001b[0m \u001b[0;34m=\u001b[0m \u001b[0;34m[\u001b[0m\u001b[0mt\u001b[0m\u001b[0;34m[\u001b[0m\u001b[0;34m:\u001b[0m\u001b[0;36m2000\u001b[0m\u001b[0;34m]\u001b[0m \u001b[0;32mfor\u001b[0m \u001b[0mt\u001b[0m \u001b[0;32min\u001b[0m \u001b[0mtext_unpacked\u001b[0m\u001b[0;34m]\u001b[0m\u001b[0;34m\u001b[0m\u001b[0;34m\u001b[0m\u001b[0m\n",
      "\u001b[0;32m<ipython-input-103-7c387d23ed4a>\u001b[0m in \u001b[0;36m<listcomp>\u001b[0;34m(.0)\u001b[0m\n\u001b[0;32m----> 1\u001b[0;31m \u001b[0mtext_unpacked\u001b[0m \u001b[0;34m=\u001b[0m \u001b[0;34m[\u001b[0m\u001b[0mast\u001b[0m\u001b[0;34m.\u001b[0m\u001b[0mliteral_eval\u001b[0m\u001b[0;34m(\u001b[0m\u001b[0mt\u001b[0m\u001b[0;34m)\u001b[0m \u001b[0;32mfor\u001b[0m \u001b[0mt\u001b[0m \u001b[0;32min\u001b[0m \u001b[0mdf\u001b[0m\u001b[0;34m.\u001b[0m\u001b[0mtext\u001b[0m\u001b[0;34m]\u001b[0m\u001b[0;34m\u001b[0m\u001b[0;34m\u001b[0m\u001b[0m\n\u001b[0m\u001b[1;32m      2\u001b[0m \u001b[0mtext_unpacked_short\u001b[0m \u001b[0;34m=\u001b[0m \u001b[0;34m[\u001b[0m\u001b[0mt\u001b[0m\u001b[0;34m[\u001b[0m\u001b[0;34m:\u001b[0m\u001b[0;36m2000\u001b[0m\u001b[0;34m]\u001b[0m \u001b[0;32mfor\u001b[0m \u001b[0mt\u001b[0m \u001b[0;32min\u001b[0m \u001b[0mtext_unpacked\u001b[0m\u001b[0;34m]\u001b[0m\u001b[0;34m\u001b[0m\u001b[0;34m\u001b[0m\u001b[0m\n",
      "\u001b[0;32m/opt/conda/lib/python3.7/ast.py\u001b[0m in \u001b[0;36mliteral_eval\u001b[0;34m(node_or_string)\u001b[0m\n\u001b[1;32m     44\u001b[0m     \"\"\"\n\u001b[1;32m     45\u001b[0m     \u001b[0;32mif\u001b[0m \u001b[0misinstance\u001b[0m\u001b[0;34m(\u001b[0m\u001b[0mnode_or_string\u001b[0m\u001b[0;34m,\u001b[0m \u001b[0mstr\u001b[0m\u001b[0;34m)\u001b[0m\u001b[0;34m:\u001b[0m\u001b[0;34m\u001b[0m\u001b[0;34m\u001b[0m\u001b[0m\n\u001b[0;32m---> 46\u001b[0;31m         \u001b[0mnode_or_string\u001b[0m \u001b[0;34m=\u001b[0m \u001b[0mparse\u001b[0m\u001b[0;34m(\u001b[0m\u001b[0mnode_or_string\u001b[0m\u001b[0;34m,\u001b[0m \u001b[0mmode\u001b[0m\u001b[0;34m=\u001b[0m\u001b[0;34m'eval'\u001b[0m\u001b[0;34m)\u001b[0m\u001b[0;34m\u001b[0m\u001b[0;34m\u001b[0m\u001b[0m\n\u001b[0m\u001b[1;32m     47\u001b[0m     \u001b[0;32mif\u001b[0m \u001b[0misinstance\u001b[0m\u001b[0;34m(\u001b[0m\u001b[0mnode_or_string\u001b[0m\u001b[0;34m,\u001b[0m \u001b[0mExpression\u001b[0m\u001b[0;34m)\u001b[0m\u001b[0;34m:\u001b[0m\u001b[0;34m\u001b[0m\u001b[0;34m\u001b[0m\u001b[0m\n\u001b[1;32m     48\u001b[0m         \u001b[0mnode_or_string\u001b[0m \u001b[0;34m=\u001b[0m \u001b[0mnode_or_string\u001b[0m\u001b[0;34m.\u001b[0m\u001b[0mbody\u001b[0m\u001b[0;34m\u001b[0m\u001b[0;34m\u001b[0m\u001b[0m\n",
      "\u001b[0;32m/opt/conda/lib/python3.7/ast.py\u001b[0m in \u001b[0;36mparse\u001b[0;34m(source, filename, mode)\u001b[0m\n\u001b[1;32m     33\u001b[0m     \u001b[0mEquivalent\u001b[0m \u001b[0mto\u001b[0m \u001b[0mcompile\u001b[0m\u001b[0;34m(\u001b[0m\u001b[0msource\u001b[0m\u001b[0;34m,\u001b[0m \u001b[0mfilename\u001b[0m\u001b[0;34m,\u001b[0m \u001b[0mmode\u001b[0m\u001b[0;34m,\u001b[0m \u001b[0mPyCF_ONLY_AST\u001b[0m\u001b[0;34m)\u001b[0m\u001b[0;34m.\u001b[0m\u001b[0;34m\u001b[0m\u001b[0;34m\u001b[0m\u001b[0m\n\u001b[1;32m     34\u001b[0m     \"\"\"\n\u001b[0;32m---> 35\u001b[0;31m     \u001b[0;32mreturn\u001b[0m \u001b[0mcompile\u001b[0m\u001b[0;34m(\u001b[0m\u001b[0msource\u001b[0m\u001b[0;34m,\u001b[0m \u001b[0mfilename\u001b[0m\u001b[0;34m,\u001b[0m \u001b[0mmode\u001b[0m\u001b[0;34m,\u001b[0m \u001b[0mPyCF_ONLY_AST\u001b[0m\u001b[0;34m)\u001b[0m\u001b[0;34m\u001b[0m\u001b[0;34m\u001b[0m\u001b[0m\n\u001b[0m\u001b[1;32m     36\u001b[0m \u001b[0;34m\u001b[0m\u001b[0m\n\u001b[1;32m     37\u001b[0m \u001b[0;34m\u001b[0m\u001b[0m\n",
      "\u001b[0;31mKeyboardInterrupt\u001b[0m: "
     ]
    }
   ],
   "source": [
    "text_unpacked = [ast.literal_eval(t) for t in df.text]\n",
    "text_unpacked_short = [t[:2000] for t in text_unpacked]"
   ]
  },
  {
   "cell_type": "code",
   "execution_count": null,
   "metadata": {},
   "outputs": [],
   "source": [
    "df.text_unpacked = [' '.join(t) for t in text_unpacked_short]"
   ]
  },
  {
   "cell_type": "code",
   "execution_count": 2,
   "metadata": {},
   "outputs": [],
   "source": [
    "import numpy as np\n",
    "import matplotlib.pyplot as plt\n",
    "import statsmodels.api as sm\n",
    "import pandas as pd\n",
    "import statsmodels.formula.api as smf\n",
    "from statsmodels.discrete.discrete_model import NegativeBinomial\n",
    "np.random.seed(42)"
   ]
  },
  {
   "cell_type": "code",
   "execution_count": 3,
   "metadata": {},
   "outputs": [],
   "source": [
    "#df = pd.read_csv('../../../models_storage/word_embeddings_data/text_with_cosine_scores_wdg_jan11.csv')\n",
    "df = pd.read_csv('../../../models_storage/word_embeddings_data/text_with_cosine_scores_wdg_aug16.csv')"
   ]
  },
  {
   "cell_type": "code",
   "execution_count": 4,
   "metadata": {},
   "outputs": [],
   "source": [
    "df_label = pd.read_csv('../../../models_storage/word_embeddings_data/counts_and_subject.csv', low_memory=False)"
   ]
  },
  {
   "cell_type": "code",
   "execution_count": 5,
   "metadata": {},
   "outputs": [
    {
     "data": {
      "text/plain": [
       "['article_id',\n",
       " 'culture_ngram_count',\n",
       " 'culture_ngram_count.1',\n",
       " 'relational_ngram_count',\n",
       " 'relational_ngram_count.1',\n",
       " 'demographic_ngram_count',\n",
       " 'demographic_ngram_count.1',\n",
       " 'word_count',\n",
       " 'cultural_author_count',\n",
       " 'demographic_author_count',\n",
       " 'relational_author_count',\n",
       " 'primary_subject',\n",
       " 'year']"
      ]
     },
     "execution_count": 5,
     "metadata": {},
     "output_type": "execute_result"
    }
   ],
   "source": [
    "list(df_label)"
   ]
  },
  {
   "cell_type": "code",
   "execution_count": 6,
   "metadata": {},
   "outputs": [],
   "source": [
    "df_label.article_id = df_label.article_id.apply(lambda x: x[16:])"
   ]
  },
  {
   "cell_type": "code",
   "execution_count": 7,
   "metadata": {},
   "outputs": [],
   "source": [
    "df = pd.merge(df, df_label, how='left', left_on='edited_filename', right_on='article_id')"
   ]
  },
  {
   "cell_type": "code",
   "execution_count": 8,
   "metadata": {},
   "outputs": [],
   "source": [
    "df = df[df.culture_ngram_count.isnull() == False]"
   ]
  },
  {
   "cell_type": "code",
   "execution_count": 9,
   "metadata": {},
   "outputs": [],
   "source": [
    "df = df.drop(columns=['Unnamed: 0', 'Unnamed: 0_x', 'Unnamed: 0.1', 'Unnamed: 0_y'])"
   ]
  },
  {
   "cell_type": "code",
   "execution_count": 10,
   "metadata": {
    "scrolled": true
   },
   "outputs": [
    {
     "data": {
      "text/html": [
       "<div>\n",
       "<style scoped>\n",
       "    .dataframe tbody tr th:only-of-type {\n",
       "        vertical-align: middle;\n",
       "    }\n",
       "\n",
       "    .dataframe tbody tr th {\n",
       "        vertical-align: top;\n",
       "    }\n",
       "\n",
       "    .dataframe thead th {\n",
       "        text-align: right;\n",
       "    }\n",
       "</style>\n",
       "<table border=\"1\" class=\"dataframe\">\n",
       "  <thead>\n",
       "    <tr style=\"text-align: right;\">\n",
       "      <th></th>\n",
       "      <th>filename_x</th>\n",
       "      <th>edited_filename</th>\n",
       "      <th>culture</th>\n",
       "      <th>demographic</th>\n",
       "      <th>relational</th>\n",
       "      <th>filename_y</th>\n",
       "      <th>text</th>\n",
       "      <th>relational_doc2vec_cosine</th>\n",
       "      <th>demographic_doc2vec_cosine</th>\n",
       "      <th>culture_doc2vec_cosine</th>\n",
       "      <th>...</th>\n",
       "      <th>relational_ngram_count</th>\n",
       "      <th>relational_ngram_count.1</th>\n",
       "      <th>demographic_ngram_count</th>\n",
       "      <th>demographic_ngram_count.1</th>\n",
       "      <th>word_count</th>\n",
       "      <th>cultural_author_count</th>\n",
       "      <th>demographic_author_count</th>\n",
       "      <th>relational_author_count</th>\n",
       "      <th>primary_subject</th>\n",
       "      <th>year</th>\n",
       "    </tr>\n",
       "  </thead>\n",
       "  <tbody>\n",
       "    <tr>\n",
       "      <th>0</th>\n",
       "      <td>../../../jstor_data/ocr/journal-article-10.230...</td>\n",
       "      <td>10.2307_1387034</td>\n",
       "      <td>0.609090</td>\n",
       "      <td>0.616106</td>\n",
       "      <td>0.450964</td>\n",
       "      <td>../../../jstor_data/ocr/journal-article-10.230...</td>\n",
       "      <td>research note church membership the netherland...</td>\n",
       "      <td>0.037736</td>\n",
       "      <td>0.074852</td>\n",
       "      <td>0.010707</td>\n",
       "      <td>...</td>\n",
       "      <td>1.0</td>\n",
       "      <td>0.0</td>\n",
       "      <td>1.0</td>\n",
       "      <td>1.0</td>\n",
       "      <td>1361.0</td>\n",
       "      <td>0.0</td>\n",
       "      <td>0.0</td>\n",
       "      <td>0.0</td>\n",
       "      <td>Sociology</td>\n",
       "      <td>1988</td>\n",
       "    </tr>\n",
       "    <tr>\n",
       "      <th>1</th>\n",
       "      <td>../../../jstor_data/ocr/journal-article-10.230...</td>\n",
       "      <td>10.2307_41274754</td>\n",
       "      <td>0.612232</td>\n",
       "      <td>0.618713</td>\n",
       "      <td>0.445802</td>\n",
       "      <td>../../../jstor_data/ocr/journal-article-10.230...</td>\n",
       "      <td>polish iooo sociological review   graduate sch...</td>\n",
       "      <td>0.028283</td>\n",
       "      <td>0.021214</td>\n",
       "      <td>0.038979</td>\n",
       "      <td>...</td>\n",
       "      <td>5.0</td>\n",
       "      <td>2.0</td>\n",
       "      <td>1.0</td>\n",
       "      <td>1.0</td>\n",
       "      <td>1238.0</td>\n",
       "      <td>0.0</td>\n",
       "      <td>0.0</td>\n",
       "      <td>0.0</td>\n",
       "      <td>Sociology</td>\n",
       "      <td>2000</td>\n",
       "    </tr>\n",
       "    <tr>\n",
       "      <th>2</th>\n",
       "      <td>../../../jstor_data/ocr/journal-article-10.230...</td>\n",
       "      <td>10.2307_24467156</td>\n",
       "      <td>0.618802</td>\n",
       "      <td>0.627400</td>\n",
       "      <td>0.459231</td>\n",
       "      <td>../../../jstor_data/ocr/journal-article-10.230...</td>\n",
       "      <td>article ■jjdlbsj grapliy compassionate egalita...</td>\n",
       "      <td>0.021041</td>\n",
       "      <td>0.025699</td>\n",
       "      <td>0.053906</td>\n",
       "      <td>...</td>\n",
       "      <td>46.0</td>\n",
       "      <td>21.0</td>\n",
       "      <td>5.0</td>\n",
       "      <td>4.0</td>\n",
       "      <td>7959.0</td>\n",
       "      <td>0.0</td>\n",
       "      <td>0.0</td>\n",
       "      <td>0.0</td>\n",
       "      <td>Sociology</td>\n",
       "      <td>2014</td>\n",
       "    </tr>\n",
       "    <tr>\n",
       "      <th>3</th>\n",
       "      <td>../../../jstor_data/ocr/journal-article-10.230...</td>\n",
       "      <td>10.2307_2782279</td>\n",
       "      <td>0.605174</td>\n",
       "      <td>0.611529</td>\n",
       "      <td>0.443576</td>\n",
       "      <td>../../../jstor_data/ocr/journal-article-10.230...</td>\n",
       "      <td>allison regressiallison  raises legitimate que...</td>\n",
       "      <td>0.019344</td>\n",
       "      <td>0.028638</td>\n",
       "      <td>0.029558</td>\n",
       "      <td>...</td>\n",
       "      <td>0.0</td>\n",
       "      <td>0.0</td>\n",
       "      <td>7.0</td>\n",
       "      <td>7.0</td>\n",
       "      <td>1979.0</td>\n",
       "      <td>0.0</td>\n",
       "      <td>0.0</td>\n",
       "      <td>0.0</td>\n",
       "      <td>Sociology</td>\n",
       "      <td>1995</td>\n",
       "    </tr>\n",
       "    <tr>\n",
       "      <th>6</th>\n",
       "      <td>../../../jstor_data/ocr/journal-article-10.230...</td>\n",
       "      <td>10.2307_351656</td>\n",
       "      <td>0.613089</td>\n",
       "      <td>0.618886</td>\n",
       "      <td>0.450866</td>\n",
       "      <td>../../../jstor_data/ocr/journal-article-10.230...</td>\n",
       "      <td>determinants spousal interaction marital struc...</td>\n",
       "      <td>0.002458</td>\n",
       "      <td>0.050677</td>\n",
       "      <td>0.023544</td>\n",
       "      <td>...</td>\n",
       "      <td>14.0</td>\n",
       "      <td>6.0</td>\n",
       "      <td>10.0</td>\n",
       "      <td>5.0</td>\n",
       "      <td>4340.0</td>\n",
       "      <td>0.0</td>\n",
       "      <td>0.0</td>\n",
       "      <td>0.0</td>\n",
       "      <td>Sociology</td>\n",
       "      <td>1983</td>\n",
       "    </tr>\n",
       "  </tbody>\n",
       "</table>\n",
       "<p>5 rows × 29 columns</p>\n",
       "</div>"
      ],
      "text/plain": [
       "                                          filename_x   edited_filename  \\\n",
       "0  ../../../jstor_data/ocr/journal-article-10.230...   10.2307_1387034   \n",
       "1  ../../../jstor_data/ocr/journal-article-10.230...  10.2307_41274754   \n",
       "2  ../../../jstor_data/ocr/journal-article-10.230...  10.2307_24467156   \n",
       "3  ../../../jstor_data/ocr/journal-article-10.230...   10.2307_2782279   \n",
       "6  ../../../jstor_data/ocr/journal-article-10.230...    10.2307_351656   \n",
       "\n",
       "    culture  demographic  relational  \\\n",
       "0  0.609090     0.616106    0.450964   \n",
       "1  0.612232     0.618713    0.445802   \n",
       "2  0.618802     0.627400    0.459231   \n",
       "3  0.605174     0.611529    0.443576   \n",
       "6  0.613089     0.618886    0.450866   \n",
       "\n",
       "                                          filename_y  \\\n",
       "0  ../../../jstor_data/ocr/journal-article-10.230...   \n",
       "1  ../../../jstor_data/ocr/journal-article-10.230...   \n",
       "2  ../../../jstor_data/ocr/journal-article-10.230...   \n",
       "3  ../../../jstor_data/ocr/journal-article-10.230...   \n",
       "6  ../../../jstor_data/ocr/journal-article-10.230...   \n",
       "\n",
       "                                                text  \\\n",
       "0  research note church membership the netherland...   \n",
       "1  polish iooo sociological review   graduate sch...   \n",
       "2  article ■jjdlbsj grapliy compassionate egalita...   \n",
       "3  allison regressiallison  raises legitimate que...   \n",
       "6  determinants spousal interaction marital struc...   \n",
       "\n",
       "   relational_doc2vec_cosine  demographic_doc2vec_cosine  \\\n",
       "0                   0.037736                    0.074852   \n",
       "1                   0.028283                    0.021214   \n",
       "2                   0.021041                    0.025699   \n",
       "3                   0.019344                    0.028638   \n",
       "6                   0.002458                    0.050677   \n",
       "\n",
       "   culture_doc2vec_cosine  ...  relational_ngram_count  \\\n",
       "0                0.010707  ...                     1.0   \n",
       "1                0.038979  ...                     5.0   \n",
       "2                0.053906  ...                    46.0   \n",
       "3                0.029558  ...                     0.0   \n",
       "6                0.023544  ...                    14.0   \n",
       "\n",
       "   relational_ngram_count.1  demographic_ngram_count  \\\n",
       "0                       0.0                      1.0   \n",
       "1                       2.0                      1.0   \n",
       "2                      21.0                      5.0   \n",
       "3                       0.0                      7.0   \n",
       "6                       6.0                     10.0   \n",
       "\n",
       "   demographic_ngram_count.1  word_count  cultural_author_count  \\\n",
       "0                        1.0      1361.0                    0.0   \n",
       "1                        1.0      1238.0                    0.0   \n",
       "2                        4.0      7959.0                    0.0   \n",
       "3                        7.0      1979.0                    0.0   \n",
       "6                        5.0      4340.0                    0.0   \n",
       "\n",
       "  demographic_author_count  relational_author_count  primary_subject  year  \n",
       "0                      0.0                      0.0        Sociology  1988  \n",
       "1                      0.0                      0.0        Sociology  2000  \n",
       "2                      0.0                      0.0        Sociology  2014  \n",
       "3                      0.0                      0.0        Sociology  1995  \n",
       "6                      0.0                      0.0        Sociology  1983  \n",
       "\n",
       "[5 rows x 29 columns]"
      ]
     },
     "execution_count": 10,
     "metadata": {},
     "output_type": "execute_result"
    }
   ],
   "source": [
    "df.head()"
   ]
  },
  {
   "cell_type": "code",
   "execution_count": 11,
   "metadata": {},
   "outputs": [],
   "source": [
    "# Convert ngram counts to proportions, keep for logit models\n",
    "df['culture_ngram_prop'] = (df.culture_ngram_count)/(df.word_count)\n",
    "df['demographic_ngram_prop'] = (df.demographic_ngram_count)/(df.word_count)\n",
    "df['relational_ngram_prop'] = (df.relational_ngram_count)/(df.word_count)"
   ]
  },
  {
   "cell_type": "code",
   "execution_count": 12,
   "metadata": {},
   "outputs": [],
   "source": [
    "# Take log of word count (length matters less as it gets larger)\n",
    "df.word_count = np.log(df.word_count)"
   ]
  },
  {
   "cell_type": "code",
   "execution_count": 13,
   "metadata": {},
   "outputs": [],
   "source": [
    "def discipline_to_numeric(x):\n",
    "    if x=='Sociology':\n",
    "        return 0\n",
    "    if x=='Management & Organizational Behavior':\n",
    "        return 1\n",
    "df.primary_subject = df.primary_subject.apply(discipline_to_numeric)"
   ]
  },
  {
   "cell_type": "code",
   "execution_count": 14,
   "metadata": {},
   "outputs": [],
   "source": [
    "df.year = df.year.apply(lambda x: int(x[:4]))"
   ]
  },
  {
   "cell_type": "code",
   "execution_count": 15,
   "metadata": {},
   "outputs": [],
   "source": [
    "#df.year = df.year.apply(lambda x: int(x[:4]) - int(1970))\n",
    "#df.year = (df.year - df.year.min())/(df.year.max() - df.year.min())"
   ]
  },
  {
   "cell_type": "markdown",
   "metadata": {},
   "source": [
    "#### Dichotomous coding of foundational text citations"
   ]
  },
  {
   "cell_type": "code",
   "execution_count": 16,
   "metadata": {},
   "outputs": [],
   "source": [
    "df['cultural_author_count'] = df['cultural_author_count'].apply(lambda x: 1 if x > 0 else 0)\n",
    "df['demographic_author_count'] = df['demographic_author_count'].apply(lambda x: 1 if x > 0 else 0)\n",
    "df['relational_author_count'] = df['relational_author_count'].apply(lambda x: 1 if x > 0 else 0)"
   ]
  },
  {
   "cell_type": "code",
   "execution_count": 17,
   "metadata": {},
   "outputs": [
    {
     "data": {
      "text/html": [
       "<div>\n",
       "<style scoped>\n",
       "    .dataframe tbody tr th:only-of-type {\n",
       "        vertical-align: middle;\n",
       "    }\n",
       "\n",
       "    .dataframe tbody tr th {\n",
       "        vertical-align: top;\n",
       "    }\n",
       "\n",
       "    .dataframe thead th {\n",
       "        text-align: right;\n",
       "    }\n",
       "</style>\n",
       "<table border=\"1\" class=\"dataframe\">\n",
       "  <thead>\n",
       "    <tr style=\"text-align: right;\">\n",
       "      <th></th>\n",
       "      <th>filename_x</th>\n",
       "      <th>edited_filename</th>\n",
       "      <th>culture</th>\n",
       "      <th>demographic</th>\n",
       "      <th>relational</th>\n",
       "      <th>filename_y</th>\n",
       "      <th>text</th>\n",
       "      <th>relational_doc2vec_cosine</th>\n",
       "      <th>demographic_doc2vec_cosine</th>\n",
       "      <th>culture_doc2vec_cosine</th>\n",
       "      <th>...</th>\n",
       "      <th>demographic_ngram_count.1</th>\n",
       "      <th>word_count</th>\n",
       "      <th>cultural_author_count</th>\n",
       "      <th>demographic_author_count</th>\n",
       "      <th>relational_author_count</th>\n",
       "      <th>primary_subject</th>\n",
       "      <th>year</th>\n",
       "      <th>culture_ngram_prop</th>\n",
       "      <th>demographic_ngram_prop</th>\n",
       "      <th>relational_ngram_prop</th>\n",
       "    </tr>\n",
       "  </thead>\n",
       "  <tbody>\n",
       "    <tr>\n",
       "      <th>0</th>\n",
       "      <td>../../../jstor_data/ocr/journal-article-10.230...</td>\n",
       "      <td>10.2307_1387034</td>\n",
       "      <td>0.609090</td>\n",
       "      <td>0.616106</td>\n",
       "      <td>0.450964</td>\n",
       "      <td>../../../jstor_data/ocr/journal-article-10.230...</td>\n",
       "      <td>research note church membership the netherland...</td>\n",
       "      <td>0.037736</td>\n",
       "      <td>0.074852</td>\n",
       "      <td>0.010707</td>\n",
       "      <td>...</td>\n",
       "      <td>1.0</td>\n",
       "      <td>7.215975</td>\n",
       "      <td>0</td>\n",
       "      <td>0</td>\n",
       "      <td>0</td>\n",
       "      <td>0</td>\n",
       "      <td>1988</td>\n",
       "      <td>0.000735</td>\n",
       "      <td>0.000735</td>\n",
       "      <td>0.000735</td>\n",
       "    </tr>\n",
       "    <tr>\n",
       "      <th>1</th>\n",
       "      <td>../../../jstor_data/ocr/journal-article-10.230...</td>\n",
       "      <td>10.2307_41274754</td>\n",
       "      <td>0.612232</td>\n",
       "      <td>0.618713</td>\n",
       "      <td>0.445802</td>\n",
       "      <td>../../../jstor_data/ocr/journal-article-10.230...</td>\n",
       "      <td>polish iooo sociological review   graduate sch...</td>\n",
       "      <td>0.028283</td>\n",
       "      <td>0.021214</td>\n",
       "      <td>0.038979</td>\n",
       "      <td>...</td>\n",
       "      <td>1.0</td>\n",
       "      <td>7.121252</td>\n",
       "      <td>0</td>\n",
       "      <td>0</td>\n",
       "      <td>0</td>\n",
       "      <td>0</td>\n",
       "      <td>2000</td>\n",
       "      <td>0.000000</td>\n",
       "      <td>0.000808</td>\n",
       "      <td>0.004039</td>\n",
       "    </tr>\n",
       "    <tr>\n",
       "      <th>2</th>\n",
       "      <td>../../../jstor_data/ocr/journal-article-10.230...</td>\n",
       "      <td>10.2307_24467156</td>\n",
       "      <td>0.618802</td>\n",
       "      <td>0.627400</td>\n",
       "      <td>0.459231</td>\n",
       "      <td>../../../jstor_data/ocr/journal-article-10.230...</td>\n",
       "      <td>article ■jjdlbsj grapliy compassionate egalita...</td>\n",
       "      <td>0.021041</td>\n",
       "      <td>0.025699</td>\n",
       "      <td>0.053906</td>\n",
       "      <td>...</td>\n",
       "      <td>4.0</td>\n",
       "      <td>8.982059</td>\n",
       "      <td>0</td>\n",
       "      <td>0</td>\n",
       "      <td>0</td>\n",
       "      <td>0</td>\n",
       "      <td>2014</td>\n",
       "      <td>0.001131</td>\n",
       "      <td>0.000628</td>\n",
       "      <td>0.005780</td>\n",
       "    </tr>\n",
       "    <tr>\n",
       "      <th>3</th>\n",
       "      <td>../../../jstor_data/ocr/journal-article-10.230...</td>\n",
       "      <td>10.2307_2782279</td>\n",
       "      <td>0.605174</td>\n",
       "      <td>0.611529</td>\n",
       "      <td>0.443576</td>\n",
       "      <td>../../../jstor_data/ocr/journal-article-10.230...</td>\n",
       "      <td>allison regressiallison  raises legitimate que...</td>\n",
       "      <td>0.019344</td>\n",
       "      <td>0.028638</td>\n",
       "      <td>0.029558</td>\n",
       "      <td>...</td>\n",
       "      <td>7.0</td>\n",
       "      <td>7.590347</td>\n",
       "      <td>0</td>\n",
       "      <td>0</td>\n",
       "      <td>0</td>\n",
       "      <td>0</td>\n",
       "      <td>1995</td>\n",
       "      <td>0.012633</td>\n",
       "      <td>0.003537</td>\n",
       "      <td>0.000000</td>\n",
       "    </tr>\n",
       "    <tr>\n",
       "      <th>6</th>\n",
       "      <td>../../../jstor_data/ocr/journal-article-10.230...</td>\n",
       "      <td>10.2307_351656</td>\n",
       "      <td>0.613089</td>\n",
       "      <td>0.618886</td>\n",
       "      <td>0.450866</td>\n",
       "      <td>../../../jstor_data/ocr/journal-article-10.230...</td>\n",
       "      <td>determinants spousal interaction marital struc...</td>\n",
       "      <td>0.002458</td>\n",
       "      <td>0.050677</td>\n",
       "      <td>0.023544</td>\n",
       "      <td>...</td>\n",
       "      <td>5.0</td>\n",
       "      <td>8.375630</td>\n",
       "      <td>0</td>\n",
       "      <td>0</td>\n",
       "      <td>0</td>\n",
       "      <td>0</td>\n",
       "      <td>1983</td>\n",
       "      <td>0.005991</td>\n",
       "      <td>0.002304</td>\n",
       "      <td>0.003226</td>\n",
       "    </tr>\n",
       "  </tbody>\n",
       "</table>\n",
       "<p>5 rows × 32 columns</p>\n",
       "</div>"
      ],
      "text/plain": [
       "                                          filename_x   edited_filename  \\\n",
       "0  ../../../jstor_data/ocr/journal-article-10.230...   10.2307_1387034   \n",
       "1  ../../../jstor_data/ocr/journal-article-10.230...  10.2307_41274754   \n",
       "2  ../../../jstor_data/ocr/journal-article-10.230...  10.2307_24467156   \n",
       "3  ../../../jstor_data/ocr/journal-article-10.230...   10.2307_2782279   \n",
       "6  ../../../jstor_data/ocr/journal-article-10.230...    10.2307_351656   \n",
       "\n",
       "    culture  demographic  relational  \\\n",
       "0  0.609090     0.616106    0.450964   \n",
       "1  0.612232     0.618713    0.445802   \n",
       "2  0.618802     0.627400    0.459231   \n",
       "3  0.605174     0.611529    0.443576   \n",
       "6  0.613089     0.618886    0.450866   \n",
       "\n",
       "                                          filename_y  \\\n",
       "0  ../../../jstor_data/ocr/journal-article-10.230...   \n",
       "1  ../../../jstor_data/ocr/journal-article-10.230...   \n",
       "2  ../../../jstor_data/ocr/journal-article-10.230...   \n",
       "3  ../../../jstor_data/ocr/journal-article-10.230...   \n",
       "6  ../../../jstor_data/ocr/journal-article-10.230...   \n",
       "\n",
       "                                                text  \\\n",
       "0  research note church membership the netherland...   \n",
       "1  polish iooo sociological review   graduate sch...   \n",
       "2  article ■jjdlbsj grapliy compassionate egalita...   \n",
       "3  allison regressiallison  raises legitimate que...   \n",
       "6  determinants spousal interaction marital struc...   \n",
       "\n",
       "   relational_doc2vec_cosine  demographic_doc2vec_cosine  \\\n",
       "0                   0.037736                    0.074852   \n",
       "1                   0.028283                    0.021214   \n",
       "2                   0.021041                    0.025699   \n",
       "3                   0.019344                    0.028638   \n",
       "6                   0.002458                    0.050677   \n",
       "\n",
       "   culture_doc2vec_cosine  ...  demographic_ngram_count.1  word_count  \\\n",
       "0                0.010707  ...                        1.0    7.215975   \n",
       "1                0.038979  ...                        1.0    7.121252   \n",
       "2                0.053906  ...                        4.0    8.982059   \n",
       "3                0.029558  ...                        7.0    7.590347   \n",
       "6                0.023544  ...                        5.0    8.375630   \n",
       "\n",
       "   cultural_author_count  demographic_author_count  relational_author_count  \\\n",
       "0                      0                         0                        0   \n",
       "1                      0                         0                        0   \n",
       "2                      0                         0                        0   \n",
       "3                      0                         0                        0   \n",
       "6                      0                         0                        0   \n",
       "\n",
       "   primary_subject  year  culture_ngram_prop  demographic_ngram_prop  \\\n",
       "0                0  1988            0.000735                0.000735   \n",
       "1                0  2000            0.000000                0.000808   \n",
       "2                0  2014            0.001131                0.000628   \n",
       "3                0  1995            0.012633                0.003537   \n",
       "6                0  1983            0.005991                0.002304   \n",
       "\n",
       "   relational_ngram_prop  \n",
       "0               0.000735  \n",
       "1               0.004039  \n",
       "2               0.005780  \n",
       "3               0.000000  \n",
       "6               0.003226  \n",
       "\n",
       "[5 rows x 32 columns]"
      ]
     },
     "execution_count": 17,
     "metadata": {},
     "output_type": "execute_result"
    }
   ],
   "source": [
    "df.head()"
   ]
  },
  {
   "cell_type": "code",
   "execution_count": 18,
   "metadata": {},
   "outputs": [
    {
     "data": {
      "text/plain": [
       "Series([], Name: word_count, dtype: float64)"
      ]
     },
     "execution_count": 18,
     "metadata": {},
     "output_type": "execute_result"
    }
   ],
   "source": [
    "df.word_count[df.word_count.isnull()]"
   ]
  },
  {
   "cell_type": "markdown",
   "metadata": {},
   "source": [
    "### Normalize measures"
   ]
  },
  {
   "cell_type": "code",
   "execution_count": 19,
   "metadata": {},
   "outputs": [],
   "source": [
    "df['culture'] = (df.culture - df.culture.min())/(df.culture.max()-df.culture.min())\n",
    "df['demographic'] = (df.demographic - df.demographic.min())/(df.demographic.max()-df.demographic.min())\n",
    "df['relational'] = (df.relational - df.relational.min())/(df.relational.max()-df.relational.min())\n",
    "\n",
    "df['culture_doc2vec_cosine'] = (df.culture_doc2vec_cosine - df.culture_doc2vec_cosine.min())/(df.culture_doc2vec_cosine.max()-df.culture_doc2vec_cosine.min())\n",
    "df['demographic_doc2vec_cosine'] = (df.demographic_doc2vec_cosine - df.demographic_doc2vec_cosine.min())/(df.demographic_doc2vec_cosine.max()-df.demographic_doc2vec_cosine.min())\n",
    "df['relational_doc2vec_cosine'] = (df.relational_doc2vec_cosine - df.relational_doc2vec_cosine.min())/(df.relational_doc2vec_cosine.max()-df.relational_doc2vec_cosine.min())\n",
    "\n",
    "df['culture_word2vec_cosine'] = (df.culture_word2vec_cosine - df.culture_word2vec_cosine.min())/(df.culture_word2vec_cosine.max()-df.culture_word2vec_cosine.min())\n",
    "df['demographic_word2vec_cosine'] = (df.demographic_word2vec_cosine - df.demographic_word2vec_cosine.min())/(df.demographic_word2vec_cosine.max()-df.demographic_word2vec_cosine.min())\n",
    "df['relational_word2vec_cosine'] = (df.relational_word2vec_cosine - df.relational_word2vec_cosine.min())/(df.relational_word2vec_cosine.max()-df.relational_word2vec_cosine.min())\n",
    "\n",
    "df['culture_glove_cosine'] = (df.culture_glove_cosine - df.culture_glove_cosine.min())/(df.culture_glove_cosine.max()-df.culture_glove_cosine.min())\n",
    "df['demographic_glove_cosine'] = (df.demographic_glove_cosine - df.demographic_glove_cosine.min())/(df.demographic_glove_cosine.max()-df.demographic_glove_cosine.min())\n",
    "df['relational_glove_cosine'] = (df.relational_glove_cosine - df.relational_glove_cosine.min())/(df.relational_glove_cosine.max()-df.relational_glove_cosine.min())\n",
    "\n",
    "df['culture_ngram_count'] = (df.culture_ngram_count - df.culture_ngram_count.min())/(df.culture_ngram_count.max()-df.culture_ngram_count.min())\n",
    "df['demographic_ngram_count'] = (df.demographic_ngram_count - df.demographic_ngram_count.min())/(df.demographic_ngram_count.max()-df.demographic_ngram_count.min())\n",
    "df['relational_ngram_count'] = (df.relational_ngram_count - df.relational_ngram_count.min())/(df.relational_ngram_count.max()-df.relational_ngram_count.min())\n",
    "\n",
    "df['culture_ngram_prop'] = (df.culture_ngram_prop - df.culture_ngram_prop.min())/(df.culture_ngram_prop.max()-df.culture_ngram_prop.min())\n",
    "df['demographic_ngram_prop'] = (df.demographic_ngram_prop - df.demographic_ngram_prop.min())/(df.demographic_ngram_prop.max()-df.demographic_ngram_prop.min())\n",
    "df['relational_ngram_prop'] = (df.relational_ngram_prop - df.relational_ngram_prop.min())/(df.relational_ngram_prop.max()-df.relational_ngram_prop.min())"
   ]
  },
  {
   "cell_type": "markdown",
   "metadata": {},
   "source": [
    "### Show number of non-zeroes in DV"
   ]
  },
  {
   "cell_type": "code",
   "execution_count": 33,
   "metadata": {},
   "outputs": [
    {
     "data": {
      "text/plain": [
       "1039"
      ]
     },
     "execution_count": 33,
     "metadata": {},
     "output_type": "execute_result"
    }
   ],
   "source": [
    "np.sum((df['demographic_author_count']) > 0.5)"
   ]
  },
  {
   "cell_type": "code",
   "execution_count": 34,
   "metadata": {},
   "outputs": [
    {
     "data": {
      "text/plain": [
       "916"
      ]
     },
     "execution_count": 34,
     "metadata": {},
     "output_type": "execute_result"
    }
   ],
   "source": [
    "np.sum((df['relational_author_count']) > 0.5)"
   ]
  },
  {
   "cell_type": "code",
   "execution_count": 32,
   "metadata": {},
   "outputs": [
    {
     "data": {
      "text/plain": [
       "1526"
      ]
     },
     "execution_count": 32,
     "metadata": {},
     "output_type": "execute_result"
    }
   ],
   "source": [
    "np.sum((df['cultural_author_count']) > 0.5)"
   ]
  },
  {
   "cell_type": "code",
   "execution_count": 35,
   "metadata": {},
   "outputs": [
    {
     "data": {
      "text/plain": [
       "69657"
      ]
     },
     "execution_count": 35,
     "metadata": {},
     "output_type": "execute_result"
    }
   ],
   "source": [
    "len(df)"
   ]
  },
  {
   "cell_type": "markdown",
   "metadata": {},
   "source": [
    "### Test/train split"
   ]
  },
  {
   "cell_type": "code",
   "execution_count": 20,
   "metadata": {},
   "outputs": [],
   "source": [
    "mask = np.random.rand(len(df)) < 0.8\n",
    "df_train = df[mask]\n",
    "df_test = df[~mask]"
   ]
  },
  {
   "cell_type": "code",
   "execution_count": 21,
   "metadata": {},
   "outputs": [
    {
     "data": {
      "text/html": [
       "<div>\n",
       "<style scoped>\n",
       "    .dataframe tbody tr th:only-of-type {\n",
       "        vertical-align: middle;\n",
       "    }\n",
       "\n",
       "    .dataframe tbody tr th {\n",
       "        vertical-align: top;\n",
       "    }\n",
       "\n",
       "    .dataframe thead th {\n",
       "        text-align: right;\n",
       "    }\n",
       "</style>\n",
       "<table border=\"1\" class=\"dataframe\">\n",
       "  <thead>\n",
       "    <tr style=\"text-align: right;\">\n",
       "      <th></th>\n",
       "      <th>filename_x</th>\n",
       "      <th>edited_filename</th>\n",
       "      <th>culture</th>\n",
       "      <th>demographic</th>\n",
       "      <th>relational</th>\n",
       "      <th>filename_y</th>\n",
       "      <th>text</th>\n",
       "      <th>relational_doc2vec_cosine</th>\n",
       "      <th>demographic_doc2vec_cosine</th>\n",
       "      <th>culture_doc2vec_cosine</th>\n",
       "      <th>...</th>\n",
       "      <th>demographic_ngram_count.1</th>\n",
       "      <th>word_count</th>\n",
       "      <th>cultural_author_count</th>\n",
       "      <th>demographic_author_count</th>\n",
       "      <th>relational_author_count</th>\n",
       "      <th>primary_subject</th>\n",
       "      <th>year</th>\n",
       "      <th>culture_ngram_prop</th>\n",
       "      <th>demographic_ngram_prop</th>\n",
       "      <th>relational_ngram_prop</th>\n",
       "    </tr>\n",
       "  </thead>\n",
       "  <tbody>\n",
       "    <tr>\n",
       "      <th>0</th>\n",
       "      <td>../../../jstor_data/ocr/journal-article-10.230...</td>\n",
       "      <td>10.2307_1387034</td>\n",
       "      <td>0.904367</td>\n",
       "      <td>0.904887</td>\n",
       "      <td>0.875815</td>\n",
       "      <td>../../../jstor_data/ocr/journal-article-10.230...</td>\n",
       "      <td>research note church membership the netherland...</td>\n",
       "      <td>0.148715</td>\n",
       "      <td>0.313257</td>\n",
       "      <td>0.037126</td>\n",
       "      <td>...</td>\n",
       "      <td>1.0</td>\n",
       "      <td>7.215975</td>\n",
       "      <td>0</td>\n",
       "      <td>0</td>\n",
       "      <td>0</td>\n",
       "      <td>0</td>\n",
       "      <td>1988</td>\n",
       "      <td>0.006796</td>\n",
       "      <td>0.009552</td>\n",
       "      <td>0.007073</td>\n",
       "    </tr>\n",
       "    <tr>\n",
       "      <th>1</th>\n",
       "      <td>../../../jstor_data/ocr/journal-article-10.230...</td>\n",
       "      <td>10.2307_41274754</td>\n",
       "      <td>0.911813</td>\n",
       "      <td>0.911070</td>\n",
       "      <td>0.864581</td>\n",
       "      <td>../../../jstor_data/ocr/journal-article-10.230...</td>\n",
       "      <td>polish iooo sociological review   graduate sch...</td>\n",
       "      <td>0.111461</td>\n",
       "      <td>0.088769</td>\n",
       "      <td>0.135160</td>\n",
       "      <td>...</td>\n",
       "      <td>1.0</td>\n",
       "      <td>7.121252</td>\n",
       "      <td>0</td>\n",
       "      <td>0</td>\n",
       "      <td>0</td>\n",
       "      <td>0</td>\n",
       "      <td>2000</td>\n",
       "      <td>0.000000</td>\n",
       "      <td>0.010501</td>\n",
       "      <td>0.038879</td>\n",
       "    </tr>\n",
       "    <tr>\n",
       "      <th>2</th>\n",
       "      <td>../../../jstor_data/ocr/journal-article-10.230...</td>\n",
       "      <td>10.2307_24467156</td>\n",
       "      <td>0.927383</td>\n",
       "      <td>0.931674</td>\n",
       "      <td>0.893807</td>\n",
       "      <td>../../../jstor_data/ocr/journal-article-10.230...</td>\n",
       "      <td>article ■jjdlbsj grapliy compassionate egalita...</td>\n",
       "      <td>0.082921</td>\n",
       "      <td>0.107541</td>\n",
       "      <td>0.186922</td>\n",
       "      <td>...</td>\n",
       "      <td>4.0</td>\n",
       "      <td>8.982059</td>\n",
       "      <td>0</td>\n",
       "      <td>0</td>\n",
       "      <td>0</td>\n",
       "      <td>0</td>\n",
       "      <td>2014</td>\n",
       "      <td>0.010460</td>\n",
       "      <td>0.008167</td>\n",
       "      <td>0.055637</td>\n",
       "    </tr>\n",
       "    <tr>\n",
       "      <th>3</th>\n",
       "      <td>../../../jstor_data/ocr/journal-article-10.230...</td>\n",
       "      <td>10.2307_2782279</td>\n",
       "      <td>0.895088</td>\n",
       "      <td>0.894031</td>\n",
       "      <td>0.859735</td>\n",
       "      <td>../../../jstor_data/ocr/journal-article-10.230...</td>\n",
       "      <td>allison regressiallison  raises legitimate que...</td>\n",
       "      <td>0.076234</td>\n",
       "      <td>0.119842</td>\n",
       "      <td>0.102492</td>\n",
       "      <td>...</td>\n",
       "      <td>7.0</td>\n",
       "      <td>7.590347</td>\n",
       "      <td>0</td>\n",
       "      <td>0</td>\n",
       "      <td>0</td>\n",
       "      <td>0</td>\n",
       "      <td>1995</td>\n",
       "      <td>0.116852</td>\n",
       "      <td>0.045983</td>\n",
       "      <td>0.000000</td>\n",
       "    </tr>\n",
       "    <tr>\n",
       "      <th>6</th>\n",
       "      <td>../../../jstor_data/ocr/journal-article-10.230...</td>\n",
       "      <td>10.2307_351656</td>\n",
       "      <td>0.913844</td>\n",
       "      <td>0.911480</td>\n",
       "      <td>0.875602</td>\n",
       "      <td>../../../jstor_data/ocr/journal-article-10.230...</td>\n",
       "      <td>determinants spousal interaction marital struc...</td>\n",
       "      <td>0.009682</td>\n",
       "      <td>0.212081</td>\n",
       "      <td>0.081638</td>\n",
       "      <td>...</td>\n",
       "      <td>5.0</td>\n",
       "      <td>8.375630</td>\n",
       "      <td>0</td>\n",
       "      <td>0</td>\n",
       "      <td>0</td>\n",
       "      <td>0</td>\n",
       "      <td>1983</td>\n",
       "      <td>0.055415</td>\n",
       "      <td>0.029954</td>\n",
       "      <td>0.031053</td>\n",
       "    </tr>\n",
       "  </tbody>\n",
       "</table>\n",
       "<p>5 rows × 32 columns</p>\n",
       "</div>"
      ],
      "text/plain": [
       "                                          filename_x   edited_filename  \\\n",
       "0  ../../../jstor_data/ocr/journal-article-10.230...   10.2307_1387034   \n",
       "1  ../../../jstor_data/ocr/journal-article-10.230...  10.2307_41274754   \n",
       "2  ../../../jstor_data/ocr/journal-article-10.230...  10.2307_24467156   \n",
       "3  ../../../jstor_data/ocr/journal-article-10.230...   10.2307_2782279   \n",
       "6  ../../../jstor_data/ocr/journal-article-10.230...    10.2307_351656   \n",
       "\n",
       "    culture  demographic  relational  \\\n",
       "0  0.904367     0.904887    0.875815   \n",
       "1  0.911813     0.911070    0.864581   \n",
       "2  0.927383     0.931674    0.893807   \n",
       "3  0.895088     0.894031    0.859735   \n",
       "6  0.913844     0.911480    0.875602   \n",
       "\n",
       "                                          filename_y  \\\n",
       "0  ../../../jstor_data/ocr/journal-article-10.230...   \n",
       "1  ../../../jstor_data/ocr/journal-article-10.230...   \n",
       "2  ../../../jstor_data/ocr/journal-article-10.230...   \n",
       "3  ../../../jstor_data/ocr/journal-article-10.230...   \n",
       "6  ../../../jstor_data/ocr/journal-article-10.230...   \n",
       "\n",
       "                                                text  \\\n",
       "0  research note church membership the netherland...   \n",
       "1  polish iooo sociological review   graduate sch...   \n",
       "2  article ■jjdlbsj grapliy compassionate egalita...   \n",
       "3  allison regressiallison  raises legitimate que...   \n",
       "6  determinants spousal interaction marital struc...   \n",
       "\n",
       "   relational_doc2vec_cosine  demographic_doc2vec_cosine  \\\n",
       "0                   0.148715                    0.313257   \n",
       "1                   0.111461                    0.088769   \n",
       "2                   0.082921                    0.107541   \n",
       "3                   0.076234                    0.119842   \n",
       "6                   0.009682                    0.212081   \n",
       "\n",
       "   culture_doc2vec_cosine  ...  demographic_ngram_count.1  word_count  \\\n",
       "0                0.037126  ...                        1.0    7.215975   \n",
       "1                0.135160  ...                        1.0    7.121252   \n",
       "2                0.186922  ...                        4.0    8.982059   \n",
       "3                0.102492  ...                        7.0    7.590347   \n",
       "6                0.081638  ...                        5.0    8.375630   \n",
       "\n",
       "   cultural_author_count  demographic_author_count  relational_author_count  \\\n",
       "0                      0                         0                        0   \n",
       "1                      0                         0                        0   \n",
       "2                      0                         0                        0   \n",
       "3                      0                         0                        0   \n",
       "6                      0                         0                        0   \n",
       "\n",
       "   primary_subject  year  culture_ngram_prop  demographic_ngram_prop  \\\n",
       "0                0  1988            0.006796                0.009552   \n",
       "1                0  2000            0.000000                0.010501   \n",
       "2                0  2014            0.010460                0.008167   \n",
       "3                0  1995            0.116852                0.045983   \n",
       "6                0  1983            0.055415                0.029954   \n",
       "\n",
       "   relational_ngram_prop  \n",
       "0               0.007073  \n",
       "1               0.038879  \n",
       "2               0.055637  \n",
       "3               0.000000  \n",
       "6               0.031053  \n",
       "\n",
       "[5 rows x 32 columns]"
      ]
     },
     "execution_count": 21,
     "metadata": {},
     "output_type": "execute_result"
    }
   ],
   "source": [
    "df.head()"
   ]
  },
  {
   "cell_type": "markdown",
   "metadata": {},
   "source": [
    "## IGNORE (not used) nbreg"
   ]
  },
  {
   "cell_type": "code",
   "execution_count": 22,
   "metadata": {},
   "outputs": [
    {
     "data": {
      "text/plain": [
       "\"\\ndict_methods = {\\n    'culture_infersent': [['cultural_author_count'],['culture', 'primary_subject']],\\n    'demographic_infersent': [['demographic_author_count'],['demographic', 'primary_subject']],\\n    'relational_infersent': [['relational_author_count'],['relational', 'primary_subject']],\\n    'culture_doc2vec': [['cultural_author_count'],['culture_doc2vec_cosine', 'primary_subject']],\\n    'demographic_doc2vec': [['demographic_author_count'],['demographic_doc2vec_cosine', 'primary_subject']],\\n    'relational_doc2vec': [['relational_author_count'],['relational_doc2vec_cosine', 'primary_subject']],\\n    'culture_word2vec': [['cultural_author_count'],['culture_word2vec_cosine', 'primary_subject']],\\n    'demographic_word2vec': [['demographic_author_count'],['demographic_word2vec_cosine', 'primary_subject']],\\n    'relational_word2vec': [['relational_author_count'],['relational_word2vec_cosine', 'primary_subject']],\\n    'culture_glove': [['cultural_author_count'],['culture_glove_cosine', 'primary_subject']],\\n    'demographic_glove': [['demographic_author_count'],['demographic_glove_cosine', 'primary_subject']],\\n    'relational_glove': [['relational_author_count'],['relational_glove_cosine', 'primary_subject']],    \\n    'culture_ngram': [['cultural_author_count'],['culture_ngram_count', 'primary_subject']],\\n    'demographic_ngram': [['demographic_author_count'],['demographic_ngram_count', 'primary_subject']],\\n    'relational_ngram': [['relational_author_count'],['relational_ngram_count', 'primary_subject']],    \\n}\\n\""
      ]
     },
     "execution_count": 22,
     "metadata": {},
     "output_type": "execute_result"
    }
   ],
   "source": [
    "'''\n",
    "dict_methods = {\n",
    "    'culture_infersent': [['cultural_author_count'],['culture', 'primary_subject']],\n",
    "    'demographic_infersent': [['demographic_author_count'],['demographic', 'primary_subject']],\n",
    "    'relational_infersent': [['relational_author_count'],['relational', 'primary_subject']],\n",
    "    'culture_doc2vec': [['cultural_author_count'],['culture_doc2vec_cosine', 'primary_subject']],\n",
    "    'demographic_doc2vec': [['demographic_author_count'],['demographic_doc2vec_cosine', 'primary_subject']],\n",
    "    'relational_doc2vec': [['relational_author_count'],['relational_doc2vec_cosine', 'primary_subject']],\n",
    "    'culture_word2vec': [['cultural_author_count'],['culture_word2vec_cosine', 'primary_subject']],\n",
    "    'demographic_word2vec': [['demographic_author_count'],['demographic_word2vec_cosine', 'primary_subject']],\n",
    "    'relational_word2vec': [['relational_author_count'],['relational_word2vec_cosine', 'primary_subject']],\n",
    "    'culture_glove': [['cultural_author_count'],['culture_glove_cosine', 'primary_subject']],\n",
    "    'demographic_glove': [['demographic_author_count'],['demographic_glove_cosine', 'primary_subject']],\n",
    "    'relational_glove': [['relational_author_count'],['relational_glove_cosine', 'primary_subject']],    \n",
    "    'culture_ngram': [['cultural_author_count'],['culture_ngram_count', 'primary_subject']],\n",
    "    'demographic_ngram': [['demographic_author_count'],['demographic_ngram_count', 'primary_subject']],\n",
    "    'relational_ngram': [['relational_author_count'],['relational_ngram_count', 'primary_subject']],    \n",
    "}\n",
    "'''"
   ]
  },
  {
   "cell_type": "code",
   "execution_count": 23,
   "metadata": {},
   "outputs": [
    {
     "data": {
      "text/plain": [
       "'\\nfor key in dict_methods.keys():\\n    poisson_training_results = sm.GLM(df_train[dict_methods[key][0]], df_train[dict_methods[key][1]], \\n                                  family=sm.families.Poisson()).fit()\\n    BB_LAMBDA = poisson_training_results.mu\\n    AUX_OLS_DEP = ((df_train[dict_methods[key][0]] - BB_LAMBDA)**2 \\n                                                        - df_train[dict_methods[key][0]]) / BB_LAMBDA\\n    ols_expr = \"\"\"AUX_OLS_DEP ~ BB_LAMBDA - 1\"\"\"\\n    d = {\\'AUX_OLS_DEP\\': AUX_OLS_DEP, \\'BB_LAMBDA\\': BB_LAMBDA}\\n    df_new = pd.DataFrame(data=d)\\n    aux_olsr_results = smf.ols(ols_expr, df_new).fit()\\n    nb2_training_results = sm.GLM(df_train[dict_methods[key][0]], df_train[dict_methods[key][1]], \\n                              offset=df_train[\\'word_count\\'],\\n                              family=sm.families.NegativeBinomial(alpha=aux_olsr_results.params[0])).fit()\\n    print(key)\\n    print(nb2_training_results.summary())\\n    print()\\n    '"
      ]
     },
     "execution_count": 23,
     "metadata": {},
     "output_type": "execute_result"
    }
   ],
   "source": [
    "'''\n",
    "for key in dict_methods.keys():\n",
    "    poisson_training_results = sm.GLM(df_train[dict_methods[key][0]], df_train[dict_methods[key][1]], \n",
    "                                  family=sm.families.Poisson()).fit()\n",
    "    BB_LAMBDA = poisson_training_results.mu\n",
    "    AUX_OLS_DEP = ((df_train[dict_methods[key][0]] - BB_LAMBDA)**2 \n",
    "                                                        - df_train[dict_methods[key][0]]) / BB_LAMBDA\n",
    "    ols_expr = \"\"\"AUX_OLS_DEP ~ BB_LAMBDA - 1\"\"\"\n",
    "    d = {'AUX_OLS_DEP': AUX_OLS_DEP, 'BB_LAMBDA': BB_LAMBDA}\n",
    "    df_new = pd.DataFrame(data=d)\n",
    "    aux_olsr_results = smf.ols(ols_expr, df_new).fit()\n",
    "    nb2_training_results = sm.GLM(df_train[dict_methods[key][0]], df_train[dict_methods[key][1]], \n",
    "                              offset=df_train['word_count'],\n",
    "                              family=sm.families.NegativeBinomial(alpha=aux_olsr_results.params[0])).fit()\n",
    "    print(key)\n",
    "    print(nb2_training_results.summary())\n",
    "    print()\n",
    "    '''"
   ]
  },
  {
   "cell_type": "markdown",
   "metadata": {},
   "source": [
    "# Logistic Reg\n",
    "## Infersent - Culture"
   ]
  },
  {
   "cell_type": "code",
   "execution_count": 24,
   "metadata": {},
   "outputs": [
    {
     "name": "stderr",
     "output_type": "stream",
     "text": [
      "/opt/conda/lib/python3.7/site-packages/sklearn/linear_model/logistic.py:433: FutureWarning: Default solver will be changed to 'lbfgs' in 0.22. Specify a solver to silence this warning.\n",
      "  FutureWarning)\n"
     ]
    },
    {
     "data": {
      "text/plain": [
       "LogisticRegression(C=1.0, class_weight=None, dual=False, fit_intercept=True,\n",
       "          intercept_scaling=1, max_iter=100, multi_class='warn',\n",
       "          n_jobs=None, penalty='l2', random_state=None, solver='warn',\n",
       "          tol=0.0001, verbose=0, warm_start=False)"
      ]
     },
     "execution_count": 24,
     "metadata": {},
     "output_type": "execute_result"
    }
   ],
   "source": [
    "from sklearn.linear_model import LogisticRegression\n",
    "from sklearn import metrics\n",
    "logreg = LogisticRegression()\n",
    "logreg.fit(df_train[['culture']], df_train['cultural_author_count'])"
   ]
  },
  {
   "cell_type": "code",
   "execution_count": 25,
   "metadata": {},
   "outputs": [
    {
     "name": "stdout",
     "output_type": "stream",
     "text": [
      "Accuracy of logistic regression classifier on test set: 0.98\n"
     ]
    }
   ],
   "source": [
    "y_pred = logreg.predict(df_test[['culture']])\n",
    "print('Accuracy of logistic regression classifier on test set: {:.2f}'.format(logreg.score(df_test[['culture']]\n",
    "                                                                                           , df_test['cultural_author_count'])))"
   ]
  },
  {
   "cell_type": "code",
   "execution_count": 26,
   "metadata": {},
   "outputs": [
    {
     "name": "stdout",
     "output_type": "stream",
     "text": [
      "[[13562     0]\n",
      " [  310     0]]\n"
     ]
    }
   ],
   "source": [
    "from sklearn.metrics import confusion_matrix\n",
    "confusion_matrix = confusion_matrix(df_test['cultural_author_count'], y_pred)\n",
    "print(confusion_matrix)"
   ]
  },
  {
   "cell_type": "code",
   "execution_count": 27,
   "metadata": {},
   "outputs": [
    {
     "name": "stdout",
     "output_type": "stream",
     "text": [
      "Optimization terminated successfully.\n",
      "         Current function value: 0.101535\n",
      "         Iterations 8\n",
      "                            Results: Logit\n",
      "=======================================================================\n",
      "Model:              Logit                 Pseudo R-squared: 0.036      \n",
      "Dependent Variable: cultural_author_count AIC:              14151.2581 \n",
      "Date:               2020-01-29 12:54      BIC:              14178.7121 \n",
      "No. Observations:   69657                 Log-Likelihood:   -7072.6    \n",
      "Df Model:           2                     LL-Null:          -7339.9    \n",
      "Df Residuals:       69654                 LLR p-value:      8.3818e-117\n",
      "Converged:          1.0000                Scale:            1.0000     \n",
      "No. Iterations:     8.0000                                             \n",
      "------------------------------------------------------------------------\n",
      "                    Coef.   Std.Err.     z      P>|z|    [0.025   0.975]\n",
      "------------------------------------------------------------------------\n",
      "culture            -5.7096    0.5577  -10.2371  0.0000  -6.8027  -4.6165\n",
      "primary_subject     1.1291    0.0521   21.6892  0.0000   1.0271   1.2311\n",
      "year                0.0005    0.0003    1.8681  0.0617  -0.0000   0.0010\n",
      "=======================================================================\n",
      "\n"
     ]
    }
   ],
   "source": [
    "from sklearn.linear_model import LogisticRegression\n",
    "logit_model=sm.Logit(df['cultural_author_count'], df[['culture', 'primary_subject', 'year']])\n",
    "result=logit_model.fit()\n",
    "print(result.summary2())"
   ]
  },
  {
   "cell_type": "code",
   "execution_count": 28,
   "metadata": {},
   "outputs": [
    {
     "data": {
      "text/plain": [
       "66"
      ]
     },
     "execution_count": 28,
     "metadata": {},
     "output_type": "execute_result"
    }
   ],
   "source": [
    "np.sum(result.predict(df_train[['culture_glove_cosine', 'primary_subject', 'year']]) > 0.5)"
   ]
  },
  {
   "cell_type": "code",
   "execution_count": 29,
   "metadata": {},
   "outputs": [
    {
     "data": {
      "text/plain": [
       "1216"
      ]
     },
     "execution_count": 29,
     "metadata": {},
     "output_type": "execute_result"
    }
   ],
   "source": [
    "np.sum((df_train['cultural_author_count']) > 0.5)"
   ]
  },
  {
   "cell_type": "markdown",
   "metadata": {},
   "source": [
    "## Infersent - Demographic"
   ]
  },
  {
   "cell_type": "code",
   "execution_count": 30,
   "metadata": {},
   "outputs": [
    {
     "name": "stdout",
     "output_type": "stream",
     "text": [
      "Optimization terminated successfully.\n",
      "         Current function value: 0.072251\n",
      "         Iterations 9\n",
      "                              Results: Logit\n",
      "==========================================================================\n",
      "Model:              Logit                    Pseudo R-squared: 0.068      \n",
      "Dependent Variable: demographic_author_count AIC:              10071.5756 \n",
      "Date:               2020-01-29 12:54         BIC:              10099.0296 \n",
      "No. Observations:   69657                    Log-Likelihood:   -5032.8    \n",
      "Df Model:           2                        LL-Null:          -5400.5    \n",
      "Df Residuals:       69654                    LLR p-value:      1.9288e-160\n",
      "Converged:          1.0000                   Scale:            1.0000     \n",
      "No. Iterations:     9.0000                                                \n",
      "----------------------------------------------------------------------------\n",
      "                    Coef.    Std.Err.      z      P>|z|     [0.025    0.975]\n",
      "----------------------------------------------------------------------------\n",
      "demographic        -4.3509     0.7556   -5.7583   0.0000   -5.8319   -2.8700\n",
      "primary_subject     1.6689     0.0663   25.1595   0.0000    1.5389    1.7989\n",
      "year               -0.0005     0.0003   -1.4707   0.1414   -0.0012    0.0002\n",
      "==========================================================================\n",
      "\n"
     ]
    }
   ],
   "source": [
    "from sklearn.linear_model import LogisticRegression\n",
    "logit_model=sm.Logit(df['demographic_author_count'],df[['demographic', 'primary_subject', 'year']])\n",
    "result=logit_model.fit()\n",
    "print(result.summary2())"
   ]
  },
  {
   "cell_type": "markdown",
   "metadata": {},
   "source": [
    "## Infersent - relational"
   ]
  },
  {
   "cell_type": "code",
   "execution_count": 126,
   "metadata": {},
   "outputs": [
    {
     "name": "stdout",
     "output_type": "stream",
     "text": [
      "Optimization terminated successfully.\n",
      "         Current function value: 0.062012\n",
      "         Iterations 10\n",
      "                             Results: Logit\n",
      "=========================================================================\n",
      "Model:              Logit                   Pseudo R-squared: 0.114      \n",
      "Dependent Variable: relational_author_count AIC:              8645.0881  \n",
      "Date:               2020-01-28 23:05        BIC:              8672.5421  \n",
      "No. Observations:   69657                   Log-Likelihood:   -4319.5    \n",
      "Df Model:           2                       LL-Null:          -4877.4    \n",
      "Df Residuals:       69654                   LLR p-value:      5.1066e-243\n",
      "Converged:          1.0000                  Scale:            1.0000     \n",
      "No. Iterations:     10.0000                                              \n",
      "--------------------------------------------------------------------------\n",
      "                   Coef.    Std.Err.     z      P>|z|    [0.025    0.975] \n",
      "--------------------------------------------------------------------------\n",
      "relational        -12.1845    0.2032  -59.9754  0.0000  -12.5827  -11.7863\n",
      "primary_subject     2.1973    0.0787   27.9079  0.0000    2.0430    2.3516\n",
      "year               -0.0817    0.1149   -0.7111  0.4770   -0.3069    0.1435\n",
      "=========================================================================\n",
      "\n"
     ]
    }
   ],
   "source": [
    "from sklearn.linear_model import LogisticRegression\n",
    "logit_model=sm.Logit(df['relational_author_count'],df[['relational', 'primary_subject', 'year']])\n",
    "result=logit_model.fit()\n",
    "print(result.summary2())"
   ]
  },
  {
   "cell_type": "markdown",
   "metadata": {},
   "source": [
    "## Doc2vec - culture"
   ]
  },
  {
   "cell_type": "code",
   "execution_count": 127,
   "metadata": {},
   "outputs": [
    {
     "name": "stdout",
     "output_type": "stream",
     "text": [
      "Optimization terminated successfully.\n",
      "         Current function value: 0.157398\n",
      "         Iterations 9\n",
      "                              Results: Logit\n",
      "==========================================================================\n",
      "Model:                Logit                  Pseudo R-squared:  -0.494    \n",
      "Dependent Variable:   cultural_author_count  AIC:               21933.7478\n",
      "Date:                 2020-01-28 23:05       BIC:               21961.2018\n",
      "No. Observations:     69657                  Log-Likelihood:    -10964.   \n",
      "Df Model:             2                      LL-Null:           -7339.9   \n",
      "Df Residuals:         69654                  LLR p-value:       1.0000    \n",
      "Converged:            1.0000                 Scale:             1.0000    \n",
      "No. Iterations:       9.0000                                              \n",
      "--------------------------------------------------------------------------\n",
      "                        Coef.   Std.Err.    z     P>|z|   [0.025   0.975] \n",
      "--------------------------------------------------------------------------\n",
      "culture_doc2vec_cosine -46.0343   0.8062 -57.0989 0.0000 -47.6144 -44.4541\n",
      "primary_subject         -0.1862   0.0421  -4.4253 0.0000  -0.2686  -0.1037\n",
      "year                    -3.7444   0.0596 -62.7796 0.0000  -3.8613  -3.6275\n",
      "==========================================================================\n",
      "\n"
     ]
    }
   ],
   "source": [
    "from sklearn.linear_model import LogisticRegression\n",
    "logit_model=sm.Logit(df['cultural_author_count'],df[['culture_doc2vec_cosine', 'primary_subject', 'year']])\n",
    "result=logit_model.fit()\n",
    "print(result.summary2())"
   ]
  },
  {
   "cell_type": "markdown",
   "metadata": {},
   "source": [
    "## Doc2vec - demographic"
   ]
  },
  {
   "cell_type": "code",
   "execution_count": 128,
   "metadata": {},
   "outputs": [
    {
     "name": "stdout",
     "output_type": "stream",
     "text": [
      "Optimization terminated successfully.\n",
      "         Current function value: 0.118219\n",
      "         Iterations 9\n",
      "                                Results: Logit\n",
      "==============================================================================\n",
      "Model:                 Logit                     Pseudo R-squared:  -0.525    \n",
      "Dependent Variable:    demographic_author_count  AIC:               16475.4992\n",
      "Date:                  2020-01-28 23:05          BIC:               16502.9532\n",
      "No. Observations:      69657                     Log-Likelihood:    -8234.7   \n",
      "Df Model:              2                         LL-Null:           -5400.5   \n",
      "Df Residuals:          69654                     LLR p-value:       1.0000    \n",
      "Converged:             1.0000                    Scale:             1.0000    \n",
      "No. Iterations:        9.0000                                                 \n",
      "------------------------------------------------------------------------------\n",
      "                            Coef.   Std.Err.    z     P>|z|   [0.025   0.975] \n",
      "------------------------------------------------------------------------------\n",
      "demographic_doc2vec_cosine -50.7661   0.9852 -51.5307 0.0000 -52.6970 -48.8352\n",
      "primary_subject              0.0909   0.0472   1.9267 0.0540  -0.0016   0.1833\n",
      "year                        -4.9944   0.0836 -59.7219 0.0000  -5.1583  -4.8305\n",
      "==============================================================================\n",
      "\n"
     ]
    }
   ],
   "source": [
    "from sklearn.linear_model import LogisticRegression\n",
    "logit_model=sm.Logit(df['demographic_author_count'],df[['demographic_doc2vec_cosine', 'primary_subject', 'year']])\n",
    "result=logit_model.fit()\n",
    "print(result.summary2())"
   ]
  },
  {
   "cell_type": "markdown",
   "metadata": {},
   "source": [
    "## Doc2vec - relational"
   ]
  },
  {
   "cell_type": "code",
   "execution_count": 129,
   "metadata": {},
   "outputs": [
    {
     "name": "stdout",
     "output_type": "stream",
     "text": [
      "Optimization terminated successfully.\n",
      "         Current function value: 0.107254\n",
      "         Iterations 9\n",
      "                               Results: Logit\n",
      "=============================================================================\n",
      "Model:                 Logit                    Pseudo R-squared:  -0.532    \n",
      "Dependent Variable:    relational_author_count  AIC:               14947.9429\n",
      "Date:                  2020-01-28 23:05         BIC:               14975.3970\n",
      "No. Observations:      69657                    Log-Likelihood:    -7471.0   \n",
      "Df Model:              2                        LL-Null:           -4877.4   \n",
      "Df Residuals:          69654                    LLR p-value:       1.0000    \n",
      "Converged:             1.0000                   Scale:             1.0000    \n",
      "No. Iterations:        9.0000                                                \n",
      "-----------------------------------------------------------------------------\n",
      "                           Coef.   Std.Err.    z     P>|z|   [0.025   0.975] \n",
      "-----------------------------------------------------------------------------\n",
      "relational_doc2vec_cosine -53.9535   1.0721 -50.3263 0.0000 -56.0547 -51.8523\n",
      "primary_subject             0.2709   0.0479   5.6496 0.0000   0.1769   0.3648\n",
      "year                       -5.4320   0.0935 -58.1030 0.0000  -5.6152  -5.2487\n",
      "=============================================================================\n",
      "\n"
     ]
    }
   ],
   "source": [
    "from sklearn.linear_model import LogisticRegression\n",
    "logit_model=sm.Logit(df['relational_author_count'],df[['relational_doc2vec_cosine', 'primary_subject', 'year']])\n",
    "result=logit_model.fit()\n",
    "print(result.summary2())"
   ]
  },
  {
   "cell_type": "markdown",
   "metadata": {},
   "source": [
    "## Word2vec - culture"
   ]
  },
  {
   "cell_type": "code",
   "execution_count": 130,
   "metadata": {},
   "outputs": [
    {
     "name": "stdout",
     "output_type": "stream",
     "text": [
      "Optimization terminated successfully.\n",
      "         Current function value: 0.118564\n",
      "         Iterations 8\n",
      "                             Results: Logit\n",
      "========================================================================\n",
      "Model:                Logit                 Pseudo R-squared: -0.125    \n",
      "Dependent Variable:   cultural_author_count AIC:              16523.6430\n",
      "Date:                 2020-01-28 23:05      BIC:              16551.0970\n",
      "No. Observations:     69657                 Log-Likelihood:   -8258.8   \n",
      "Df Model:             2                     LL-Null:          -7339.9   \n",
      "Df Residuals:         69654                 LLR p-value:      1.0000    \n",
      "Converged:            1.0000                Scale:            1.0000    \n",
      "No. Iterations:       8.0000                                            \n",
      "------------------------------------------------------------------------\n",
      "                         Coef.  Std.Err.    z     P>|z|   [0.025  0.975]\n",
      "------------------------------------------------------------------------\n",
      "culture_word2vec_cosine -6.5502   0.0887 -73.8207 0.0000 -6.7241 -6.3763\n",
      "primary_subject          0.7164   0.0471  15.2049 0.0000  0.6240  0.8087\n",
      "year                     0.0837   0.0800   1.0465 0.2953 -0.0731  0.2405\n",
      "========================================================================\n",
      "\n"
     ]
    }
   ],
   "source": [
    "from sklearn.linear_model import LogisticRegression\n",
    "logit_model=sm.Logit(df['cultural_author_count'],df[['culture_word2vec_cosine', 'primary_subject', 'year']])\n",
    "result=logit_model.fit()\n",
    "print(result.summary2())"
   ]
  },
  {
   "cell_type": "markdown",
   "metadata": {},
   "source": [
    "## Word2vec - demographic"
   ]
  },
  {
   "cell_type": "code",
   "execution_count": 131,
   "metadata": {},
   "outputs": [
    {
     "name": "stdout",
     "output_type": "stream",
     "text": [
      "Optimization terminated successfully.\n",
      "         Current function value: 0.084184\n",
      "         Iterations 9\n",
      "                               Results: Logit\n",
      "============================================================================\n",
      "Model:               Logit                     Pseudo R-squared:  -0.086    \n",
      "Dependent Variable:  demographic_author_count  AIC:               11733.9408\n",
      "Date:                2020-01-28 23:06          BIC:               11761.3948\n",
      "No. Observations:    69657                     Log-Likelihood:    -5864.0   \n",
      "Df Model:            2                         LL-Null:           -5400.5   \n",
      "Df Residuals:        69654                     LLR p-value:       1.0000    \n",
      "Converged:           1.0000                    Scale:             1.0000    \n",
      "No. Iterations:      9.0000                                                 \n",
      "----------------------------------------------------------------------------\n",
      "                             Coef.  Std.Err.    z     P>|z|   [0.025  0.975]\n",
      "----------------------------------------------------------------------------\n",
      "demographic_word2vec_cosine -6.8046   0.1017 -66.9030 0.0000 -7.0039 -6.6052\n",
      "primary_subject              1.4979   0.0591  25.3599 0.0000  1.3821  1.6136\n",
      "year                        -0.6982   0.0980  -7.1275 0.0000 -0.8902 -0.5062\n",
      "============================================================================\n",
      "\n"
     ]
    }
   ],
   "source": [
    "from sklearn.linear_model import LogisticRegression\n",
    "logit_model=sm.Logit(df['demographic_author_count'],df[['demographic_word2vec_cosine', 'primary_subject', 'year']])\n",
    "result=logit_model.fit()\n",
    "print(result.summary2())"
   ]
  },
  {
   "cell_type": "markdown",
   "metadata": {},
   "source": [
    "## Word2vec - relational"
   ]
  },
  {
   "cell_type": "code",
   "execution_count": 132,
   "metadata": {},
   "outputs": [
    {
     "name": "stdout",
     "output_type": "stream",
     "text": [
      "Optimization terminated successfully.\n",
      "         Current function value: 0.073016\n",
      "         Iterations 9\n",
      "                              Results: Logit\n",
      "===========================================================================\n",
      "Model:               Logit                    Pseudo R-squared:  -0.043    \n",
      "Dependent Variable:  relational_author_count  AIC:               10178.2036\n",
      "Date:                2020-01-28 23:06         BIC:               10205.6577\n",
      "No. Observations:    69657                    Log-Likelihood:    -5086.1   \n",
      "Df Model:            2                        LL-Null:           -4877.4   \n",
      "Df Residuals:        69654                    LLR p-value:       1.0000    \n",
      "Converged:           1.0000                   Scale:             1.0000    \n",
      "No. Iterations:      9.0000                                                \n",
      "---------------------------------------------------------------------------\n",
      "                            Coef.  Std.Err.    z     P>|z|   [0.025  0.975]\n",
      "---------------------------------------------------------------------------\n",
      "relational_word2vec_cosine -6.8780   0.1073 -64.1148 0.0000 -7.0883 -6.6678\n",
      "primary_subject             1.9741   0.0658  30.0197 0.0000  1.8452  2.1030\n",
      "year                       -0.8359   0.1058  -7.9032 0.0000 -1.0432 -0.6286\n",
      "===========================================================================\n",
      "\n"
     ]
    }
   ],
   "source": [
    "from sklearn.linear_model import LogisticRegression\n",
    "logit_model=sm.Logit(df['relational_author_count'],df[['relational_word2vec_cosine', 'primary_subject', 'year']])\n",
    "result=logit_model.fit()\n",
    "print(result.summary2())"
   ]
  },
  {
   "cell_type": "markdown",
   "metadata": {},
   "source": [
    "## Glove - culture"
   ]
  },
  {
   "cell_type": "code",
   "execution_count": 133,
   "metadata": {},
   "outputs": [
    {
     "name": "stdout",
     "output_type": "stream",
     "text": [
      "Optimization terminated successfully.\n",
      "         Current function value: 0.114411\n",
      "         Iterations 8\n",
      "                            Results: Logit\n",
      "======================================================================\n",
      "Model:              Logit                 Pseudo R-squared: -0.086    \n",
      "Dependent Variable: cultural_author_count AIC:              15945.0233\n",
      "Date:               2020-01-28 23:06      BIC:              15972.4773\n",
      "No. Observations:   69657                 Log-Likelihood:   -7969.5   \n",
      "Df Model:           2                     LL-Null:          -7339.9   \n",
      "Df Residuals:       69654                 LLR p-value:      1.0000    \n",
      "Converged:          1.0000                Scale:            1.0000    \n",
      "No. Iterations:     8.0000                                            \n",
      "----------------------------------------------------------------------\n",
      "                       Coef.  Std.Err.    z     P>|z|   [0.025  0.975]\n",
      "----------------------------------------------------------------------\n",
      "culture_glove_cosine  -7.2710   0.0969 -75.0742 0.0000 -7.4608 -7.0811\n",
      "primary_subject        0.6808   0.0474  14.3599 0.0000  0.5879  0.7737\n",
      "year                   0.1635   0.0788   2.0750 0.0380  0.0091  0.3179\n",
      "======================================================================\n",
      "\n"
     ]
    }
   ],
   "source": [
    "from sklearn.linear_model import LogisticRegression\n",
    "logit_model=sm.Logit(df['cultural_author_count'],df[['culture_glove_cosine', 'primary_subject', 'year']])\n",
    "result=logit_model.fit()\n",
    "print(result.summary2())"
   ]
  },
  {
   "cell_type": "markdown",
   "metadata": {},
   "source": [
    "## Glove - demographic"
   ]
  },
  {
   "cell_type": "code",
   "execution_count": 134,
   "metadata": {},
   "outputs": [
    {
     "name": "stdout",
     "output_type": "stream",
     "text": [
      "Optimization terminated successfully.\n",
      "         Current function value: 0.080611\n",
      "         Iterations 9\n",
      "                             Results: Logit\n",
      "=========================================================================\n",
      "Model:              Logit                    Pseudo R-squared: -0.040    \n",
      "Dependent Variable: demographic_author_count AIC:              11236.1835\n",
      "Date:               2020-01-28 23:06         BIC:              11263.6375\n",
      "No. Observations:   69657                    Log-Likelihood:   -5615.1   \n",
      "Df Model:           2                        LL-Null:          -5400.5   \n",
      "Df Residuals:       69654                    LLR p-value:      1.0000    \n",
      "Converged:          1.0000                   Scale:            1.0000    \n",
      "No. Iterations:     9.0000                                               \n",
      "-------------------------------------------------------------------------\n",
      "                          Coef.  Std.Err.    z     P>|z|   [0.025  0.975]\n",
      "-------------------------------------------------------------------------\n",
      "demographic_glove_cosine -6.5861   0.0976 -67.4487 0.0000 -6.7775 -6.3947\n",
      "primary_subject           1.3891   0.0590  23.5423 0.0000  1.2734  1.5047\n",
      "year                     -0.5653   0.0971  -5.8217 0.0000 -0.7557 -0.3750\n",
      "=========================================================================\n",
      "\n"
     ]
    }
   ],
   "source": [
    "from sklearn.linear_model import LogisticRegression\n",
    "logit_model=sm.Logit(df['demographic_author_count'],df[['demographic_glove_cosine', 'primary_subject', 'year']])\n",
    "result=logit_model.fit()\n",
    "print(result.summary2())"
   ]
  },
  {
   "cell_type": "markdown",
   "metadata": {},
   "source": [
    "## Glove - relational"
   ]
  },
  {
   "cell_type": "code",
   "execution_count": 135,
   "metadata": {},
   "outputs": [
    {
     "name": "stdout",
     "output_type": "stream",
     "text": [
      "Optimization terminated successfully.\n",
      "         Current function value: 0.069880\n",
      "         Iterations 9\n",
      "                             Results: Logit\n",
      "========================================================================\n",
      "Model:              Logit                   Pseudo R-squared: 0.002     \n",
      "Dependent Variable: relational_author_count AIC:              9741.2114 \n",
      "Date:               2020-01-28 23:06        BIC:              9768.6654 \n",
      "No. Observations:   69657                   Log-Likelihood:   -4867.6   \n",
      "Df Model:           2                       LL-Null:          -4877.4   \n",
      "Df Residuals:       69654                   LLR p-value:      5.3490e-05\n",
      "Converged:          1.0000                  Scale:            1.0000    \n",
      "No. Iterations:     9.0000                                              \n",
      "------------------------------------------------------------------------\n",
      "                         Coef.  Std.Err.    z     P>|z|   [0.025  0.975]\n",
      "------------------------------------------------------------------------\n",
      "relational_glove_cosine -6.4927   0.1012 -64.1318 0.0000 -6.6911 -6.2942\n",
      "primary_subject          1.9149   0.0672  28.4978 0.0000  1.7832  2.0466\n",
      "year                    -0.7288   0.1052  -6.9269 0.0000 -0.9350 -0.5226\n",
      "========================================================================\n",
      "\n"
     ]
    }
   ],
   "source": [
    "from sklearn.linear_model import LogisticRegression\n",
    "logit_model=sm.Logit(df['relational_author_count'],df[['relational_glove_cosine', 'primary_subject', 'year']])\n",
    "result=logit_model.fit()\n",
    "print(result.summary2())"
   ]
  },
  {
   "cell_type": "markdown",
   "metadata": {},
   "source": [
    "## ngram - culture"
   ]
  },
  {
   "cell_type": "code",
   "execution_count": 136,
   "metadata": {},
   "outputs": [
    {
     "name": "stdout",
     "output_type": "stream",
     "text": [
      "Optimization terminated successfully.\n",
      "         Current function value: 0.202555\n",
      "         Iterations 9\n",
      "                            Results: Logit\n",
      "======================================================================\n",
      "Model:              Logit                 Pseudo R-squared: -0.922    \n",
      "Dependent Variable: cultural_author_count AIC:              28224.6936\n",
      "Date:               2020-01-28 23:06      BIC:              28252.1477\n",
      "No. Observations:   69657                 Log-Likelihood:   -14109.   \n",
      "Df Model:           2                     LL-Null:          -7339.9   \n",
      "Df Residuals:       69654                 LLR p-value:      1.0000    \n",
      "Converged:          1.0000                Scale:            1.0000    \n",
      "No. Iterations:     9.0000                                            \n",
      "----------------------------------------------------------------------\n",
      "                      Coef.  Std.Err.     z     P>|z|   [0.025  0.975]\n",
      "----------------------------------------------------------------------\n",
      "culture_ngram_count   0.0071   0.0004   17.2018 0.0000  0.0063  0.0079\n",
      "primary_subject      -1.0064   0.0411  -24.5150 0.0000 -1.0869 -0.9260\n",
      "year                 -7.3517   0.0720 -102.1668 0.0000 -7.4927 -7.2106\n",
      "======================================================================\n",
      "\n"
     ]
    }
   ],
   "source": [
    "from sklearn.linear_model import LogisticRegression\n",
    "logit_model=sm.Logit(df['cultural_author_count'],df[['culture_ngram_count', 'primary_subject', 'year']])\n",
    "result=logit_model.fit()\n",
    "print(result.summary2())"
   ]
  },
  {
   "cell_type": "markdown",
   "metadata": {},
   "source": [
    "## ngram - demographic"
   ]
  },
  {
   "cell_type": "code",
   "execution_count": 137,
   "metadata": {},
   "outputs": [
    {
     "name": "stdout",
     "output_type": "stream",
     "text": [
      "Optimization terminated successfully.\n",
      "         Current function value: 0.155104\n",
      "         Iterations 9\n",
      "                             Results: Logit\n",
      "=========================================================================\n",
      "Model:              Logit                    Pseudo R-squared: -1.001    \n",
      "Dependent Variable: demographic_author_count AIC:              21614.1569\n",
      "Date:               2020-01-28 23:06         BIC:              21641.6109\n",
      "No. Observations:   69657                    Log-Likelihood:   -10804.   \n",
      "Df Model:           2                        LL-Null:          -5400.5   \n",
      "Df Residuals:       69654                    LLR p-value:      1.0000    \n",
      "Converged:          1.0000                   Scale:            1.0000    \n",
      "No. Iterations:     9.0000                                               \n",
      "-------------------------------------------------------------------------\n",
      "                         Coef.  Std.Err.    z     P>|z|   [0.025   0.975]\n",
      "-------------------------------------------------------------------------\n",
      "demographic_ngram_count  0.0116   0.0005  23.6999 0.0000   0.0106  0.0125\n",
      "primary_subject         -0.8938   0.0453 -19.7162 0.0000  -0.9827 -0.8050\n",
      "year                    -9.9731   0.1089 -91.6142 0.0000 -10.1865 -9.7598\n",
      "=========================================================================\n",
      "\n"
     ]
    }
   ],
   "source": [
    "from sklearn.linear_model import LogisticRegression\n",
    "logit_model=sm.Logit(df['demographic_author_count'],df[['demographic_ngram_count', 'primary_subject', 'year']])\n",
    "result=logit_model.fit()\n",
    "print(result.summary2())"
   ]
  },
  {
   "cell_type": "markdown",
   "metadata": {},
   "source": [
    "## ngram - relational"
   ]
  },
  {
   "cell_type": "code",
   "execution_count": 138,
   "metadata": {},
   "outputs": [
    {
     "name": "stdout",
     "output_type": "stream",
     "text": [
      "Optimization terminated successfully.\n",
      "         Current function value: 0.147090\n",
      "         Iterations 9\n",
      "                             Results: Logit\n",
      "=========================================================================\n",
      "Model:               Logit                   Pseudo R-squared: -1.101    \n",
      "Dependent Variable:  relational_author_count AIC:              20497.7053\n",
      "Date:                2020-01-28 23:06        BIC:              20525.1594\n",
      "No. Observations:    69657                   Log-Likelihood:   -10246.   \n",
      "Df Model:            2                       LL-Null:          -4877.4   \n",
      "Df Residuals:        69654                   LLR p-value:      1.0000    \n",
      "Converged:           1.0000                  Scale:            1.0000    \n",
      "No. Iterations:      9.0000                                              \n",
      "-------------------------------------------------------------------------\n",
      "                        Coef.   Std.Err.    z     P>|z|   [0.025   0.975]\n",
      "-------------------------------------------------------------------------\n",
      "relational_ngram_count   0.0016   0.0003   5.4756 0.0000   0.0010  0.0021\n",
      "primary_subject         -0.6821   0.0465 -14.6765 0.0000  -0.7732 -0.5910\n",
      "year                   -10.1971   0.1196 -85.2943 0.0000 -10.4314 -9.9628\n",
      "=========================================================================\n",
      "\n"
     ]
    }
   ],
   "source": [
    "from sklearn.linear_model import LogisticRegression\n",
    "logit_model=sm.Logit(df['relational_author_count'],df[['relational_ngram_count', 'primary_subject', 'year']])\n",
    "result=logit_model.fit()\n",
    "print(result.summary2())"
   ]
  },
  {
   "cell_type": "markdown",
   "metadata": {},
   "source": [
    "## Visualization"
   ]
  },
  {
   "cell_type": "code",
   "execution_count": 40,
   "metadata": {},
   "outputs": [
    {
     "data": {
      "image/png": "[encoded data removed]",
      "text/plain": [
       "<Figure size 432x288 with 1 Axes>"
      ]
     },
     "metadata": {},
     "output_type": "display_data"
    }
   ],
   "source": [
    "#change this if you have more dictionary sizes\n",
    "ls_lens = [5, 10, 100, 5, 10, 100, 5, 10, 100, 5, 10, 100, 5, 10, 100]\n",
    "ls_avgs = [0.038, 0.068, 0.116, \n",
    "           0.031, 0.066, 0.104,\n",
    "           0.288, 0.438, 0.342,\n",
    "           0.132, 0.199, 0.294,\n",
    "           0.197, 0.278, 0.23\n",
    "          ] #Put three same things because we only have one dictionary size rn\n",
    "                                               #change later when dictionary sizes are provided and created\n",
    "d = {'Strength': ls_avgs, 'Words':ls_lens, 'Model':['InferSent', 'InferSent', 'InferSent',\n",
    "                                                    'Doc2Vec','Doc2Vec','Doc2Vec', \n",
    "                                                    'Word2Vec', 'Word2Vec', 'Word2Vec',\n",
    "                                                    'GloVe', 'GloVe', 'GloVe',\n",
    "                                                    'word count', 'word count', 'word count'\n",
    "                                                     ]}\n",
    "dat = pd.DataFrame(data=d)\n",
    "x1 = list(range(3)) #change this if you have more dictionary sizes\n",
    "squad = ['Cultural','Demographic','Relational'] #arbitrary values for demonstration purpose only atm.\n",
    "\n",
    "import seaborn as sns; sns.set()\n",
    "import matplotlib.pyplot as plt\n",
    "\n",
    "sns.set_style(\"white\")\n",
    "ax = sns.pointplot(x=\"Words\", y=\"Strength\", data=dat, hue='Model')\n",
    "ax.set_xticks(x1)\n",
    "ax.set_xticklabels(squad, minor=False, rotation=30)\n",
    "ax.set_ylim(-0.05,1)\n",
    "ax.set(xlabel='', ylabel='Pseudo R-squared')\n",
    "plt.title(\"Proportion of Variance Explained: Logistic Regression Models\\n\")\n",
    "#plt.tight_layout()\n",
    "plt.gcf().subplots_adjust(bottom=0.19)\n",
    "plt.savefig('logistic_reg_binary_012620.png', dpi=300)\n",
    "plt.show()"
   ]
  },
  {
   "cell_type": "markdown",
   "metadata": {},
   "source": [
    "# nbreg"
   ]
  },
  {
   "cell_type": "code",
   "execution_count": 86,
   "metadata": {},
   "outputs": [],
   "source": [
    "#df = pd.read_csv('../../../models_storage/word_embeddings_data/text_with_cosine_scores_wdg_jan11.csv')\n",
    "df = pd.read_csv('../../../models_storage/word_embeddings_data/text_with_cosine_scores_wdg_aug16.csv')\n",
    "df_label = pd.read_csv('../../../models_storage/word_embeddings_data/counts_and_subject.csv', low_memory=False)\n",
    "df_label.article_id = df_label.article_id.apply(lambda x: x[16:])\n",
    "df = pd.merge(df, df_label, how='left', left_on='edited_filename', right_on='article_id')\n",
    "df = df[df.culture_ngram_count.isnull() == False]\n",
    "df = df.drop(columns=['Unnamed: 0', 'Unnamed: 0_x', 'Unnamed: 0.1', 'Unnamed: 0_y'])\n",
    "df.word_count = np.log(df.word_count)\n",
    "def discipline_to_numeric(x):\n",
    "    if x=='Sociology':\n",
    "        return 0\n",
    "    if x=='Management & Organizational Behavior':\n",
    "        return 1\n",
    "df.primary_subject = df.primary_subject.apply(discipline_to_numeric)\n",
    "df.year = df.year.apply(lambda x: int(x[:4]))"
   ]
  },
  {
   "cell_type": "markdown",
   "metadata": {},
   "source": [
    "## infersent \n",
    "### Culture"
   ]
  },
  {
   "cell_type": "code",
   "execution_count": 87,
   "metadata": {},
   "outputs": [],
   "source": [
    "poisson_training_results = sm.GLM(df['cultural_author_count'], df[['culture', 'primary_subject']], \n",
    "                                  family=sm.families.Poisson()).fit()"
   ]
  },
  {
   "cell_type": "code",
   "execution_count": 88,
   "metadata": {},
   "outputs": [],
   "source": [
    "df['BB_LAMBDA'] = poisson_training_results.mu"
   ]
  },
  {
   "cell_type": "code",
   "execution_count": 89,
   "metadata": {},
   "outputs": [],
   "source": [
    "df['AUX_OLS_DEP'] = df.apply(lambda x: ((x['cultural_author_count'] - \n",
    "                                                     x['BB_LAMBDA'])**2 - x['cultural_author_count']) / x['BB_LAMBDA'], axis=1)"
   ]
  },
  {
   "cell_type": "code",
   "execution_count": 90,
   "metadata": {},
   "outputs": [],
   "source": [
    "ols_expr = \"\"\"AUX_OLS_DEP ~ BB_LAMBDA - 1\"\"\""
   ]
  },
  {
   "cell_type": "code",
   "execution_count": 91,
   "metadata": {},
   "outputs": [],
   "source": [
    "aux_olsr_results = smf.ols(ols_expr, df).fit()"
   ]
  },
  {
   "cell_type": "code",
   "execution_count": 92,
   "metadata": {},
   "outputs": [
    {
     "name": "stdout",
     "output_type": "stream",
     "text": [
      "BB_LAMBDA    58.737906\n",
      "dtype: float64\n"
     ]
    }
   ],
   "source": [
    "print(aux_olsr_results.params)"
   ]
  },
  {
   "cell_type": "code",
   "execution_count": 93,
   "metadata": {},
   "outputs": [
    {
     "data": {
      "text/plain": [
       "BB_LAMBDA    7.487131\n",
       "dtype: float64"
      ]
     },
     "execution_count": 93,
     "metadata": {},
     "output_type": "execute_result"
    }
   ],
   "source": [
    "aux_olsr_results.tvalues #98% confidence"
   ]
  },
  {
   "cell_type": "code",
   "execution_count": 94,
   "metadata": {},
   "outputs": [],
   "source": [
    "nb2_training_results = sm.GLM(df['cultural_author_count'], df[['culture', 'primary_subject']], \n",
    "                              offset=df['word_count'],\n",
    "                              family=sm.families.NegativeBinomial(alpha=aux_olsr_results.params[0])).fit()"
   ]
  },
  {
   "cell_type": "code",
   "execution_count": 95,
   "metadata": {},
   "outputs": [
    {
     "name": "stdout",
     "output_type": "stream",
     "text": [
      "                   Generalized Linear Model Regression Results                   \n",
      "=================================================================================\n",
      "Dep. Variable:     cultural_author_count   No. Observations:                69657\n",
      "Model:                               GLM   Df Residuals:                    69655\n",
      "Model Family:           NegativeBinomial   Df Model:                            1\n",
      "Link Function:                       log   Scale:                          1.0000\n",
      "Method:                             IRLS   Log-Likelihood:                -9499.9\n",
      "Date:                   Tue, 28 Jan 2020   Deviance:                       4179.5\n",
      "Time:                           19:42:08   Pearson chi2:                 7.70e+04\n",
      "No. Iterations:                       10   Covariance Type:             nonrobust\n",
      "===================================================================================\n",
      "                      coef    std err          z      P>|z|      [0.025      0.975]\n",
      "-----------------------------------------------------------------------------------\n",
      "culture           -19.8574      0.072   -273.943      0.000     -19.999     -19.715\n",
      "primary_subject     1.0283      0.077     13.298      0.000       0.877       1.180\n",
      "===================================================================================\n"
     ]
    }
   ],
   "source": [
    "print(nb2_training_results.summary())\n"
   ]
  },
  {
   "cell_type": "markdown",
   "metadata": {},
   "source": [
    "### Demographic"
   ]
  },
  {
   "cell_type": "code",
   "execution_count": 96,
   "metadata": {},
   "outputs": [
    {
     "name": "stdout",
     "output_type": "stream",
     "text": [
      "                    Generalized Linear Model Regression Results                     \n",
      "====================================================================================\n",
      "Dep. Variable:     demographic_author_count   No. Observations:                69657\n",
      "Model:                                  GLM   Df Residuals:                    69655\n",
      "Model Family:              NegativeBinomial   Df Model:                            1\n",
      "Link Function:                          log   Scale:                          1.0000\n",
      "Method:                                IRLS   Log-Likelihood:                -6762.8\n",
      "Date:                      Tue, 28 Jan 2020   Deviance:                       2487.3\n",
      "Time:                              19:42:31   Pearson chi2:                 1.49e+05\n",
      "No. Iterations:                          11   Covariance Type:             nonrobust\n",
      "===================================================================================\n",
      "                      coef    std err          z      P>|z|      [0.025      0.975]\n",
      "-----------------------------------------------------------------------------------\n",
      "demographic       -20.5080      0.095   -215.054      0.000     -20.695     -20.321\n",
      "primary_subject     1.1980      0.102     11.752      0.000       0.998       1.398\n",
      "===================================================================================\n"
     ]
    }
   ],
   "source": [
    "poisson_training_results = sm.GLM(df['demographic_author_count'], df[['demographic', 'primary_subject']], \n",
    "                                  family=sm.families.Poisson()).fit()\n",
    "df['BB_LAMBDA'] = poisson_training_results.mu\n",
    "df['AUX_OLS_DEP'] = df.apply(lambda x: ((x['demographic_author_count'] - \n",
    "                                                     x['BB_LAMBDA'])**2 - x['demographic_author_count']) / x['BB_LAMBDA'], axis=1)\n",
    "ols_expr = \"\"\"AUX_OLS_DEP ~ BB_LAMBDA - 1\"\"\"\n",
    "aux_olsr_results = smf.ols(ols_expr, df).fit()\n",
    "nb2_training_results = sm.GLM(df['demographic_author_count'], df[['demographic', 'primary_subject']], \n",
    "                              offset=df['word_count'],\n",
    "                              family=sm.families.NegativeBinomial(alpha=aux_olsr_results.params[0])).fit()\n",
    "print(nb2_training_results.summary())\n"
   ]
  },
  {
   "cell_type": "markdown",
   "metadata": {},
   "source": [
    "### Relational"
   ]
  },
  {
   "cell_type": "code",
   "execution_count": 97,
   "metadata": {},
   "outputs": [
    {
     "name": "stdout",
     "output_type": "stream",
     "text": [
      "                    Generalized Linear Model Regression Results                    \n",
      "===================================================================================\n",
      "Dep. Variable:     relational_author_count   No. Observations:                69657\n",
      "Model:                                 GLM   Df Residuals:                    69655\n",
      "Model Family:             NegativeBinomial   Df Model:                            1\n",
      "Link Function:                         log   Scale:                          1.0000\n",
      "Method:                               IRLS   Log-Likelihood:                -5429.1\n",
      "Date:                     Tue, 28 Jan 2020   Deviance:                       2471.5\n",
      "Time:                             19:42:38   Pearson chi2:                 7.08e+04\n",
      "No. Iterations:                         12   Covariance Type:             nonrobust\n",
      "===================================================================================\n",
      "                      coef    std err          z      P>|z|      [0.025      0.975]\n",
      "-----------------------------------------------------------------------------------\n",
      "relational        -30.6119      0.151   -203.011      0.000     -30.907     -30.316\n",
      "primary_subject     2.0474      0.094     21.831      0.000       1.864       2.231\n",
      "===================================================================================\n"
     ]
    }
   ],
   "source": [
    "poisson_training_results = sm.GLM(df['relational_author_count'], df[['relational', 'primary_subject']], \n",
    "                                  family=sm.families.Poisson()).fit()\n",
    "df['BB_LAMBDA'] = poisson_training_results.mu\n",
    "df['AUX_OLS_DEP'] = df.apply(lambda x: ((x['relational_author_count'] - \n",
    "                                                     x['BB_LAMBDA'])**2 - x['relational_author_count']) / x['BB_LAMBDA'], axis=1)\n",
    "ols_expr = \"\"\"AUX_OLS_DEP ~ BB_LAMBDA - 1\"\"\"\n",
    "aux_olsr_results = smf.ols(ols_expr, df).fit()\n",
    "nb2_training_results = sm.GLM(df['relational_author_count'], df[['relational', 'primary_subject']], \n",
    "                              offset=df['word_count'],\n",
    "                              family=sm.families.NegativeBinomial(alpha=aux_olsr_results.params[0])).fit()\n",
    "print(nb2_training_results.summary())\n"
   ]
  },
  {
   "cell_type": "markdown",
   "metadata": {},
   "source": [
    "## Word2vec\n",
    "### Culture"
   ]
  },
  {
   "cell_type": "code",
   "execution_count": 98,
   "metadata": {},
   "outputs": [
    {
     "name": "stdout",
     "output_type": "stream",
     "text": [
      "                   Generalized Linear Model Regression Results                   \n",
      "=================================================================================\n",
      "Dep. Variable:     cultural_author_count   No. Observations:                69657\n",
      "Model:                               GLM   Df Residuals:                    69655\n",
      "Model Family:           NegativeBinomial   Df Model:                            1\n",
      "Link Function:                       log   Scale:                          1.0000\n",
      "Method:                             IRLS   Log-Likelihood:                -12193.\n",
      "Date:                   Tue, 28 Jan 2020   Deviance:                       10555.\n",
      "Time:                           19:42:47   Pearson chi2:                 4.22e+05\n",
      "No. Iterations:                       19   Covariance Type:             nonrobust\n",
      "===========================================================================================\n",
      "                              coef    std err          z      P>|z|      [0.025      0.975]\n",
      "-------------------------------------------------------------------------------------------\n",
      "culture_word2vec_cosine   -16.8302      0.052   -324.922      0.000     -16.932     -16.729\n",
      "primary_subject             0.9137      0.058     15.658      0.000       0.799       1.028\n",
      "===========================================================================================\n"
     ]
    }
   ],
   "source": [
    "poisson_training_results = sm.GLM(df['cultural_author_count'], df[['culture_word2vec_cosine', 'primary_subject']], \n",
    "                                  family=sm.families.Poisson()).fit()\n",
    "df['BB_LAMBDA'] = poisson_training_results.mu\n",
    "df['AUX_OLS_DEP'] = df.apply(lambda x: ((x['cultural_author_count'] - \n",
    "                                                     x['BB_LAMBDA'])**2 - x['cultural_author_count']) / x['BB_LAMBDA'], axis=1)\n",
    "ols_expr = \"\"\"AUX_OLS_DEP ~ BB_LAMBDA - 1\"\"\"\n",
    "aux_olsr_results = smf.ols(ols_expr, df).fit()\n",
    "nb2_training_results = sm.GLM(df['cultural_author_count'], df[['culture_word2vec_cosine', 'primary_subject']], \n",
    "                              offset=df['word_count'],\n",
    "                              family=sm.families.NegativeBinomial(alpha=aux_olsr_results.params[0])).fit()\n",
    "print(nb2_training_results.summary())\n"
   ]
  },
  {
   "cell_type": "markdown",
   "metadata": {},
   "source": [
    "### Demographic"
   ]
  },
  {
   "cell_type": "code",
   "execution_count": 99,
   "metadata": {},
   "outputs": [
    {
     "name": "stdout",
     "output_type": "stream",
     "text": [
      "                    Generalized Linear Model Regression Results                     \n",
      "====================================================================================\n",
      "Dep. Variable:     demographic_author_count   No. Observations:                69657\n",
      "Model:                                  GLM   Df Residuals:                    69655\n",
      "Model Family:              NegativeBinomial   Df Model:                            1\n",
      "Link Function:                          log   Scale:                          1.0000\n",
      "Method:                                IRLS   Log-Likelihood:                -8273.3\n",
      "Date:                      Tue, 28 Jan 2020   Deviance:                       6075.9\n",
      "Time:                              19:43:12   Pearson chi2:                 5.62e+05\n",
      "No. Iterations:                          22   Covariance Type:             nonrobust\n",
      "===============================================================================================\n",
      "                                  coef    std err          z      P>|z|      [0.025      0.975]\n",
      "-----------------------------------------------------------------------------------------------\n",
      "demographic_word2vec_cosine   -17.0011      0.068   -249.889      0.000     -17.134     -16.868\n",
      "primary_subject                 1.6022      0.081     19.772      0.000       1.443       1.761\n",
      "===============================================================================================\n"
     ]
    }
   ],
   "source": [
    "poisson_training_results = sm.GLM(df['demographic_author_count'], df[['demographic_word2vec_cosine', 'primary_subject']], \n",
    "                                  family=sm.families.Poisson()).fit()\n",
    "df['BB_LAMBDA'] = poisson_training_results.mu\n",
    "df['AUX_OLS_DEP'] = df.apply(lambda x: ((x['demographic_author_count'] - \n",
    "                                                     x['BB_LAMBDA'])**2 - x['demographic_author_count']) / x['BB_LAMBDA'], axis=1)\n",
    "ols_expr = \"\"\"AUX_OLS_DEP ~ BB_LAMBDA - 1\"\"\"\n",
    "aux_olsr_results = smf.ols(ols_expr, df).fit()\n",
    "nb2_training_results = sm.GLM(df['demographic_author_count'], df[['demographic_word2vec_cosine', 'primary_subject']], \n",
    "                              offset=df['word_count'],\n",
    "                              family=sm.families.NegativeBinomial(alpha=aux_olsr_results.params[0])).fit()\n",
    "print(nb2_training_results.summary())\n"
   ]
  },
  {
   "cell_type": "markdown",
   "metadata": {},
   "source": [
    "### Relational"
   ]
  },
  {
   "cell_type": "code",
   "execution_count": 100,
   "metadata": {},
   "outputs": [
    {
     "name": "stdout",
     "output_type": "stream",
     "text": [
      "                    Generalized Linear Model Regression Results                    \n",
      "===================================================================================\n",
      "Dep. Variable:     relational_author_count   No. Observations:                69657\n",
      "Model:                                 GLM   Df Residuals:                    69655\n",
      "Model Family:             NegativeBinomial   Df Model:                            1\n",
      "Link Function:                         log   Scale:                          1.0000\n",
      "Method:                               IRLS   Log-Likelihood:                -7010.7\n",
      "Date:                     Tue, 28 Jan 2020   Deviance:                       6128.9\n",
      "Time:                             19:43:19   Pearson chi2:                 8.78e+05\n",
      "No. Iterations:                         21   Covariance Type:             nonrobust\n",
      "==============================================================================================\n",
      "                                 coef    std err          z      P>|z|      [0.025      0.975]\n",
      "----------------------------------------------------------------------------------------------\n",
      "relational_word2vec_cosine   -19.2595      0.071   -272.592      0.000     -19.398     -19.121\n",
      "primary_subject                3.7850      0.072     52.521      0.000       3.644       3.926\n",
      "==============================================================================================\n"
     ]
    }
   ],
   "source": [
    "poisson_training_results = sm.GLM(df['relational_author_count'], df[['relational_word2vec_cosine', 'primary_subject']], \n",
    "                                  family=sm.families.Poisson()).fit()\n",
    "df['BB_LAMBDA'] = poisson_training_results.mu\n",
    "df['AUX_OLS_DEP'] = df.apply(lambda x: ((x['relational_author_count'] - \n",
    "                                                     x['BB_LAMBDA'])**2 - x['relational_author_count']) / x['BB_LAMBDA'], axis=1)\n",
    "ols_expr = \"\"\"AUX_OLS_DEP ~ BB_LAMBDA - 1\"\"\"\n",
    "aux_olsr_results = smf.ols(ols_expr, df).fit()\n",
    "nb2_training_results = sm.GLM(df['relational_author_count'], df[['relational_word2vec_cosine', 'primary_subject']], \n",
    "                              offset=df['word_count'],\n",
    "                              family=sm.families.NegativeBinomial(alpha=aux_olsr_results.params[0])).fit()\n",
    "print(nb2_training_results.summary())\n"
   ]
  },
  {
   "cell_type": "markdown",
   "metadata": {},
   "source": [
    "## Doc2vec\n",
    "### Culture"
   ]
  },
  {
   "cell_type": "code",
   "execution_count": 101,
   "metadata": {},
   "outputs": [
    {
     "name": "stdout",
     "output_type": "stream",
     "text": [
      "                   Generalized Linear Model Regression Results                   \n",
      "=================================================================================\n",
      "Dep. Variable:     cultural_author_count   No. Observations:                69657\n",
      "Model:                               GLM   Df Residuals:                    69655\n",
      "Model Family:           NegativeBinomial   Df Model:                            1\n",
      "Link Function:                       log   Scale:                          1.0000\n",
      "Method:                             IRLS   Log-Likelihood:                -61915.\n",
      "Date:                   Tue, 28 Jan 2020   Deviance:                   1.1565e+05\n",
      "Time:                           19:43:23   Pearson chi2:                 3.89e+17\n",
      "No. Iterations:                       53   Covariance Type:             nonrobust\n",
      "==========================================================================================\n",
      "                             coef    std err          z      P>|z|      [0.025      0.975]\n",
      "------------------------------------------------------------------------------------------\n",
      "culture_doc2vec_cosine  -232.1308      0.494   -470.293      0.000    -233.098    -231.163\n",
      "primary_subject           -4.3655      0.027   -161.292      0.000      -4.419      -4.312\n",
      "==========================================================================================\n"
     ]
    }
   ],
   "source": [
    "poisson_training_results = sm.GLM(df['cultural_author_count'], df[['culture_doc2vec_cosine', 'primary_subject']], \n",
    "                                  family=sm.families.Poisson()).fit()\n",
    "df['BB_LAMBDA'] = poisson_training_results.mu\n",
    "df['AUX_OLS_DEP'] = df.apply(lambda x: ((x['cultural_author_count'] - \n",
    "                                                     x['BB_LAMBDA'])**2 - x['cultural_author_count']) / x['BB_LAMBDA'], axis=1)\n",
    "ols_expr = \"\"\"AUX_OLS_DEP ~ BB_LAMBDA - 1\"\"\"\n",
    "aux_olsr_results = smf.ols(ols_expr, df).fit()\n",
    "nb2_training_results = sm.GLM(df['cultural_author_count'], df[['culture_doc2vec_cosine', 'primary_subject']], \n",
    "                              offset=df['word_count'],\n",
    "                              family=sm.families.NegativeBinomial(alpha=aux_olsr_results.params[0])).fit()\n",
    "print(nb2_training_results.summary())\n"
   ]
  },
  {
   "cell_type": "markdown",
   "metadata": {},
   "source": [
    "### Demographic"
   ]
  },
  {
   "cell_type": "code",
   "execution_count": 102,
   "metadata": {},
   "outputs": [
    {
     "name": "stdout",
     "output_type": "stream",
     "text": [
      "                    Generalized Linear Model Regression Results                     \n",
      "====================================================================================\n",
      "Dep. Variable:     demographic_author_count   No. Observations:                69657\n",
      "Model:                                  GLM   Df Residuals:                    69655\n",
      "Model Family:              NegativeBinomial   Df Model:                            1\n",
      "Link Function:                          log   Scale:                          1.0000\n",
      "Method:                                IRLS   Log-Likelihood:                -51172.\n",
      "Date:                      Tue, 28 Jan 2020   Deviance:                       96808.\n",
      "Time:                              19:43:27   Pearson chi2:                 2.43e+17\n",
      "No. Iterations:                          59   Covariance Type:             nonrobust\n",
      "==============================================================================================\n",
      "                                 coef    std err          z      P>|z|      [0.025      0.975]\n",
      "----------------------------------------------------------------------------------------------\n",
      "demographic_doc2vec_cosine  -265.6306      0.615   -432.000      0.000    -266.836    -264.425\n",
      "primary_subject               -4.3216      0.030   -142.092      0.000      -4.381      -4.262\n",
      "==============================================================================================\n"
     ]
    }
   ],
   "source": [
    "poisson_training_results = sm.GLM(df['demographic_author_count'], df[['demographic_doc2vec_cosine', 'primary_subject']], \n",
    "                                  family=sm.families.Poisson()).fit()\n",
    "df['BB_LAMBDA'] = poisson_training_results.mu\n",
    "df['AUX_OLS_DEP'] = df.apply(lambda x: ((x['demographic_author_count'] - \n",
    "                                                     x['BB_LAMBDA'])**2 - x['demographic_author_count']) / x['BB_LAMBDA'], axis=1)\n",
    "ols_expr = \"\"\"AUX_OLS_DEP ~ BB_LAMBDA - 1\"\"\"\n",
    "aux_olsr_results = smf.ols(ols_expr, df).fit()\n",
    "nb2_training_results = sm.GLM(df['demographic_author_count'], df[['demographic_doc2vec_cosine', 'primary_subject']], \n",
    "                              offset=df['word_count'],\n",
    "                              family=sm.families.NegativeBinomial(alpha=aux_olsr_results.params[0])).fit()\n",
    "print(nb2_training_results.summary())\n"
   ]
  },
  {
   "cell_type": "markdown",
   "metadata": {},
   "source": [
    "### Relational"
   ]
  },
  {
   "cell_type": "code",
   "execution_count": 103,
   "metadata": {},
   "outputs": [
    {
     "name": "stdout",
     "output_type": "stream",
     "text": [
      "                    Generalized Linear Model Regression Results                    \n",
      "===================================================================================\n",
      "Dep. Variable:     relational_author_count   No. Observations:                69657\n",
      "Model:                                 GLM   Df Residuals:                    69655\n",
      "Model Family:             NegativeBinomial   Df Model:                            1\n",
      "Link Function:                         log   Scale:                          1.0000\n",
      "Method:                               IRLS   Log-Likelihood:                -58562.\n",
      "Date:                     Tue, 28 Jan 2020   Deviance:                   1.1310e+05\n",
      "Time:                             19:43:32   Pearson chi2:                 2.24e+18\n",
      "No. Iterations:                         59   Covariance Type:             nonrobust\n",
      "=============================================================================================\n",
      "                                coef    std err          z      P>|z|      [0.025      0.975]\n",
      "---------------------------------------------------------------------------------------------\n",
      "relational_doc2vec_cosine  -392.4016      0.876   -448.046      0.000    -394.118    -390.685\n",
      "primary_subject              -4.6005      0.030   -153.654      0.000      -4.659      -4.542\n",
      "=============================================================================================\n"
     ]
    }
   ],
   "source": [
    "poisson_training_results = sm.GLM(df['relational_author_count'], df[['relational_doc2vec_cosine', 'primary_subject']], \n",
    "                                  family=sm.families.Poisson()).fit()\n",
    "df['BB_LAMBDA'] = poisson_training_results.mu\n",
    "df['AUX_OLS_DEP'] = df.apply(lambda x: ((x['relational_author_count'] - \n",
    "                                                     x['BB_LAMBDA'])**2 - x['relational_author_count']) / x['BB_LAMBDA'], axis=1)\n",
    "ols_expr = \"\"\"AUX_OLS_DEP ~ BB_LAMBDA - 1\"\"\"\n",
    "aux_olsr_results = smf.ols(ols_expr, df).fit()\n",
    "nb2_training_results = sm.GLM(df['relational_author_count'], df[['relational_doc2vec_cosine', 'primary_subject']], \n",
    "                              offset=df['word_count'],\n",
    "                              family=sm.families.NegativeBinomial(alpha=aux_olsr_results.params[0])).fit()\n",
    "print(nb2_training_results.summary())\n"
   ]
  },
  {
   "cell_type": "markdown",
   "metadata": {},
   "source": [
    "## GloVe\n",
    "### Culture"
   ]
  },
  {
   "cell_type": "code",
   "execution_count": 104,
   "metadata": {},
   "outputs": [
    {
     "name": "stdout",
     "output_type": "stream",
     "text": [
      "                   Generalized Linear Model Regression Results                   \n",
      "=================================================================================\n",
      "Dep. Variable:     cultural_author_count   No. Observations:                69657\n",
      "Model:                               GLM   Df Residuals:                    69655\n",
      "Model Family:           NegativeBinomial   Df Model:                            1\n",
      "Link Function:                       log   Scale:                          1.0000\n",
      "Method:                             IRLS   Log-Likelihood:                -11353.\n",
      "Date:                   Tue, 28 Jan 2020   Deviance:                       8910.1\n",
      "Time:                           19:43:35   Pearson chi2:                 3.50e+05\n",
      "No. Iterations:                       17   Covariance Type:             nonrobust\n",
      "========================================================================================\n",
      "                           coef    std err          z      P>|z|      [0.025      0.975]\n",
      "----------------------------------------------------------------------------------------\n",
      "culture_glove_cosine   -19.2453      0.059   -324.489      0.000     -19.362     -19.129\n",
      "primary_subject          0.8772      0.059     14.809      0.000       0.761       0.993\n",
      "========================================================================================\n"
     ]
    }
   ],
   "source": [
    "poisson_training_results = sm.GLM(df['cultural_author_count'], df[['culture_glove_cosine', 'primary_subject']], \n",
    "                                  family=sm.families.Poisson()).fit()\n",
    "df['BB_LAMBDA'] = poisson_training_results.mu\n",
    "df['AUX_OLS_DEP'] = df.apply(lambda x: ((x['cultural_author_count'] - \n",
    "                                                     x['BB_LAMBDA'])**2 - x['cultural_author_count']) / x['BB_LAMBDA'], axis=1)\n",
    "ols_expr = \"\"\"AUX_OLS_DEP ~ BB_LAMBDA - 1\"\"\"\n",
    "aux_olsr_results = smf.ols(ols_expr, df).fit()\n",
    "nb2_training_results = sm.GLM(df['cultural_author_count'], df[['culture_glove_cosine', 'primary_subject']], \n",
    "                              offset=df['word_count'],\n",
    "                              family=sm.families.NegativeBinomial(alpha=aux_olsr_results.params[0])).fit()\n",
    "print(nb2_training_results.summary())\n"
   ]
  },
  {
   "cell_type": "markdown",
   "metadata": {},
   "source": [
    "### Demographic"
   ]
  },
  {
   "cell_type": "code",
   "execution_count": 105,
   "metadata": {},
   "outputs": [
    {
     "name": "stdout",
     "output_type": "stream",
     "text": [
      "                    Generalized Linear Model Regression Results                     \n",
      "====================================================================================\n",
      "Dep. Variable:     demographic_author_count   No. Observations:                69657\n",
      "Model:                                  GLM   Df Residuals:                    69655\n",
      "Model Family:              NegativeBinomial   Df Model:                            1\n",
      "Link Function:                          log   Scale:                          1.0000\n",
      "Method:                                IRLS   Log-Likelihood:                -7601.3\n",
      "Date:                      Tue, 28 Jan 2020   Deviance:                       4989.2\n",
      "Time:                              19:43:39   Pearson chi2:                 3.49e+05\n",
      "No. Iterations:                          17   Covariance Type:             nonrobust\n",
      "============================================================================================\n",
      "                               coef    std err          z      P>|z|      [0.025      0.975]\n",
      "--------------------------------------------------------------------------------------------\n",
      "demographic_glove_cosine   -17.3507      0.066   -263.220      0.000     -17.480     -17.222\n",
      "primary_subject              1.4961      0.079     18.984      0.000       1.342       1.651\n",
      "============================================================================================\n"
     ]
    }
   ],
   "source": [
    "poisson_training_results = sm.GLM(df['demographic_author_count'], df[['demographic_glove_cosine', 'primary_subject']], \n",
    "                                  family=sm.families.Poisson()).fit()\n",
    "df['BB_LAMBDA'] = poisson_training_results.mu\n",
    "df['AUX_OLS_DEP'] = df.apply(lambda x: ((x['demographic_author_count'] - \n",
    "                                                     x['BB_LAMBDA'])**2 - x['demographic_author_count']) / x['BB_LAMBDA'], axis=1)\n",
    "ols_expr = \"\"\"AUX_OLS_DEP ~ BB_LAMBDA - 1\"\"\"\n",
    "aux_olsr_results = smf.ols(ols_expr, df).fit()\n",
    "nb2_training_results = sm.GLM(df['demographic_author_count'], df[['demographic_glove_cosine', 'primary_subject']], \n",
    "                              offset=df['word_count'],\n",
    "                              family=sm.families.NegativeBinomial(alpha=aux_olsr_results.params[0])).fit()\n",
    "print(nb2_training_results.summary())\n"
   ]
  },
  {
   "cell_type": "markdown",
   "metadata": {},
   "source": [
    "### Relational"
   ]
  },
  {
   "cell_type": "code",
   "execution_count": 106,
   "metadata": {},
   "outputs": [
    {
     "name": "stdout",
     "output_type": "stream",
     "text": [
      "                    Generalized Linear Model Regression Results                    \n",
      "===================================================================================\n",
      "Dep. Variable:     relational_author_count   No. Observations:                69657\n",
      "Model:                                 GLM   Df Residuals:                    69655\n",
      "Model Family:             NegativeBinomial   Df Model:                            1\n",
      "Link Function:                         log   Scale:                          1.0000\n",
      "Method:                               IRLS   Log-Likelihood:                -6469.4\n",
      "Date:                     Tue, 28 Jan 2020   Deviance:                       5528.4\n",
      "Time:                             19:43:42   Pearson chi2:                 3.25e+05\n",
      "No. Iterations:                         16   Covariance Type:             nonrobust\n",
      "===========================================================================================\n",
      "                              coef    std err          z      P>|z|      [0.025      0.975]\n",
      "-------------------------------------------------------------------------------------------\n",
      "relational_glove_cosine   -17.9699      0.068   -263.439      0.000     -18.104     -17.836\n",
      "primary_subject             2.9820      0.069     42.955      0.000       2.846       3.118\n",
      "===========================================================================================\n"
     ]
    }
   ],
   "source": [
    "poisson_training_results = sm.GLM(df['relational_author_count'], df[['relational_glove_cosine', 'primary_subject']], \n",
    "                                  family=sm.families.Poisson()).fit()\n",
    "df['BB_LAMBDA'] = poisson_training_results.mu\n",
    "df['AUX_OLS_DEP'] = df.apply(lambda x: ((x['relational_author_count'] - \n",
    "                                                     x['BB_LAMBDA'])**2 - x['relational_author_count']) / x['BB_LAMBDA'], axis=1)\n",
    "ols_expr = \"\"\"AUX_OLS_DEP ~ BB_LAMBDA - 1\"\"\"\n",
    "aux_olsr_results = smf.ols(ols_expr, df).fit()\n",
    "nb2_training_results = sm.GLM(df['relational_author_count'], df[['relational_glove_cosine', 'primary_subject']], \n",
    "                              offset=df['word_count'],\n",
    "                              family=sm.families.NegativeBinomial(alpha=aux_olsr_results.params[0])).fit()\n",
    "print(nb2_training_results.summary())\n"
   ]
  },
  {
   "cell_type": "markdown",
   "metadata": {},
   "source": [
    "## ngram\n",
    "### culture"
   ]
  },
  {
   "cell_type": "code",
   "execution_count": 107,
   "metadata": {},
   "outputs": [
    {
     "name": "stdout",
     "output_type": "stream",
     "text": [
      "                   Generalized Linear Model Regression Results                   \n",
      "=================================================================================\n",
      "Dep. Variable:     cultural_author_count   No. Observations:                69657\n",
      "Model:                               GLM   Df Residuals:                    69655\n",
      "Model Family:           NegativeBinomial   Df Model:                            1\n",
      "Link Function:                       log   Scale:                          1.0000\n",
      "Method:                             IRLS   Log-Likelihood:            -2.5890e+05\n",
      "Date:                   Tue, 28 Jan 2020   Deviance:                   5.1119e+05\n",
      "Time:                           19:48:13   Pearson chi2:                 9.81e+18\n",
      "No. Iterations:                       83   Covariance Type:             nonrobust\n",
      "=======================================================================================\n",
      "                          coef    std err          z      P>|z|      [0.025      0.975]\n",
      "---------------------------------------------------------------------------------------\n",
      "culture_ngram_count    -0.1111      0.000   -480.132      0.000      -0.112      -0.111\n",
      "primary_subject        -8.4945      0.021   -400.765      0.000      -8.536      -8.453\n",
      "=======================================================================================\n"
     ]
    }
   ],
   "source": [
    "poisson_training_results = sm.GLM(df['cultural_author_count'], df[['culture_ngram_count', 'primary_subject']], \n",
    "                                  family=sm.families.Poisson()).fit()\n",
    "df['BB_LAMBDA'] = poisson_training_results.mu\n",
    "df['AUX_OLS_DEP'] = df.apply(lambda x: ((x['cultural_author_count'] - \n",
    "                                                     x['BB_LAMBDA'])**2 - x['cultural_author_count']) / x['BB_LAMBDA'], axis=1)\n",
    "ols_expr = \"\"\"AUX_OLS_DEP ~ BB_LAMBDA - 1\"\"\"\n",
    "aux_olsr_results = smf.ols(ols_expr, df).fit()\n",
    "nb2_training_results = sm.GLM(df['cultural_author_count'], df[['culture_ngram_count', 'primary_subject']], \n",
    "                              offset=df['word_count'],\n",
    "                              family=sm.families.NegativeBinomial(alpha=aux_olsr_results.params[0])).fit()\n",
    "print(nb2_training_results.summary())\n"
   ]
  },
  {
   "cell_type": "markdown",
   "metadata": {},
   "source": [
    "### Demographic"
   ]
  },
  {
   "cell_type": "code",
   "execution_count": 108,
   "metadata": {},
   "outputs": [
    {
     "name": "stdout",
     "output_type": "stream",
     "text": [
      "                    Generalized Linear Model Regression Results                     \n",
      "====================================================================================\n",
      "Dep. Variable:     demographic_author_count   No. Observations:                69657\n",
      "Model:                                  GLM   Df Residuals:                    69655\n",
      "Model Family:              NegativeBinomial   Df Model:                            1\n",
      "Link Function:                          log   Scale:                          1.0000\n",
      "Method:                                IRLS   Log-Likelihood:            -2.8046e+05\n",
      "Date:                      Tue, 28 Jan 2020   Deviance:                   5.5666e+05\n",
      "Time:                              19:48:18   Pearson chi2:                 2.48e+19\n",
      "No. Iterations:                         100   Covariance Type:             nonrobust\n",
      "===========================================================================================\n",
      "                              coef    std err          z      P>|z|      [0.025      0.975]\n",
      "-------------------------------------------------------------------------------------------\n",
      "demographic_ngram_count    -0.1017      0.000   -405.853      0.000      -0.102      -0.101\n",
      "primary_subject            -9.3137      0.025   -379.908      0.000      -9.362      -9.266\n",
      "===========================================================================================\n"
     ]
    }
   ],
   "source": [
    "poisson_training_results = sm.GLM(df['demographic_author_count'], df[['demographic_ngram_count', 'primary_subject']], \n",
    "                                  family=sm.families.Poisson()).fit()\n",
    "df['BB_LAMBDA'] = poisson_training_results.mu\n",
    "df['AUX_OLS_DEP'] = df.apply(lambda x: ((x['demographic_author_count'] - \n",
    "                                                     x['BB_LAMBDA'])**2 - x['demographic_author_count']) / x['BB_LAMBDA'], axis=1)\n",
    "ols_expr = \"\"\"AUX_OLS_DEP ~ BB_LAMBDA - 1\"\"\"\n",
    "aux_olsr_results = smf.ols(ols_expr, df).fit()\n",
    "nb2_training_results = sm.GLM(df['demographic_author_count'], df[['demographic_ngram_count', 'primary_subject']], \n",
    "                              offset=df['word_count'],\n",
    "                              family=sm.families.NegativeBinomial(alpha=aux_olsr_results.params[0])).fit()\n",
    "print(nb2_training_results.summary())\n"
   ]
  },
  {
   "cell_type": "markdown",
   "metadata": {},
   "source": [
    "### Relational"
   ]
  },
  {
   "cell_type": "code",
   "execution_count": 109,
   "metadata": {},
   "outputs": [
    {
     "name": "stdout",
     "output_type": "stream",
     "text": [
      "                    Generalized Linear Model Regression Results                    \n",
      "===================================================================================\n",
      "Dep. Variable:     relational_author_count   No. Observations:                69657\n",
      "Model:                                 GLM   Df Residuals:                    69655\n",
      "Model Family:             NegativeBinomial   Df Model:                            1\n",
      "Link Function:                         log   Scale:                          1.0000\n",
      "Method:                               IRLS   Log-Likelihood:            -1.9552e+05\n",
      "Date:                     Tue, 28 Jan 2020   Deviance:                   3.8754e+05\n",
      "Time:                             19:48:24   Pearson chi2:                 3.01e+19\n",
      "No. Iterations:                         68   Covariance Type:             nonrobust\n",
      "==========================================================================================\n",
      "                             coef    std err          z      P>|z|      [0.025      0.975]\n",
      "------------------------------------------------------------------------------------------\n",
      "relational_ngram_count    -0.2025      0.000   -750.829      0.000      -0.203      -0.202\n",
      "primary_subject           -4.9599      0.026   -189.521      0.000      -5.011      -4.909\n",
      "==========================================================================================\n"
     ]
    }
   ],
   "source": [
    "poisson_training_results = sm.GLM(df['relational_author_count'], df[['relational_ngram_count', 'primary_subject']], \n",
    "                                  family=sm.families.Poisson()).fit()\n",
    "df['BB_LAMBDA'] = poisson_training_results.mu\n",
    "df['AUX_OLS_DEP'] = df.apply(lambda x: ((x['relational_author_count'] - \n",
    "                                                     x['BB_LAMBDA'])**2 - x['relational_author_count']) / x['BB_LAMBDA'], axis=1)\n",
    "ols_expr = \"\"\"AUX_OLS_DEP ~ BB_LAMBDA - 1\"\"\"\n",
    "aux_olsr_results = smf.ols(ols_expr, df).fit()\n",
    "nb2_training_results = sm.GLM(df['relational_author_count'], df[['relational_ngram_count', 'primary_subject']], \n",
    "                              offset=df['word_count'],\n",
    "                              family=sm.families.NegativeBinomial(alpha=aux_olsr_results.params[0])).fit()\n",
    "print(nb2_training_results.summary())\n"
   ]
  },
  {
   "cell_type": "markdown",
   "metadata": {},
   "source": [
    "# End"
   ]
  },
  {
   "cell_type": "code",
   "execution_count": 110,
   "metadata": {},
   "outputs": [
    {
     "data": {
      "text/html": [
       "<div>\n",
       "<style scoped>\n",
       "    .dataframe tbody tr th:only-of-type {\n",
       "        vertical-align: middle;\n",
       "    }\n",
       "\n",
       "    .dataframe tbody tr th {\n",
       "        vertical-align: top;\n",
       "    }\n",
       "\n",
       "    .dataframe thead th {\n",
       "        text-align: right;\n",
       "    }\n",
       "</style>\n",
       "<table border=\"1\" class=\"dataframe\">\n",
       "  <thead>\n",
       "    <tr style=\"text-align: right;\">\n",
       "      <th></th>\n",
       "      <th>mean</th>\n",
       "      <th>mean_se</th>\n",
       "      <th>mean_ci_lower</th>\n",
       "      <th>mean_ci_upper</th>\n",
       "    </tr>\n",
       "  </thead>\n",
       "  <tbody>\n",
       "    <tr>\n",
       "      <th>0</th>\n",
       "      <td>0.832684</td>\n",
       "      <td>0.000203</td>\n",
       "      <td>0.832286</td>\n",
       "      <td>0.833082</td>\n",
       "    </tr>\n",
       "    <tr>\n",
       "      <th>1</th>\n",
       "      <td>0.831429</td>\n",
       "      <td>0.000204</td>\n",
       "      <td>0.831029</td>\n",
       "      <td>0.831830</td>\n",
       "    </tr>\n",
       "    <tr>\n",
       "      <th>3</th>\n",
       "      <td>0.834250</td>\n",
       "      <td>0.000201</td>\n",
       "      <td>0.833855</td>\n",
       "      <td>0.834644</td>\n",
       "    </tr>\n",
       "    <tr>\n",
       "      <th>6</th>\n",
       "      <td>0.831088</td>\n",
       "      <td>0.000205</td>\n",
       "      <td>0.830686</td>\n",
       "      <td>0.831489</td>\n",
       "    </tr>\n",
       "    <tr>\n",
       "      <th>10</th>\n",
       "      <td>0.005793</td>\n",
       "      <td>0.000151</td>\n",
       "      <td>0.005503</td>\n",
       "      <td>0.006097</td>\n",
       "    </tr>\n",
       "    <tr>\n",
       "      <th>11</th>\n",
       "      <td>0.830027</td>\n",
       "      <td>0.000206</td>\n",
       "      <td>0.829623</td>\n",
       "      <td>0.830431</td>\n",
       "    </tr>\n",
       "    <tr>\n",
       "      <th>12</th>\n",
       "      <td>0.835386</td>\n",
       "      <td>0.000200</td>\n",
       "      <td>0.834994</td>\n",
       "      <td>0.835778</td>\n",
       "    </tr>\n",
       "    <tr>\n",
       "      <th>14</th>\n",
       "      <td>0.828172</td>\n",
       "      <td>0.000208</td>\n",
       "      <td>0.827765</td>\n",
       "      <td>0.828580</td>\n",
       "    </tr>\n",
       "    <tr>\n",
       "      <th>16</th>\n",
       "      <td>0.824855</td>\n",
       "      <td>0.000212</td>\n",
       "      <td>0.824441</td>\n",
       "      <td>0.825270</td>\n",
       "    </tr>\n",
       "    <tr>\n",
       "      <th>17</th>\n",
       "      <td>0.005871</td>\n",
       "      <td>0.000153</td>\n",
       "      <td>0.005578</td>\n",
       "      <td>0.006180</td>\n",
       "    </tr>\n",
       "    <tr>\n",
       "      <th>19</th>\n",
       "      <td>0.005845</td>\n",
       "      <td>0.000153</td>\n",
       "      <td>0.005553</td>\n",
       "      <td>0.006152</td>\n",
       "    </tr>\n",
       "    <tr>\n",
       "      <th>20</th>\n",
       "      <td>0.832524</td>\n",
       "      <td>0.000203</td>\n",
       "      <td>0.832126</td>\n",
       "      <td>0.832922</td>\n",
       "    </tr>\n",
       "    <tr>\n",
       "      <th>24</th>\n",
       "      <td>0.830407</td>\n",
       "      <td>0.000206</td>\n",
       "      <td>0.830004</td>\n",
       "      <td>0.830810</td>\n",
       "    </tr>\n",
       "    <tr>\n",
       "      <th>25</th>\n",
       "      <td>0.826266</td>\n",
       "      <td>0.000210</td>\n",
       "      <td>0.825855</td>\n",
       "      <td>0.826678</td>\n",
       "    </tr>\n",
       "    <tr>\n",
       "      <th>26</th>\n",
       "      <td>0.828319</td>\n",
       "      <td>0.000208</td>\n",
       "      <td>0.827911</td>\n",
       "      <td>0.828726</td>\n",
       "    </tr>\n",
       "    <tr>\n",
       "      <th>27</th>\n",
       "      <td>0.828009</td>\n",
       "      <td>0.000208</td>\n",
       "      <td>0.827601</td>\n",
       "      <td>0.828417</td>\n",
       "    </tr>\n",
       "    <tr>\n",
       "      <th>29</th>\n",
       "      <td>0.830293</td>\n",
       "      <td>0.000206</td>\n",
       "      <td>0.829890</td>\n",
       "      <td>0.830697</td>\n",
       "    </tr>\n",
       "    <tr>\n",
       "      <th>31</th>\n",
       "      <td>0.005855</td>\n",
       "      <td>0.000153</td>\n",
       "      <td>0.005563</td>\n",
       "      <td>0.006163</td>\n",
       "    </tr>\n",
       "    <tr>\n",
       "      <th>36</th>\n",
       "      <td>0.833265</td>\n",
       "      <td>0.000202</td>\n",
       "      <td>0.832869</td>\n",
       "      <td>0.833662</td>\n",
       "    </tr>\n",
       "    <tr>\n",
       "      <th>37</th>\n",
       "      <td>0.829564</td>\n",
       "      <td>0.000206</td>\n",
       "      <td>0.829159</td>\n",
       "      <td>0.829968</td>\n",
       "    </tr>\n",
       "    <tr>\n",
       "      <th>41</th>\n",
       "      <td>0.005822</td>\n",
       "      <td>0.000152</td>\n",
       "      <td>0.005531</td>\n",
       "      <td>0.006128</td>\n",
       "    </tr>\n",
       "    <tr>\n",
       "      <th>42</th>\n",
       "      <td>0.829320</td>\n",
       "      <td>0.000207</td>\n",
       "      <td>0.828915</td>\n",
       "      <td>0.829725</td>\n",
       "    </tr>\n",
       "    <tr>\n",
       "      <th>43</th>\n",
       "      <td>0.830724</td>\n",
       "      <td>0.000205</td>\n",
       "      <td>0.830321</td>\n",
       "      <td>0.831126</td>\n",
       "    </tr>\n",
       "    <tr>\n",
       "      <th>45</th>\n",
       "      <td>0.830799</td>\n",
       "      <td>0.000205</td>\n",
       "      <td>0.830397</td>\n",
       "      <td>0.831201</td>\n",
       "    </tr>\n",
       "    <tr>\n",
       "      <th>46</th>\n",
       "      <td>0.832578</td>\n",
       "      <td>0.000203</td>\n",
       "      <td>0.832180</td>\n",
       "      <td>0.832977</td>\n",
       "    </tr>\n",
       "    <tr>\n",
       "      <th>49</th>\n",
       "      <td>0.827678</td>\n",
       "      <td>0.000208</td>\n",
       "      <td>0.827269</td>\n",
       "      <td>0.828087</td>\n",
       "    </tr>\n",
       "    <tr>\n",
       "      <th>52</th>\n",
       "      <td>0.834948</td>\n",
       "      <td>0.000201</td>\n",
       "      <td>0.834555</td>\n",
       "      <td>0.835341</td>\n",
       "    </tr>\n",
       "    <tr>\n",
       "      <th>53</th>\n",
       "      <td>0.831587</td>\n",
       "      <td>0.000204</td>\n",
       "      <td>0.831187</td>\n",
       "      <td>0.831988</td>\n",
       "    </tr>\n",
       "    <tr>\n",
       "      <th>56</th>\n",
       "      <td>0.826521</td>\n",
       "      <td>0.000210</td>\n",
       "      <td>0.826110</td>\n",
       "      <td>0.826932</td>\n",
       "    </tr>\n",
       "    <tr>\n",
       "      <th>58</th>\n",
       "      <td>0.005869</td>\n",
       "      <td>0.000153</td>\n",
       "      <td>0.005576</td>\n",
       "      <td>0.006178</td>\n",
       "    </tr>\n",
       "    <tr>\n",
       "      <th>...</th>\n",
       "      <td>...</td>\n",
       "      <td>...</td>\n",
       "      <td>...</td>\n",
       "      <td>...</td>\n",
       "    </tr>\n",
       "    <tr>\n",
       "      <th>113277</th>\n",
       "      <td>0.831076</td>\n",
       "      <td>0.000205</td>\n",
       "      <td>0.830675</td>\n",
       "      <td>0.831478</td>\n",
       "    </tr>\n",
       "    <tr>\n",
       "      <th>113279</th>\n",
       "      <td>0.833750</td>\n",
       "      <td>0.000202</td>\n",
       "      <td>0.833354</td>\n",
       "      <td>0.834145</td>\n",
       "    </tr>\n",
       "    <tr>\n",
       "      <th>113281</th>\n",
       "      <td>0.005795</td>\n",
       "      <td>0.000151</td>\n",
       "      <td>0.005506</td>\n",
       "      <td>0.006100</td>\n",
       "    </tr>\n",
       "    <tr>\n",
       "      <th>113282</th>\n",
       "      <td>0.830672</td>\n",
       "      <td>0.000205</td>\n",
       "      <td>0.830270</td>\n",
       "      <td>0.831075</td>\n",
       "    </tr>\n",
       "    <tr>\n",
       "      <th>113283</th>\n",
       "      <td>0.005828</td>\n",
       "      <td>0.000152</td>\n",
       "      <td>0.005537</td>\n",
       "      <td>0.006134</td>\n",
       "    </tr>\n",
       "    <tr>\n",
       "      <th>113287</th>\n",
       "      <td>0.829010</td>\n",
       "      <td>0.000207</td>\n",
       "      <td>0.828605</td>\n",
       "      <td>0.829416</td>\n",
       "    </tr>\n",
       "    <tr>\n",
       "      <th>113288</th>\n",
       "      <td>0.005812</td>\n",
       "      <td>0.000152</td>\n",
       "      <td>0.005522</td>\n",
       "      <td>0.006118</td>\n",
       "    </tr>\n",
       "    <tr>\n",
       "      <th>113291</th>\n",
       "      <td>0.828963</td>\n",
       "      <td>0.000207</td>\n",
       "      <td>0.828557</td>\n",
       "      <td>0.829369</td>\n",
       "    </tr>\n",
       "    <tr>\n",
       "      <th>113294</th>\n",
       "      <td>0.828235</td>\n",
       "      <td>0.000208</td>\n",
       "      <td>0.827828</td>\n",
       "      <td>0.828643</td>\n",
       "    </tr>\n",
       "    <tr>\n",
       "      <th>113295</th>\n",
       "      <td>0.830167</td>\n",
       "      <td>0.000206</td>\n",
       "      <td>0.829763</td>\n",
       "      <td>0.830570</td>\n",
       "    </tr>\n",
       "    <tr>\n",
       "      <th>113299</th>\n",
       "      <td>0.005827</td>\n",
       "      <td>0.000152</td>\n",
       "      <td>0.005536</td>\n",
       "      <td>0.006133</td>\n",
       "    </tr>\n",
       "    <tr>\n",
       "      <th>113303</th>\n",
       "      <td>0.005845</td>\n",
       "      <td>0.000153</td>\n",
       "      <td>0.005553</td>\n",
       "      <td>0.006152</td>\n",
       "    </tr>\n",
       "    <tr>\n",
       "      <th>113305</th>\n",
       "      <td>0.005902</td>\n",
       "      <td>0.000154</td>\n",
       "      <td>0.005607</td>\n",
       "      <td>0.006212</td>\n",
       "    </tr>\n",
       "    <tr>\n",
       "      <th>113306</th>\n",
       "      <td>0.005846</td>\n",
       "      <td>0.000153</td>\n",
       "      <td>0.005554</td>\n",
       "      <td>0.006154</td>\n",
       "    </tr>\n",
       "    <tr>\n",
       "      <th>113308</th>\n",
       "      <td>0.829527</td>\n",
       "      <td>0.000206</td>\n",
       "      <td>0.829123</td>\n",
       "      <td>0.829932</td>\n",
       "    </tr>\n",
       "    <tr>\n",
       "      <th>113310</th>\n",
       "      <td>0.833845</td>\n",
       "      <td>0.000202</td>\n",
       "      <td>0.833449</td>\n",
       "      <td>0.834240</td>\n",
       "    </tr>\n",
       "    <tr>\n",
       "      <th>113313</th>\n",
       "      <td>0.005829</td>\n",
       "      <td>0.000152</td>\n",
       "      <td>0.005538</td>\n",
       "      <td>0.006136</td>\n",
       "    </tr>\n",
       "    <tr>\n",
       "      <th>113315</th>\n",
       "      <td>0.824236</td>\n",
       "      <td>0.000212</td>\n",
       "      <td>0.823820</td>\n",
       "      <td>0.824652</td>\n",
       "    </tr>\n",
       "    <tr>\n",
       "      <th>113318</th>\n",
       "      <td>0.826945</td>\n",
       "      <td>0.000209</td>\n",
       "      <td>0.826535</td>\n",
       "      <td>0.827355</td>\n",
       "    </tr>\n",
       "    <tr>\n",
       "      <th>113323</th>\n",
       "      <td>0.830268</td>\n",
       "      <td>0.000206</td>\n",
       "      <td>0.829865</td>\n",
       "      <td>0.830671</td>\n",
       "    </tr>\n",
       "    <tr>\n",
       "      <th>113324</th>\n",
       "      <td>0.832241</td>\n",
       "      <td>0.000204</td>\n",
       "      <td>0.831842</td>\n",
       "      <td>0.832640</td>\n",
       "    </tr>\n",
       "    <tr>\n",
       "      <th>113326</th>\n",
       "      <td>0.830250</td>\n",
       "      <td>0.000206</td>\n",
       "      <td>0.829847</td>\n",
       "      <td>0.830654</td>\n",
       "    </tr>\n",
       "    <tr>\n",
       "      <th>113332</th>\n",
       "      <td>0.005825</td>\n",
       "      <td>0.000152</td>\n",
       "      <td>0.005534</td>\n",
       "      <td>0.006131</td>\n",
       "    </tr>\n",
       "    <tr>\n",
       "      <th>113333</th>\n",
       "      <td>0.839135</td>\n",
       "      <td>0.000196</td>\n",
       "      <td>0.838750</td>\n",
       "      <td>0.839519</td>\n",
       "    </tr>\n",
       "    <tr>\n",
       "      <th>113335</th>\n",
       "      <td>0.831626</td>\n",
       "      <td>0.000204</td>\n",
       "      <td>0.831226</td>\n",
       "      <td>0.832026</td>\n",
       "    </tr>\n",
       "    <tr>\n",
       "      <th>113336</th>\n",
       "      <td>0.005846</td>\n",
       "      <td>0.000153</td>\n",
       "      <td>0.005554</td>\n",
       "      <td>0.006153</td>\n",
       "    </tr>\n",
       "    <tr>\n",
       "      <th>113339</th>\n",
       "      <td>0.831824</td>\n",
       "      <td>0.000204</td>\n",
       "      <td>0.831424</td>\n",
       "      <td>0.832224</td>\n",
       "    </tr>\n",
       "    <tr>\n",
       "      <th>113340</th>\n",
       "      <td>0.825400</td>\n",
       "      <td>0.000211</td>\n",
       "      <td>0.824987</td>\n",
       "      <td>0.825814</td>\n",
       "    </tr>\n",
       "    <tr>\n",
       "      <th>113341</th>\n",
       "      <td>0.005865</td>\n",
       "      <td>0.000153</td>\n",
       "      <td>0.005572</td>\n",
       "      <td>0.006173</td>\n",
       "    </tr>\n",
       "    <tr>\n",
       "      <th>113342</th>\n",
       "      <td>0.826323</td>\n",
       "      <td>0.000210</td>\n",
       "      <td>0.825912</td>\n",
       "      <td>0.826734</td>\n",
       "    </tr>\n",
       "  </tbody>\n",
       "</table>\n",
       "<p>55841 rows × 4 columns</p>\n",
       "</div>"
      ],
      "text/plain": [
       "            mean   mean_se  mean_ci_lower  mean_ci_upper\n",
       "0       0.832684  0.000203       0.832286       0.833082\n",
       "1       0.831429  0.000204       0.831029       0.831830\n",
       "3       0.834250  0.000201       0.833855       0.834644\n",
       "6       0.831088  0.000205       0.830686       0.831489\n",
       "10      0.005793  0.000151       0.005503       0.006097\n",
       "11      0.830027  0.000206       0.829623       0.830431\n",
       "12      0.835386  0.000200       0.834994       0.835778\n",
       "14      0.828172  0.000208       0.827765       0.828580\n",
       "16      0.824855  0.000212       0.824441       0.825270\n",
       "17      0.005871  0.000153       0.005578       0.006180\n",
       "19      0.005845  0.000153       0.005553       0.006152\n",
       "20      0.832524  0.000203       0.832126       0.832922\n",
       "24      0.830407  0.000206       0.830004       0.830810\n",
       "25      0.826266  0.000210       0.825855       0.826678\n",
       "26      0.828319  0.000208       0.827911       0.828726\n",
       "27      0.828009  0.000208       0.827601       0.828417\n",
       "29      0.830293  0.000206       0.829890       0.830697\n",
       "31      0.005855  0.000153       0.005563       0.006163\n",
       "36      0.833265  0.000202       0.832869       0.833662\n",
       "37      0.829564  0.000206       0.829159       0.829968\n",
       "41      0.005822  0.000152       0.005531       0.006128\n",
       "42      0.829320  0.000207       0.828915       0.829725\n",
       "43      0.830724  0.000205       0.830321       0.831126\n",
       "45      0.830799  0.000205       0.830397       0.831201\n",
       "46      0.832578  0.000203       0.832180       0.832977\n",
       "49      0.827678  0.000208       0.827269       0.828087\n",
       "52      0.834948  0.000201       0.834555       0.835341\n",
       "53      0.831587  0.000204       0.831187       0.831988\n",
       "56      0.826521  0.000210       0.826110       0.826932\n",
       "58      0.005869  0.000153       0.005576       0.006178\n",
       "...          ...       ...            ...            ...\n",
       "113277  0.831076  0.000205       0.830675       0.831478\n",
       "113279  0.833750  0.000202       0.833354       0.834145\n",
       "113281  0.005795  0.000151       0.005506       0.006100\n",
       "113282  0.830672  0.000205       0.830270       0.831075\n",
       "113283  0.005828  0.000152       0.005537       0.006134\n",
       "113287  0.829010  0.000207       0.828605       0.829416\n",
       "113288  0.005812  0.000152       0.005522       0.006118\n",
       "113291  0.828963  0.000207       0.828557       0.829369\n",
       "113294  0.828235  0.000208       0.827828       0.828643\n",
       "113295  0.830167  0.000206       0.829763       0.830570\n",
       "113299  0.005827  0.000152       0.005536       0.006133\n",
       "113303  0.005845  0.000153       0.005553       0.006152\n",
       "113305  0.005902  0.000154       0.005607       0.006212\n",
       "113306  0.005846  0.000153       0.005554       0.006154\n",
       "113308  0.829527  0.000206       0.829123       0.829932\n",
       "113310  0.833845  0.000202       0.833449       0.834240\n",
       "113313  0.005829  0.000152       0.005538       0.006136\n",
       "113315  0.824236  0.000212       0.823820       0.824652\n",
       "113318  0.826945  0.000209       0.826535       0.827355\n",
       "113323  0.830268  0.000206       0.829865       0.830671\n",
       "113324  0.832241  0.000204       0.831842       0.832640\n",
       "113326  0.830250  0.000206       0.829847       0.830654\n",
       "113332  0.005825  0.000152       0.005534       0.006131\n",
       "113333  0.839135  0.000196       0.838750       0.839519\n",
       "113335  0.831626  0.000204       0.831226       0.832026\n",
       "113336  0.005846  0.000153       0.005554       0.006153\n",
       "113339  0.831824  0.000204       0.831424       0.832224\n",
       "113340  0.825400  0.000211       0.824987       0.825814\n",
       "113341  0.005865  0.000153       0.005572       0.006173\n",
       "113342  0.826323  0.000210       0.825912       0.826734\n",
       "\n",
       "[55841 rows x 4 columns]"
      ]
     },
     "execution_count": 110,
     "metadata": {},
     "output_type": "execute_result"
    }
   ],
   "source": [
    "nb2_training_results.get_prediction(df_train[['culture', 'primary_subject']]).summary_frame()"
   ]
  },
  {
   "cell_type": "code",
   "execution_count": 111,
   "metadata": {},
   "outputs": [
    {
     "ename": "NameError",
     "evalue": "name 'model_results' is not defined",
     "output_type": "error",
     "traceback": [
      "\u001b[0;31m---------------------------------------------------------------------------\u001b[0m",
      "\u001b[0;31mNameError\u001b[0m                                 Traceback (most recent call last)",
      "\u001b[0;32m<ipython-input-111-0da0cae44832>\u001b[0m in \u001b[0;36m<module>\u001b[0;34m\u001b[0m\n\u001b[0;32m----> 1\u001b[0;31m \u001b[0mmodel_results\u001b[0m\u001b[0;34m\u001b[0m\u001b[0;34m\u001b[0m\u001b[0m\n\u001b[0m",
      "\u001b[0;31mNameError\u001b[0m: name 'model_results' is not defined"
     ]
    }
   ],
   "source": [
    "model_results"
   ]
  },
  {
   "cell_type": "code",
   "execution_count": 80,
   "metadata": {},
   "outputs": [],
   "source": [
    "# expr = \"\"\"culture_ngram_count.1 ~ culture\"\"\""
   ]
  },
  {
   "cell_type": "code",
   "execution_count": 81,
   "metadata": {},
   "outputs": [
    {
     "ename": "ValueError",
     "evalue": "The first guess on the deviance function returned a nan.  This could be a boundary  problem and should be reported.",
     "output_type": "error",
     "traceback": [
      "\u001b[0;31m---------------------------------------------------------------------------\u001b[0m",
      "\u001b[0;31mValueError\u001b[0m                                Traceback (most recent call last)",
      "\u001b[0;32m<ipython-input-81-8b1eed106603>\u001b[0m in \u001b[0;36m<module>\u001b[0;34m\u001b[0m\n\u001b[1;32m      1\u001b[0m poisson_training_results = sm.GLM(df['culture_ngram_count.1'], df[['culture']], \n\u001b[0;32m----> 2\u001b[0;31m                                   family=sm.families.Poisson()).fit()\n\u001b[0m",
      "\u001b[0;32m/opt/conda/lib/python3.7/site-packages/statsmodels/genmod/generalized_linear_model.py\u001b[0m in \u001b[0;36mfit\u001b[0;34m(self, start_params, maxiter, method, tol, scale, cov_type, cov_kwds, use_t, full_output, disp, max_start_irls, **kwargs)\u001b[0m\n\u001b[1;32m   1010\u001b[0m             return self._fit_irls(start_params=start_params, maxiter=maxiter,\n\u001b[1;32m   1011\u001b[0m                                   \u001b[0mtol\u001b[0m\u001b[0;34m=\u001b[0m\u001b[0mtol\u001b[0m\u001b[0;34m,\u001b[0m \u001b[0mscale\u001b[0m\u001b[0;34m=\u001b[0m\u001b[0mscale\u001b[0m\u001b[0;34m,\u001b[0m \u001b[0mcov_type\u001b[0m\u001b[0;34m=\u001b[0m\u001b[0mcov_type\u001b[0m\u001b[0;34m,\u001b[0m\u001b[0;34m\u001b[0m\u001b[0;34m\u001b[0m\u001b[0m\n\u001b[0;32m-> 1012\u001b[0;31m                                   cov_kwds=cov_kwds, use_t=use_t, **kwargs)\n\u001b[0m\u001b[1;32m   1013\u001b[0m         \u001b[0;32melse\u001b[0m\u001b[0;34m:\u001b[0m\u001b[0;34m\u001b[0m\u001b[0;34m\u001b[0m\u001b[0m\n\u001b[1;32m   1014\u001b[0m             \u001b[0mself\u001b[0m\u001b[0;34m.\u001b[0m\u001b[0m_optim_hessian\u001b[0m \u001b[0;34m=\u001b[0m \u001b[0mkwargs\u001b[0m\u001b[0;34m.\u001b[0m\u001b[0mget\u001b[0m\u001b[0;34m(\u001b[0m\u001b[0;34m'optim_hessian'\u001b[0m\u001b[0;34m)\u001b[0m\u001b[0;34m\u001b[0m\u001b[0;34m\u001b[0m\u001b[0m\n",
      "\u001b[0;32m/opt/conda/lib/python3.7/site-packages/statsmodels/genmod/generalized_linear_model.py\u001b[0m in \u001b[0;36m_fit_irls\u001b[0;34m(self, start_params, maxiter, tol, scale, cov_type, cov_kwds, use_t, **kwargs)\u001b[0m\n\u001b[1;32m   1107\u001b[0m                                    self.freq_weights, self.scale)\n\u001b[1;32m   1108\u001b[0m         \u001b[0;32mif\u001b[0m \u001b[0mnp\u001b[0m\u001b[0;34m.\u001b[0m\u001b[0misnan\u001b[0m\u001b[0;34m(\u001b[0m\u001b[0mdev\u001b[0m\u001b[0;34m)\u001b[0m\u001b[0;34m:\u001b[0m\u001b[0;34m\u001b[0m\u001b[0;34m\u001b[0m\u001b[0m\n\u001b[0;32m-> 1109\u001b[0;31m             raise ValueError(\"The first guess on the deviance function \"\n\u001b[0m\u001b[1;32m   1110\u001b[0m                              \u001b[0;34m\"returned a nan.  This could be a boundary \"\u001b[0m\u001b[0;34m\u001b[0m\u001b[0;34m\u001b[0m\u001b[0m\n\u001b[1;32m   1111\u001b[0m                              \" problem and should be reported.\")\n",
      "\u001b[0;31mValueError\u001b[0m: The first guess on the deviance function returned a nan.  This could be a boundary  problem and should be reported."
     ]
    }
   ],
   "source": [
    "poisson_training_results = sm.GLM(df['culture_ngram_count.1'], df[['culture']], \n",
    "                                  family=sm.families.Poisson()).fit()"
   ]
  },
  {
   "cell_type": "code",
   "execution_count": null,
   "metadata": {},
   "outputs": [],
   "source": [
    "df['BB_LAMBDA'] = poisson_training_results.mu"
   ]
  },
  {
   "cell_type": "code",
   "execution_count": null,
   "metadata": {},
   "outputs": [],
   "source": [
    "df['AUX_OLS_DEP'] = df_train.apply(lambda x: \n",
    "                                         ((x['CITATION_COUNT'] - x['BB_LAMBDA'])**2 - \n",
    "                                          x['CITATION_COUNT']) / x['BB_LAMBDA'], axis=1)"
   ]
  },
  {
   "cell_type": "code",
   "execution_count": null,
   "metadata": {},
   "outputs": [],
   "source": [
    "ols_expr = \"\"\"AUX_OLS_DEP ~ BB_LAMBDA - 1\"\"\""
   ]
  },
  {
   "cell_type": "code",
   "execution_count": null,
   "metadata": {},
   "outputs": [],
   "source": [
    "aux_olsr_results = smf.ols(ols_expr, df).fit()"
   ]
  },
  {
   "cell_type": "code",
   "execution_count": null,
   "metadata": {},
   "outputs": [],
   "source": [
    "print(aux_olsr_results.params)\n",
    "print(aux_olsr_results.tvalues)"
   ]
  },
  {
   "cell_type": "code",
   "execution_count": null,
   "metadata": {},
   "outputs": [],
   "source": [
    "nb2_training_results = sm.GLM(df['CITATION_COUNT'], df[['COSINE_1', 'COSINE_2', 'COSINE_3']],\n",
    "                              family=sm.families.NegativeBinomial(alpha=aux_olsr_results.params[0])).fit()"
   ]
  },
  {
   "cell_type": "code",
   "execution_count": null,
   "metadata": {},
   "outputs": [],
   "source": [
    "nb2_training_results.mean"
   ]
  }
 ],
 "metadata": {
  "kernelspec": {
   "display_name": "Python 3",
   "language": "python",
   "name": "python3"
  },
  "language_info": {
   "codemirror_mode": {
    "name": "ipython",
    "version": 3
   },
   "file_extension": ".py",
   "mimetype": "text/x-python",
   "name": "python",
   "nbconvert_exporter": "python",
   "pygments_lexer": "ipython3",
   "version": "3.7.3"
  }
 },
 "nbformat": 4,
 "nbformat_minor": 2
}
