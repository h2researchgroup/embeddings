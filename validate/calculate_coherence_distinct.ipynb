{
 "cells": [
  {
   "cell_type": "markdown",
   "id": "94b7c4f8",
   "metadata": {
    "id": "94b7c4f8"
   },
   "source": [
    "## Calculate coherence & distinctiveness scores for dictionaries by decade"
   ]
  },
  {
   "cell_type": "markdown",
   "id": "gD6cS59Mu7M7",
   "metadata": {
    "id": "gD6cS59Mu7M7"
   },
   "source": [
    "**Authors**: Nancy Xu, UC Berkeley; Jaren Haber, PhD, Dartmouth College\n",
    "\n",
    "**PI**: Prof. Heather Haveman, UC Berkeley\n",
    "\n",
    "**Date created**: December 6, 2022\n",
    "\n",
    "**Date last modified**: April 6, 2023\n",
    "\n",
    "**Description**: This notebook calculates and visualizes the coherence score and distinctiveness score of core and expanded dictionaries over decades. Code for calculation based on code here: https://github.com/jhaber-zz/charters4textxd2018/blob/master/notebooks/wem_hackathon_TextXD18.ipynb\n",
    "\n",
    "**Inputs:** \n",
    "\n",
    "\n",
    "\n",
    "*   decade word2vec models (models_storage/w2v_models)\n",
    "\n",
    "```\n",
    "wem_path1 = '../../models_storage/w2v_models/word2vec_1971-1981_phrased_filtered_enchant_orgdict_300d_10w_020423.bin'\n",
    "wem_path2 = '../../models_storage/w2v_models/word2vec_1982-1992_phrased_filtered_enchant_orgdict_300d_10w_020423.bin'\n",
    "wem_path3 = '../../models_storage/w2v_models/word2vec_1993-2003_phrased_filtered_enchant_orgdict_300d_10w_020423.bin'\n",
    "wem_path4 = '../../models_storage/w2v_models/word2vec_2004-2014_phrased_filtered_enchant_orgdict_300d_10w_020423.bin'\n",
    "\n",
    "```\n",
    "\n",
    "\n",
    "\n",
    "*   core dictionaries \n",
    "\n",
    "\n",
    "\n",
    "```\n",
    "cult_core = '../../dictionary_methods/dictionaries/core/cultural_core.csv'\n",
    "dem_core = '../../dictionary_methods/dictionaries/core/demographic_core.csv'\n",
    "relt_core = '../../dictionary_methods/dictionaries/core/relational_core.csv'\n",
    "\n",
    "\n",
    "```\n",
    "\n",
    "*  expanded decade dictionaries\n",
    "\n",
    "```\n",
    "1971-1981:\n",
    "\n",
    "cult_expanded_1 = '../../dictionary_methods/dictionaries/expanded_decades/cultural_1971_1981.txt'\n",
    "dem_expanded_1 = '../../dictionary_methods/dictionaries/expanded_decades/demographic_1971_1981.txt'\n",
    "relt_expanded_1 = '../../dictionary_methods/dictionaries/expanded_decades/relational_1971_1981.txt'\n",
    "\n",
    "\n",
    "1982-1992:\n",
    "\n",
    "cult_expanded_2 = '../../dictionary_methods/dictionaries/expanded_decades/cultural_1982_1992.txt'\n",
    "dem_expanded_2 = '../../dictionary_methods/dictionaries/expanded_decades/demographic_1982_1992.txt'\n",
    "relt_expanded_2 = '../../dictionary_methods/dictionaries/expanded_decades/relational_1982_1992.txt'\n",
    "\n",
    "\n",
    "1993-2003:\n",
    "\n",
    "cult_expanded_3 = '../../dictionary_methods/dictionaries/expanded_decades/cultural_1993_2003.txt'\n",
    "dem_expanded_3 = '../../dictionary_methods/dictionaries/expanded_decades/demographic_1993_2003.txt'\n",
    "relt_expanded_3 = '../../dictionary_methods/dictionaries/expanded_decades/relational_1993_2003.txt'\n",
    "\n",
    "\n",
    "2004-2014:\n",
    "\n",
    "cult_expanded_4 = '../../dictionary_methods/dictionaries/expanded_decades/cultural_2004_2014.txt'\n",
    "dem_expanded_4 = '../../dictionary_methods/dictionaries/expanded_decades/demographic_2004_2014.txt'\n",
    "relt_expanded_4 = '../../dictionary_methods/dictionaries/expanded_decades/relational_2004_2014.txt'\n",
    "\n",
    "\n",
    "\n",
    "```\n",
    "\n",
    "**Outputs:** \n",
    "\n",
    "- graph of coherence scores over decades for core dictionaries\n",
    "- graph of coherence scores over decades for expanded dictionaries\n",
    "- graph of distinctiveness scores over decades for core dictionaries\n",
    "- graph of distinctiveness scores over decades for expanded dictionaries\n",
    "\n",
    "\n",
    "\n",
    "\n"
   ]
  },
  {
   "cell_type": "markdown",
   "id": "G8vplASyw0iu",
   "metadata": {
    "id": "G8vplASyw0iu"
   },
   "source": [
    "## Coherence scores over decades"
   ]
  },
  {
   "cell_type": "code",
   "execution_count": 22,
   "id": "3PFJ9rBcegpv",
   "metadata": {
    "id": "3PFJ9rBcegpv",
    "scrolled": true
   },
   "outputs": [],
   "source": [
    "import numpy as np\n",
    "import pandas as pd\n",
    "import gensim\n",
    "import re\n",
    "from gensim.models import KeyedVectors\n",
    "from gensim.models import Word2Vec"
   ]
  },
  {
   "cell_type": "markdown",
   "id": "02e3def1",
   "metadata": {},
   "source": [
    "## load in core dictionaries and expanded dictionaries"
   ]
  },
  {
   "cell_type": "code",
   "execution_count": 23,
   "id": "993256a4",
   "metadata": {
    "id": "993256a4",
    "scrolled": true
   },
   "outputs": [],
   "source": [
    "cult_core = list(pd.read_csv('/home/jovyan/work/dictionary_methods/dictionaries/core/cultural_core.csv', header=None)[0].apply(lambda x: x.replace(' ', '_')))\n",
    "dem_core = list(pd.read_csv('/home/jovyan/work/dictionary_methods/dictionaries/core/demographic_core.csv', header=None)[0].apply(lambda x: x.replace(' ', '_')))\n",
    "relt_core = list(pd.read_csv('/home/jovyan/work/dictionary_methods/dictionaries/core/relational_core.csv', header=None)[0].apply(lambda x: x.replace(' ', '_')))\n"
   ]
  },
  {
   "cell_type": "code",
   "execution_count": 24,
   "id": "99eb4563",
   "metadata": {},
   "outputs": [],
   "source": [
    "cult_expanded_1 = pd.read_csv('../../dictionary_methods/dictionaries/expanded_decades/cultural_1971_1981.txt', header=None)[0].apply(lambda x: x.replace(' ', '_'))\n",
    "dem_expanded_1 = pd.read_csv('../../dictionary_methods/dictionaries/expanded_decades/demographic_1971_1981.txt', header=None)[0].apply(lambda x: x.replace(' ', '_'))\n",
    "relt_expanded_1 = pd.read_csv('../../dictionary_methods/dictionaries/expanded_decades/relational_1971_1981.txt', header=None)[0].apply(lambda x: x.replace(' ', '_'))\n"
   ]
  },
  {
   "cell_type": "code",
   "execution_count": 25,
   "id": "a236dbac",
   "metadata": {},
   "outputs": [],
   "source": [
    "cult_expanded_2 = pd.read_csv('../../dictionary_methods/dictionaries/expanded_decades/cultural_1982_1992.txt', header=None)[0].apply(lambda x: x.replace(' ', '_'))\n",
    "dem_expanded_2 = pd.read_csv('../../dictionary_methods/dictionaries/expanded_decades/demographic_1982_1992.txt', header=None)[0].apply(lambda x: x.replace(' ', '_'))\n",
    "relt_expanded_2 = pd.read_csv('../../dictionary_methods/dictionaries/expanded_decades/relational_1982_1992.txt', header=None)[0].apply(lambda x: x.replace(' ', '_'))\n"
   ]
  },
  {
   "cell_type": "code",
   "execution_count": 26,
   "id": "0db62f8c",
   "metadata": {},
   "outputs": [],
   "source": [
    "cult_expanded_3 = pd.read_csv('../../dictionary_methods/dictionaries/expanded_decades/cultural_1993_2003.txt', header=None)[0].apply(lambda x: x.replace(' ', '_'))\n",
    "dem_expanded_3 = pd.read_csv('../../dictionary_methods/dictionaries/expanded_decades/demographic_1993_2003.txt', header=None)[0].apply(lambda x: x.replace(' ', '_'))\n",
    "relt_expanded_3 = pd.read_csv('../../dictionary_methods/dictionaries/expanded_decades/relational_1993_2003.txt', header=None)[0].apply(lambda x: x.replace(' ', '_'))\n"
   ]
  },
  {
   "cell_type": "code",
   "execution_count": 27,
   "id": "89459fd7",
   "metadata": {},
   "outputs": [],
   "source": [
    "cult_expanded_4 = pd.read_csv('../../dictionary_methods/dictionaries/expanded_decades/cultural_2004_2014.txt', header=None)[0].apply(lambda x: x.replace(' ', '_'))\n",
    "dem_expanded_4 = pd.read_csv('../../dictionary_methods/dictionaries/expanded_decades/demographic_2004_2014.txt', header=None)[0].apply(lambda x: x.replace(' ', '_'))\n",
    "relt_expanded_4 = pd.read_csv('../../dictionary_methods/dictionaries/expanded_decades/relational_2004_2014.txt', header=None)[0].apply(lambda x: x.replace(' ', '_'))\n"
   ]
  },
  {
   "cell_type": "code",
   "execution_count": 28,
   "id": "640d0c7f",
   "metadata": {
    "id": "640d0c7f"
   },
   "outputs": [],
   "source": [
    "core_lists = [dem_core,relt_core,cult_core]"
   ]
  },
  {
   "cell_type": "code",
   "execution_count": 29,
   "id": "a0e93003",
   "metadata": {},
   "outputs": [],
   "source": [
    "years = ['1971-1981','1982-1992','1993-2003','2004-2014']"
   ]
  },
  {
   "cell_type": "markdown",
   "id": "1fee89ea",
   "metadata": {},
   "source": [
    "## load in w2v decade models"
   ]
  },
  {
   "cell_type": "code",
   "execution_count": 30,
   "id": "3ec8b42e",
   "metadata": {
    "id": "3ec8b42e",
    "scrolled": true
   },
   "outputs": [],
   "source": [
    "wem_path1 = '/home/jovyan/work/models_storage/w2v_models/word2vec_1971-1981_phrased_filtered_enchant_orgdict_300d_10w_020423.bin'\n",
    "wem_path2 = '/home/jovyan/work/models_storage/w2v_models/word2vec_1982-1992_phrased_filtered_enchant_orgdict_300d_10w_020423.bin'\n",
    "wem_path3 = '/home/jovyan/work/models_storage/w2v_models/word2vec_1993-2003_phrased_filtered_enchant_orgdict_300d_10w_020423.bin'\n",
    "wem_path4 = '/home/jovyan/work/models_storage/w2v_models/word2vec_2004-2014_phrased_filtered_enchant_orgdict_300d_10w_020423.bin'\n",
    "\n",
    "\n",
    "m1 = KeyedVectors.load(wem_path1)\n",
    "m2 = KeyedVectors.load(wem_path2)\n",
    "m3 = KeyedVectors.load(wem_path3)\n",
    "m4 = KeyedVectors.load(wem_path4)\n",
    "models = [m1, m2, m3, m4]\n"
   ]
  },
  {
   "cell_type": "markdown",
   "id": "f89a4f48",
   "metadata": {
    "id": "HWUU1u97iA14"
   },
   "source": [
    "## calculate the coherence score of each dictionary"
   ]
  },
  {
   "cell_type": "code",
   "execution_count": 31,
   "id": "d268e68c",
   "metadata": {},
   "outputs": [],
   "source": [
    "def dict_cohere(thisdict, wem_model):\n",
    "    '''Computes the average cosine similarity score of terms within one dictionary with all other terms in that same dictionary,\n",
    "    effectively measuring the coherence of the dictionary.\n",
    "    ...question for development: does it make sense to compare the average cosine similarity score between all terms \n",
    "    in thisdict and the average cosine similarity among the total model vocabulary? (Could that be, by definition, 0?)\n",
    "    \n",
    "    NOTE: For an unknown reason, calling this function deletes terms from thisdict.\n",
    "    \n",
    "    Inputs: List of key terms, word2vec model.\n",
    "    Output: Average cosine similarity score of each word with all other words in the list of key terms.'''\n",
    "    \n",
    "    # Initialize average distance variables:\n",
    "\n",
    "    sim_scores = []\n",
    "    \n",
    "    # Compute average cosine similarity score of each word with other dict words:\n",
    "    for index in np.arange(len(thisdict)):\n",
    " \n",
    "        other_words = thisdict[:index] + thisdict[index+1:]\n",
    "        word = thisdict[index]\n",
    "        sim_score_with_others = []\n",
    "        for other in other_words:\n",
    "          try:\n",
    "            sim_score_with_others.append(wem_model.wv.similarity(word, other))\n",
    "          except:\n",
    "            pass\n",
    "        \n",
    "        if (len(sim_score_with_others)!=0):\n",
    "          word_avg_sim = np.mean(sim_score_with_others)\n",
    "          # print(word_avg_sim)\n",
    "          sim_scores.append(word_avg_sim)# Add up each average distance, incrementally\n",
    "     \n",
    "\n",
    "    \n",
    "    return np.mean(sim_scores)"
   ]
  },
  {
   "cell_type": "code",
   "execution_count": 32,
   "id": "fd53cbe3",
   "metadata": {},
   "outputs": [],
   "source": [
    "## calculate coherence score of expanded decade dicts\n",
    "dem_1970_cohere_exp = dict_cohere(list(dem_expanded_1),m1)\n",
    "cult_1970_cohere_exp = dict_cohere(list(cult_expanded_1),m1)\n",
    "rela_1970_cohere_exp = dict_cohere(list(relt_expanded_1),m1)\n",
    "\n",
    "dem_1980_cohere_exp = dict_cohere(list(dem_expanded_2),m2)\n",
    "cult_1980_cohere_exp = dict_cohere(list(cult_expanded_2),m2)\n",
    "rela_1980_cohere_exp = dict_cohere(list(relt_expanded_2),m2)\n",
    "\n",
    "dem_1990_cohere_exp = dict_cohere(list(dem_expanded_3),m3)\n",
    "cult_1990_cohere_exp = dict_cohere(list(cult_expanded_3),m3)\n",
    "rela_1990_cohere_exp = dict_cohere(list(relt_expanded_3),m3)\n",
    "\n",
    "dem_2000_cohere_exp = dict_cohere(list(dem_expanded_4),m4)\n",
    "cult_2000_cohere_exp = dict_cohere(list(cult_expanded_4),m4)\n",
    "rela_2000_cohere_exp = dict_cohere(list(relt_expanded_4),m4)"
   ]
  },
  {
   "cell_type": "code",
   "execution_count": 33,
   "id": "41e220b0",
   "metadata": {},
   "outputs": [],
   "source": [
    "## calculate coherence score of core decade dicts\n",
    "\n",
    "dem_1970_cohere = dict_cohere(dem_core,m1)\n",
    "cult_1970_cohere = dict_cohere(cult_core,m1)\n",
    "rela_1970_cohere = dict_cohere(relt_core,m1)\n",
    "\n",
    "dem_1980_cohere = dict_cohere(dem_core,m2)\n",
    "cult_1980_cohere = dict_cohere(cult_core,m2)\n",
    "rela_1980_cohere = dict_cohere(relt_core,m2)\n",
    "\n",
    "dem_1990_cohere = dict_cohere(dem_core,m3)\n",
    "cult_1990_cohere = dict_cohere(cult_core,m3)\n",
    "rela_1990_cohere = dict_cohere(relt_core,m3)\n",
    "\n",
    "dem_2000_cohere = dict_cohere(dem_core,m4)\n",
    "cult_2000_cohere = dict_cohere(cult_core,m4)\n",
    "rela_2000_cohere = dict_cohere(relt_core,m4)"
   ]
  },
  {
   "cell_type": "markdown",
   "id": "f252d1e7",
   "metadata": {},
   "source": [
    "## graph coherence score for expanded decade dicts"
   ]
  },
  {
   "cell_type": "code",
   "execution_count": 35,
   "id": "93abe924",
   "metadata": {},
   "outputs": [
    {
     "data": {
      "image/png": "[encoded data removed]",
      "text/plain": [
       "<Figure size 432x288 with 1 Axes>"
      ]
     },
     "metadata": {
      "needs_background": "light"
     },
     "output_type": "display_data"
    }
   ],
   "source": [
    "import matplotlib.pyplot as plt\n",
    "plt.plot(years,[dem_1970_cohere_exp,dem_1980_cohere_exp,dem_1990_cohere_exp,dem_2000_cohere_exp],'--', label='Organizational Ecology', color = 'green')\n",
    "\n",
    "plt.plot(years,[cult_1970_cohere_exp,cult_1980_cohere_exp,cult_1990_cohere_exp,cult_2000_cohere_exp],label='Organizational Institutionalism', color = 'red')\n",
    "\n",
    "plt.plot(years,[rela_1970_cohere_exp,rela_1980_cohere_exp,rela_1990_cohere_exp,rela_2000_cohere_exp],':', label='Resource Dependence', color = 'blue')\n",
    "\n",
    "plt.xlabel('Time period')\n",
    "plt.ylabel('Coherence')\n",
    "\n",
    "\n",
    "ax = plt.subplot(111)\n",
    "ax.legend(loc='upper center', bbox_to_anchor=(0.5, 1.2),\n",
    "          ncol=3, frameon=False)\n",
    "\n",
    "\n",
    "plt.ylim(0.15, 0.35)\n",
    "plt.yticks(np.linspace(0.15, 0.35, 5))\n",
    "plt.grid()\n",
    "\n",
    "filepath = 'coherence_score_expanded_dict' + \".png\"\n",
    "plt.savefig(filepath, bbox_inches='tight', dpi= 2000)\n",
    "\n"
   ]
  },
  {
   "cell_type": "markdown",
   "id": "39c3f668",
   "metadata": {},
   "source": [
    "## graph coherence score for core decade dicts¶"
   ]
  },
  {
   "cell_type": "code",
   "execution_count": 36,
   "id": "bCdlmfeVjR4C",
   "metadata": {
    "colab": {
     "base_uri": "https://localhost:8080/",
     "height": 295
    },
    "id": "bCdlmfeVjR4C",
    "outputId": "04eee678-86df-4e70-8fb5-e38d3f52bdd1"
   },
   "outputs": [
    {
     "data": {
      "image/png": "[encoded data removed]",
      "text/plain": [
       "<Figure size 432x288 with 1 Axes>"
      ]
     },
     "metadata": {
      "needs_background": "light"
     },
     "output_type": "display_data"
    }
   ],
   "source": [
    "import matplotlib.pyplot as plt\n",
    "plt.plot(years,[dem_1970_cohere,dem_1980_cohere,dem_1990_cohere,dem_2000_cohere],'--', label='Organizational Ecology', color = 'green')\n",
    "\n",
    "plt.plot(years,[cult_1970_cohere,cult_1980_cohere,cult_1990_cohere,cult_2000_cohere], label='Organizational Institutionalism', color = 'red')\n",
    "\n",
    "plt.plot(years,[rela_1970_cohere,rela_1980_cohere,rela_1990_cohere,rela_2000_cohere],':', label='Resource Dependence', color = 'blue')\n",
    "\n",
    "plt.xlabel('Time period')\n",
    "plt.ylabel('Coherence')\n",
    "\n",
    "# plt.title('Coherence scores vs. decades')\n",
    "ax = plt.subplot(111)\n",
    "ax.legend(loc='upper center', bbox_to_anchor=(0.5, 1.2),\n",
    "          ncol=3, frameon=False)\n",
    "\n",
    "\n",
    "# plt.legend();\n",
    "plt.ylim(0.15, 0.35)\n",
    "plt.yticks(np.linspace(0.15, 0.35, 5))\n",
    "plt.grid()\n",
    "filepath =  'coherence_score_core_dict' + \".png\"\n",
    "\n",
    "plt.savefig(filepath, bbox_inches='tight', dpi= 2000)"
   ]
  },
  {
   "cell_type": "markdown",
   "id": "XQJnOjxGx73g",
   "metadata": {
    "id": "XQJnOjxGx73g"
   },
   "source": [
    "### Calculate distinctiveness scores of each dictionary "
   ]
  },
  {
   "cell_type": "code",
   "execution_count": 37,
   "id": "4uz0gncQkhO9",
   "metadata": {
    "id": "4uz0gncQkhO9"
   },
   "outputs": [],
   "source": [
    "def dict_distinct(dict1, dict2, wem_model):\n",
    "    '''Computes the average cosine distance score of terms in dict1 with all terms in dict2,\n",
    "    effectively measuring the opposition/non-coherence between the two dictionaries.\n",
    "    \n",
    "    NOTE: For an unknown reason, calling this function deletes terms from thisdict.\n",
    "    \n",
    "    Inputs: List of key terms, word2vec model.\n",
    "    Output: Average cosine distance score of each word in dict1 with all words in dict2.'''\n",
    "    \n",
    "    \n",
    "    sim_scores = []\n",
    "    \n",
    "    # Compute average cosine distance score of each word with other dict words:\n",
    "    for index in np.arange(len(dict1)):\n",
    " \n",
    "        other_words = dict2\n",
    "        word = dict1[index]\n",
    "        sim_score_with_others = []\n",
    "        for other in other_words:\n",
    "          try:\n",
    "            ## get cosine distance \n",
    "            sim_score_with_others.append(1-wem_model.wv.similarity(word, other))\n",
    "          except:\n",
    "            pass\n",
    "        \n",
    "        if (len(sim_score_with_others)!=0):\n",
    "          word_avg_sim = np.mean(sim_score_with_others)\n",
    "          sim_scores.append(word_avg_sim)# Add up each average distance, incrementally\n",
    "     \n",
    "\n",
    "    \n",
    "    return np.mean(sim_scores)\n",
    "\n"
   ]
  },
  {
   "cell_type": "code",
   "execution_count": 38,
   "id": "85a8d14b",
   "metadata": {},
   "outputs": [],
   "source": [
    "def get_distinct_score_df(l1=None, l2=None, l3=None, l4=None, expanded = False):\n",
    "    \"\"\"\n",
    "    \n",
    "    get a pandas dataframe that contains the distinctiveness score for each decade and each dictionary\n",
    "    \n",
    "    input:\n",
    "        \n",
    "        l1 = list of expanded dictionaries for decade 1 (None for core decade dicts)\n",
    "        l2 = list of expanded dictionaries for decade 2 (None for core decade dicts)\n",
    "        l3 = list of expanded dictionaries for decade 3 (None for core decade dicts)\n",
    "        l4 = list of expanded dictionaries for decade 4 (None for core decade dicts)\n",
    "        expanded = boolean indicating whether we get the df for  expanded decade dicts  or core decade dicts\n",
    "    \n",
    "    output: \n",
    "        df storing distinctive score for each decade dicts \n",
    "    \n",
    "    \n",
    "    \"\"\"\n",
    "    ## if we want to get the scores for expanded decade dicts, \n",
    "    ## using the expanded dictionaries passed as inputs \n",
    "    if expanded: \n",
    "        year_coresp_dict_lst={}\n",
    "        year_coresp_dict_lst['1971-1981'] = l1\n",
    "        year_coresp_dict_lst['1982-1992'] = l2\n",
    "        year_coresp_dict_lst['1993-2003'] = l3\n",
    "        year_coresp_dict_lst['2004-2014'] = l4\n",
    "\n",
    "    \n",
    "    distinct_scores_decade_perspective={}\n",
    "   \n",
    "    ### iterate through each of the 4 periods, using the period-specific models\n",
    "    \n",
    "    for y,m in zip(years, models):\n",
    "        \n",
    "        distinct_scores_perspective={}\n",
    "        \n",
    "        ### for each period, iterate through the 3 perspectives to calculate their distinct scores\n",
    "        for core,k in zip(['cult','dem','relt'],np.arange(3)):\n",
    "            \n",
    "            if expanded:\n",
    "                ### use the expanded decade dicts\n",
    "                current_lst = year_coresp_dict_lst[y][k]\n",
    "                other_lsts = year_coresp_dict_lst[y][:k] + year_coresp_dict_lst[y][k+1:]\n",
    "            else:\n",
    "                ### use the core dicts\n",
    "                current_lst = core_lists[k]\n",
    "                other_lsts = core_lists[:k] + core_lists[k+1:]\n",
    "           \n",
    "            ## get the the mean distinct score for this dictionary with the dicts of the other 2 perspectives\n",
    "            distinct_scores_perspective[core]= np.mean([dict_distinct(current_lst, other_lsts[0], m), dict_distinct(current_lst, other_lsts[1], m)])\n",
    "        \n",
    "        ## store the distrinct scores for each of the 3 perspectives for each year \n",
    "        distinct_scores_decade_perspective[y] = distinct_scores_perspective\n",
    "        \n",
    "    \n",
    "    distinct_results= pd.DataFrame(distinct_scores_decade_perspective).T\n",
    "    \n",
    "    return distinct_results\n",
    "    "
   ]
  },
  {
   "cell_type": "code",
   "execution_count": 39,
   "id": "d08a9673",
   "metadata": {},
   "outputs": [
    {
     "data": {
      "text/html": [
       "<div>\n",
       "<style scoped>\n",
       "    .dataframe tbody tr th:only-of-type {\n",
       "        vertical-align: middle;\n",
       "    }\n",
       "\n",
       "    .dataframe tbody tr th {\n",
       "        vertical-align: top;\n",
       "    }\n",
       "\n",
       "    .dataframe thead th {\n",
       "        text-align: right;\n",
       "    }\n",
       "</style>\n",
       "<table border=\"1\" class=\"dataframe\">\n",
       "  <thead>\n",
       "    <tr style=\"text-align: right;\">\n",
       "      <th></th>\n",
       "      <th>cult</th>\n",
       "      <th>dem</th>\n",
       "      <th>relt</th>\n",
       "    </tr>\n",
       "  </thead>\n",
       "  <tbody>\n",
       "    <tr>\n",
       "      <th>1971-1981</th>\n",
       "      <td>0.869420</td>\n",
       "      <td>0.872100</td>\n",
       "      <td>0.872234</td>\n",
       "    </tr>\n",
       "    <tr>\n",
       "      <th>1982-1992</th>\n",
       "      <td>0.838583</td>\n",
       "      <td>0.846238</td>\n",
       "      <td>0.835160</td>\n",
       "    </tr>\n",
       "    <tr>\n",
       "      <th>1993-2003</th>\n",
       "      <td>0.821204</td>\n",
       "      <td>0.817920</td>\n",
       "      <td>0.817782</td>\n",
       "    </tr>\n",
       "    <tr>\n",
       "      <th>2004-2014</th>\n",
       "      <td>0.822025</td>\n",
       "      <td>0.821506</td>\n",
       "      <td>0.820986</td>\n",
       "    </tr>\n",
       "  </tbody>\n",
       "</table>\n",
       "</div>"
      ],
      "text/plain": [
       "               cult       dem      relt\n",
       "1971-1981  0.869420  0.872100  0.872234\n",
       "1982-1992  0.838583  0.846238  0.835160\n",
       "1993-2003  0.821204  0.817920  0.817782\n",
       "2004-2014  0.822025  0.821506  0.820986"
      ]
     },
     "execution_count": 39,
     "metadata": {},
     "output_type": "execute_result"
    }
   ],
   "source": [
    "### get a pandas df storing distinctive score for each expanded decade dicts \n",
    "exp_list_1 =[cult_expanded_1, dem_expanded_1, relt_expanded_1] \n",
    "exp_list_2 =[cult_expanded_2, dem_expanded_2, relt_expanded_2] \n",
    "exp_list_3 =[cult_expanded_3, dem_expanded_3, relt_expanded_3] \n",
    "exp_list_4 =[cult_expanded_4, dem_expanded_4, relt_expanded_4] \n",
    "distinct_results_exp = get_distinct_score_df(exp_list_1,exp_list_2,exp_list_3, exp_list_4, True  )\n",
    "distinct_results_exp"
   ]
  },
  {
   "cell_type": "code",
   "execution_count": 40,
   "id": "970dd952",
   "metadata": {},
   "outputs": [
    {
     "data": {
      "text/html": [
       "<div>\n",
       "<style scoped>\n",
       "    .dataframe tbody tr th:only-of-type {\n",
       "        vertical-align: middle;\n",
       "    }\n",
       "\n",
       "    .dataframe tbody tr th {\n",
       "        vertical-align: top;\n",
       "    }\n",
       "\n",
       "    .dataframe thead th {\n",
       "        text-align: right;\n",
       "    }\n",
       "</style>\n",
       "<table border=\"1\" class=\"dataframe\">\n",
       "  <thead>\n",
       "    <tr style=\"text-align: right;\">\n",
       "      <th></th>\n",
       "      <th>cult</th>\n",
       "      <th>dem</th>\n",
       "      <th>relt</th>\n",
       "    </tr>\n",
       "  </thead>\n",
       "  <tbody>\n",
       "    <tr>\n",
       "      <th>1971-1981</th>\n",
       "      <td>0.875132</td>\n",
       "      <td>0.874976</td>\n",
       "      <td>0.870313</td>\n",
       "    </tr>\n",
       "    <tr>\n",
       "      <th>1982-1992</th>\n",
       "      <td>0.841692</td>\n",
       "      <td>0.846753</td>\n",
       "      <td>0.839574</td>\n",
       "    </tr>\n",
       "    <tr>\n",
       "      <th>1993-2003</th>\n",
       "      <td>0.830684</td>\n",
       "      <td>0.832431</td>\n",
       "      <td>0.825659</td>\n",
       "    </tr>\n",
       "    <tr>\n",
       "      <th>2004-2014</th>\n",
       "      <td>0.824220</td>\n",
       "      <td>0.829504</td>\n",
       "      <td>0.818533</td>\n",
       "    </tr>\n",
       "  </tbody>\n",
       "</table>\n",
       "</div>"
      ],
      "text/plain": [
       "               cult       dem      relt\n",
       "1971-1981  0.875132  0.874976  0.870313\n",
       "1982-1992  0.841692  0.846753  0.839574\n",
       "1993-2003  0.830684  0.832431  0.825659\n",
       "2004-2014  0.824220  0.829504  0.818533"
      ]
     },
     "execution_count": 40,
     "metadata": {},
     "output_type": "execute_result"
    }
   ],
   "source": [
    "### get a pandas df storing distinctive score for each core decade dicts \n",
    "core_lists = [dem_core,relt_core,cult_core]\n",
    "distinct_results = get_distinct_score_df(expanded =False  )\n",
    "distinct_results"
   ]
  },
  {
   "cell_type": "markdown",
   "id": "f3acf9f8",
   "metadata": {},
   "source": [
    "## plot distinctive score for expanded decade dicts"
   ]
  },
  {
   "cell_type": "code",
   "execution_count": 41,
   "id": "1d368a9e",
   "metadata": {},
   "outputs": [
    {
     "data": {
      "image/png": "[encoded data removed]",
      "text/plain": [
       "<Figure size 432x288 with 1 Axes>"
      ]
     },
     "metadata": {
      "needs_background": "light"
     },
     "output_type": "display_data"
    }
   ],
   "source": [
    "plt.plot(distinct_results_exp['dem'],'--', label='Organizational Ecology', color = 'green')\n",
    "\n",
    "plt.plot(distinct_results_exp['relt'], label='Organizational Institutionalism', color = 'red')\n",
    "\n",
    "plt.plot(distinct_results_exp['cult'],':', label='Resource Dependence', color = 'blue')\n",
    "distinct_results_exp\n",
    "plt.xlabel('Time period')\n",
    "plt.ylabel('Distinctiveness')\n",
    "ax = plt.subplot(111)\n",
    "ax.legend(loc='upper center', bbox_to_anchor=(0.5, 1.2),\n",
    "          ncol=3, frameon=False)\n",
    "# plt.title('Distinctiveness (cosine distance) vs. decades')\n",
    "\n",
    "plt.ylim(0.75, 0.95)\n",
    "plt.yticks(np.linspace(0.75,  0.95, 5))\n",
    "plt.grid()\n",
    "\n",
    "filepath = 'distinctiveness_score_expanded_dict' + \".png\"\n",
    "\n",
    "plt.savefig(filepath, bbox_inches='tight', dpi= 2000)"
   ]
  },
  {
   "cell_type": "markdown",
   "id": "fef0169d",
   "metadata": {},
   "source": [
    "## plot distinctive score for core decade dicts¶"
   ]
  },
  {
   "cell_type": "code",
   "execution_count": 42,
   "id": "3e395ff2",
   "metadata": {},
   "outputs": [
    {
     "data": {
      "image/png": "[encoded data removed]",
      "text/plain": [
       "<Figure size 432x288 with 1 Axes>"
      ]
     },
     "metadata": {
      "needs_background": "light"
     },
     "output_type": "display_data"
    }
   ],
   "source": [
    "plt.plot(distinct_results['dem'], '--', label='Organizational Ecology', color = 'green')\n",
    "\n",
    "plt.plot(distinct_results['relt'],label='Organizational Institutionalism', color = 'red')\n",
    "\n",
    "plt.plot(distinct_results['cult'], ':',label='Resource Dependence', color = 'blue')\n",
    "\n",
    "plt.xlabel('Time period')\n",
    "plt.ylabel('Distinctiveness')\n",
    "\n",
    "\n",
    "ax = plt.subplot(111)\n",
    "ax.legend(loc='upper center', bbox_to_anchor=(0.5, 1.2),\n",
    "          ncol=3, frameon=False)\n",
    "\n",
    "\n",
    "plt.ylim(0.75, 0.95)\n",
    "plt.yticks(np.linspace(0.75,  0.95, 5))\n",
    "plt.grid()\n",
    "\n",
    "\n",
    "filepath =  'distinctiveness_score_core_dict_revised' + \".png\"\n",
    "\n",
    "plt.savefig(filepath, bbox_inches='tight', dpi= 2000)"
   ]
  },
  {
   "cell_type": "code",
   "execution_count": null,
   "id": "86ae13a8",
   "metadata": {},
   "outputs": [],
   "source": []
  }
 ],
 "metadata": {
  "colab": {
   "provenance": []
  },
  "kernelspec": {
   "display_name": "Python 3 (ipykernel)",
   "language": "python",
   "name": "python3"
  },
  "language_info": {
   "codemirror_mode": {
    "name": "ipython",
    "version": 3
   },
   "file_extension": ".py",
   "mimetype": "text/x-python",
   "name": "python",
   "nbconvert_exporter": "python",
   "pygments_lexer": "ipython3",
   "version": "3.9.6"
  }
 },
 "nbformat": 4,
 "nbformat_minor": 5
}
