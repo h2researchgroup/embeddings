{
  "cells": [
    {
      "cell_type": "markdown",
      "id": "94b7c4f8",
      "metadata": {
        "id": "94b7c4f8"
      },
      "source": [
        "## Calculate coherence & distinctiveness scores for seed dictionaries by decade"
      ]
    },
    {
      "cell_type": "markdown",
      "source": [
        "**Date created**: December 6, 2022\n",
        "\n",
        "**Date last modified**: December 7, 2022\n",
        "\n",
        "**Description**: This notebook calculates and visualizes the coherence score and distinctiveness score of core dictionaries over decades. Code for calculation based on code here: https://github.com/jhaber-zz/charters4textxd2018/blob/master/notebooks/wem_hackathon_TextXD18.ipynb\n",
        "\n",
        "**Inputs:** \n",
        "\n",
        "\n",
        "\n",
        "*   decade word2vec models (models_storage/w2v_models)\n",
        "\n",
        "```\n",
        "wem_path1 = 'word2vec_phrased_filtered_enchant_300d_1970_1979_2022_oct30.bin'\n",
        "wem_path2 = 'word2vec_phrased_filtered_enchant_300d_1980_1989_2022_oct30.bin'\n",
        "wem_path3 = 'word2vec_phrased_filtered_enchant_300d_1990_1999_2022_oct30.bin'\n",
        "wem_path4 = 'word2vec_phrased_filtered_enchant_300d_2000_2016_2022_oct30.bin'\n",
        "```\n",
        "\n",
        "\n",
        "\n",
        "*   seed terms for each perspective\n",
        "\n",
        "\n",
        "\n",
        "```\n",
        "demographic_core.txt\n",
        "relational_core.txt\n",
        "cultural_core.txt\n",
        "```\n",
        "\n",
        "\n",
        "\n",
        "**Outputs:** None\n",
        "\n",
        "\n",
        "\n",
        "\n"
      ],
      "metadata": {
        "id": "gD6cS59Mu7M7"
      },
      "id": "gD6cS59Mu7M7"
    },
    {
      "cell_type": "markdown",
      "source": [
        "##Coherence scores over decades"
      ],
      "metadata": {
        "id": "G8vplASyw0iu"
      },
      "id": "G8vplASyw0iu"
    },
    {
      "cell_type": "code",
      "source": [
        "import numpy as np\n",
        "import pandas as pd\n",
        "import gensim\n",
        "import re\n",
        "from gensim.models import KeyedVectors\n",
        "from gensim.models import Word2Vec"
      ],
      "metadata": {
        "id": "3PFJ9rBcegpv"
      },
      "id": "3PFJ9rBcegpv",
      "execution_count": 120,
      "outputs": []
    },
    {
      "cell_type": "code",
      "execution_count": 53,
      "id": "59d97aa1",
      "metadata": {
        "id": "59d97aa1"
      },
      "outputs": [],
      "source": [
        "def dict_cohere(thisdict, wem_model):\n",
        "    '''Computes the average cosine similarity score of terms within one dictionary with all other terms in that same dictionary,\n",
        "    effectively measuring the coherence of the dictionary.\n",
        "    ...question for development: does it make sense to compare the average cosine similarity score between all terms \n",
        "    in thisdict and the average cosine similarity among the total model vocabulary? (Could that be, by definition, 0?)\n",
        "    \n",
        "    NOTE: For an unknown reason, calling this function deletes terms from thisdict.\n",
        "    \n",
        "    Inputs: List of key terms, word2vec model.\n",
        "    Output: Average cosine similarity score of each word with all other words in the list of key terms.'''\n",
        "    \n",
        "    # Initialize average distance variables:\n",
        "\n",
        "    sim_scores = []\n",
        "    \n",
        "    # Compute average cosine similarity score of each word with other dict words:\n",
        "    for index in np.arange(len(thisdict)):\n",
        " \n",
        "        other_words = thisdict[:index] + thisdict[index+1:]\n",
        "        word = thisdict[index]\n",
        "        sim_score_with_others = []\n",
        "        for other in other_words:\n",
        "          try:\n",
        "            sim_score_with_others.append(wem_model.wv.similarity(word, other))\n",
        "          except:\n",
        "            pass\n",
        "        \n",
        "        if (len(sim_score_with_others)!=0):\n",
        "          word_avg_sim = np.mean(sim_score_with_others)\n",
        "          # print(word_avg_sim)\n",
        "          sim_scores.append(word_avg_sim)# Add up each average distance, incrementally\n",
        "     \n",
        "\n",
        "    \n",
        "    return np.mean(sim_scores)"
      ]
    },
    {
      "cell_type": "code",
      "execution_count": 7,
      "id": "dc22b353",
      "metadata": {
        "id": "dc22b353"
      },
      "outputs": [],
      "source": [
        "def read_txt_lst(file):\n",
        "    txt_file = open(file, \"r\")\n",
        "    file_content = txt_file.read()\n",
        "    # print(\"The file content are: \", file_content)\n",
        "\n",
        "    content_list = file_content.split(\"\\n\")\n",
        "    txt_file.close()\n",
        "    return content_list\n"
      ]
    },
    {
      "cell_type": "code",
      "execution_count": 8,
      "id": "993256a4",
      "metadata": {
        "id": "993256a4"
      },
      "outputs": [],
      "source": [
        "dem_core=read_txt_lst('demographic_core.txt')\n",
        "rela_core=read_txt_lst('relational_core.txt')\n",
        "cult_core = read_txt_lst('cultural_core.txt')\n"
      ]
    },
    {
      "cell_type": "code",
      "execution_count": 9,
      "id": "3ab660c1",
      "metadata": {
        "scrolled": true,
        "id": "3ab660c1"
      },
      "outputs": [],
      "source": [
        "dem_core=[re.sub(r'\\s','_',x) for x in dem_core]\n",
        "rela_core=[re.sub(r'\\s','_',x) for x in rela_core]\n",
        "cult_core=[re.sub(r'\\s','_',x) for x in cult_core]\n",
        "\n",
        "\n",
        "     "
      ]
    },
    {
      "cell_type": "code",
      "execution_count": 10,
      "id": "640d0c7f",
      "metadata": {
        "id": "640d0c7f"
      },
      "outputs": [],
      "source": [
        "core_lists = [dem_core,rela_core,cult_core]"
      ]
    },
    {
      "cell_type": "code",
      "execution_count": 12,
      "id": "3ec8b42e",
      "metadata": {
        "scrolled": true,
        "id": "3ec8b42e"
      },
      "outputs": [],
      "source": [
        "wem_path1 = 'word2vec_phrased_filtered_enchant_300d_1970_1979_2022_oct30.bin'\n",
        "wem_path2 = 'word2vec_phrased_filtered_enchant_300d_1980_1989_2022_oct30.bin'\n",
        "wem_path3 = 'word2vec_phrased_filtered_enchant_300d_1990_1999_2022_oct30.bin'\n",
        "wem_path4 = 'word2vec_phrased_filtered_enchant_300d_2000_2016_2022_oct30.bin'\n",
        "\n",
        "m1 = gensim.models.Word2Vec.load(wem_path1)\n",
        "m2 = gensim.models.Word2Vec.load(wem_path2)\n",
        "m3 = gensim.models.Word2Vec.load(wem_path3)\n",
        "m4 = gensim.models.Word2Vec.load(wem_path4)\n",
        "models = [m1, m2, m3, m4]\n",
        "\n"
      ]
    },
    {
      "cell_type": "code",
      "source": [
        "years = ['1970-79','1980-89','1990-99','2000-16']"
      ],
      "metadata": {
        "id": "HWUU1u97iA14"
      },
      "id": "HWUU1u97iA14",
      "execution_count": 71,
      "outputs": []
    },
    {
      "cell_type": "code",
      "source": [
        "dem_1970_cohere = dict_cohere(dem_core,m1)\n",
        "cult_1970_cohere = dict_cohere(cult_core,m1)\n",
        "rela_1970_cohere = dict_cohere(rela_core,m1)"
      ],
      "metadata": {
        "id": "PiA3JbnOiz3u"
      },
      "id": "PiA3JbnOiz3u",
      "execution_count": 64,
      "outputs": []
    },
    {
      "cell_type": "code",
      "source": [
        "dem_1980_cohere = dict_cohere(dem_core,m2)\n",
        "cult_1980_cohere = dict_cohere(cult_core,m2)\n",
        "rela_1980_cohere = dict_cohere(rela_core,m2)"
      ],
      "metadata": {
        "id": "snR24MVVgD0P"
      },
      "id": "snR24MVVgD0P",
      "execution_count": 65,
      "outputs": []
    },
    {
      "cell_type": "code",
      "source": [
        "dem_1990_cohere = dict_cohere(dem_core,m3)\n",
        "cult_1990_cohere = dict_cohere(cult_core,m3)\n",
        "rela_1990_cohere = dict_cohere(rela_core,m3)"
      ],
      "metadata": {
        "id": "r1RuDtSkjGwG"
      },
      "id": "r1RuDtSkjGwG",
      "execution_count": 66,
      "outputs": []
    },
    {
      "cell_type": "code",
      "source": [
        "dem_2000_cohere = dict_cohere(dem_core,m4)\n",
        "cult_2000_cohere = dict_cohere(cult_core,m4)\n",
        "rela_2000_cohere = dict_cohere(rela_core,m4)"
      ],
      "metadata": {
        "id": "7QDnNTU2jNQ8"
      },
      "id": "7QDnNTU2jNQ8",
      "execution_count": 67,
      "outputs": []
    },
    {
      "cell_type": "code",
      "source": [
        "import matplotlib.pyplot as plt\n",
        "plt.plot(years,[dem_1970_cohere,dem_1980_cohere,dem_1990_cohere,dem_2000_cohere], label='demographic')\n",
        "\n",
        "plt.plot(years,[cult_1970_cohere,cult_1980_cohere,cult_1990_cohere,cult_2000_cohere], label='cultural')\n",
        "\n",
        "plt.plot(years,[rela_1970_cohere,rela_1980_cohere,rela_1990_cohere,rela_2000_cohere], label='relational')\n",
        "\n",
        "plt.xlabel('decades')\n",
        "plt.ylabel('coherence score')\n",
        "\n",
        "plt.title('Coherence scores vs. decades')\n",
        "\n",
        "plt.legend();\n"
      ],
      "metadata": {
        "colab": {
          "base_uri": "https://localhost:8080/",
          "height": 295
        },
        "id": "bCdlmfeVjR4C",
        "outputId": "04eee678-86df-4e70-8fb5-e38d3f52bdd1"
      },
      "id": "bCdlmfeVjR4C",
      "execution_count": 76,
      "outputs": [
        {
          "output_type": "display_data",
          "data": {
            "text/plain": [
              "<Figure size 432x288 with 1 Axes>"
            ],
            "image/png": "[encoded data removed]"
          },
          "metadata": {
            "needs_background": "light"
          }
        }
      ]
    },
    {
      "cell_type": "markdown",
      "source": [
        "##Distinctiveness scores over decades"
      ],
      "metadata": {
        "id": "roRWMs2Vw9kt"
      },
      "id": "roRWMs2Vw9kt"
    },
    {
      "cell_type": "markdown",
      "source": [
        "### cosine distance"
      ],
      "metadata": {
        "id": "XQJnOjxGx73g"
      },
      "id": "XQJnOjxGx73g"
    },
    {
      "cell_type": "code",
      "source": [
        "def dict_distinct(dict1, dict2, wem_model):\n",
        "    '''Computes the average cosine distance score of terms in dict1 with all terms in dict2,\n",
        "    effectively measuring the opposition/non-coherence between the two dictionaries.\n",
        "    \n",
        "    NOTE: For an unknown reason, calling this function deletes terms from thisdict.\n",
        "    \n",
        "    Inputs: List of key terms, word2vec model.\n",
        "    Output: Average cosine distance score of each word in dict1 with all words in dict2.'''\n",
        "    \n",
        "    # Initialize average distance variables:\n",
        "    # word_avg_dist = 0\n",
        "    # word_avg_dists = 0\n",
        "    # dicts_avg_dist = 0\n",
        "    \n",
        "    # # Compute average cosine similarity score of each term in dict1 with all terms in dict2:\n",
        "    # for word in dict1:\n",
        "    #     word_avg_dist = (wem_model.distances(word, other_words=dict2).sum())/len(dict2) # Total diffs of word with all other words, take average\n",
        "    #     word_avg_dists += word_avg_dist # Add up each average distance, incrementally\n",
        "    # dicts_avg_dist = word_avg_dists/len(dict1) # Find average cosine distance score by dividing sum by # words\n",
        "    \n",
        "    \n",
        "    \n",
        "    sim_scores = []\n",
        "    \n",
        "    # Compute average cosine similarity score of each word with other dict words:\n",
        "    for index in np.arange(len(dict1)):\n",
        " \n",
        "        other_words = dict2\n",
        "        word = dict1[index]\n",
        "        sim_score_with_others = []\n",
        "        for other in other_words:\n",
        "          try:\n",
        "            sim_score_with_others.append(1-wem_model.wv.similarity(word, other))\n",
        "          except:\n",
        "            pass\n",
        "        \n",
        "        if (len(sim_score_with_others)!=0):\n",
        "          word_avg_sim = np.mean(sim_score_with_others)\n",
        "          # print(word_avg_sim)\n",
        "          sim_scores.append(word_avg_sim)# Add up each average distance, incrementally\n",
        "     \n",
        "\n",
        "    \n",
        "    return np.mean(sim_scores)\n",
        "\n"
      ],
      "metadata": {
        "id": "4uz0gncQkhO9"
      },
      "id": "4uz0gncQkhO9",
      "execution_count": 100,
      "outputs": []
    },
    {
      "cell_type": "code",
      "source": [
        "distinct_scores_decade_perspective= {}\n",
        "for y,m in zip(years, models):\n",
        "  distinct_scores_perspective={}\n",
        "  for core,k in zip(['dem','rela','cult'],np.arange(3)):\n",
        "    current_lst = core_lists[k]\n",
        "    other_lsts = core_lists[:k] + core_lists[k+1:]\n",
        "    distinct_scores_perspective[core]= np.mean([dict_distinct(current_lst, other_lsts[0], m), dict_distinct(current_lst, other_lsts[1], m)])\n",
        "  distinct_scores_decade_perspective[y] = distinct_scores_perspective"
      ],
      "metadata": {
        "id": "E4xRaHxflvMq"
      },
      "id": "E4xRaHxflvMq",
      "execution_count": 101,
      "outputs": []
    },
    {
      "cell_type": "code",
      "source": [
        "import pandas as pd\n",
        "distinct_results = pd.DataFrame(distinct_scores_decade_perspective).T\n",
        "distinct_results"
      ],
      "metadata": {
        "colab": {
          "base_uri": "https://localhost:8080/",
          "height": 175
        },
        "id": "KiCP5e0UojBv",
        "outputId": "6236262a-296d-4cbd-d416-06c650fd8eae"
      },
      "id": "KiCP5e0UojBv",
      "execution_count": 104,
      "outputs": [
        {
          "output_type": "execute_result",
          "data": {
            "text/plain": [
              "              dem      rela      cult\n",
              "1970-79  0.884465  0.886354  0.883664\n",
              "1980-89  0.857262  0.861675  0.855098\n",
              "1990-99  0.842085  0.844281  0.838037\n",
              "2000-16  0.815886  0.822824  0.813911"
            ],
            "text/html": [
              "\n",
              "  <div id=\"df-65751cd7-2850-443d-82cb-1b5955265af8\">\n",
              "    <div class=\"colab-df-container\">\n",
              "      <div>\n",
              "<style scoped>\n",
              "    .dataframe tbody tr th:only-of-type {\n",
              "        vertical-align: middle;\n",
              "    }\n",
              "\n",
              "    .dataframe tbody tr th {\n",
              "        vertical-align: top;\n",
              "    }\n",
              "\n",
              "    .dataframe thead th {\n",
              "        text-align: right;\n",
              "    }\n",
              "</style>\n",
              "<table border=\"1\" class=\"dataframe\">\n",
              "  <thead>\n",
              "    <tr style=\"text-align: right;\">\n",
              "      <th></th>\n",
              "      <th>dem</th>\n",
              "      <th>rela</th>\n",
              "      <th>cult</th>\n",
              "    </tr>\n",
              "  </thead>\n",
              "  <tbody>\n",
              "    <tr>\n",
              "      <th>1970-79</th>\n",
              "      <td>0.884465</td>\n",
              "      <td>0.886354</td>\n",
              "      <td>0.883664</td>\n",
              "    </tr>\n",
              "    <tr>\n",
              "      <th>1980-89</th>\n",
              "      <td>0.857262</td>\n",
              "      <td>0.861675</td>\n",
              "      <td>0.855098</td>\n",
              "    </tr>\n",
              "    <tr>\n",
              "      <th>1990-99</th>\n",
              "      <td>0.842085</td>\n",
              "      <td>0.844281</td>\n",
              "      <td>0.838037</td>\n",
              "    </tr>\n",
              "    <tr>\n",
              "      <th>2000-16</th>\n",
              "      <td>0.815886</td>\n",
              "      <td>0.822824</td>\n",
              "      <td>0.813911</td>\n",
              "    </tr>\n",
              "  </tbody>\n",
              "</table>\n",
              "</div>\n",
              "      <button class=\"colab-df-convert\" onclick=\"convertToInteractive('df-65751cd7-2850-443d-82cb-1b5955265af8')\"\n",
              "              title=\"Convert this dataframe to an interactive table.\"\n",
              "              style=\"display:none;\">\n",
              "        \n",
              "  <svg xmlns=\"http://www.w3.org/2000/svg\" height=\"24px\"viewBox=\"0 0 24 24\"\n",
              "       width=\"24px\">\n",
              "    <path d=\"M0 0h24v24H0V0z\" fill=\"none\"/>\n",
              "    <path d=\"M18.56 5.44l.94 2.06.94-2.06 2.06-.94-2.06-.94-.94-2.06-.94 2.06-2.06.94zm-11 1L8.5 8.5l.94-2.06 2.06-.94-2.06-.94L8.5 2.5l-.94 2.06-2.06.94zm10 10l.94 2.06.94-2.06 2.06-.94-2.06-.94-.94-2.06-.94 2.06-2.06.94z\"/><path d=\"M17.41 7.96l-1.37-1.37c-.4-.4-.92-.59-1.43-.59-.52 0-1.04.2-1.43.59L10.3 9.45l-7.72 7.72c-.78.78-.78 2.05 0 2.83L4 21.41c.39.39.9.59 1.41.59.51 0 1.02-.2 1.41-.59l7.78-7.78 2.81-2.81c.8-.78.8-2.07 0-2.86zM5.41 20L4 18.59l7.72-7.72 1.47 1.35L5.41 20z\"/>\n",
              "  </svg>\n",
              "      </button>\n",
              "      \n",
              "  <style>\n",
              "    .colab-df-container {\n",
              "      display:flex;\n",
              "      flex-wrap:wrap;\n",
              "      gap: 12px;\n",
              "    }\n",
              "\n",
              "    .colab-df-convert {\n",
              "      background-color: #E8F0FE;\n",
              "      border: none;\n",
              "      border-radius: 50%;\n",
              "      cursor: pointer;\n",
              "      display: none;\n",
              "      fill: #1967D2;\n",
              "      height: 32px;\n",
              "      padding: 0 0 0 0;\n",
              "      width: 32px;\n",
              "    }\n",
              "\n",
              "    .colab-df-convert:hover {\n",
              "      background-color: #E2EBFA;\n",
              "      box-shadow: 0px 1px 2px rgba(60, 64, 67, 0.3), 0px 1px 3px 1px rgba(60, 64, 67, 0.15);\n",
              "      fill: #174EA6;\n",
              "    }\n",
              "\n",
              "    [theme=dark] .colab-df-convert {\n",
              "      background-color: #3B4455;\n",
              "      fill: #D2E3FC;\n",
              "    }\n",
              "\n",
              "    [theme=dark] .colab-df-convert:hover {\n",
              "      background-color: #434B5C;\n",
              "      box-shadow: 0px 1px 3px 1px rgba(0, 0, 0, 0.15);\n",
              "      filter: drop-shadow(0px 1px 2px rgba(0, 0, 0, 0.3));\n",
              "      fill: #FFFFFF;\n",
              "    }\n",
              "  </style>\n",
              "\n",
              "      <script>\n",
              "        const buttonEl =\n",
              "          document.querySelector('#df-65751cd7-2850-443d-82cb-1b5955265af8 button.colab-df-convert');\n",
              "        buttonEl.style.display =\n",
              "          google.colab.kernel.accessAllowed ? 'block' : 'none';\n",
              "\n",
              "        async function convertToInteractive(key) {\n",
              "          const element = document.querySelector('#df-65751cd7-2850-443d-82cb-1b5955265af8');\n",
              "          const dataTable =\n",
              "            await google.colab.kernel.invokeFunction('convertToInteractive',\n",
              "                                                     [key], {});\n",
              "          if (!dataTable) return;\n",
              "\n",
              "          const docLinkHtml = 'Like what you see? Visit the ' +\n",
              "            '<a target=\"_blank\" href=https://colab.research.google.com/notebooks/data_table.ipynb>data table notebook</a>'\n",
              "            + ' to learn more about interactive tables.';\n",
              "          element.innerHTML = '';\n",
              "          dataTable['output_type'] = 'display_data';\n",
              "          await google.colab.output.renderOutput(dataTable, element);\n",
              "          const docLink = document.createElement('div');\n",
              "          docLink.innerHTML = docLinkHtml;\n",
              "          element.appendChild(docLink);\n",
              "        }\n",
              "      </script>\n",
              "    </div>\n",
              "  </div>\n",
              "  "
            ]
          },
          "metadata": {},
          "execution_count": 104
        }
      ]
    },
    {
      "cell_type": "code",
      "source": [
        "plt.plot(distinct_results['dem'], label='demographic')\n",
        "\n",
        "plt.plot(distinct_results['rela'],label='relational')\n",
        "\n",
        "plt.plot(distinct_results['cult'],label='cultural')\n",
        "\n",
        "plt.xlabel('decades')\n",
        "plt.ylabel('distinctiveness score')\n",
        "\n",
        "plt.title('Distinctiveness (cosine distance) vs. decades')\n",
        "\n",
        "plt.legend()"
      ],
      "metadata": {
        "colab": {
          "base_uri": "https://localhost:8080/",
          "height": 313
        },
        "id": "0Cz4im1vo9Mw",
        "outputId": "e2ebb0a5-8fd8-4007-af19-7dba58e0a5a3"
      },
      "id": "0Cz4im1vo9Mw",
      "execution_count": 119,
      "outputs": [
        {
          "output_type": "execute_result",
          "data": {
            "text/plain": [
              "<matplotlib.legend.Legend at 0x7ff9c53ce1f0>"
            ]
          },
          "metadata": {},
          "execution_count": 119
        },
        {
          "output_type": "display_data",
          "data": {
            "text/plain": [
              "<Figure size 432x288 with 1 Axes>"
            ],
            "image/png": "[encoded data removed]"
          },
          "metadata": {
            "needs_background": "light"
          }
        }
      ]
    },
    {
      "cell_type": "markdown",
      "source": [
        "### WMD"
      ],
      "metadata": {
        "id": "wFZvTukRyAtL"
      },
      "id": "wFZvTukRyAtL"
    },
    {
      "cell_type": "code",
      "source": [
        "def dict_distinct_wmd(dict1,dict2, wem_model):\n",
        "    ''' \n",
        "    calculate WMD as distinctiveness score between (lists) dict1 and dict2\n",
        "    '''\n",
        "    return wem_model.wv.wmdistance(dict1,dict2)"
      ],
      "metadata": {
        "id": "5K8cu-gHrkZ7"
      },
      "id": "5K8cu-gHrkZ7",
      "execution_count": 118,
      "outputs": []
    },
    {
      "cell_type": "code",
      "source": [
        "distinct_scores_decade_perspective_wmd= {}\n",
        "for y,m in zip(years, models):\n",
        "  distinct_scores_perspective={}\n",
        "  for core,k in zip(['dem','rela','cult'],np.arange(3)):\n",
        "    current_lst = core_lists[k]\n",
        "    other_lsts = core_lists[:k] + core_lists[k+1:]\n",
        "    distinct_scores_perspective[core]= np.mean([dict_distinct_wmd(current_lst, other_lsts[0], m), dict_distinct_wmd(current_lst, other_lsts[1], m)])\n",
        "  distinct_scores_decade_perspective_wmd[y] = distinct_scores_perspective"
      ],
      "metadata": {
        "id": "lf3Eok3RsIkd"
      },
      "id": "lf3Eok3RsIkd",
      "execution_count": 114,
      "outputs": []
    },
    {
      "cell_type": "code",
      "source": [
        "import pandas as pd\n",
        "distinct_results_wmd = pd.DataFrame(distinct_scores_decade_perspective_wmd).T\n",
        "distinct_results_wmd"
      ],
      "metadata": {
        "colab": {
          "base_uri": "https://localhost:8080/",
          "height": 175
        },
        "id": "gYNHBFmfsZOa",
        "outputId": "2b443732-a11e-4173-dbb1-3ec0193057f0"
      },
      "id": "gYNHBFmfsZOa",
      "execution_count": 116,
      "outputs": [
        {
          "output_type": "execute_result",
          "data": {
            "text/plain": [
              "              dem      rela      cult\n",
              "1970-79  1.209573  1.244394  1.206527\n",
              "1980-89  1.189036  1.223768  1.186556\n",
              "1990-99  1.178282  1.202487  1.170234\n",
              "2000-16  1.150582  1.175649  1.145244"
            ],
            "text/html": [
              "\n",
              "  <div id=\"df-439dfa2e-d43a-48ad-844e-3cd1ce7e1649\">\n",
              "    <div class=\"colab-df-container\">\n",
              "      <div>\n",
              "<style scoped>\n",
              "    .dataframe tbody tr th:only-of-type {\n",
              "        vertical-align: middle;\n",
              "    }\n",
              "\n",
              "    .dataframe tbody tr th {\n",
              "        vertical-align: top;\n",
              "    }\n",
              "\n",
              "    .dataframe thead th {\n",
              "        text-align: right;\n",
              "    }\n",
              "</style>\n",
              "<table border=\"1\" class=\"dataframe\">\n",
              "  <thead>\n",
              "    <tr style=\"text-align: right;\">\n",
              "      <th></th>\n",
              "      <th>dem</th>\n",
              "      <th>rela</th>\n",
              "      <th>cult</th>\n",
              "    </tr>\n",
              "  </thead>\n",
              "  <tbody>\n",
              "    <tr>\n",
              "      <th>1970-79</th>\n",
              "      <td>1.209573</td>\n",
              "      <td>1.244394</td>\n",
              "      <td>1.206527</td>\n",
              "    </tr>\n",
              "    <tr>\n",
              "      <th>1980-89</th>\n",
              "      <td>1.189036</td>\n",
              "      <td>1.223768</td>\n",
              "      <td>1.186556</td>\n",
              "    </tr>\n",
              "    <tr>\n",
              "      <th>1990-99</th>\n",
              "      <td>1.178282</td>\n",
              "      <td>1.202487</td>\n",
              "      <td>1.170234</td>\n",
              "    </tr>\n",
              "    <tr>\n",
              "      <th>2000-16</th>\n",
              "      <td>1.150582</td>\n",
              "      <td>1.175649</td>\n",
              "      <td>1.145244</td>\n",
              "    </tr>\n",
              "  </tbody>\n",
              "</table>\n",
              "</div>\n",
              "      <button class=\"colab-df-convert\" onclick=\"convertToInteractive('df-439dfa2e-d43a-48ad-844e-3cd1ce7e1649')\"\n",
              "              title=\"Convert this dataframe to an interactive table.\"\n",
              "              style=\"display:none;\">\n",
              "        \n",
              "  <svg xmlns=\"http://www.w3.org/2000/svg\" height=\"24px\"viewBox=\"0 0 24 24\"\n",
              "       width=\"24px\">\n",
              "    <path d=\"M0 0h24v24H0V0z\" fill=\"none\"/>\n",
              "    <path d=\"M18.56 5.44l.94 2.06.94-2.06 2.06-.94-2.06-.94-.94-2.06-.94 2.06-2.06.94zm-11 1L8.5 8.5l.94-2.06 2.06-.94-2.06-.94L8.5 2.5l-.94 2.06-2.06.94zm10 10l.94 2.06.94-2.06 2.06-.94-2.06-.94-.94-2.06-.94 2.06-2.06.94z\"/><path d=\"M17.41 7.96l-1.37-1.37c-.4-.4-.92-.59-1.43-.59-.52 0-1.04.2-1.43.59L10.3 9.45l-7.72 7.72c-.78.78-.78 2.05 0 2.83L4 21.41c.39.39.9.59 1.41.59.51 0 1.02-.2 1.41-.59l7.78-7.78 2.81-2.81c.8-.78.8-2.07 0-2.86zM5.41 20L4 18.59l7.72-7.72 1.47 1.35L5.41 20z\"/>\n",
              "  </svg>\n",
              "      </button>\n",
              "      \n",
              "  <style>\n",
              "    .colab-df-container {\n",
              "      display:flex;\n",
              "      flex-wrap:wrap;\n",
              "      gap: 12px;\n",
              "    }\n",
              "\n",
              "    .colab-df-convert {\n",
              "      background-color: #E8F0FE;\n",
              "      border: none;\n",
              "      border-radius: 50%;\n",
              "      cursor: pointer;\n",
              "      display: none;\n",
              "      fill: #1967D2;\n",
              "      height: 32px;\n",
              "      padding: 0 0 0 0;\n",
              "      width: 32px;\n",
              "    }\n",
              "\n",
              "    .colab-df-convert:hover {\n",
              "      background-color: #E2EBFA;\n",
              "      box-shadow: 0px 1px 2px rgba(60, 64, 67, 0.3), 0px 1px 3px 1px rgba(60, 64, 67, 0.15);\n",
              "      fill: #174EA6;\n",
              "    }\n",
              "\n",
              "    [theme=dark] .colab-df-convert {\n",
              "      background-color: #3B4455;\n",
              "      fill: #D2E3FC;\n",
              "    }\n",
              "\n",
              "    [theme=dark] .colab-df-convert:hover {\n",
              "      background-color: #434B5C;\n",
              "      box-shadow: 0px 1px 3px 1px rgba(0, 0, 0, 0.15);\n",
              "      filter: drop-shadow(0px 1px 2px rgba(0, 0, 0, 0.3));\n",
              "      fill: #FFFFFF;\n",
              "    }\n",
              "  </style>\n",
              "\n",
              "      <script>\n",
              "        const buttonEl =\n",
              "          document.querySelector('#df-439dfa2e-d43a-48ad-844e-3cd1ce7e1649 button.colab-df-convert');\n",
              "        buttonEl.style.display =\n",
              "          google.colab.kernel.accessAllowed ? 'block' : 'none';\n",
              "\n",
              "        async function convertToInteractive(key) {\n",
              "          const element = document.querySelector('#df-439dfa2e-d43a-48ad-844e-3cd1ce7e1649');\n",
              "          const dataTable =\n",
              "            await google.colab.kernel.invokeFunction('convertToInteractive',\n",
              "                                                     [key], {});\n",
              "          if (!dataTable) return;\n",
              "\n",
              "          const docLinkHtml = 'Like what you see? Visit the ' +\n",
              "            '<a target=\"_blank\" href=https://colab.research.google.com/notebooks/data_table.ipynb>data table notebook</a>'\n",
              "            + ' to learn more about interactive tables.';\n",
              "          element.innerHTML = '';\n",
              "          dataTable['output_type'] = 'display_data';\n",
              "          await google.colab.output.renderOutput(dataTable, element);\n",
              "          const docLink = document.createElement('div');\n",
              "          docLink.innerHTML = docLinkHtml;\n",
              "          element.appendChild(docLink);\n",
              "        }\n",
              "      </script>\n",
              "    </div>\n",
              "  </div>\n",
              "  "
            ]
          },
          "metadata": {},
          "execution_count": 116
        }
      ]
    },
    {
      "cell_type": "code",
      "source": [
        "plt.plot(distinct_results_wmd['dem'], label='demographic')\n",
        "\n",
        "plt.plot(distinct_results_wmd['rela'],label='relational')\n",
        "\n",
        "plt.plot(distinct_results_wmd['cult'],label='cultural')\n",
        "\n",
        "plt.xlabel('decades')\n",
        "plt.ylabel('distinctiveness score (WMD)')\n",
        "\n",
        "plt.title('Distinctiveness (WMD) vs. decades')\n",
        "\n",
        "plt.legend()"
      ],
      "metadata": {
        "colab": {
          "base_uri": "https://localhost:8080/",
          "height": 313
        },
        "id": "HP9e-NUEshtQ",
        "outputId": "f79ec455-a55f-411f-b7e7-b52079c95597"
      },
      "id": "HP9e-NUEshtQ",
      "execution_count": 117,
      "outputs": [
        {
          "output_type": "execute_result",
          "data": {
            "text/plain": [
              "<matplotlib.legend.Legend at 0x7ff9c544a1c0>"
            ]
          },
          "metadata": {},
          "execution_count": 117
        },
        {
          "output_type": "display_data",
          "data": {
            "text/plain": [
              "<Figure size 432x288 with 1 Axes>"
            ],
            "image/png": "[encoded data removed]"
          },
          "metadata": {
            "needs_background": "light"
          }
        }
      ]
    }
  ],
  "metadata": {
    "kernelspec": {
      "display_name": "Python 3 (ipykernel)",
      "language": "python",
      "name": "python3"
    },
    "language_info": {
      "codemirror_mode": {
        "name": "ipython",
        "version": 3
      },
      "file_extension": ".py",
      "mimetype": "text/x-python",
      "name": "python",
      "nbconvert_exporter": "python",
      "pygments_lexer": "ipython3",
      "version": "3.9.7"
    },
    "colab": {
      "provenance": []
    }
  },
  "nbformat": 4,
  "nbformat_minor": 5
}