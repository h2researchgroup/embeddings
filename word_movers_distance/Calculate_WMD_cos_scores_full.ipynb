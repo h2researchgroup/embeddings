{
 "cells": [
  {
   "cell_type": "markdown",
   "metadata": {
    "id": "K3ew8Mn2mfAC"
   },
   "source": [
    "\n",
    "# **Calculating WMD and Cosine Score for JSTOR Labeled Articles**\n",
    "\n"
   ]
  },
  {
   "cell_type": "markdown",
   "metadata": {
    "id": "8nMTP15rkxzK"
   },
   "source": [
    "Computational Literature Review\n",
    "\n",
    "Creator: Nancy Xu\n",
    "\n",
    "Date created: September 6, 2022\n",
    "\n",
    "Date last modified: October 28, 2022\n",
    "\n",
    "This notebook:\n",
    "\n",
    "- calculates Word Mover's Distance (using a gensim Word2Vec model) between an article and core seed terms\n",
    "- calculates cosine similarity between an article (represented by average of Word2Vec embeddings of its tokens) and average vector of core seed terms (represented by a Word2Vec embedding)\n",
    "- compares the distribution of WMD scores and cosine similarity scores for each positive/negative perspective"
   ]
  },
  {
   "cell_type": "markdown",
   "metadata": {},
   "source": [
    "Files used:\n",
    "- labeled data\n",
    "    - /home/jovyan/work/models_storage/preprocessed_texts/training_relational_preprocessed_100321.pkl\n",
    "    - /home/jovyan/work/models_storage/preprocessed_texts/training_demographic_preprocessed_100321.pkl\n",
    "    - /home/jovyan/work/models_storage/preprocessed_texts/training_cultural_preprocessed_100321.pkl\n",
    "- seed terms:\n",
    "    - demographic_core.txt\n",
    "    - relational_core.txt\n",
    "    - cultural_core.txt\n",
    "    \n",
    "- word2vec phased model\n",
    "    - models_storage/tree/master/w2v_models/word2vec_phrased_filtered_300d_2020_sept5.bin"
   ]
  },
  {
   "cell_type": "code",
   "execution_count": 4,
   "metadata": {
    "id": "ubnyAoBcbrp3"
   },
   "outputs": [],
   "source": [
    "import pandas as pd\n",
    "import gensim\n",
    "import pickle\n",
    "import os\n",
    "import re\n",
    "import ast\n",
    "from gensim.models.phrases import Phrases\n",
    "from gensim.models.phrases import Phrases, Phraser\n",
    "import multiprocessing\n",
    "from sklearn import utils\n",
    "cores = multiprocessing.cpu_count()\n",
    "import gensim\n",
    "from gensim.test.utils import get_tmpfile\n",
    "from gensim.models import Word2Vec\n",
    "from tqdm import tqdm\n",
    "from gensim.models.doc2vec import Doc2Vec, TaggedDocument\n",
    "from gensim.test.utils import common_texts\n",
    "from numpy import dot, absolute\n",
    "from numpy.linalg import norm"
   ]
  },
  {
   "cell_type": "markdown",
   "metadata": {
    "id": "olcmNTxOl0SF"
   },
   "source": [
    "## Text preprocessing "
   ]
  },
  {
   "cell_type": "markdown",
   "metadata": {
    "id": "86QasrCzbvyQ"
   },
   "source": [
    "Load in and preprocess dataframes for each perspective."
   ]
  },
  {
   "cell_type": "code",
   "execution_count": 2,
   "metadata": {
    "id": "6XGM7Bk3br_2"
   },
   "outputs": [
    {
     "name": "stderr",
     "output_type": "stream",
     "text": [
      "[nltk_data] Downloading package stopwords to\n",
      "[nltk_data]     /Users/nancyxu/nltk_data...\n",
      "[nltk_data]   Package stopwords is already up-to-date!\n"
     ]
    }
   ],
   "source": [
    "# os.chdir('/home/jovyan/work/models_storage/preprocessed_texts')\n",
    "def open_test_data(path):\n",
    "    return open(path, 'rb')\n",
    "with open_test_data('/home/jovyan/work/models_storage/preprocessed_texts/training_relational_preprocessed_100321.pkl') as f:\n",
    "    rela = pickle.load(f)\n",
    "\n",
    "with open_test_data('/home/jovyan/work/models_storage/preprocessed_texts/training_demographic_preprocessed_100321.pkl') as f:\n",
    "    demog = pickle.load(f)\n",
    "\n",
    "with open_test_data('/home/jovyan/work/models_storage/preprocessed_texts/training_cultural_preprocessed_100321.pkl') as f:\n",
    "    cult = pickle.load(f)\n",
    "    \n",
    "\n",
    "import itertools\n",
    "full_text = []\n",
    "\n",
    "for i in cult['text']:\n",
    "    joined = list(itertools.chain(*i))\n",
    "    full_text.append(\" \".join(joined))\n",
    "\n",
    "full_text_demog = []\n",
    "for i in demog['text']:\n",
    "    joined = list(itertools.chain(*i))\n",
    "    full_text_demog.append(\" \".join(joined))\n",
    "\n",
    "full_text_rela = []\n",
    "for j in rela['text']:\n",
    "    joined = list(itertools.chain(*j))\n",
    "    full_text_rela.append(\" \".join(joined))\n",
    "\n",
    "cult['full_text'] = full_text\n",
    "demog['full_text'] = full_text_demog\n",
    "# orgs['full_text'] = full_text_orgs\n",
    "rela['full_text'] = full_text_rela"
   ]
  },
  {
   "cell_type": "markdown",
   "metadata": {},
   "source": [
    "remove html tags"
   ]
  },
  {
   "cell_type": "code",
   "execution_count": null,
   "metadata": {},
   "outputs": [],
   "source": [
    "def remove_tags(article):\n",
    "    article = re.sub('<plain_text> <page sequence=\"1\">', '', article)\n",
    "    article = re.sub(r'</page>(\\<.*?\\>)', ' \\n ', article)\n",
    "    # xml tags\n",
    "    article = re.sub(r'<.*?>', '', article)\n",
    "    article = re.sub(r'<body.*\\n\\s*.*\\s*.*>', '', article)\n",
    "    return article\n",
    "\n",
    "tags_removed = [remove_tags(art) for art in cult['full_text']]\n",
    "tags_removed_demog = [remove_tags(art) for art in demog['full_text']]\n",
    "# tags_removed_org = [remove_tags(art) for art in orgs['full_text']]\n",
    "tags_removed_rela = [remove_tags(art) for art in rela['full_text']]\n",
    "cult['text_no_tags'] = tags_removed\n",
    "demog['text_no_tags'] = tags_removed_demog\n",
    "# orgs['text_no_tags'] = tags_removed_org\n",
    "rela['text_no_tags'] = tags_removed_rela\n"
   ]
  },
  {
   "cell_type": "markdown",
   "metadata": {},
   "source": [
    "preporcess the text to remove stop words, punctuations"
   ]
  },
  {
   "cell_type": "code",
   "execution_count": null,
   "metadata": {},
   "outputs": [],
   "source": [
    "import nltk\n",
    "nltk.download('stopwords')\n",
    "from nltk.corpus import stopwords\n",
    "stop_words = stopwords.words('english')\n",
    "stop_words.extend(['one', 'two', 'three', 'amp', 'may', 'can', 'new', 'also', 'and'])\n",
    "\n",
    "import string\n",
    "import re\n",
    "import nltk\n",
    "\n",
    "def word_process(tt):\n",
    "    \"\"\"\n",
    "    helper function to lower text, remove stop words, numbers, and empty \n",
    "    \"\"\"\n",
    "    \n",
    "    tt = tt.lower()\n",
    "    \n",
    "    punc = '''!()-[]{};:'\"\\, <>./?@#$%^&*_~=\\n'''\n",
    "    # Removing punctuations in string \n",
    "    # Using loop + punctuation string \n",
    "\n",
    "\n",
    "    for ele in tt:  \n",
    "        if ele in punc:  \n",
    "            tt = tt.replace(ele, \" \")  \n",
    "\n",
    "    # read tokens\n",
    "    tokens = tt.split()\n",
    "    lst = [token.translate(punc).lower() for token in tokens ]\n",
    "    \n",
    "    #remove stop words\n",
    "    filtered = []\n",
    "    for i in lst:\n",
    "        if i not in stop_words:\n",
    "            filtered.append(i)\n",
    "    \n",
    "    # removing singular numbers and singular letters\n",
    "    pattern = '[0-9]'\n",
    "    filtered = [re.sub(pattern, '', i) for i in filtered] \n",
    "    new = []\n",
    "    for inp in filtered:\n",
    "        new.append(' '.join( [w for w in inp.split() if len(w)>1] ))\n",
    "        \n",
    "    # filter out empty strings \n",
    "    new = [i for i in new if i] \n",
    "\n",
    "    dt = [d.split() for d in new]\n",
    "    \n",
    "  \n",
    "    st = ''\n",
    "    for i in dt:\n",
    "        st = st + \" \" + i[0]\n",
    "    return st\n",
    "    "
   ]
  },
  {
   "cell_type": "code",
   "execution_count": null,
   "metadata": {},
   "outputs": [],
   "source": [
    "cult['processed']  =  cult['text_no_tags'].apply(word_process)\n",
    "rela['processed']  =  rela['text_no_tags'].apply(word_process)\n",
    "demog['processed']  =  demog['text_no_tags'].apply(word_process)\n",
    "\n",
    "cult_pos = cult[cult['cultural_score']==1]\n",
    "cult_neg = cult[cult['cultural_score']==0]\n",
    "\n",
    "rela_pos = rela[rela['relational_score']==1]\n",
    "rela_neg = rela[rela['relational_score']==0]\n",
    "\n",
    "demog_pos = demog[demog['demographic_score']==1]\n",
    "demog_neg = demog[demog['demographic_score']==0]\n"
   ]
  },
  {
   "cell_type": "code",
   "execution_count": 27,
   "metadata": {},
   "outputs": [],
   "source": [
    "pos_cult = cult[cult['cultural_score']==1].reset_index()\n",
    "neg_cult = cult[cult['cultural_score']==0].reset_index()\n",
    "\n",
    "pos_rela = rela[rela['relational_score']==1].reset_index()\n",
    "neg_rela = rela[rela['relational_score']==0].reset_index()\n",
    "\n",
    "pos_demog = demog[demog['demographic_score']==1].reset_index()\n",
    "neg_demog = demog[demog['demographic_score']==0].reset_index()\n"
   ]
  },
  {
   "cell_type": "code",
   "execution_count": 22,
   "metadata": {
    "scrolled": true
   },
   "outputs": [],
   "source": [
    "cult_pos.to_csv('cult_pos_full.csv')\n",
    "cult_neg.to_csv('cult_neg_full.csv')"
   ]
  },
  {
   "cell_type": "code",
   "execution_count": 24,
   "metadata": {},
   "outputs": [],
   "source": [
    "rela_pos.to_csv('rela_pos_full.csv')\n",
    "rela_neg.to_csv('rela_neg_full.csv')"
   ]
  },
  {
   "cell_type": "code",
   "execution_count": 25,
   "metadata": {},
   "outputs": [],
   "source": [
    "demog_pos.to_csv('demog_pos_full.csv')\n",
    "demog_neg.to_csv('demog_neg_full.csv')"
   ]
  },
  {
   "cell_type": "markdown",
   "metadata": {
    "id": "wkcsUYwpjDRe"
   },
   "source": [
    "load in pretrained phrased w2v model"
   ]
  },
  {
   "cell_type": "code",
   "execution_count": 3,
   "metadata": {
    "id": "-gWb9XQq1DP_"
   },
   "outputs": [],
   "source": [
    "w2v=Word2Vec.load('word2vec_phrased_filtered_300d_2020_sept5.bin')"
   ]
  },
  {
   "cell_type": "markdown",
   "metadata": {
    "id": "OV-qAuC5joS3"
   },
   "source": [
    "## Compute WMD between an article and perspective seed terms"
   ]
  },
  {
   "cell_type": "markdown",
   "metadata": {
    "id": "EJhF40j7lWEs"
   },
   "source": [
    "reference: https://radimrehurek.com/gensim/auto_examples/tutorials/run_wmd.html"
   ]
  },
  {
   "cell_type": "code",
   "execution_count": 28,
   "metadata": {
    "id": "R34TJeVkjlP8"
   },
   "outputs": [],
   "source": [
    "def calc_wmd(a,b):\n",
    "    return w2v.wmdistance(a,b)"
   ]
  },
  {
   "cell_type": "code",
   "execution_count": 31,
   "metadata": {
    "id": "TkHfYQL-jqKY"
   },
   "outputs": [],
   "source": [
    "def read_txt_lst(file):\n",
    "    txt_file = open(file, \"r\")\n",
    "    file_content = txt_file.read()\n",
    "    # print(\"The file content are: \", file_content)\n",
    "\n",
    "    content_list = file_content.split(\"\\n\")\n",
    "    txt_file.close()\n",
    "    return content_list"
   ]
  },
  {
   "cell_type": "code",
   "execution_count": 32,
   "metadata": {
    "id": "Ugre_Ef3jrH9"
   },
   "outputs": [],
   "source": [
    "dem_core=read_txt_lst('demographic_core.txt')\n",
    "rela_core=read_txt_lst('relational_core.txt')\n",
    "cult_core = read_txt_lst('cultural_core.txt')"
   ]
  },
  {
   "cell_type": "code",
   "execution_count": 33,
   "metadata": {
    "id": "4DDlDpXk7A-v"
   },
   "outputs": [],
   "source": [
    "dem_core=[re.sub(r'\\s','_',x) for x in dem_core]\n",
    "rela_core=[re.sub(r'\\s','_',x) for x in rela_core]\n",
    "cult_core=[re.sub(r'\\s','_',x) for x in cult_core]"
   ]
  },
  {
   "cell_type": "code",
   "execution_count": 32,
   "metadata": {},
   "outputs": [],
   "source": [
    "from nltk.tokenize import word_tokenize"
   ]
  },
  {
   "cell_type": "code",
   "execution_count": 33,
   "metadata": {
    "id": "H3MVbOCejsCu"
   },
   "outputs": [],
   "source": [
    "def get_sims_with_perspective(article):\n",
    "  \"\"\"\n",
    "  get wmd similarity between this article and the core terms of each perspective\n",
    "  \"\"\"\n",
    "\n",
    "  ## first build bigram from the article\n",
    "\n",
    "  article_tokens = article.split()\n",
    "\n",
    "#   article_tokens = word_tokenize(article)\n",
    "    \n",
    "  dem_score = calc_wmd(article_tokens,(dem_core))\n",
    "  rela_score = calc_wmd(article_tokens,(rela_core))\n",
    "  cult_score = calc_wmd(article_tokens,(cult_core))\n",
    "  return (dem_score,rela_score,cult_score)"
   ]
  },
  {
   "cell_type": "code",
   "execution_count": 37,
   "metadata": {},
   "outputs": [
    {
     "name": "stderr",
     "output_type": "stream",
     "text": [
      "/var/folders/l0/d6tznk515rlb1sw7x2cnp5pc0000gn/T/ipykernel_50075/728712704.py:2: DeprecationWarning: Call to deprecated `wmdistance` (Method will be removed in 4.0.0, use self.wv.wmdistance() instead).\n",
      "  return w2v.wmdistance(a,b)\n"
     ]
    },
    {
     "data": {
      "text/plain": [
       "(4.295224225608303, 4.103406504450474, 4.014661249573525)"
      ]
     },
     "execution_count": 37,
     "metadata": {},
     "output_type": "execute_result"
    }
   ],
   "source": [
    "get_sims_with_perspective(cult_pos.loc[0,'processed'])"
   ]
  },
  {
   "cell_type": "code",
   "execution_count": 34,
   "metadata": {
    "id": "1Ziz5EEcjtNm"
   },
   "outputs": [],
   "source": [
    "from tqdm import tqdm\n",
    "tqdm.pandas()\n",
    "\n",
    "def get_sim_perspective(df):\n",
    "\n",
    "    \"\"\"\n",
    "    returns modified df with extra columns dem_score,rela_score,cult_score\n",
    "    denoting the wmd score calculated for each article.\n",
    "    \"\"\"\n",
    "    tqdm.pandas()\n",
    "\n",
    "    results=df['processed'].progress_apply(lambda x:get_sims_with_perspective(x))\n",
    "    dem_scores = [i[0] for i in results]\n",
    "    rela_scores = [i[1] for i in results]\n",
    "    cult_scores = [i[2] for i in results]\n",
    "    df['dem_scores'] = dem_scores\n",
    "    df['rela_scores'] = rela_scores\n",
    "    df['cult_scores']= cult_scores\n",
    "    return df"
   ]
  },
  {
   "cell_type": "code",
   "execution_count": 37,
   "metadata": {
    "colab": {
     "base_uri": "https://localhost:8080/"
    },
    "id": "7a_y_d63juIY",
    "outputId": "eb087750-f5e0-4fee-d487-eab79513b1f2",
    "scrolled": true
   },
   "outputs": [
    {
     "name": "stderr",
     "output_type": "stream",
     "text": [
      "  0%|                                                   | 0/234 [00:00<?, ?it/s]/var/folders/l0/d6tznk515rlb1sw7x2cnp5pc0000gn/T/ipykernel_14489/728712704.py:2: DeprecationWarning: Call to deprecated `wmdistance` (Method will be removed in 4.0.0, use self.wv.wmdistance() instead).\n",
      "  return w2v.wmdistance(a,b)\n",
      "100%|███████████████████████████████████████| 234/234 [1:53:03<00:00, 28.99s/it]\n",
      "  0%|                                                   | 0/475 [00:00<?, ?it/s]/var/folders/l0/d6tznk515rlb1sw7x2cnp5pc0000gn/T/ipykernel_14489/728712704.py:2: DeprecationWarning: Call to deprecated `wmdistance` (Method will be removed in 4.0.0, use self.wv.wmdistance() instead).\n",
      "  return w2v.wmdistance(a,b)\n",
      "100%|███████████████████████████████████████| 475/475 [2:32:28<00:00, 19.26s/it]\n"
     ]
    }
   ],
   "source": [
    "pos_cult = get_sim_perspective(cult_pos)\n",
    "neg_cult = get_sim_perspective(cult_neg)"
   ]
  },
  {
   "cell_type": "code",
   "execution_count": null,
   "metadata": {},
   "outputs": [],
   "source": [
    "pos_cult.to_csv('pos_cult_full_scores.csv')\n",
    "neg_cult.to_csv('neg_cult_full_scores.csv')"
   ]
  },
  {
   "cell_type": "code",
   "execution_count": null,
   "metadata": {},
   "outputs": [
    {
     "name": "stderr",
     "output_type": "stream",
     "text": [
      "  0%|                                                   | 0/256 [00:00<?, ?it/s]/var/folders/l0/d6tznk515rlb1sw7x2cnp5pc0000gn/T/ipykernel_14489/728712704.py:2: DeprecationWarning: Call to deprecated `wmdistance` (Method will be removed in 4.0.0, use self.wv.wmdistance() instead).\n",
      "  return w2v.wmdistance(a,b)\n",
      "100%|███████████████████████████████████████| 256/256 [1:07:27<00:00, 15.81s/it]\n",
      "  0%|                                           | 1/477 [00:00<00:51,  9.31it/s]/var/folders/l0/d6tznk515rlb1sw7x2cnp5pc0000gn/T/ipykernel_14489/728712704.py:2: DeprecationWarning: Call to deprecated `wmdistance` (Method will be removed in 4.0.0, use self.wv.wmdistance() instead).\n",
      "  return w2v.wmdistance(a,b)\n",
      "100%|███████████████████████████████████████| 477/477 [2:47:09<00:00, 21.03s/it]\n"
     ]
    }
   ],
   "source": [
    "pos_demog = get_sim_perspective(demog_pos)\n",
    "neg_demog = get_sim_perspective(demog_neg)\n"
   ]
  },
  {
   "cell_type": "code",
   "execution_count": null,
   "metadata": {},
   "outputs": [],
   "source": [
    "pos_demog.to_csv('pos_demog_full_scores.csv')\n",
    "neg_demog.to_csv('neg_demog_full_scores.csv')"
   ]
  },
  {
   "cell_type": "code",
   "execution_count": null,
   "metadata": {},
   "outputs": [
    {
     "name": "stderr",
     "output_type": "stream",
     "text": [
      "  0%|▏                                          | 1/287 [00:00<00:31,  9.21it/s]/var/folders/l0/d6tznk515rlb1sw7x2cnp5pc0000gn/T/ipykernel_14489/728712704.py:2: DeprecationWarning: Call to deprecated `wmdistance` (Method will be removed in 4.0.0, use self.wv.wmdistance() instead).\n",
      "  return w2v.wmdistance(a,b)\n",
      "100%|███████████████████████████████████████| 287/287 [1:46:38<00:00, 22.29s/it]\n",
      "  0%|                                                   | 0/420 [00:00<?, ?it/s]/var/folders/l0/d6tznk515rlb1sw7x2cnp5pc0000gn/T/ipykernel_14489/728712704.py:2: DeprecationWarning: Call to deprecated `wmdistance` (Method will be removed in 4.0.0, use self.wv.wmdistance() instead).\n",
      "  return w2v.wmdistance(a,b)\n",
      " 23%|█████████▏                              | 97/420 [39:02<1:11:08, 13.22s/it]"
     ]
    }
   ],
   "source": [
    "\n",
    "pos_rela = get_sim_perspective(rela_pos)\n",
    "neg_rela = get_sim_perspective(rela_neg)"
   ]
  },
  {
   "cell_type": "code",
   "execution_count": null,
   "metadata": {},
   "outputs": [],
   "source": [
    "pos_rela.to_csv('pos_rela_full_scores.csv')\n",
    "neg_rela.to_csv('neg_rela_full_scores.csv')"
   ]
  },
  {
   "cell_type": "code",
   "execution_count": 110,
   "metadata": {},
   "outputs": [],
   "source": [
    "pos_demog = pd.read_csv('pos_demog_full_scores.csv')\n",
    "neg_demog= pd.read_csv('neg_demog_full_scores.csv')\n",
    "pos_cult = pd.read_csv('pos_cult_full_scores.csv')\n",
    "neg_cult= pd.read_csv('neg_cult_full_scores.csv')\n",
    "pos_rela = pd.read_csv('pos_rela_full_scores.csv')\n",
    "neg_rela= pd.read_csv('neg_rela_full_scores.csv')"
   ]
  },
  {
   "cell_type": "code",
   "execution_count": 111,
   "metadata": {},
   "outputs": [],
   "source": [
    "pos_cult=pos_cult.rename(columns={'dem_scores':'dem_wmd', 'rela_scores':'rela_wmd', 'cult_scores':'cult_wmd'})\n",
    "neg_cult=neg_cult.rename(columns={'dem_scores':'dem_wmd', 'rela_scores':'rela_wmd', 'cult_scores':'cult_wmd'})\n",
    "\n",
    "pos_demog=pos_demog.rename(columns={'dem_scores':'dem_wmd', 'rela_scores':'rela_wmd', 'cult_scores':'cult_wmd'})\n",
    "neg_demog=neg_demog.rename(columns={'dem_scores':'dem_wmd', 'rela_scores':'rela_wmd', 'cult_scores':'cult_wmd'})\n",
    "\n",
    "pos_rela=pos_rela.rename(columns={'dem_scores':'dem_wmd', 'rela_scores':'rela_wmd', 'cult_scores':'cult_wmd'})\n",
    "neg_rela=neg_rela.rename(columns={'dem_scores':'dem_wmd', 'rela_scores':'rela_wmd', 'cult_scores':'cult_wmd'})"
   ]
  },
  {
   "cell_type": "markdown",
   "metadata": {
    "id": "25usK4EBjXoM"
   },
   "source": [
    "## Calculate cosine similarity score between the article and each perspective"
   ]
  },
  {
   "cell_type": "markdown",
   "metadata": {
    "id": "LQTJDmbcj3-8"
   },
   "source": [
    "Using Word2Vec to get vector representations of the text in each jstor article, average them to get the article embedding, then calculate cosine similarity between the embedding of each article and average w2v vector for each perspective."
   ]
  },
  {
   "cell_type": "markdown",
   "metadata": {
    "id": "XJ2kEH8wjjF2"
   },
   "source": [
    "reference: https://github.com/h2researchgroup/embeddings/blob/main/preprocessing/cosine_values_calculate_word2vec.py"
   ]
  },
  {
   "cell_type": "code",
   "execution_count": 34,
   "metadata": {
    "id": "B1DZj9J3pf63"
   },
   "outputs": [],
   "source": [
    "cult_core_embs=[]\n",
    "for x in cult_core:\n",
    "  try:\n",
    "    cult_core_embs.append(w2v.wv[x])\n",
    "  except:\n",
    "    pass\n"
   ]
  },
  {
   "cell_type": "code",
   "execution_count": 35,
   "metadata": {
    "id": "iagTUAI2W4kK"
   },
   "outputs": [],
   "source": [
    "demog_core_embs=[]\n",
    "for x in dem_core:\n",
    "  try:\n",
    "    demog_core_embs.append(w2v.wv[x])\n",
    "  except:\n",
    "    pass\n"
   ]
  },
  {
   "cell_type": "code",
   "execution_count": 36,
   "metadata": {
    "id": "ciBztsAbYpJN"
   },
   "outputs": [],
   "source": [
    "rela_core_embs=[]\n",
    "for x in rela_core:\n",
    "  try:\n",
    "    rela_core_embs.append(w2v.wv[x])\n",
    "  except:\n",
    "    pass\n"
   ]
  },
  {
   "cell_type": "code",
   "execution_count": 112,
   "metadata": {
    "id": "gCPBxyzkY3dF"
   },
   "outputs": [],
   "source": [
    "import numpy as np\n",
    "rela_core_embs_mean = np.mean(rela_core_embs, axis=0)\n",
    "cult_core_embs_mean = np.mean(cult_core_embs, axis=0)\n",
    "demog_core_embs_mean = np.mean(demog_core_embs, axis=0)"
   ]
  },
  {
   "cell_type": "code",
   "execution_count": 113,
   "metadata": {},
   "outputs": [],
   "source": [
    "def doc_words_cosine(doc):\n",
    "    \"\"\"\n",
    "  doc = str of text\n",
    "  get cosine similarity scores between the document embedding and average emb of the core terms in each perspective.\n",
    "  \"\"\"\n",
    "#     ss = [doc.split()]\n",
    "#     bb = build_phrases(ss)\n",
    "#     pb = [bb[i] for i in ss][0]\n",
    "    tokens = doc.split()\n",
    "    article_embs=[]\n",
    "    for k in tokens:\n",
    "      try:\n",
    "        article_embs.append(w2v.wv[k])\n",
    "      except:\n",
    "        pass\n",
    "    doc_vec = np.mean(np.array(article_embs), axis=0)\n",
    "    cult_sim = absolute(dot(doc_vec, cult_core_embs_mean)/(norm(doc_vec)*norm(cult_core_embs_mean)))\n",
    "    rela_sim = absolute(dot(doc_vec, rela_core_embs_mean)/(norm(doc_vec)*norm(rela_core_embs_mean)))\n",
    "    demog_sim = absolute(dot(doc_vec, demog_core_embs_mean)/(norm(doc_vec)*norm(demog_core_embs_mean)))\n",
    "    return (demog_sim,rela_sim,cult_sim)"
   ]
  },
  {
   "cell_type": "code",
   "execution_count": 114,
   "metadata": {
    "id": "h7j1QLp6bpYA"
   },
   "outputs": [],
   "source": [
    "def apply_doc_words_cosine(df):\n",
    "\n",
    "  \"\"\"\n",
    "  applies doc_words_cosine on the processed texts in each df\n",
    "  returns modified df with new columns dem_sim,rela_sim,cult_sim\n",
    "  \"\"\"\n",
    "\n",
    "  results=df['processed'].apply(lambda x:doc_words_cosine(x))\n",
    "  dem_scores = [i[0] for i in results]\n",
    "  rela_scores = [i[1] for i in results]\n",
    "  cult_scores = [i[2] for i in results]\n",
    "  df['dem_sim'] = dem_scores\n",
    "  df['rela_sim'] = rela_scores\n",
    "  df['cult_sim']= cult_scores\n",
    "\n",
    "  return df"
   ]
  },
  {
   "cell_type": "code",
   "execution_count": 115,
   "metadata": {
    "id": "sallbHzTevKS",
    "scrolled": true
   },
   "outputs": [],
   "source": [
    "pos_cult = apply_doc_words_cosine(pos_cult)\n",
    "neg_cult = apply_doc_words_cosine(neg_cult)\n",
    "\n",
    "pos_demog = apply_doc_words_cosine(pos_demog)\n",
    "neg_demog = apply_doc_words_cosine(neg_demog)\n",
    "\n",
    "pos_rela = apply_doc_words_cosine(pos_rela)\n",
    "neg_rela = apply_doc_words_cosine(neg_rela)"
   ]
  },
  {
   "cell_type": "markdown",
   "metadata": {
    "id": "_XIYEuokkUsK"
   },
   "source": [
    "To classify an article with WMD, get the perspective with the smallest distance."
   ]
  },
  {
   "cell_type": "code",
   "execution_count": 117,
   "metadata": {
    "id": "E4XqjL8VfNRu",
    "scrolled": true
   },
   "outputs": [],
   "source": [
    "pos_rela['classified_perspective_wmd']=pos_rela.apply(lambda x:np.argmin([x.dem_wmd,x.rela_wmd,x.cult_wmd]),axis=1)\n",
    "neg_rela['classified_perspective_wmd']=neg_rela.apply(lambda x:np.argmin([x.dem_wmd,x.rela_wmd,x.cult_wmd]),axis=1)\n",
    "pos_cult['classified_perspective_wmd']=pos_cult.apply(lambda x:np.argmin([x.dem_wmd,x.rela_wmd,x.cult_wmd]),axis=1)\n",
    "neg_cult['classified_perspective_wmd']=neg_cult.apply(lambda x:np.argmin([x.dem_wmd,x.rela_wmd,x.cult_wmd]),axis=1)\n",
    "pos_demog['classified_perspective_wmd']=pos_demog.apply(lambda x:np.argmin([x.dem_wmd,x.rela_wmd,x.cult_wmd]),axis=1)\n",
    "neg_demog['classified_perspective_wmd']=neg_demog.apply(lambda x:np.argmin([x.dem_wmd,x.rela_wmd,x.cult_wmd]),axis=1)"
   ]
  },
  {
   "cell_type": "code",
   "execution_count": 118,
   "metadata": {
    "id": "YM0DnZeUgX59"
   },
   "outputs": [],
   "source": [
    "perspective_dict={0:'demographic', 1:'relational', 2:'cultural'}"
   ]
  },
  {
   "cell_type": "code",
   "execution_count": 119,
   "metadata": {
    "id": "Y78bkczvhPGo"
   },
   "outputs": [],
   "source": [
    "pos_rela['classified_perspective_wmd'] = pos_rela['classified_perspective_wmd'].replace(perspective_dict)\n",
    "neg_rela['classified_perspective_wmd'] = neg_rela['classified_perspective_wmd'].replace(perspective_dict)\n",
    "pos_cult['classified_perspective_wmd'] = pos_cult['classified_perspective_wmd'].replace(perspective_dict)\n",
    "neg_cult['classified_perspective_wmd'] = neg_cult['classified_perspective_wmd'].replace(perspective_dict)\n",
    "pos_demog['classified_perspective_wmd'] = pos_demog['classified_perspective_wmd'].replace(perspective_dict)\n",
    "neg_demog['classified_perspective_wmd'] = neg_demog['classified_perspective_wmd'].replace(perspective_dict)"
   ]
  },
  {
   "cell_type": "markdown",
   "metadata": {
    "id": "u80Z_TaWkd5Y"
   },
   "source": [
    "To classify an article with cosine similarity, get the perspective with the biggest cosine similarity."
   ]
  },
  {
   "cell_type": "code",
   "execution_count": 120,
   "metadata": {
    "id": "mRLewgkNh3e3"
   },
   "outputs": [],
   "source": [
    "pos_rela['classified_perspective_cos']=pos_rela.apply(lambda x:np.argmax([x.dem_sim,x.rela_sim,x.cult_sim]),axis=1)\n",
    "neg_rela['classified_perspective_cos']=neg_rela.apply(lambda x:np.argmax([x.dem_sim,x.rela_sim,x.cult_sim]),axis=1)\n",
    "pos_cult['classified_perspective_cos']=pos_cult.apply(lambda x:np.argmax([x.dem_sim,x.rela_sim,x.cult_sim]),axis=1)\n",
    "neg_cult['classified_perspective_cos']=neg_cult.apply(lambda x:np.argmax([x.dem_sim,x.rela_sim,x.cult_sim]),axis=1)\n",
    "pos_demog['classified_perspective_cos']=pos_demog.apply(lambda x:np.argmax([x.dem_sim,x.rela_sim,x.cult_sim]),axis=1)\n",
    "neg_demog['classified_perspective_cos']=neg_demog.apply(lambda x:np.argmax([x.dem_sim,x.rela_sim,x.cult_sim]),axis=1)"
   ]
  },
  {
   "cell_type": "code",
   "execution_count": 121,
   "metadata": {
    "id": "Ayn8rRRViJkn"
   },
   "outputs": [],
   "source": [
    "pos_rela['classified_perspective_cos'] = pos_rela['classified_perspective_cos'].replace(perspective_dict)\n",
    "neg_rela['classified_perspective_cos'] = neg_rela['classified_perspective_cos'].replace(perspective_dict)\n",
    "pos_cult['classified_perspective_cos'] = pos_cult['classified_perspective_cos'].replace(perspective_dict)\n",
    "neg_cult['classified_perspective_cos'] = neg_cult['classified_perspective_cos'].replace(perspective_dict)\n",
    "pos_demog['classified_perspective_cos'] = pos_demog['classified_perspective_cos'].replace(perspective_dict)\n",
    "neg_demog['classified_perspective_cos'] = neg_demog['classified_perspective_cos'].replace(perspective_dict)"
   ]
  },
  {
   "cell_type": "code",
   "execution_count": 122,
   "metadata": {},
   "outputs": [],
   "source": [
    "pos_cult=pos_cult.rename(columns={'dem_sim':'dem_cos_sim', 'rela_sim':'rela_cos_sim', 'cult_sim':'cult_cos_sim'})\n",
    "neg_cult=neg_cult.rename(columns={'dem_sim':'dem_cos_sim', 'rela_sim':'rela_cos_sim', 'cult_sim':'cult_cos_sim'})\n",
    "\n",
    "pos_demog=pos_demog.rename(columns={'dem_sim':'dem_cos_sim', 'rela_sim':'rela_cos_sim', 'cult_sim':'cult_cos_sim'})\n",
    "neg_demog=neg_demog.rename(columns={'dem_sim':'dem_cos_sim', 'rela_sim':'rela_cos_sim', 'cult_sim':'cult_cos_sim'})\n",
    "\n",
    "pos_rela=pos_rela.rename(columns={'dem_sim':'dem_cos_sim', 'rela_sim':'rela_cos_sim', 'cult_sim':'cult_cos_sim'})\n",
    "neg_rela=neg_rela.rename(columns={'dem_sim':'dem_cos_sim', 'rela_sim':'rela_cos_sim', 'cult_sim':'cult_cos_sim'})"
   ]
  },
  {
   "cell_type": "code",
   "execution_count": 125,
   "metadata": {
    "scrolled": true
   },
   "outputs": [
    {
     "data": {
      "text/html": [
       "<div>\n",
       "<style scoped>\n",
       "    .dataframe tbody tr th:only-of-type {\n",
       "        vertical-align: middle;\n",
       "    }\n",
       "\n",
       "    .dataframe tbody tr th {\n",
       "        vertical-align: top;\n",
       "    }\n",
       "\n",
       "    .dataframe thead th {\n",
       "        text-align: right;\n",
       "    }\n",
       "</style>\n",
       "<table border=\"1\" class=\"dataframe\">\n",
       "  <thead>\n",
       "    <tr style=\"text-align: right;\">\n",
       "      <th></th>\n",
       "      <th>Unnamed: 0</th>\n",
       "      <th>index</th>\n",
       "      <th>text</th>\n",
       "      <th>cultural_score</th>\n",
       "      <th>primary_subject</th>\n",
       "      <th>edited_filename</th>\n",
       "      <th>article_name</th>\n",
       "      <th>full_text</th>\n",
       "      <th>text_no_tags</th>\n",
       "      <th>processed</th>\n",
       "      <th>dem_wmd</th>\n",
       "      <th>rela_wmd</th>\n",
       "      <th>cult_wmd</th>\n",
       "      <th>dem_cos_sim</th>\n",
       "      <th>rela_cos_sim</th>\n",
       "      <th>cult_cos_sim</th>\n",
       "      <th>classified_perspective_wmd</th>\n",
       "      <th>classified_perspective_cos</th>\n",
       "    </tr>\n",
       "  </thead>\n",
       "  <tbody>\n",
       "    <tr>\n",
       "      <th>0</th>\n",
       "      <td>0</td>\n",
       "      <td>0</td>\n",
       "      <td>[['Where', 'Do', 'Interorganizational', 'Netwo...</td>\n",
       "      <td>0.0</td>\n",
       "      <td>Sociology</td>\n",
       "      <td>10.1086_210179</td>\n",
       "      <td>Where Do Interorganizational Networks Come From?</td>\n",
       "      <td>Where Do Interorganizational Networks Come Fro...</td>\n",
       "      <td>Where Do Interorganizational Networks Come Fro...</td>\n",
       "      <td>interorganizational networks come ranjay gula...</td>\n",
       "      <td>4.133519</td>\n",
       "      <td>3.791740</td>\n",
       "      <td>3.921651</td>\n",
       "      <td>0.654313</td>\n",
       "      <td>0.782101</td>\n",
       "      <td>0.640492</td>\n",
       "      <td>relational</td>\n",
       "      <td>relational</td>\n",
       "    </tr>\n",
       "    <tr>\n",
       "      <th>1</th>\n",
       "      <td>1</td>\n",
       "      <td>2</td>\n",
       "      <td>[['Between', 'Markets', 'and', 'Politics:', 'O...</td>\n",
       "      <td>0.0</td>\n",
       "      <td>Sociology</td>\n",
       "      <td>10.1086_231084</td>\n",
       "      <td>Between Markets and Politics: Organizational R...</td>\n",
       "      <td>Between Markets and Politics: Organizational R...</td>\n",
       "      <td>Between Markets and Politics: Organizational R...</td>\n",
       "      <td>markets politics organizational responses ref...</td>\n",
       "      <td>4.135670</td>\n",
       "      <td>3.896682</td>\n",
       "      <td>3.882817</td>\n",
       "      <td>0.619164</td>\n",
       "      <td>0.703068</td>\n",
       "      <td>0.625492</td>\n",
       "      <td>cultural</td>\n",
       "      <td>relational</td>\n",
       "    </tr>\n",
       "    <tr>\n",
       "      <th>2</th>\n",
       "      <td>2</td>\n",
       "      <td>7</td>\n",
       "      <td>[['&lt;body', 'xmlns:xlink=\"http://www..org//xlin...</td>\n",
       "      <td>0.0</td>\n",
       "      <td>Sociology</td>\n",
       "      <td>10.1086_657524</td>\n",
       "      <td>Corporate Unity in American Trade Policy: A Ne...</td>\n",
       "      <td>&lt;body xmlns:xlink=\"http://www..org//xlink\" xml...</td>\n",
       "      <td>Introduction The rise of neoliberal trade pol...</td>\n",
       "      <td>introduction rise neoliberal trade policy emb...</td>\n",
       "      <td>4.245731</td>\n",
       "      <td>3.870278</td>\n",
       "      <td>3.982369</td>\n",
       "      <td>0.599793</td>\n",
       "      <td>0.777399</td>\n",
       "      <td>0.632189</td>\n",
       "      <td>relational</td>\n",
       "      <td>relational</td>\n",
       "    </tr>\n",
       "    <tr>\n",
       "      <th>3</th>\n",
       "      <td>3</td>\n",
       "      <td>9</td>\n",
       "      <td>[['Science,', 'Health,', 'and', 'Nationhood', ...</td>\n",
       "      <td>0.0</td>\n",
       "      <td>Sociology</td>\n",
       "      <td>10.1525_irqr.2011.4.3.199</td>\n",
       "      <td>Science, Health, and Nationhood</td>\n",
       "      <td>Science, Health, and Nationhood Methodological...</td>\n",
       "      <td>Science, Health, and Nationhood Methodological...</td>\n",
       "      <td>science health nationhood methodological path...</td>\n",
       "      <td>4.213399</td>\n",
       "      <td>4.067452</td>\n",
       "      <td>3.831603</td>\n",
       "      <td>0.561955</td>\n",
       "      <td>0.580864</td>\n",
       "      <td>0.700933</td>\n",
       "      <td>cultural</td>\n",
       "      <td>cultural</td>\n",
       "    </tr>\n",
       "    <tr>\n",
       "      <th>4</th>\n",
       "      <td>4</td>\n",
       "      <td>10</td>\n",
       "      <td>[['Negotiated', 'Orders:', 'The', 'Negotiation...</td>\n",
       "      <td>0.0</td>\n",
       "      <td>Sociology</td>\n",
       "      <td>10.1525_si.1994.17.2.165</td>\n",
       "      <td>Negotiated Orders: The Negotiation of Directiv...</td>\n",
       "      <td>Negotiated Orders: The Negotiation of Directiv...</td>\n",
       "      <td>Negotiated Orders: The Negotiation of Directiv...</td>\n",
       "      <td>negotiated orders negotiation directives para...</td>\n",
       "      <td>4.492472</td>\n",
       "      <td>4.330858</td>\n",
       "      <td>4.210306</td>\n",
       "      <td>0.486194</td>\n",
       "      <td>0.539144</td>\n",
       "      <td>0.556231</td>\n",
       "      <td>cultural</td>\n",
       "      <td>cultural</td>\n",
       "    </tr>\n",
       "    <tr>\n",
       "      <th>...</th>\n",
       "      <td>...</td>\n",
       "      <td>...</td>\n",
       "      <td>...</td>\n",
       "      <td>...</td>\n",
       "      <td>...</td>\n",
       "      <td>...</td>\n",
       "      <td>...</td>\n",
       "      <td>...</td>\n",
       "      <td>...</td>\n",
       "      <td>...</td>\n",
       "      <td>...</td>\n",
       "      <td>...</td>\n",
       "      <td>...</td>\n",
       "      <td>...</td>\n",
       "      <td>...</td>\n",
       "      <td>...</td>\n",
       "      <td>...</td>\n",
       "      <td>...</td>\n",
       "    </tr>\n",
       "    <tr>\n",
       "      <th>470</th>\n",
       "      <td>470</td>\n",
       "      <td>621</td>\n",
       "      <td>[['gmibrown.qxd', 'Page', 'The', 'Meta-trend',...</td>\n",
       "      <td>0.0</td>\n",
       "      <td>Management &amp; Organizational Behavior</td>\n",
       "      <td>10.2307_greemanainte.54.53</td>\n",
       "      <td>The Meta-trend Stakeholder Profile: Impacts on...</td>\n",
       "      <td>gmibrown.qxd Page The Meta-trend Stakeholder P...</td>\n",
       "      <td>gmibrown.qxd Page The Meta-trend Stakeholder P...</td>\n",
       "      <td>gmibrown qxd page meta trend stakeholder prof...</td>\n",
       "      <td>4.278088</td>\n",
       "      <td>4.086866</td>\n",
       "      <td>4.069789</td>\n",
       "      <td>0.590667</td>\n",
       "      <td>0.677445</td>\n",
       "      <td>0.573609</td>\n",
       "      <td>cultural</td>\n",
       "      <td>relational</td>\n",
       "    </tr>\n",
       "    <tr>\n",
       "      <th>471</th>\n",
       "      <td>471</td>\n",
       "      <td>623</td>\n",
       "      <td>[['jcc.waddock', 'pm', 'Page', 'Learning', 'fr...</td>\n",
       "      <td>0.0</td>\n",
       "      <td>Management &amp; Organizational Behavior</td>\n",
       "      <td>10.2307_jcorpciti.11.51</td>\n",
       "      <td>Learning from Experience: The United Nations G...</td>\n",
       "      <td>jcc.waddock pm Page Learning from Experience T...</td>\n",
       "      <td>jcc.waddock pm Page Learning from Experience T...</td>\n",
       "      <td>jcc waddock pm page learning experience unite...</td>\n",
       "      <td>4.183009</td>\n",
       "      <td>3.956744</td>\n",
       "      <td>3.857287</td>\n",
       "      <td>0.578491</td>\n",
       "      <td>0.670543</td>\n",
       "      <td>0.657430</td>\n",
       "      <td>cultural</td>\n",
       "      <td>relational</td>\n",
       "    </tr>\n",
       "    <tr>\n",
       "      <th>472</th>\n",
       "      <td>472</td>\n",
       "      <td>625</td>\n",
       "      <td>[['jccstevulak.qxd', 'Page', 'Supply-Side', 'C...</td>\n",
       "      <td>0.0</td>\n",
       "      <td>Management &amp; Organizational Behavior</td>\n",
       "      <td>10.2307_jcorpciti.29.33</td>\n",
       "      <td>Supply-Side Corruption: Perspectives on a Tril...</td>\n",
       "      <td>jccstevulak.qxd Page Supply-Side Corruption Pe...</td>\n",
       "      <td>jccstevulak.qxd Page Supply-Side Corruption Pe...</td>\n",
       "      <td>jccstevulak qxd page supply side corruption p...</td>\n",
       "      <td>4.303510</td>\n",
       "      <td>4.048736</td>\n",
       "      <td>3.987552</td>\n",
       "      <td>0.523482</td>\n",
       "      <td>0.648969</td>\n",
       "      <td>0.617711</td>\n",
       "      <td>cultural</td>\n",
       "      <td>relational</td>\n",
       "    </tr>\n",
       "    <tr>\n",
       "      <th>473</th>\n",
       "      <td>473</td>\n",
       "      <td>626</td>\n",
       "      <td>[['jccmason.qxd', 'Page', 'Post-traditional', ...</td>\n",
       "      <td>0.0</td>\n",
       "      <td>Management &amp; Organizational Behavior</td>\n",
       "      <td>10.2307_jcorpciti.31.31</td>\n",
       "      <td>Post-traditional Corporate Governance</td>\n",
       "      <td>jccmason.qxd Page Post-traditional Corporate G...</td>\n",
       "      <td>jccmason.qxd Page Post-traditional Corporate G...</td>\n",
       "      <td>jccmason qxd page post traditional corporate ...</td>\n",
       "      <td>4.210057</td>\n",
       "      <td>3.927020</td>\n",
       "      <td>3.875391</td>\n",
       "      <td>0.586157</td>\n",
       "      <td>0.714379</td>\n",
       "      <td>0.691034</td>\n",
       "      <td>cultural</td>\n",
       "      <td>relational</td>\n",
       "    </tr>\n",
       "    <tr>\n",
       "      <th>474</th>\n",
       "      <td>474</td>\n",
       "      <td>627</td>\n",
       "      <td>[['Turning', 'Point', 'Business', 'as', 'Vocat...</td>\n",
       "      <td>0.0</td>\n",
       "      <td>Management &amp; Organizational Behavior</td>\n",
       "      <td>10.2307_jcorpciti.55.9</td>\n",
       "      <td>Business as a Vocation</td>\n",
       "      <td>Turning Point Business as Vocation Sir Mark Mo...</td>\n",
       "      <td>Turning Point Business as Vocation Sir Mark Mo...</td>\n",
       "      <td>turning point business vocation sir mark mood...</td>\n",
       "      <td>4.266350</td>\n",
       "      <td>3.999709</td>\n",
       "      <td>3.936673</td>\n",
       "      <td>0.550927</td>\n",
       "      <td>0.643771</td>\n",
       "      <td>0.644758</td>\n",
       "      <td>cultural</td>\n",
       "      <td>cultural</td>\n",
       "    </tr>\n",
       "  </tbody>\n",
       "</table>\n",
       "<p>475 rows × 18 columns</p>\n",
       "</div>"
      ],
      "text/plain": [
       "     Unnamed: 0  index                                               text  \\\n",
       "0             0      0  [['Where', 'Do', 'Interorganizational', 'Netwo...   \n",
       "1             1      2  [['Between', 'Markets', 'and', 'Politics:', 'O...   \n",
       "2             2      7  [['<body', 'xmlns:xlink=\"http://www..org//xlin...   \n",
       "3             3      9  [['Science,', 'Health,', 'and', 'Nationhood', ...   \n",
       "4             4     10  [['Negotiated', 'Orders:', 'The', 'Negotiation...   \n",
       "..          ...    ...                                                ...   \n",
       "470         470    621  [['gmibrown.qxd', 'Page', 'The', 'Meta-trend',...   \n",
       "471         471    623  [['jcc.waddock', 'pm', 'Page', 'Learning', 'fr...   \n",
       "472         472    625  [['jccstevulak.qxd', 'Page', 'Supply-Side', 'C...   \n",
       "473         473    626  [['jccmason.qxd', 'Page', 'Post-traditional', ...   \n",
       "474         474    627  [['Turning', 'Point', 'Business', 'as', 'Vocat...   \n",
       "\n",
       "     cultural_score                       primary_subject  \\\n",
       "0               0.0                             Sociology   \n",
       "1               0.0                             Sociology   \n",
       "2               0.0                             Sociology   \n",
       "3               0.0                             Sociology   \n",
       "4               0.0                             Sociology   \n",
       "..              ...                                   ...   \n",
       "470             0.0  Management & Organizational Behavior   \n",
       "471             0.0  Management & Organizational Behavior   \n",
       "472             0.0  Management & Organizational Behavior   \n",
       "473             0.0  Management & Organizational Behavior   \n",
       "474             0.0  Management & Organizational Behavior   \n",
       "\n",
       "                edited_filename  \\\n",
       "0                10.1086_210179   \n",
       "1                10.1086_231084   \n",
       "2                10.1086_657524   \n",
       "3     10.1525_irqr.2011.4.3.199   \n",
       "4      10.1525_si.1994.17.2.165   \n",
       "..                          ...   \n",
       "470  10.2307_greemanainte.54.53   \n",
       "471     10.2307_jcorpciti.11.51   \n",
       "472     10.2307_jcorpciti.29.33   \n",
       "473     10.2307_jcorpciti.31.31   \n",
       "474      10.2307_jcorpciti.55.9   \n",
       "\n",
       "                                          article_name  \\\n",
       "0     Where Do Interorganizational Networks Come From?   \n",
       "1    Between Markets and Politics: Organizational R...   \n",
       "2    Corporate Unity in American Trade Policy: A Ne...   \n",
       "3                      Science, Health, and Nationhood   \n",
       "4    Negotiated Orders: The Negotiation of Directiv...   \n",
       "..                                                 ...   \n",
       "470  The Meta-trend Stakeholder Profile: Impacts on...   \n",
       "471  Learning from Experience: The United Nations G...   \n",
       "472  Supply-Side Corruption: Perspectives on a Tril...   \n",
       "473              Post-traditional Corporate Governance   \n",
       "474                             Business as a Vocation   \n",
       "\n",
       "                                             full_text  \\\n",
       "0    Where Do Interorganizational Networks Come Fro...   \n",
       "1    Between Markets and Politics: Organizational R...   \n",
       "2    <body xmlns:xlink=\"http://www..org//xlink\" xml...   \n",
       "3    Science, Health, and Nationhood Methodological...   \n",
       "4    Negotiated Orders: The Negotiation of Directiv...   \n",
       "..                                                 ...   \n",
       "470  gmibrown.qxd Page The Meta-trend Stakeholder P...   \n",
       "471  jcc.waddock pm Page Learning from Experience T...   \n",
       "472  jccstevulak.qxd Page Supply-Side Corruption Pe...   \n",
       "473  jccmason.qxd Page Post-traditional Corporate G...   \n",
       "474  Turning Point Business as Vocation Sir Mark Mo...   \n",
       "\n",
       "                                          text_no_tags  \\\n",
       "0    Where Do Interorganizational Networks Come Fro...   \n",
       "1    Between Markets and Politics: Organizational R...   \n",
       "2     Introduction The rise of neoliberal trade pol...   \n",
       "3    Science, Health, and Nationhood Methodological...   \n",
       "4    Negotiated Orders: The Negotiation of Directiv...   \n",
       "..                                                 ...   \n",
       "470  gmibrown.qxd Page The Meta-trend Stakeholder P...   \n",
       "471  jcc.waddock pm Page Learning from Experience T...   \n",
       "472  jccstevulak.qxd Page Supply-Side Corruption Pe...   \n",
       "473  jccmason.qxd Page Post-traditional Corporate G...   \n",
       "474  Turning Point Business as Vocation Sir Mark Mo...   \n",
       "\n",
       "                                             processed   dem_wmd  rela_wmd  \\\n",
       "0     interorganizational networks come ranjay gula...  4.133519  3.791740   \n",
       "1     markets politics organizational responses ref...  4.135670  3.896682   \n",
       "2     introduction rise neoliberal trade policy emb...  4.245731  3.870278   \n",
       "3     science health nationhood methodological path...  4.213399  4.067452   \n",
       "4     negotiated orders negotiation directives para...  4.492472  4.330858   \n",
       "..                                                 ...       ...       ...   \n",
       "470   gmibrown qxd page meta trend stakeholder prof...  4.278088  4.086866   \n",
       "471   jcc waddock pm page learning experience unite...  4.183009  3.956744   \n",
       "472   jccstevulak qxd page supply side corruption p...  4.303510  4.048736   \n",
       "473   jccmason qxd page post traditional corporate ...  4.210057  3.927020   \n",
       "474   turning point business vocation sir mark mood...  4.266350  3.999709   \n",
       "\n",
       "     cult_wmd  dem_cos_sim  rela_cos_sim  cult_cos_sim  \\\n",
       "0    3.921651     0.654313      0.782101      0.640492   \n",
       "1    3.882817     0.619164      0.703068      0.625492   \n",
       "2    3.982369     0.599793      0.777399      0.632189   \n",
       "3    3.831603     0.561955      0.580864      0.700933   \n",
       "4    4.210306     0.486194      0.539144      0.556231   \n",
       "..        ...          ...           ...           ...   \n",
       "470  4.069789     0.590667      0.677445      0.573609   \n",
       "471  3.857287     0.578491      0.670543      0.657430   \n",
       "472  3.987552     0.523482      0.648969      0.617711   \n",
       "473  3.875391     0.586157      0.714379      0.691034   \n",
       "474  3.936673     0.550927      0.643771      0.644758   \n",
       "\n",
       "    classified_perspective_wmd classified_perspective_cos  \n",
       "0                   relational                 relational  \n",
       "1                     cultural                 relational  \n",
       "2                   relational                 relational  \n",
       "3                     cultural                   cultural  \n",
       "4                     cultural                   cultural  \n",
       "..                         ...                        ...  \n",
       "470                   cultural                 relational  \n",
       "471                   cultural                 relational  \n",
       "472                   cultural                 relational  \n",
       "473                   cultural                 relational  \n",
       "474                   cultural                   cultural  \n",
       "\n",
       "[475 rows x 18 columns]"
      ]
     },
     "execution_count": 125,
     "metadata": {},
     "output_type": "execute_result"
    }
   ],
   "source": [
    "neg_cult"
   ]
  },
  {
   "cell_type": "code",
   "execution_count": 126,
   "metadata": {},
   "outputs": [],
   "source": [
    "from sklearn.preprocessing import normalize\n",
    "def normalize_invert_wmd(df):\n",
    "    \"\"\"\n",
    "    normalize the wmd, then invert it (1- normalized wmd),\n",
    "    also normalize cosine simiarlity score.\n",
    "    \n",
    "    \"\"\"\n",
    "    dem_wmd=df.dem_wmd\n",
    "    rela_wmd=df.rela_wmd\n",
    "    cult_wmd=df.cult_wmd\n",
    "    \n",
    "    dem_cos = df.dem_cos_sim\n",
    "    rela_cos = df.rela_cos_sim\n",
    "    cult_cos = df.cult_cos_sim\n",
    "    \n",
    "    normalized_dem_wmd,normalized_rela_wmd,normalized_cult_wmd = [],[],[]\n",
    "    normalized_dem_cos,normalized_rela_cos,normalized_cult_cos = [],[],[]\n",
    "    \n",
    "    for i in np.arange(len(df)):\n",
    "      \n",
    "        normalized_inverted_3_scores_wmd = 1 - normalize([[dem_wmd[i],rela_wmd[i], cult_wmd[i]]])\n",
    "#         print(normalized_inverted_3_scores)\n",
    "        normalized_dem_wmd.append(normalized_inverted_3_scores_wmd[0][0])\n",
    "        normalized_rela_wmd.append(normalized_inverted_3_scores_wmd[0][1])\n",
    "        normalized_cult_wmd.append(normalized_inverted_3_scores_wmd[0][2])\n",
    "        \n",
    "  \n",
    "        normalized_inverted_3_scores_cos = normalize([[dem_cos[i],rela_cos[i], cult_cos[i]]])\n",
    "        \n",
    "        normalized_dem_cos.append(normalized_inverted_3_scores_cos[0][0])\n",
    "        normalized_rela_cos.append(normalized_inverted_3_scores_cos[0][1])\n",
    "        normalized_cult_cos.append(normalized_inverted_3_scores_cos[0][2])\n",
    "        \n",
    "    df['normalized_dem_wmd']=normalized_dem_wmd\n",
    "    df['normalized_rela_wmd']=normalized_rela_wmd\n",
    "    df['normalized_cult_wmd']=normalized_cult_wmd\n",
    "    \n",
    "    df['normalized_dem_cos']=normalized_dem_cos\n",
    "    df['normalized_rela_cos']=normalized_rela_cos\n",
    "    df['normalized_cult_cos']=normalized_cult_cos\n",
    "    \n",
    "    return df\n",
    "        "
   ]
  },
  {
   "cell_type": "code",
   "execution_count": 127,
   "metadata": {
    "scrolled": true
   },
   "outputs": [],
   "source": [
    "pos_cult = normalize_invert_wmd(pos_cult.reset_index())\n",
    "neg_cult = normalize_invert_wmd(neg_cult.reset_index())\n",
    "\n",
    "pos_demog = normalize_invert_wmd(pos_demog.reset_index())\n",
    "neg_demog = normalize_invert_wmd(neg_demog.reset_index())\n",
    "\n",
    "pos_rela = normalize_invert_wmd(pos_rela)\n",
    "neg_rela = normalize_invert_wmd(neg_rela)"
   ]
  },
  {
   "cell_type": "code",
   "execution_count": 128,
   "metadata": {
    "scrolled": true
   },
   "outputs": [
    {
     "data": {
      "text/html": [
       "<div>\n",
       "<style scoped>\n",
       "    .dataframe tbody tr th:only-of-type {\n",
       "        vertical-align: middle;\n",
       "    }\n",
       "\n",
       "    .dataframe tbody tr th {\n",
       "        vertical-align: top;\n",
       "    }\n",
       "\n",
       "    .dataframe thead th {\n",
       "        text-align: right;\n",
       "    }\n",
       "</style>\n",
       "<table border=\"1\" class=\"dataframe\">\n",
       "  <thead>\n",
       "    <tr style=\"text-align: right;\">\n",
       "      <th></th>\n",
       "      <th>Unnamed: 0</th>\n",
       "      <th>index</th>\n",
       "      <th>text</th>\n",
       "      <th>relational_score</th>\n",
       "      <th>primary_subject</th>\n",
       "      <th>edited_filename</th>\n",
       "      <th>article_name</th>\n",
       "      <th>full_text</th>\n",
       "      <th>text_no_tags</th>\n",
       "      <th>processed</th>\n",
       "      <th>...</th>\n",
       "      <th>rela_cos_sim</th>\n",
       "      <th>cult_cos_sim</th>\n",
       "      <th>classified_perspective_wmd</th>\n",
       "      <th>classified_perspective_cos</th>\n",
       "      <th>normalized_dem_wmd</th>\n",
       "      <th>normalized_rela_wmd</th>\n",
       "      <th>normalized_cult_wmd</th>\n",
       "      <th>normalized_dem_cos</th>\n",
       "      <th>normalized_rela_cos</th>\n",
       "      <th>normalized_cult_cos</th>\n",
       "    </tr>\n",
       "  </thead>\n",
       "  <tbody>\n",
       "    <tr>\n",
       "      <th>0</th>\n",
       "      <td>0</td>\n",
       "      <td>0</td>\n",
       "      <td>[['Where', 'Do', 'Interorganizational', 'Netwo...</td>\n",
       "      <td>1.0</td>\n",
       "      <td>Sociology</td>\n",
       "      <td>10.1086_210179</td>\n",
       "      <td>Where Do Interorganizational Networks Come From?</td>\n",
       "      <td>Where Do Interorganizational Networks Come Fro...</td>\n",
       "      <td>Where Do Interorganizational Networks Come Fro...</td>\n",
       "      <td>interorganizational networks come ranjay gula...</td>\n",
       "      <td>...</td>\n",
       "      <td>0.782101</td>\n",
       "      <td>0.640492</td>\n",
       "      <td>relational</td>\n",
       "      <td>relational</td>\n",
       "      <td>0.396052</td>\n",
       "      <td>0.445990</td>\n",
       "      <td>0.427008</td>\n",
       "      <td>0.543371</td>\n",
       "      <td>0.649491</td>\n",
       "      <td>0.531892</td>\n",
       "    </tr>\n",
       "    <tr>\n",
       "      <th>1</th>\n",
       "      <td>1</td>\n",
       "      <td>2</td>\n",
       "      <td>[['Between', 'Markets', 'and', 'Politics:', 'O...</td>\n",
       "      <td>1.0</td>\n",
       "      <td>Sociology</td>\n",
       "      <td>10.1086_231084</td>\n",
       "      <td>Between Markets and Politics: Organizational R...</td>\n",
       "      <td>Between Markets and Politics: Organizational R...</td>\n",
       "      <td>Between Markets and Politics: Organizational R...</td>\n",
       "      <td>markets politics organizational responses ref...</td>\n",
       "      <td>...</td>\n",
       "      <td>0.703068</td>\n",
       "      <td>0.625492</td>\n",
       "      <td>cultural</td>\n",
       "      <td>relational</td>\n",
       "      <td>0.399074</td>\n",
       "      <td>0.433800</td>\n",
       "      <td>0.435814</td>\n",
       "      <td>0.549656</td>\n",
       "      <td>0.624140</td>\n",
       "      <td>0.555273</td>\n",
       "    </tr>\n",
       "    <tr>\n",
       "      <th>2</th>\n",
       "      <td>2</td>\n",
       "      <td>4</td>\n",
       "      <td>[['&lt;body', 'xmlns:xlink=\"http://www..org//xlin...</td>\n",
       "      <td>1.0</td>\n",
       "      <td>Sociology</td>\n",
       "      <td>10.1086_382347</td>\n",
       "      <td>Kinship Networks and Entrepreneurs in China’s ...</td>\n",
       "      <td>&lt;body xmlns:xlink=\"http://www..org//xlink\" xml...</td>\n",
       "      <td>Introduction Economists have long concurred t...</td>\n",
       "      <td>introduction economists long concurred instit...</td>\n",
       "      <td>...</td>\n",
       "      <td>0.677709</td>\n",
       "      <td>0.630969</td>\n",
       "      <td>cultural</td>\n",
       "      <td>relational</td>\n",
       "      <td>0.395865</td>\n",
       "      <td>0.434171</td>\n",
       "      <td>0.438877</td>\n",
       "      <td>0.525536</td>\n",
       "      <td>0.622675</td>\n",
       "      <td>0.579730</td>\n",
       "    </tr>\n",
       "    <tr>\n",
       "      <th>3</th>\n",
       "      <td>3</td>\n",
       "      <td>7</td>\n",
       "      <td>[['&lt;body', 'xmlns:xlink=\"http://www..org//xlin...</td>\n",
       "      <td>1.0</td>\n",
       "      <td>Sociology</td>\n",
       "      <td>10.1086_657524</td>\n",
       "      <td>Corporate Unity in American Trade Policy: A Ne...</td>\n",
       "      <td>&lt;body xmlns:xlink=\"http://www..org//xlink\" xml...</td>\n",
       "      <td>Introduction The rise of neoliberal trade pol...</td>\n",
       "      <td>introduction rise neoliberal trade policy emb...</td>\n",
       "      <td>...</td>\n",
       "      <td>0.777399</td>\n",
       "      <td>0.632189</td>\n",
       "      <td>relational</td>\n",
       "      <td>relational</td>\n",
       "      <td>0.392627</td>\n",
       "      <td>0.446337</td>\n",
       "      <td>0.430302</td>\n",
       "      <td>0.513608</td>\n",
       "      <td>0.665694</td>\n",
       "      <td>0.541349</td>\n",
       "    </tr>\n",
       "    <tr>\n",
       "      <th>4</th>\n",
       "      <td>4</td>\n",
       "      <td>10</td>\n",
       "      <td>[['Negotiated', 'Orders:', 'The', 'Negotiation...</td>\n",
       "      <td>1.0</td>\n",
       "      <td>Sociology</td>\n",
       "      <td>10.1525_si.1994.17.2.165</td>\n",
       "      <td>Negotiated Orders: The Negotiation of Directiv...</td>\n",
       "      <td>Negotiated Orders: The Negotiation of Directiv...</td>\n",
       "      <td>Negotiated Orders: The Negotiation of Directiv...</td>\n",
       "      <td>negotiated orders negotiation directives para...</td>\n",
       "      <td>...</td>\n",
       "      <td>0.539144</td>\n",
       "      <td>0.556231</td>\n",
       "      <td>cultural</td>\n",
       "      <td>cultural</td>\n",
       "      <td>0.403203</td>\n",
       "      <td>0.424672</td>\n",
       "      <td>0.440687</td>\n",
       "      <td>0.531604</td>\n",
       "      <td>0.589500</td>\n",
       "      <td>0.608183</td>\n",
       "    </tr>\n",
       "    <tr>\n",
       "      <th>...</th>\n",
       "      <td>...</td>\n",
       "      <td>...</td>\n",
       "      <td>...</td>\n",
       "      <td>...</td>\n",
       "      <td>...</td>\n",
       "      <td>...</td>\n",
       "      <td>...</td>\n",
       "      <td>...</td>\n",
       "      <td>...</td>\n",
       "      <td>...</td>\n",
       "      <td>...</td>\n",
       "      <td>...</td>\n",
       "      <td>...</td>\n",
       "      <td>...</td>\n",
       "      <td>...</td>\n",
       "      <td>...</td>\n",
       "      <td>...</td>\n",
       "      <td>...</td>\n",
       "      <td>...</td>\n",
       "      <td>...</td>\n",
       "      <td>...</td>\n",
       "    </tr>\n",
       "    <tr>\n",
       "      <th>282</th>\n",
       "      <td>282</td>\n",
       "      <td>929</td>\n",
       "      <td>[['SOCIAL', 'RESOURCES', 'AND', 'STRENGTH', 'O...</td>\n",
       "      <td>1.0</td>\n",
       "      <td>Sociology</td>\n",
       "      <td>10.2307_2095260</td>\n",
       "      <td>Social Resources and Strength of Ties: Structu...</td>\n",
       "      <td>SOCIAL RESOURCES AND STRENGTH OF TIES: STRUCTU...</td>\n",
       "      <td>SOCIAL RESOURCES AND STRENGTH OF TIES: STRUCTU...</td>\n",
       "      <td>social resources strength ties structural fac...</td>\n",
       "      <td>...</td>\n",
       "      <td>0.658202</td>\n",
       "      <td>0.565344</td>\n",
       "      <td>cultural</td>\n",
       "      <td>relational</td>\n",
       "      <td>0.398426</td>\n",
       "      <td>0.433140</td>\n",
       "      <td>0.437169</td>\n",
       "      <td>0.538306</td>\n",
       "      <td>0.639301</td>\n",
       "      <td>0.549109</td>\n",
       "    </tr>\n",
       "    <tr>\n",
       "      <th>283</th>\n",
       "      <td>283</td>\n",
       "      <td>930</td>\n",
       "      <td>[['Work', 'and', 'Friendship', 'Ties', 'in', '...</td>\n",
       "      <td>1.0</td>\n",
       "      <td>Management &amp; Organizational Behavior</td>\n",
       "      <td>10.2307_2392493</td>\n",
       "      <td>Work and Friendship Ties in Organizations: A C...</td>\n",
       "      <td>Work and Friendship Ties in Organizations: Com...</td>\n",
       "      <td>Work and Friendship Ties in Organizations: Com...</td>\n",
       "      <td>work friendship ties organizations comparativ...</td>\n",
       "      <td>...</td>\n",
       "      <td>0.712364</td>\n",
       "      <td>0.626875</td>\n",
       "      <td>relational</td>\n",
       "      <td>relational</td>\n",
       "      <td>0.395443</td>\n",
       "      <td>0.439029</td>\n",
       "      <td>0.434471</td>\n",
       "      <td>0.528533</td>\n",
       "      <td>0.637292</td>\n",
       "      <td>0.560813</td>\n",
       "    </tr>\n",
       "    <tr>\n",
       "      <th>284</th>\n",
       "      <td>284</td>\n",
       "      <td>931</td>\n",
       "      <td>[['EMBEDDEDNESS', 'IN', 'THE', 'MAKING', 'OF',...</td>\n",
       "      <td>1.0</td>\n",
       "      <td>Sociology</td>\n",
       "      <td>10.2307_2657252</td>\n",
       "      <td>Embeddedness in the Making of Financial Capita...</td>\n",
       "      <td>EMBEDDEDNESS IN THE MAKING OF FINANCIAL CAPITA...</td>\n",
       "      <td>EMBEDDEDNESS IN THE MAKING OF FINANCIAL CAPITA...</td>\n",
       "      <td>embeddedness making financial capital social ...</td>\n",
       "      <td>...</td>\n",
       "      <td>0.764191</td>\n",
       "      <td>0.618817</td>\n",
       "      <td>relational</td>\n",
       "      <td>relational</td>\n",
       "      <td>0.395751</td>\n",
       "      <td>0.441958</td>\n",
       "      <td>0.431254</td>\n",
       "      <td>0.526190</td>\n",
       "      <td>0.660865</td>\n",
       "      <td>0.535147</td>\n",
       "    </tr>\n",
       "    <tr>\n",
       "      <th>285</th>\n",
       "      <td>285</td>\n",
       "      <td>932</td>\n",
       "      <td>[['Role', 'as', 'Resource', 'in', 'the', 'Holl...</td>\n",
       "      <td>1.0</td>\n",
       "      <td>Sociology</td>\n",
       "      <td>10.2307_2781378</td>\n",
       "      <td>Role as Resource in the Hollywood Film Industry</td>\n",
       "      <td>Role as Resource in the Hollywood Film Industr...</td>\n",
       "      <td>Role as Resource in the Hollywood Film Industr...</td>\n",
       "      <td>role resource hollywood film industryl wayne ...</td>\n",
       "      <td>...</td>\n",
       "      <td>0.669723</td>\n",
       "      <td>0.641126</td>\n",
       "      <td>cultural</td>\n",
       "      <td>relational</td>\n",
       "      <td>0.401347</td>\n",
       "      <td>0.427256</td>\n",
       "      <td>0.440018</td>\n",
       "      <td>0.544367</td>\n",
       "      <td>0.605950</td>\n",
       "      <td>0.580076</td>\n",
       "    </tr>\n",
       "    <tr>\n",
       "      <th>286</th>\n",
       "      <td>286</td>\n",
       "      <td>933</td>\n",
       "      <td>[['The', 'Duality', 'of', 'Persons', 'and', 'G...</td>\n",
       "      <td>1.0</td>\n",
       "      <td>Sociology</td>\n",
       "      <td>10.2307_2576011</td>\n",
       "      <td>The Duality of Persons and Groups</td>\n",
       "      <td>The Duality of Persons and Groups* RONALD BREI...</td>\n",
       "      <td>The Duality of Persons and Groups* RONALD BREI...</td>\n",
       "      <td>duality persons groups ronald breiger harvard...</td>\n",
       "      <td>...</td>\n",
       "      <td>0.675891</td>\n",
       "      <td>0.586992</td>\n",
       "      <td>relational</td>\n",
       "      <td>relational</td>\n",
       "      <td>0.398159</td>\n",
       "      <td>0.436392</td>\n",
       "      <td>0.434197</td>\n",
       "      <td>0.532938</td>\n",
       "      <td>0.638859</td>\n",
       "      <td>0.554831</td>\n",
       "    </tr>\n",
       "  </tbody>\n",
       "</table>\n",
       "<p>287 rows × 24 columns</p>\n",
       "</div>"
      ],
      "text/plain": [
       "     Unnamed: 0  index                                               text  \\\n",
       "0             0      0  [['Where', 'Do', 'Interorganizational', 'Netwo...   \n",
       "1             1      2  [['Between', 'Markets', 'and', 'Politics:', 'O...   \n",
       "2             2      4  [['<body', 'xmlns:xlink=\"http://www..org//xlin...   \n",
       "3             3      7  [['<body', 'xmlns:xlink=\"http://www..org//xlin...   \n",
       "4             4     10  [['Negotiated', 'Orders:', 'The', 'Negotiation...   \n",
       "..          ...    ...                                                ...   \n",
       "282         282    929  [['SOCIAL', 'RESOURCES', 'AND', 'STRENGTH', 'O...   \n",
       "283         283    930  [['Work', 'and', 'Friendship', 'Ties', 'in', '...   \n",
       "284         284    931  [['EMBEDDEDNESS', 'IN', 'THE', 'MAKING', 'OF',...   \n",
       "285         285    932  [['Role', 'as', 'Resource', 'in', 'the', 'Holl...   \n",
       "286         286    933  [['The', 'Duality', 'of', 'Persons', 'and', 'G...   \n",
       "\n",
       "     relational_score                       primary_subject  \\\n",
       "0                 1.0                             Sociology   \n",
       "1                 1.0                             Sociology   \n",
       "2                 1.0                             Sociology   \n",
       "3                 1.0                             Sociology   \n",
       "4                 1.0                             Sociology   \n",
       "..                ...                                   ...   \n",
       "282               1.0                             Sociology   \n",
       "283               1.0  Management & Organizational Behavior   \n",
       "284               1.0                             Sociology   \n",
       "285               1.0                             Sociology   \n",
       "286               1.0                             Sociology   \n",
       "\n",
       "              edited_filename  \\\n",
       "0              10.1086_210179   \n",
       "1              10.1086_231084   \n",
       "2              10.1086_382347   \n",
       "3              10.1086_657524   \n",
       "4    10.1525_si.1994.17.2.165   \n",
       "..                        ...   \n",
       "282           10.2307_2095260   \n",
       "283           10.2307_2392493   \n",
       "284           10.2307_2657252   \n",
       "285           10.2307_2781378   \n",
       "286           10.2307_2576011   \n",
       "\n",
       "                                          article_name  \\\n",
       "0     Where Do Interorganizational Networks Come From?   \n",
       "1    Between Markets and Politics: Organizational R...   \n",
       "2    Kinship Networks and Entrepreneurs in China’s ...   \n",
       "3    Corporate Unity in American Trade Policy: A Ne...   \n",
       "4    Negotiated Orders: The Negotiation of Directiv...   \n",
       "..                                                 ...   \n",
       "282  Social Resources and Strength of Ties: Structu...   \n",
       "283  Work and Friendship Ties in Organizations: A C...   \n",
       "284  Embeddedness in the Making of Financial Capita...   \n",
       "285    Role as Resource in the Hollywood Film Industry   \n",
       "286                  The Duality of Persons and Groups   \n",
       "\n",
       "                                             full_text  \\\n",
       "0    Where Do Interorganizational Networks Come Fro...   \n",
       "1    Between Markets and Politics: Organizational R...   \n",
       "2    <body xmlns:xlink=\"http://www..org//xlink\" xml...   \n",
       "3    <body xmlns:xlink=\"http://www..org//xlink\" xml...   \n",
       "4    Negotiated Orders: The Negotiation of Directiv...   \n",
       "..                                                 ...   \n",
       "282  SOCIAL RESOURCES AND STRENGTH OF TIES: STRUCTU...   \n",
       "283  Work and Friendship Ties in Organizations: Com...   \n",
       "284  EMBEDDEDNESS IN THE MAKING OF FINANCIAL CAPITA...   \n",
       "285  Role as Resource in the Hollywood Film Industr...   \n",
       "286  The Duality of Persons and Groups* RONALD BREI...   \n",
       "\n",
       "                                          text_no_tags  \\\n",
       "0    Where Do Interorganizational Networks Come Fro...   \n",
       "1    Between Markets and Politics: Organizational R...   \n",
       "2     Introduction Economists have long concurred t...   \n",
       "3     Introduction The rise of neoliberal trade pol...   \n",
       "4    Negotiated Orders: The Negotiation of Directiv...   \n",
       "..                                                 ...   \n",
       "282  SOCIAL RESOURCES AND STRENGTH OF TIES: STRUCTU...   \n",
       "283  Work and Friendship Ties in Organizations: Com...   \n",
       "284  EMBEDDEDNESS IN THE MAKING OF FINANCIAL CAPITA...   \n",
       "285  Role as Resource in the Hollywood Film Industr...   \n",
       "286  The Duality of Persons and Groups* RONALD BREI...   \n",
       "\n",
       "                                             processed  ...  rela_cos_sim  \\\n",
       "0     interorganizational networks come ranjay gula...  ...      0.782101   \n",
       "1     markets politics organizational responses ref...  ...      0.703068   \n",
       "2     introduction economists long concurred instit...  ...      0.677709   \n",
       "3     introduction rise neoliberal trade policy emb...  ...      0.777399   \n",
       "4     negotiated orders negotiation directives para...  ...      0.539144   \n",
       "..                                                 ...  ...           ...   \n",
       "282   social resources strength ties structural fac...  ...      0.658202   \n",
       "283   work friendship ties organizations comparativ...  ...      0.712364   \n",
       "284   embeddedness making financial capital social ...  ...      0.764191   \n",
       "285   role resource hollywood film industryl wayne ...  ...      0.669723   \n",
       "286   duality persons groups ronald breiger harvard...  ...      0.675891   \n",
       "\n",
       "     cult_cos_sim  classified_perspective_wmd  classified_perspective_cos  \\\n",
       "0        0.640492                  relational                  relational   \n",
       "1        0.625492                    cultural                  relational   \n",
       "2        0.630969                    cultural                  relational   \n",
       "3        0.632189                  relational                  relational   \n",
       "4        0.556231                    cultural                    cultural   \n",
       "..            ...                         ...                         ...   \n",
       "282      0.565344                    cultural                  relational   \n",
       "283      0.626875                  relational                  relational   \n",
       "284      0.618817                  relational                  relational   \n",
       "285      0.641126                    cultural                  relational   \n",
       "286      0.586992                  relational                  relational   \n",
       "\n",
       "     normalized_dem_wmd  normalized_rela_wmd normalized_cult_wmd  \\\n",
       "0              0.396052             0.445990            0.427008   \n",
       "1              0.399074             0.433800            0.435814   \n",
       "2              0.395865             0.434171            0.438877   \n",
       "3              0.392627             0.446337            0.430302   \n",
       "4              0.403203             0.424672            0.440687   \n",
       "..                  ...                  ...                 ...   \n",
       "282            0.398426             0.433140            0.437169   \n",
       "283            0.395443             0.439029            0.434471   \n",
       "284            0.395751             0.441958            0.431254   \n",
       "285            0.401347             0.427256            0.440018   \n",
       "286            0.398159             0.436392            0.434197   \n",
       "\n",
       "    normalized_dem_cos  normalized_rela_cos  normalized_cult_cos  \n",
       "0             0.543371             0.649491             0.531892  \n",
       "1             0.549656             0.624140             0.555273  \n",
       "2             0.525536             0.622675             0.579730  \n",
       "3             0.513608             0.665694             0.541349  \n",
       "4             0.531604             0.589500             0.608183  \n",
       "..                 ...                  ...                  ...  \n",
       "282           0.538306             0.639301             0.549109  \n",
       "283           0.528533             0.637292             0.560813  \n",
       "284           0.526190             0.660865             0.535147  \n",
       "285           0.544367             0.605950             0.580076  \n",
       "286           0.532938             0.638859             0.554831  \n",
       "\n",
       "[287 rows x 24 columns]"
      ]
     },
     "execution_count": 128,
     "metadata": {},
     "output_type": "execute_result"
    }
   ],
   "source": [
    "pos_rela"
   ]
  },
  {
   "cell_type": "code",
   "execution_count": 129,
   "metadata": {},
   "outputs": [],
   "source": [
    "keep_cols = ['edited_filename', 'article_name', 'processed','classified_perspective_wmd',\n",
    "       'classified_perspective_cos', 'normalized_dem_wmd',\n",
    "       'normalized_rela_wmd', 'normalized_cult_wmd', 'normalized_dem_cos',\n",
    "       'normalized_rela_cos', 'normalized_cult_cos']"
   ]
  },
  {
   "cell_type": "code",
   "execution_count": 130,
   "metadata": {
    "scrolled": true
   },
   "outputs": [],
   "source": [
    "pos_cult = pos_cult[keep_cols]\n",
    "neg_cult = neg_cult[keep_cols]\n",
    "pos_rela = pos_rela[keep_cols]\n",
    "neg_rela = neg_rela[keep_cols]\n",
    "pos_demog = pos_demog[keep_cols]\n",
    "neg_demog = neg_demog[keep_cols]"
   ]
  },
  {
   "cell_type": "code",
   "execution_count": 131,
   "metadata": {
    "id": "K8SjK1HfiTdR"
   },
   "outputs": [],
   "source": [
    "pos_cult.to_csv('pos_cult_full_wmd_cos.csv')\n",
    "neg_cult.to_csv('neg_cult_full_wmd_cos.csv')\n",
    "pos_demog.to_csv('pos_demog_full_wmd_cos.csv')\n",
    "neg_demog.to_csv('neg_demog_full_wmd_cos.csv')\n",
    "pos_rela.to_csv('pos_rela_full_wmd_cos.csv')\n",
    "neg_rela.to_csv('neg_rela_full_wmd_cos.csv')"
   ]
  },
  {
   "cell_type": "markdown",
   "metadata": {
    "id": "7vb2LBlrm6wZ"
   },
   "source": [
    "## Inspecting Distribution of Similarity Metrics"
   ]
  },
  {
   "cell_type": "markdown",
   "metadata": {},
   "source": [
    "## demographic"
   ]
  },
  {
   "cell_type": "code",
   "execution_count": 132,
   "metadata": {},
   "outputs": [
    {
     "data": {
      "image/png": "[encoded data removed]",
      "text/plain": [
       "<Figure size 432x288 with 1 Axes>"
      ]
     },
     "metadata": {
      "needs_background": "light"
     },
     "output_type": "display_data"
    }
   ],
   "source": [
    "plt.hist(pos_demog['normalized_dem_cos'], label = 'positive demog cos score', alpha = 0.7)\n",
    "plt.hist(neg_demog['normalized_dem_cos'], label = 'negative demog cos score', alpha = 0.7)\n",
    "plt.title('Distribution of positive vs. negative cosine demographic scores ')\n",
    "plt.legend()\n",
    "plt.show()"
   ]
  },
  {
   "cell_type": "code",
   "execution_count": 135,
   "metadata": {},
   "outputs": [
    {
     "data": {
      "text/plain": [
       "<matplotlib.legend.Legend at 0x7f8ed8982460>"
      ]
     },
     "execution_count": 135,
     "metadata": {},
     "output_type": "execute_result"
    },
    {
     "data": {
      "image/png": "[encoded data removed]",
      "text/plain": [
       "<Figure size 432x288 with 1 Axes>"
      ]
     },
     "metadata": {
      "needs_background": "light"
     },
     "output_type": "display_data"
    }
   ],
   "source": [
    "import matplotlib.pyplot as plt\n",
    "bins = np.arange(0.2,0.5,0.001)\n",
    "labels = ['positive cultural cos score','negative cultural cos score']\n",
    "\n",
    "plt.hist([pos_demog['normalized_dem_cos'], neg_cult['normalized_dem_cos']], histtype='bar', alpha = 0.7,stacked=True, label=labels, rwidth=1)\n",
    "plt.title('Stacked distribution of positive vs. negative cosine cultural scores ')\n",
    "plt.legend()\n",
    "\n"
   ]
  },
  {
   "cell_type": "code",
   "execution_count": 133,
   "metadata": {},
   "outputs": [
    {
     "data": {
      "image/png": "[encoded data removed]",
      "text/plain": [
       "<Figure size 432x288 with 1 Axes>"
      ]
     },
     "metadata": {
      "needs_background": "light"
     },
     "output_type": "display_data"
    }
   ],
   "source": [
    "plt.hist(pos_demog['normalized_dem_wmd'], label = 'positive demog wmd score', alpha = 0.7)\n",
    "plt.hist(neg_demog['normalized_dem_wmd'], label = 'negative demog wmd score', alpha = 0.7)\n",
    "plt.title('Distribution of positive vs. negative wmd demographic scores ')\n",
    "plt.legend()\n",
    "plt.show()"
   ]
  },
  {
   "cell_type": "code",
   "execution_count": 22,
   "metadata": {},
   "outputs": [
    {
     "data": {
      "text/plain": [
       "<matplotlib.legend.Legend at 0x7f8eccde88b0>"
      ]
     },
     "execution_count": 22,
     "metadata": {},
     "output_type": "execute_result"
    },
    {
     "data": {
      "image/png": "[encoded data removed]",
      "text/plain": [
       "<Figure size 432x288 with 1 Axes>"
      ]
     },
     "metadata": {
      "needs_background": "light"
     },
     "output_type": "display_data"
    }
   ],
   "source": [
    "import matplotlib.pyplot as plt\n",
    "bins = np.arange(0.2,0.5,0.001)\n",
    "labels = ['positive cultural wmd score','negative cultural wmd score']\n",
    "\n",
    "plt.hist([pos_demog['normalized_dem_wmd'], neg_cult['normalized_dem_wmd']], histtype='bar', alpha = 0.7,stacked=True, label=labels, rwidth=1)\n",
    "plt.title('Stacked distribution of positive vs. negative wmd cultural scores ')\n",
    "plt.legend()\n",
    "\n"
   ]
  },
  {
   "cell_type": "markdown",
   "metadata": {},
   "source": [
    "## cultural"
   ]
  },
  {
   "cell_type": "code",
   "execution_count": 137,
   "metadata": {},
   "outputs": [
    {
     "data": {
      "image/png": "[encoded data removed]",
      "text/plain": [
       "<Figure size 432x288 with 1 Axes>"
      ]
     },
     "metadata": {
      "needs_background": "light"
     },
     "output_type": "display_data"
    }
   ],
   "source": [
    "plt.hist(pos_cult['normalized_cult_cos'], label = 'positive cult cos score', alpha = 0.7)\n",
    "plt.hist(neg_cult['normalized_cult_cos'], label = 'negative cult cos score', alpha = 0.7)\n",
    "plt.title('Distribution of positive vs. negative cosine cultural scores ')\n",
    "plt.legend()\n",
    "plt.show()"
   ]
  },
  {
   "cell_type": "code",
   "execution_count": 138,
   "metadata": {},
   "outputs": [
    {
     "data": {
      "text/plain": [
       "<matplotlib.legend.Legend at 0x7f8f0e8a4f70>"
      ]
     },
     "execution_count": 138,
     "metadata": {},
     "output_type": "execute_result"
    },
    {
     "data": {
      "image/png": "[encoded data removed]",
      "text/plain": [
       "<Figure size 432x288 with 1 Axes>"
      ]
     },
     "metadata": {
      "needs_background": "light"
     },
     "output_type": "display_data"
    }
   ],
   "source": [
    "import matplotlib.pyplot as plt\n",
    "bins = np.arange(0.2,0.5,0.001)\n",
    "labels = ['positive cultural wmd score','negative cultural wmd score']\n",
    "\n",
    "plt.hist([pos_cult['normalized_cult_cos'], neg_cult['normalized_cult_cos']], histtype='bar', alpha = 0.7,stacked=True, label=labels, rwidth=1)\n",
    "plt.title('Stacked distribution of positive vs. negative cosine cultural scores ')\n",
    "plt.legend()\n",
    "\n"
   ]
  },
  {
   "cell_type": "code",
   "execution_count": 139,
   "metadata": {},
   "outputs": [
    {
     "data": {
      "image/png": "[encoded data removed]",
      "text/plain": [
       "<Figure size 432x288 with 1 Axes>"
      ]
     },
     "metadata": {
      "needs_background": "light"
     },
     "output_type": "display_data"
    }
   ],
   "source": [
    "plt.hist(pos_cult['normalized_cult_wmd'], label = 'positive cult wmd score', alpha = 0.7)\n",
    "plt.hist(neg_cult['normalized_cult_wmd'], label = 'negative cult wmd score', alpha = 0.7)\n",
    "plt.title('Distribution of positive vs. negative wmd cultural scores ')\n",
    "plt.legend()\n",
    "plt.show()"
   ]
  },
  {
   "cell_type": "code",
   "execution_count": 140,
   "metadata": {},
   "outputs": [
    {
     "data": {
      "text/plain": [
       "<matplotlib.legend.Legend at 0x7f8efcb08370>"
      ]
     },
     "execution_count": 140,
     "metadata": {},
     "output_type": "execute_result"
    },
    {
     "data": {
      "image/png": "[encoded data removed]",
      "text/plain": [
       "<Figure size 432x288 with 1 Axes>"
      ]
     },
     "metadata": {
      "needs_background": "light"
     },
     "output_type": "display_data"
    }
   ],
   "source": [
    "import matplotlib.pyplot as plt\n",
    "bins = np.arange(0.2,0.5,0.001)\n",
    "labels = ['positive cultural wmd score','negative cultural wmd score']\n",
    "\n",
    "plt.hist([pos_cult['normalized_cult_wmd'], neg_cult['normalized_cult_wmd']], histtype='bar', alpha = 0.7,stacked=True, label=labels, rwidth=1)\n",
    "plt.title('Stacked distribution of positive vs. negative wmd cultural scores ')\n",
    "plt.legend()\n",
    "\n"
   ]
  },
  {
   "cell_type": "markdown",
   "metadata": {},
   "source": [
    "## relational"
   ]
  },
  {
   "cell_type": "code",
   "execution_count": 141,
   "metadata": {},
   "outputs": [
    {
     "data": {
      "image/png": "[encoded data removed]",
      "text/plain": [
       "<Figure size 432x288 with 1 Axes>"
      ]
     },
     "metadata": {
      "needs_background": "light"
     },
     "output_type": "display_data"
    }
   ],
   "source": [
    "plt.hist(pos_rela['normalized_rela_cos'], label = 'positive rela cos score', alpha = 0.7)\n",
    "plt.hist(neg_rela['normalized_rela_cos'], label = 'negative rela cos score', alpha = 0.7)\n",
    "plt.title('Distribution of positive vs. negative cosine relational scores ')\n",
    "plt.legend()\n",
    "plt.show()"
   ]
  },
  {
   "cell_type": "code",
   "execution_count": 142,
   "metadata": {},
   "outputs": [
    {
     "data": {
      "text/plain": [
       "<matplotlib.legend.Legend at 0x7f8efcd75a00>"
      ]
     },
     "execution_count": 142,
     "metadata": {},
     "output_type": "execute_result"
    },
    {
     "data": {
      "image/png": "[encoded data removed]",
      "text/plain": [
       "<Figure size 432x288 with 1 Axes>"
      ]
     },
     "metadata": {
      "needs_background": "light"
     },
     "output_type": "display_data"
    }
   ],
   "source": [
    "import matplotlib.pyplot as plt\n",
    "bins = np.arange(0.2,0.5,0.001)\n",
    "labels = ['positive relational wmd score','negative relational wmd score']\n",
    "\n",
    "plt.hist([pos_rela['normalized_rela_cos'], neg_rela['normalized_rela_cos']], histtype='bar', alpha = 0.7,stacked=True, label=labels, rwidth=1)\n",
    "plt.title('Stacked distribution of positive vs. negative cosine relational scores ')\n",
    "plt.legend()\n",
    "\n"
   ]
  },
  {
   "cell_type": "code",
   "execution_count": 144,
   "metadata": {},
   "outputs": [
    {
     "data": {
      "image/png": "[encoded data removed]",
      "text/plain": [
       "<Figure size 432x288 with 1 Axes>"
      ]
     },
     "metadata": {
      "needs_background": "light"
     },
     "output_type": "display_data"
    }
   ],
   "source": [
    "plt.hist(pos_rela['normalized_rela_wmd'], label = 'positive rela wmd score', alpha = 0.7)\n",
    "plt.hist(neg_rela['normalized_rela_wmd'], label = 'negative rela wmd score', alpha = 0.7)\n",
    "plt.title('Distribution of positive vs. negative wmd relational scores ')\n",
    "plt.legend()\n",
    "plt.show()"
   ]
  },
  {
   "cell_type": "code",
   "execution_count": 145,
   "metadata": {},
   "outputs": [
    {
     "data": {
      "text/plain": [
       "<matplotlib.legend.Legend at 0x7f8f0e720940>"
      ]
     },
     "execution_count": 145,
     "metadata": {},
     "output_type": "execute_result"
    },
    {
     "data": {
      "image/png": "[encoded data removed]",
      "text/plain": [
       "<Figure size 432x288 with 1 Axes>"
      ]
     },
     "metadata": {
      "needs_background": "light"
     },
     "output_type": "display_data"
    }
   ],
   "source": [
    "import matplotlib.pyplot as plt\n",
    "bins = np.arange(0.2,0.5,0.001)\n",
    "labels = ['positive relational rela score','negative relational rela score']\n",
    "\n",
    "plt.hist([pos_rela['normalized_rela_wmd'], neg_rela['normalized_rela_wmd']], histtype='bar', alpha = 0.7,stacked=True, label=labels, rwidth=1)\n",
    "plt.title('Stacked distribution of positive vs. negative wmd relational scores ')\n",
    "plt.legend()\n",
    "\n"
   ]
  }
 ],
 "metadata": {
  "accelerator": "GPU",
  "colab": {
   "collapsed_sections": [],
   "provenance": []
  },
  "kernelspec": {
   "display_name": "Python 3 (ipykernel)",
   "language": "python",
   "name": "python3"
  },
  "language_info": {
   "codemirror_mode": {
    "name": "ipython",
    "version": 3
   },
   "file_extension": ".py",
   "mimetype": "text/x-python",
   "name": "python",
   "nbconvert_exporter": "python",
   "pygments_lexer": "ipython3",
   "version": "3.9.7"
  }
 },
 "nbformat": 4,
 "nbformat_minor": 1
}
