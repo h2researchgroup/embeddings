{
  "nbformat": 4,
  "nbformat_minor": 0,
  "metadata": {
    "colab": {
      "provenance": [],
      "collapsed_sections": []
    },
    "kernelspec": {
      "name": "python3",
      "display_name": "Python 3"
    },
    "language_info": {
      "name": "python"
    },
    "accelerator": "GPU"
  },
  "cells": [
    {
      "cell_type": "markdown",
      "source": [
        "\n",
        "# **Calculating WMD and Cosine Score for JSTOR Article Samples**\n",
        "\n"
      ],
      "metadata": {
        "id": "K3ew8Mn2mfAC"
      }
    },
    {
      "cell_type": "markdown",
      "source": [
        "Computational Literature Review\n",
        "\n",
        "Creator: Nancy Xu\n",
        "\n",
        "Date created: September 6, 2022\n",
        "\n",
        "Date last modified: September 14, 2022\n",
        "\n",
        "This notebook:\n",
        "- generates 20 samples of articles in positive/negative classes for each of the 3 perspectives\n",
        "- calculates Word Mover's Distance (using a gensim Word2Vec model) between an article and core seed terms\n",
        "- calculates cosine similarity between an article (represented by a Doc2Vec embedding) and average vector of core seed terms (represented by a Word2Vec embedding)\n",
        "- compares the distribution of WMD scores and cosine similarity scores for each positive/negative perspective"
      ],
      "metadata": {
        "id": "8nMTP15rkxzK"
      }
    },
    {
      "cell_type": "code",
      "source": [
        "import pandas as pd\n",
        "import gensim\n",
        "import pickle\n",
        "import os\n",
        "import re\n",
        "import ast\n",
        "from gensim.models.phrases import Phrases\n",
        "from gensim.models.phrases import Phrases, Phraser\n",
        "import multiprocessing\n",
        "from sklearn import utils\n",
        "cores = multiprocessing.cpu_count()\n",
        "import gensim\n",
        "from gensim.test.utils import get_tmpfile\n",
        "from gensim.models import Word2Vec\n",
        "from tqdm import tqdm\n",
        "from gensim.models.doc2vec import Doc2Vec, TaggedDocument\n",
        "from gensim.test.utils import common_texts\n",
        "from numpy import dot, absolute\n",
        "from numpy.linalg import norm"
      ],
      "metadata": {
        "id": "ubnyAoBcbrp3"
      },
      "execution_count": null,
      "outputs": []
    },
    {
      "cell_type": "markdown",
      "source": [
        "## Text preprocessing & train phrased Word2Vec model"
      ],
      "metadata": {
        "id": "olcmNTxOl0SF"
      }
    },
    {
      "cell_type": "markdown",
      "source": [
        "Load in and preprocess dataframes for each perspective."
      ],
      "metadata": {
        "id": "86QasrCzbvyQ"
      }
    },
    {
      "cell_type": "code",
      "source": [
        "os.chdir('/home/jovyan/work/models_storage/preprocessed_texts')\n",
        "def open_test_data(path):\n",
        "    return open(path, 'rb')\n",
        "with open_test_data('training_relational_preprocessed_100321.pkl') as f:\n",
        "    rela = pickle.load(f)\n",
        "\n",
        "with open_test_data('training_demographic_preprocessed_100321.pkl') as f:\n",
        "    demog = pickle.load(f)\n",
        "\n",
        "with open_test_data('training_orgs_preprocessed_100321.pkl') as f:\n",
        "    orgs = pickle.load(f)\n",
        "\n",
        "with open_test_data('training_cultural_preprocessed_100321.pkl') as f:\n",
        "    cult = pickle.load(f)\n",
        "    \n",
        "\n",
        "import itertools\n",
        "full_text = []\n",
        "\n",
        "for i in cult['text']:\n",
        "    joined = list(itertools.chain(*i))\n",
        "    full_text.append(\" \".join(joined))\n",
        "\n",
        "full_text_demog = []\n",
        "for i in demog['text']:\n",
        "    joined = list(itertools.chain(*i))\n",
        "    full_text_demog.append(\" \".join(joined))\n",
        "\n",
        "full_text_orgs = []\n",
        "for j in orgs['text']:\n",
        "    joined = list(itertools.chain(*j))\n",
        "    full_text_orgs.append(\" \".join(joined))\n",
        "\n",
        "full_text_rela = []\n",
        "for j in rela['text']:\n",
        "    joined = list(itertools.chain(*j))\n",
        "    full_text_rela.append(\" \".join(joined))\n",
        "\n",
        "cult['full_text'] = full_text\n",
        "demog['full_text'] = full_text_demog\n",
        "orgs['full_text'] = full_text_orgs\n",
        "rela['full_text'] = full_text_rela\n",
        "\n",
        "def remove_tags(article):\n",
        "    article = re.sub('<plain_text> <page sequence=\"1\">', '', article)\n",
        "    article = re.sub(r'</page>(\\<.*?\\>)', ' \\n ', article)\n",
        "    # xml tags\n",
        "    article = re.sub(r'<.*?>', '', article)\n",
        "    article = re.sub(r'<body.*\\n\\s*.*\\s*.*>', '', article)\n",
        "    return article\n",
        "\n",
        "tags_removed = [remove_tags(art) for art in cult['full_text']]\n",
        "tags_removed_demog = [remove_tags(art) for art in demog['full_text']]\n",
        "tags_removed_org = [remove_tags(art) for art in orgs['full_text']]\n",
        "tags_removed_rela = [remove_tags(art) for art in rela['full_text']]\n",
        "cult['text_no_tags'] = tags_removed\n",
        "demog['text_no_tags'] = tags_removed_demog\n",
        "orgs['text_no_tags'] = tags_removed_org\n",
        "rela['text_no_tags'] = tags_removed_rela\n",
        "\n",
        "import nltk\n",
        "nltk.download('stopwords')\n",
        "from nltk.corpus import stopwords\n",
        "stop_words = stopwords.words('english')\n",
        "stop_words.extend(['one', 'two', 'three', 'amp', 'may', 'can', 'new', 'also', 'and'])\n",
        "\n",
        "import string\n",
        "import re\n",
        "import nltk\n",
        "\n",
        "def word_process(tt):\n",
        "    \"\"\"\n",
        "    helper function to lower text, remove stop words, numbers, and empty \n",
        "    \"\"\"\n",
        "    \n",
        "    tt = tt.lower()\n",
        "    \n",
        "    punc = '''!()-[]{};:'\"\\, <>./?@#$%^&*_~=\\n'''\n",
        "    # Removing punctuations in string \n",
        "    # Using loop + punctuation string \n",
        "\n",
        "\n",
        "    for ele in tt:  \n",
        "        if ele in punc:  \n",
        "            tt = tt.replace(ele, \" \")  \n",
        "\n",
        "    # read tokens\n",
        "    tokens = tt.split()\n",
        "    lst = [token.translate(punc).lower() for token in tokens ]\n",
        "    \n",
        "    #remove stop words\n",
        "    filtered = []\n",
        "    for i in lst:\n",
        "        if i not in stop_words:\n",
        "            filtered.append(i)\n",
        "    \n",
        "    # removing singular numbers and singular letters\n",
        "    pattern = '[0-9]'\n",
        "    filtered = [re.sub(pattern, '', i) for i in filtered] \n",
        "    new = []\n",
        "    for inp in filtered:\n",
        "        new.append(' '.join( [w for w in inp.split() if len(w)>1] ))\n",
        "        \n",
        "    # filter out empty strings \n",
        "    new = [i for i in new if i] \n",
        "\n",
        "    dt = [d.split() for d in new]\n",
        "    \n",
        "  \n",
        "    st = ''\n",
        "    for i in dt:\n",
        "        st = st + \" \" + i[0]\n",
        "    return st\n",
        "    \n",
        "\n",
        "cult['processed']  =  cult['text_no_tags'].apply(word_process)\n",
        "rela['processed']  =  rela['text_no_tags'].apply(word_process)\n",
        "demog['processed']  =  demog['text_no_tags'].apply(word_process)\n",
        "orgs['processed']  =  orgs['text_no_tags'].apply(word_process)\n",
        "\n",
        "cult_pos = cult[cult['cultural_score']==1]\n",
        "cult_neg = cult[cult['cultural_score']==0]\n",
        "\n",
        "rela_pos = rela[rela['relational_score']==1]\n",
        "rela_neg = rela[rela['relational_score']==0]\n",
        "\n",
        "demog_pos = demog[demog['demographic_score']==1]\n",
        "demog_neg = demog[demog['demographic_score']==0]\n",
        "\n",
        "pos_cult = cult_pos.sample(20, replace = False)\n",
        "neg_cult = cult_neg.sample(20, replace = False)\n",
        "\n",
        "pos_rela = rela_pos.sample(20, replace = False)\n",
        "neg_rela = rela_neg.sample(20, replace = False)\n",
        "\n",
        "pos_demog = demog_pos.sample(20, replace = False)\n",
        "neg_demog = demog_neg.sample(20, replace = False)\n",
        "\n",
        "pos_cult.to_csv('/home/jovyan/work/nancyxu/pos_cult.csv')\n",
        "neg_cult.to_csv('/home/jovyan/work/nancyxu/neg_cult.csv')\n",
        "pos_rela.to_csv('/home/jovyan/work/nancyxu/pos_rela.csv')\n",
        "neg_rela.to_csv('/home/jovyan/work/nancyxu/neg_rela.csv')\n",
        "pos_demog.to_csv('/home/jovyan/work/nancyxu/pos_demog.csv')\n",
        "neg_demog.to_csv('/home/jovyan/work/nancyxu/neg_demog.csv')\n"
      ],
      "metadata": {
        "id": "6XGM7Bk3br_2"
      },
      "execution_count": null,
      "outputs": []
    },
    {
      "cell_type": "code",
      "source": [
        "\n",
        "pos_cult = pd.read_csv('pos_cult.csv')\n",
        "neg_cult = pd.read_csv('neg_cult.csv')\n",
        "pos_rela = pd.read_csv('pos_rela.csv')\n",
        "neg_rela = pd.read_csv('neg_rela.csv')\n",
        "pos_demog = pd.read_csv('pos_demog.csv')\n",
        "neg_demog = pd.read_csv('neg_demog.csv')\n"
      ],
      "metadata": {
        "id": "12gQzEVNb9qf"
      },
      "execution_count": null,
      "outputs": []
    },
    {
      "cell_type": "code",
      "source": [
        "## get dataframe with all articles belong to the 3 perspectives \n",
        "df = pd.concat([cult_pos,rela_pos,demog_pos])"
      ],
      "metadata": {
        "id": "CkdLJnlnktAI"
      },
      "execution_count": null,
      "outputs": []
    },
    {
      "cell_type": "markdown",
      "source": [
        "train w2v model on the positively labeled articles for each perspective."
      ],
      "metadata": {
        "id": "wkcsUYwpjDRe"
      }
    },
    {
      "cell_type": "code",
      "source": [
        "df['processed']=[x.strip() for x in df['processed']]"
      ],
      "metadata": {
        "id": "61c7sK3Jqr5b"
      },
      "execution_count": null,
      "outputs": []
    },
    {
      "cell_type": "code",
      "source": [
        "\n",
        "def build_phrases(sentences):\n",
        "    phrases = Phrases(sentences, min_count = 5, threshold = 7, progress_per = 1000)\n",
        "    return Phraser(phrases)"
      ],
      "metadata": {
        "id": "199W9Cj-sIdO"
      },
      "execution_count": null,
      "outputs": []
    },
    {
      "cell_type": "code",
      "source": [
        "processed = [x.split() for x in df['processed']]"
      ],
      "metadata": {
        "id": "qzXIqBefsVQw"
      },
      "execution_count": null,
      "outputs": []
    },
    {
      "cell_type": "code",
      "source": [
        "bigram = build_phrases(processed)\n",
        "processed_bigrams = [bigram[i] for i in processed]"
      ],
      "metadata": {
        "id": "qt_Zc18QsMwP"
      },
      "execution_count": null,
      "outputs": []
    },
    {
      "cell_type": "code",
      "source": [
        "processed_bigrams_final = []\n",
        "## strip punctuations\n",
        "for k in processed_bigrams:\n",
        "    processed_bigrams_final.append([i.strip('!\"“#$%&\\'()*+,-./:;<=>?@[\\\\]^`{|}~…') for i in k if len(i)>2])\n"
      ],
      "metadata": {
        "id": "bsZZxs48tmc8"
      },
      "execution_count": null,
      "outputs": []
    },
    {
      "cell_type": "code",
      "source": [
        "w2v = Word2Vec(processed_bigrams_final, size = 300, window = 10,\n",
        "                                       min_count = 5, sg = 1, alpha = 0.05,\n",
        "                                       batch_words = 10000, workers = cores, seed = 0, negative = 5,ns_exponent = 0.75)"
      ],
      "metadata": {
        "id": "d03XQXrxjBUH"
      },
      "execution_count": null,
      "outputs": []
    },
    {
      "cell_type": "code",
      "source": [
        "w2v.save('w2v_914')"
      ],
      "metadata": {
        "id": "E6QBBOpB5fMY"
      },
      "execution_count": null,
      "outputs": []
    },
    {
      "cell_type": "code",
      "source": [
        "def calc_wmd(a,b):\n",
        "    return w2v.wmdistance(a,b)"
      ],
      "metadata": {
        "id": "0-DsV8snjE7c"
      },
      "execution_count": null,
      "outputs": []
    },
    {
      "cell_type": "code",
      "source": [
        "# import numpy as np\n",
        "# def find_mean_and_closest_article(article,df,topk):\n",
        "#     \"\"\"\n",
        "#     calcalate the mean wmd of a certain article from other articles in the same perspective,\n",
        "#     then give the top k closest articles in the same perspective.\n",
        "#     \"\"\"\n",
        "#     d = []\n",
        "#     for i in np.arange(len(df)):\n",
        "#         d.append(calc_wmd(article,df.loc[i,'processed']))\n",
        "#     dis_dict = pd.DataFrame(list(zip(d,df['processed'])), columns = ['distance', 'article'])\n",
        "#     dis_dict['full_text'] = df['full_text']\n",
        "#     dis_dict['edited_filename'] = df['edited_filename'] \n",
        "#     dis_dict = dis_dict[dis_dict['article']!=article]\n",
        "#     srted = dis_dict.sort_values('distance').head(topk)\n",
        "\n",
        "#     return np.mean(dis_dict['distance']), tuple(zip(srted['edited_filename'], srted['distance']))\n",
        "        \n",
        "# def get_cols_sims(df):\n",
        "#     \"\"\"\n",
        "#     get mean wmd similarity scores \n",
        "#     \"\"\"\n",
        "#     results = pos_cult['processed'].apply(lambda x: find_closest_article(x,pos_cult,10))\n",
        "#     mean_sims_score = [i[0] for i in results]\n",
        "#     top10_sims_articles = [i[1] for i in results]\n",
        "#     df['mean_sims_score'] = mean_sims_score\n",
        "#     df['top10_sims_articles'] = top10_sims_articles\n",
        "#     return df.sort_values('mean_sims_score')"
      ],
      "metadata": {
        "id": "-1Y8J0QxjeTp"
      },
      "execution_count": null,
      "outputs": []
    },
    {
      "cell_type": "markdown",
      "source": [
        "## Compute WMD between an article and perspective seed terms"
      ],
      "metadata": {
        "id": "OV-qAuC5joS3"
      }
    },
    {
      "cell_type": "markdown",
      "source": [
        "reference: https://radimrehurek.com/gensim/auto_examples/tutorials/run_wmd.html"
      ],
      "metadata": {
        "id": "EJhF40j7lWEs"
      }
    },
    {
      "cell_type": "code",
      "source": [
        "def calc_wmd(a,b):\n",
        "    return w2v.wmdistance(a,b)"
      ],
      "metadata": {
        "id": "R34TJeVkjlP8"
      },
      "execution_count": null,
      "outputs": []
    },
    {
      "cell_type": "code",
      "source": [
        "def read_txt_lst(file):\n",
        "    txt_file = open(file, \"r\")\n",
        "    file_content = txt_file.read()\n",
        "    # print(\"The file content are: \", file_content)\n",
        "\n",
        "    content_list = file_content.split(\"\\n\")\n",
        "    txt_file.close()\n",
        "    return content_list"
      ],
      "metadata": {
        "id": "TkHfYQL-jqKY"
      },
      "execution_count": null,
      "outputs": []
    },
    {
      "cell_type": "code",
      "source": [
        "dem_core=read_txt_lst('demographic_core.txt')\n",
        "rela_core=read_txt_lst('relational_core.txt')\n",
        "cult_core = read_txt_lst('cultural_core.txt')"
      ],
      "metadata": {
        "id": "Ugre_Ef3jrH9"
      },
      "execution_count": null,
      "outputs": []
    },
    {
      "cell_type": "code",
      "source": [
        "dem_core=[re.sub(r'\\s','_',x) for x in dem_core]\n",
        "rela_core=[re.sub(r'\\s','_',x) for x in rela_core]\n",
        "cult_core=[re.sub(r'\\s','_',x) for x in cult_core]"
      ],
      "metadata": {
        "id": "4DDlDpXk7A-v"
      },
      "execution_count": null,
      "outputs": []
    },
    {
      "cell_type": "code",
      "source": [
        "def get_sims_with_perspective(article):\n",
        "  \"\"\"\n",
        "  get wmd similarity between this article and the core terms of each perspective\n",
        "  \"\"\"\n",
        "\n",
        "  ## first build bigram from the article\n",
        "\n",
        "  ss = [article.split()]\n",
        "  bb = build_phrases(ss)\n",
        "  pb = [bb[i] for i in ss][0]\n",
        "\n",
        "  dem_score = calc_wmd(pb,(dem_core))\n",
        "  rela_score = calc_wmd(pb,(rela_core))\n",
        "  cult_score = calc_wmd(pb,(cult_core))\n",
        "  return (dem_score,rela_score,cult_score)"
      ],
      "metadata": {
        "id": "H3MVbOCejsCu"
      },
      "execution_count": null,
      "outputs": []
    },
    {
      "cell_type": "code",
      "source": [
        "get_sims_with_perspective(pos_cult.loc[0,'processed'])"
      ],
      "metadata": {
        "colab": {
          "base_uri": "https://localhost:8080/"
        },
        "id": "dkv8bM_c6XIo",
        "outputId": "f3b2f33d-3521-4192-c6e6-43277d8800bd"
      },
      "execution_count": null,
      "outputs": [
        {
          "output_type": "stream",
          "name": "stderr",
          "text": [
            "/usr/local/lib/python3.7/dist-packages/ipykernel_launcher.py:2: DeprecationWarning: Call to deprecated `wmdistance` (Method will be removed in 4.0.0, use self.wv.wmdistance() instead).\n",
            "  \n"
          ]
        },
        {
          "output_type": "execute_result",
          "data": {
            "text/plain": [
              "(5.42637915870871, 5.232177314039429, 5.237167382138559)"
            ]
          },
          "metadata": {},
          "execution_count": 65
        }
      ]
    },
    {
      "cell_type": "code",
      "source": [
        "get_sims_with_perspective(pos_rela.loc[0,'processed'])"
      ],
      "metadata": {
        "colab": {
          "base_uri": "https://localhost:8080/"
        },
        "id": "eO7TR0lf9V0S",
        "outputId": "d3f1a253-f842-4906-9cef-21e890e32f98"
      },
      "execution_count": null,
      "outputs": [
        {
          "output_type": "stream",
          "name": "stderr",
          "text": [
            "/usr/local/lib/python3.7/dist-packages/ipykernel_launcher.py:2: DeprecationWarning: Call to deprecated `wmdistance` (Method will be removed in 4.0.0, use self.wv.wmdistance() instead).\n",
            "  \n"
          ]
        },
        {
          "output_type": "execute_result",
          "data": {
            "text/plain": [
              "(5.511709636011158, 5.235622040175475, 5.398345213885615)"
            ]
          },
          "metadata": {},
          "execution_count": 66
        }
      ]
    },
    {
      "cell_type": "code",
      "source": [
        "\n",
        "def get_sim_perspective(df):\n",
        "\n",
        "    \"\"\"\n",
        "    returns modified df with extra columns dem_score,rela_score,cult_score\n",
        "    denoting the wmd score calculated for each article.\n",
        "    \"\"\"\n",
        "    tqdm.pandas()\n",
        "\n",
        "    results=df['processed'].apply(lambda x:get_sims_with_perspective(x))\n",
        "    dem_scores = [i[0] for i in results]\n",
        "    rela_scores = [i[1] for i in results]\n",
        "    cult_scores = [i[2] for i in results]\n",
        "    df['dem_scores'] = dem_scores\n",
        "    df['rela_scores'] = rela_scores\n",
        "    df['cult_scores']= cult_scores\n",
        "    return df"
      ],
      "metadata": {
        "id": "1Ziz5EEcjtNm"
      },
      "execution_count": null,
      "outputs": []
    },
    {
      "cell_type": "code",
      "source": [
        "pos_cult = get_sim_perspective(pos_cult)\n",
        "neg_cult = get_sim_perspective(neg_cult)\n",
        "\n",
        "pos_demog = get_sim_perspective(pos_demog)\n",
        "neg_demog = get_sim_perspective(neg_demog)\n",
        "\n",
        "pos_rela = get_sim_perspective(pos_rela)\n",
        "neg_rela = get_sim_perspective(neg_rela)"
      ],
      "metadata": {
        "colab": {
          "base_uri": "https://localhost:8080/"
        },
        "id": "7a_y_d63juIY",
        "outputId": "eb087750-f5e0-4fee-d487-eab79513b1f2"
      },
      "execution_count": null,
      "outputs": [
        {
          "output_type": "stream",
          "name": "stderr",
          "text": [
            "/usr/local/lib/python3.7/dist-packages/ipykernel_launcher.py:2: DeprecationWarning: Call to deprecated `wmdistance` (Method will be removed in 4.0.0, use self.wv.wmdistance() instead).\n",
            "  \n",
            "/usr/local/lib/python3.7/dist-packages/ipykernel_launcher.py:2: DeprecationWarning: Call to deprecated `wmdistance` (Method will be removed in 4.0.0, use self.wv.wmdistance() instead).\n",
            "  \n",
            "/usr/local/lib/python3.7/dist-packages/ipykernel_launcher.py:2: DeprecationWarning: Call to deprecated `wmdistance` (Method will be removed in 4.0.0, use self.wv.wmdistance() instead).\n",
            "  \n",
            "/usr/local/lib/python3.7/dist-packages/ipykernel_launcher.py:2: DeprecationWarning: Call to deprecated `wmdistance` (Method will be removed in 4.0.0, use self.wv.wmdistance() instead).\n",
            "  \n",
            "/usr/local/lib/python3.7/dist-packages/ipykernel_launcher.py:2: DeprecationWarning: Call to deprecated `wmdistance` (Method will be removed in 4.0.0, use self.wv.wmdistance() instead).\n",
            "  \n",
            "/usr/local/lib/python3.7/dist-packages/ipykernel_launcher.py:2: DeprecationWarning: Call to deprecated `wmdistance` (Method will be removed in 4.0.0, use self.wv.wmdistance() instead).\n",
            "  \n"
          ]
        }
      ]
    },
    {
      "cell_type": "code",
      "source": [],
      "metadata": {
        "id": "TLFh63RnjlpF"
      },
      "execution_count": null,
      "outputs": []
    },
    {
      "cell_type": "markdown",
      "source": [
        "##Calculate cosine similarity score between the article and each perspective"
      ],
      "metadata": {
        "id": "25usK4EBjXoM"
      }
    },
    {
      "cell_type": "markdown",
      "source": [
        "Using Doc2Vec to get a vector representation of each jstor article, then calculate cosine similarity between the embedding of each article and average w2v vector for each perspective."
      ],
      "metadata": {
        "id": "LQTJDmbcj3-8"
      }
    },
    {
      "cell_type": "markdown",
      "source": [
        "reference: https://github.com/h2researchgroup/embeddings/blob/main/preprocessing/cosine_values_calculate_word2vec.py"
      ],
      "metadata": {
        "id": "XJ2kEH8wjjF2"
      }
    },
    {
      "cell_type": "code",
      "source": [
        "documents = [TaggedDocument(doc, [i]) for i, doc in enumerate(df['processed'].str.split())]"
      ],
      "metadata": {
        "id": "b3iE2qifnGR9"
      },
      "execution_count": null,
      "outputs": []
    },
    {
      "cell_type": "code",
      "source": [
        "d2v = Doc2Vec(documents, vector_size=300, window=2, min_count=1, workers=4)"
      ],
      "metadata": {
        "id": "am-FQE-gnkAY"
      },
      "execution_count": null,
      "outputs": []
    },
    {
      "cell_type": "code",
      "source": [
        "cult_core_embs=[]\n",
        "for x in cult_core:\n",
        "  try:\n",
        "    cult_core_embs.append(w2v.wv[x])\n",
        "  except:\n",
        "    pass\n"
      ],
      "metadata": {
        "id": "B1DZj9J3pf63"
      },
      "execution_count": null,
      "outputs": []
    },
    {
      "cell_type": "code",
      "source": [
        "demog_core_embs=[]\n",
        "for x in dem_core:\n",
        "  try:\n",
        "    demog_core_embs.append(w2v.wv[x])\n",
        "  except:\n",
        "    pass\n"
      ],
      "metadata": {
        "id": "iagTUAI2W4kK"
      },
      "execution_count": null,
      "outputs": []
    },
    {
      "cell_type": "code",
      "source": [
        "rela_core_embs=[]\n",
        "for x in rela_core:\n",
        "  try:\n",
        "    rela_core_embs.append(w2v.wv[x])\n",
        "  except:\n",
        "    pass\n"
      ],
      "metadata": {
        "id": "ciBztsAbYpJN"
      },
      "execution_count": null,
      "outputs": []
    },
    {
      "cell_type": "code",
      "source": [
        "import numpy as np\n",
        "rela_core_embs_mean = np.mean(rela_core_embs, axis=0)\n",
        "cult_core_embs_mean = np.mean(cult_core_embs, axis=0)\n",
        "demog_core_embs_mean = np.mean(demog_core_embs, axis=0)"
      ],
      "metadata": {
        "id": "gCPBxyzkY3dF"
      },
      "execution_count": null,
      "outputs": []
    },
    {
      "cell_type": "code",
      "source": [
        "\n",
        "\n",
        "def doc_words_cosine(doc):\n",
        "\n",
        "  \"\"\"\n",
        "  doc = str of text\n",
        "  get cosine similarity scores between the document embedding and average emb of the core terms in each perspective.\n",
        "  \"\"\"\n",
        "  doc_vec = d2v.infer_vector(doc)\n",
        "\n",
        "  cult_sim = absolute(dot(doc_vec, cult_core_embs_mean)/(norm(doc_vec)*norm(cult_core_embs_mean)))\n",
        "  rela_sim = absolute(dot(doc_vec, rela_core_embs_mean)/(norm(doc_vec)*norm(rela_core_embs_mean)))\n",
        "  demog_sim = absolute(dot(doc_vec, demog_core_embs_mean)/(norm(doc_vec)*norm(demog_core_embs_mean)))\n",
        "\n",
        "  return (demog_sim,rela_sim,cult_sim)"
      ],
      "metadata": {
        "id": "-U2X8EEtoXqd"
      },
      "execution_count": null,
      "outputs": []
    },
    {
      "cell_type": "code",
      "source": [
        "def apply_doc_words_cosine(df):\n",
        "\n",
        "  \"\"\"\n",
        "  applies doc_words_cosine on the processed texts in each df\n",
        "  returns modified df with new columns dem_sim,rela_sim,cult_sim\n",
        "  \"\"\"\n",
        "\n",
        "  results=df['processed'].apply(lambda x:doc_words_cosine(x))\n",
        "  dem_scores = [i[0] for i in results]\n",
        "  rela_scores = [i[1] for i in results]\n",
        "  cult_scores = [i[2] for i in results]\n",
        "  df['dem_sim'] = dem_scores\n",
        "  df['rela_sim'] = rela_scores\n",
        "  df['cult_sim']= cult_scores\n",
        "\n",
        "  return df"
      ],
      "metadata": {
        "id": "h7j1QLp6bpYA"
      },
      "execution_count": null,
      "outputs": []
    },
    {
      "cell_type": "code",
      "source": [
        "pos_cult = apply_doc_words_cosine(pos_cult)\n",
        "neg_cult = apply_doc_words_cosine(neg_cult)\n",
        "\n",
        "pos_demog = apply_doc_words_cosine(pos_demog)\n",
        "neg_demog = apply_doc_words_cosine(neg_demog)\n",
        "\n",
        "pos_rela = apply_doc_words_cosine(pos_rela)\n",
        "neg_rela = apply_doc_words_cosine(neg_rela)"
      ],
      "metadata": {
        "id": "sallbHzTevKS"
      },
      "execution_count": null,
      "outputs": []
    },
    {
      "cell_type": "markdown",
      "source": [
        "To classify an article with WMD, get the perspective with the smallest distance."
      ],
      "metadata": {
        "id": "_XIYEuokkUsK"
      }
    },
    {
      "cell_type": "code",
      "source": [
        "pos_rela['classified_perspective_wmd']=pos_rela.apply(lambda x:np.argmin([x.dem_scores,x.rela_scores,x.cult_scores]),axis=1)\n",
        "neg_rela['classified_perspective_wmd']=neg_rela.apply(lambda x:np.argmin([x.dem_scores,x.rela_scores,x.cult_scores]),axis=1)\n",
        "pos_cult['classified_perspective_wmd']=pos_cult.apply(lambda x:np.argmin([x.dem_scores,x.rela_scores,x.cult_scores]),axis=1)\n",
        "neg_cult['classified_perspective_wmd']=neg_cult.apply(lambda x:np.argmin([x.dem_scores,x.rela_scores,x.cult_scores]),axis=1)\n",
        "pos_demog['classified_perspective_wmd']=pos_demog.apply(lambda x:np.argmin([x.dem_scores,x.rela_scores,x.cult_scores]),axis=1)\n",
        "neg_demog['classified_perspective_wmd']=neg_demog.apply(lambda x:np.argmin([x.dem_scores,x.rela_scores,x.cult_scores]),axis=1)"
      ],
      "metadata": {
        "id": "E4XqjL8VfNRu"
      },
      "execution_count": null,
      "outputs": []
    },
    {
      "cell_type": "code",
      "source": [
        "perspective_dict={0:'demographic', 1:'relational', 2:'cultural'}"
      ],
      "metadata": {
        "id": "YM0DnZeUgX59"
      },
      "execution_count": null,
      "outputs": []
    },
    {
      "cell_type": "code",
      "source": [
        "pos_rela['classified_perspective_wmd'] = pos_rela['classified_perspective_wmd'].replace(perspective_dict)\n",
        "neg_rela['classified_perspective_wmd'] = neg_rela['classified_perspective_wmd'].replace(perspective_dict)\n",
        "pos_cult['classified_perspective_wmd'] = pos_cult['classified_perspective_wmd'].replace(perspective_dict)\n",
        "neg_cult['classified_perspective_wmd'] = neg_cult['classified_perspective_wmd'].replace(perspective_dict)\n",
        "pos_demog['classified_perspective_wmd'] = pos_demog['classified_perspective_wmd'].replace(perspective_dict)\n",
        "neg_demog['classified_perspective_wmd'] = neg_demog['classified_perspective_wmd'].replace(perspective_dict)"
      ],
      "metadata": {
        "id": "Y78bkczvhPGo"
      },
      "execution_count": null,
      "outputs": []
    },
    {
      "cell_type": "markdown",
      "source": [
        "To classify an article with cosine similarity, get the perspective with the biggest cosine similarity."
      ],
      "metadata": {
        "id": "u80Z_TaWkd5Y"
      }
    },
    {
      "cell_type": "code",
      "source": [
        "pos_rela['classified_perspective_cos']=pos_rela.apply(lambda x:np.argmax([x.dem_sim,x.rela_sim,x.cult_sim]),axis=1)\n",
        "neg_rela['classified_perspective_cos']=neg_rela.apply(lambda x:np.argmax([x.dem_sim,x.rela_sim,x.cult_sim]),axis=1)\n",
        "pos_cult['classified_perspective_cos']=pos_cult.apply(lambda x:np.argmax([x.dem_sim,x.rela_sim,x.cult_sim]),axis=1)\n",
        "neg_cult['classified_perspective_cos']=neg_cult.apply(lambda x:np.argmax([x.dem_sim,x.rela_sim,x.cult_sim]),axis=1)\n",
        "pos_demog['classified_perspective_cos']=pos_demog.apply(lambda x:np.argmax([x.dem_sim,x.rela_sim,x.cult_sim]),axis=1)\n",
        "neg_demog['classified_perspective_cos']=neg_demog.apply(lambda x:np.argmax([x.dem_sim,x.rela_sim,x.cult_sim]),axis=1)"
      ],
      "metadata": {
        "id": "mRLewgkNh3e3"
      },
      "execution_count": null,
      "outputs": []
    },
    {
      "cell_type": "code",
      "source": [
        "pos_rela['classified_perspective_cos'] = pos_rela['classified_perspective_cos'].replace(perspective_dict)\n",
        "neg_rela['classified_perspective_cos'] = neg_rela['classified_perspective_cos'].replace(perspective_dict)\n",
        "pos_cult['classified_perspective_cos'] = pos_cult['classified_perspective_cos'].replace(perspective_dict)\n",
        "neg_cult['classified_perspective_cos'] = neg_cult['classified_perspective_cos'].replace(perspective_dict)\n",
        "pos_demog['classified_perspective_cos'] = pos_demog['classified_perspective_cos'].replace(perspective_dict)\n",
        "neg_demog['classified_perspective_cos'] = neg_demog['classified_perspective_cos'].replace(perspective_dict)"
      ],
      "metadata": {
        "id": "Ayn8rRRViJkn"
      },
      "execution_count": null,
      "outputs": []
    },
    {
      "cell_type": "code",
      "source": [
        "pos_cult"
      ],
      "metadata": {
        "colab": {
          "base_uri": "https://localhost:8080/",
          "height": 1000
        },
        "id": "eMQ_5GjFiXIX",
        "outputId": "8adf523e-baa9-42e5-d977-640f27058714"
      },
      "execution_count": null,
      "outputs": [
        {
          "output_type": "execute_result",
          "data": {
            "text/plain": [
              "    Unnamed: 0                                               text  \\\n",
              "0          691  [['Institutional', 'Sources', 'of', 'Practice'...   \n",
              "1          119  [['Autonomy', 'and', 'the', \"Commercializat'io...   \n",
              "2          570  [['Bringing', 'Managers', 'into', 'Theories', ...   \n",
              "3          659  [['THE', 'DECLINE', 'AND', 'FALL', 'OF', 'THE'...   \n",
              "4          880  [['THE', 'ROLE', 'OF', 'INSTITUTIONALIZATION',...   \n",
              "5          113  [['Institutional', 'Isomorphism', 'and', 'Info...   \n",
              "6          689  [['Organization', 'inf\"', 'Vol.', 'No.', 'Janu...   \n",
              "7          610  [['CEO', 'Narcissism,', 'Audience', 'Engagemen...   \n",
              "8          916  [['Organizational', 'Structure', 'and', 'the',...   \n",
              "9          644  [['Cultures', 'of', 'Culture:', 'This', 'paper...   \n",
              "10         633  [['Capitalizing', 'on', 'Paradox:', 'The', 'Ro...   \n",
              "11         363  [['Industrial', 'Crisis', 'Quarterly', 'Elsevi...   \n",
              "12         685  [['gmi.intro', 'am', 'Page', 'GMI', 'Theme', '...   \n",
              "13         714  [['The', 'Myth', 'Incarnate:', 'Recoupling', '...   \n",
              "14         564  [['Management', 'Control', 'and', 'Museums', '...   \n",
              "15         249  [['The', 'Collective', 'Strategy', 'Framework:...   \n",
              "16         222  [['Doris', 'Gomezelj', 'Omerzel,', 'Roberto', ...   \n",
              "17         614  [['Article', 'Does', 'disclosure', 'matter?', ...   \n",
              "18         178  [['European', 'Sociological', 'Review,', 'Vol....   \n",
              "19         571  [['Égli', 'JOHNSON', 'Cornell', 'University', ...   \n",
              "\n",
              "    cultural_score                       primary_subject  \\\n",
              "0              1.0  Management & Organizational Behavior   \n",
              "1              1.0                             Sociology   \n",
              "2              1.0  Management & Organizational Behavior   \n",
              "3              1.0                             Sociology   \n",
              "4              1.0                             Sociology   \n",
              "5              1.0                             Sociology   \n",
              "6              1.0  Management & Organizational Behavior   \n",
              "7              1.0  Management & Organizational Behavior   \n",
              "8              1.0  Management & Organizational Behavior   \n",
              "9              1.0  Management & Organizational Behavior   \n",
              "10             1.0  Management & Organizational Behavior   \n",
              "11             1.0  Management & Organizational Behavior   \n",
              "12             1.0  Management & Organizational Behavior   \n",
              "13             1.0                             Sociology   \n",
              "14             1.0  Management & Organizational Behavior   \n",
              "15             1.0  Management & Organizational Behavior   \n",
              "16             1.0  Management & Organizational Behavior   \n",
              "17             1.0  Management & Organizational Behavior   \n",
              "18             1.0                             Sociology   \n",
              "19             1.0  Management & Organizational Behavior   \n",
              "\n",
              "               edited_filename  \\\n",
              "0              10.2307_2667124   \n",
              "1              10.2307_3518065   \n",
              "2              10.2307_4135118   \n",
              "3              10.2307_2095931   \n",
              "4              10.2307_2094862   \n",
              "5              10.2307_3096861   \n",
              "6             10.2307_27765958   \n",
              "7             10.2307_43546650   \n",
              "8              10.2307_2392303   \n",
              "9              10.2307_2392854   \n",
              "10             10.2307_3086086   \n",
              "11            10.2307_26162680   \n",
              "12  10.2307_greemanainte.38.26   \n",
              "13            10.2307_27801511   \n",
              "14            10.2307_41064743   \n",
              "15             10.2307_2392643   \n",
              "16            10.2307_23281852   \n",
              "17            10.2307_43581996   \n",
              "18              10.2307_522359   \n",
              "19            10.2307_41410261   \n",
              "\n",
              "                                         article_name  \\\n",
              "0   Institutional Sources of Practice Variation: S...   \n",
              "1   Autonomy and the Commercialization of Higher E...   \n",
              "2   Bringing Managers into Theories of Multimarket...   \n",
              "3   The Decline and Fall of the Conglomerate Firm ...   \n",
              "4   The Role of Institutionalization in Cultural P...   \n",
              "5   Institutional Isomorphism and Informal Social ...   \n",
              "6   Young and No Money? Never Mind: The Material I...   \n",
              "7   CEO Narcissism, Audience Engagement, and Organ...   \n",
              "8   Organizational Structure and the Institutional...   \n",
              "9   Cultures of Culture: Academics, Practitioners ...   \n",
              "10  Capitalizing on Paradox: The Role of Language ...   \n",
              "11  Organizational disaster and organizational dec...   \n",
              "12                                  \\n                  \n",
              "13  The Myth Incarnate: Recoupling Processes, Turm...   \n",
              "14                     Management Control and Museums   \n",
              "15  The Collective Strategy Framework: An Applicat...   \n",
              "16  Knowledge management and organisational cultur...   \n",
              "17  Does disclosure matter? Integrating organizati...   \n",
              "18  Managing the Institutional Environment: Eviden...   \n",
              "19  How Product Order Affects Market Identity: Rep...   \n",
              "\n",
              "                                            full_text  \\\n",
              "0   Institutional Sources of Practice Variation: S...   \n",
              "1   Autonomy and the Commercializat'ion of Higher ...   \n",
              "2   Bringing Managers into Theories of Multimarket...   \n",
              "3   THE DECLINE AND FALL OF THE CONGLOMERATE FIRM ...   \n",
              "4   THE ROLE OF INSTITUTIONALIZATION IN CULTURAL P...   \n",
              "5   Institutional Isomorphism and Informal Social ...   \n",
              "6   Organization inf\" Vol. No. January-February is...   \n",
              "7   CEO Narcissism, Audience Engagement and Organi...   \n",
              "8   Organizational Structure and the Institutional...   \n",
              "9   Cultures of Culture: This paper presents metho...   \n",
              "10  Capitalizing on Paradox: The Role of Language ...   \n",
              "11  Industrial Crisis Quarterly Elsevier Science P...   \n",
              "12  gmi.intro am Page GMI Theme Issue: Environment...   \n",
              "13  The Myth Incarnate: Recoupling Processes, Turm...   \n",
              "14  Management Control and Museums Stéphanie Chate...   \n",
              "15  The Collective Strategy Framework: An Applicat...   \n",
              "16  Doris Gomezelj Omerzel, Roberto Biloslavo, Ani...   \n",
              "17  Article Does disclosure matter? Integrating or...   \n",
              "18  European Sociological Review, Vol. No. May Oxf...   \n",
              "19  Égli JOHNSON Cornell University How Product Or...   \n",
              "\n",
              "                                         text_no_tags  \\\n",
              "0   Institutional Sources of Practice Variation: S...   \n",
              "1   Autonomy and the Commercializat'ion of Higher ...   \n",
              "2   Bringing Managers into Theories of Multimarket...   \n",
              "3   THE DECLINE AND FALL OF THE CONGLOMERATE FIRM ...   \n",
              "4   THE ROLE OF INSTITUTIONALIZATION IN CULTURAL P...   \n",
              "5   Institutional Isomorphism and Informal Social ...   \n",
              "6   Organization inf\" Vol. No. January-February is...   \n",
              "7   CEO Narcissism, Audience Engagement and Organi...   \n",
              "8   Organizational Structure and the Institutional...   \n",
              "9   Cultures of Culture: This paper presents metho...   \n",
              "10  Capitalizing on Paradox: The Role of Language ...   \n",
              "11  Industrial Crisis Quarterly Elsevier Science P...   \n",
              "12  gmi.intro am Page GMI Theme Issue: Environment...   \n",
              "13  The Myth Incarnate: Recoupling Processes, Turm...   \n",
              "14  Management Control and Museums Stéphanie Chate...   \n",
              "15  The Collective Strategy Framework: An Applicat...   \n",
              "16  Doris Gomezelj Omerzel, Roberto Biloslavo, Ani...   \n",
              "17  Article Does disclosure matter? Integrating or...   \n",
              "18  European Sociological Review, Vol. No. May Oxf...   \n",
              "19  Égli JOHNSON Cornell University How Product Or...   \n",
              "\n",
              "                                            processed  dem_scores  \\\n",
              "0    institutional sources practice variation staf...    5.426379   \n",
              "1    autonomy commercializat ion higher education ...    5.490213   \n",
              "2    bringing managers theories multimarket compet...    5.456102   \n",
              "3    decline fall conglomerate firm deinstitutiona...    5.462405   \n",
              "4    role institutionalization cultural persistenc...    5.424501   \n",
              "5    institutional isomorphism informal social con...    5.574269   \n",
              "6    organization inf vol january february issn ei...    5.414351   \n",
              "7    ceo narcissism audience engagement organizati...    5.457953   \n",
              "8    organizational structure institutional enviro...    5.510996   \n",
              "9    cultures culture paper presents method assess...    5.432191   \n",
              "10   capitalizing paradox role language transformi...    5.370347   \n",
              "11   industrial crisis quarterly elsevier science ...    5.460109   \n",
              "12   gmi intro page gmi theme issue environmental ...    5.419016   \n",
              "13   myth incarnate recoupling processes turmoil i...    5.514743   \n",
              "14   management control museums stéphanie chatelai...    5.487665   \n",
              "15   collective strategy framework application com...    5.267880   \n",
              "16   doris gomezelj omerzel roberto biloslavo anit...    5.426557   \n",
              "17   article disclosure matter integrating organiz...    5.359419   \n",
              "18   european sociological review vol oxford unive...    5.452200   \n",
              "19   égli johnson cornell university product order...    5.506057   \n",
              "\n",
              "    rela_scores  cult_scores   dem_sim  rela_sim  cult_sim  \\\n",
              "0      5.232177     5.237167  0.040509  0.059071  0.010300   \n",
              "1      5.240339     5.312080  0.019956  0.073942  0.038231   \n",
              "2      5.226426     5.391672  0.027158  0.084170  0.018517   \n",
              "3      5.122750     5.339013  0.055892  0.096728  0.022771   \n",
              "4      5.243711     5.330189  0.047036  0.049208  0.089978   \n",
              "5      5.348210     5.351642  0.007691  0.072982  0.042949   \n",
              "6      5.190310     5.275645  0.004057  0.000891  0.018885   \n",
              "7      5.237587     5.352402  0.013073  0.029155  0.099449   \n",
              "8      5.283928     5.285227  0.079757  0.023204  0.009865   \n",
              "9      5.179034     5.262543  0.051659  0.006384  0.070012   \n",
              "10     5.149661     5.229138  0.014958  0.057098  0.077500   \n",
              "11     5.246425     5.320785  0.104189  0.128652  0.138196   \n",
              "12     5.193178     5.283635  0.003254  0.071265  0.035546   \n",
              "13     5.315395     5.263791  0.127945  0.049041  0.017963   \n",
              "14     5.192805     5.299538  0.066910  0.016924  0.004967   \n",
              "15     5.133712     5.177333  0.076800  0.118423  0.025326   \n",
              "16     5.222780     5.291635  0.028378  0.023223  0.036472   \n",
              "17     5.126492     5.279253  0.107199  0.153914  0.054842   \n",
              "18     5.094950     5.326366  0.029584  0.024100  0.065274   \n",
              "19     5.335683     5.461711  0.016759  0.063470  0.009918   \n",
              "\n",
              "   classified_perspective_wmd classified_perspective_cos  \n",
              "0                  relational                 relational  \n",
              "1                  relational                 relational  \n",
              "2                  relational                 relational  \n",
              "3                  relational                 relational  \n",
              "4                  relational                   cultural  \n",
              "5                  relational                 relational  \n",
              "6                  relational                   cultural  \n",
              "7                  relational                   cultural  \n",
              "8                  relational                demographic  \n",
              "9                  relational                   cultural  \n",
              "10                 relational                   cultural  \n",
              "11                 relational                   cultural  \n",
              "12                 relational                 relational  \n",
              "13                   cultural                demographic  \n",
              "14                 relational                demographic  \n",
              "15                 relational                 relational  \n",
              "16                 relational                   cultural  \n",
              "17                 relational                 relational  \n",
              "18                 relational                   cultural  \n",
              "19                 relational                 relational  "
            ],
            "text/html": [
              "\n",
              "  <div id=\"df-20119fc3-cf51-48cd-8bbe-f88393d6223a\">\n",
              "    <div class=\"colab-df-container\">\n",
              "      <div>\n",
              "<style scoped>\n",
              "    .dataframe tbody tr th:only-of-type {\n",
              "        vertical-align: middle;\n",
              "    }\n",
              "\n",
              "    .dataframe tbody tr th {\n",
              "        vertical-align: top;\n",
              "    }\n",
              "\n",
              "    .dataframe thead th {\n",
              "        text-align: right;\n",
              "    }\n",
              "</style>\n",
              "<table border=\"1\" class=\"dataframe\">\n",
              "  <thead>\n",
              "    <tr style=\"text-align: right;\">\n",
              "      <th></th>\n",
              "      <th>Unnamed: 0</th>\n",
              "      <th>text</th>\n",
              "      <th>cultural_score</th>\n",
              "      <th>primary_subject</th>\n",
              "      <th>edited_filename</th>\n",
              "      <th>article_name</th>\n",
              "      <th>full_text</th>\n",
              "      <th>text_no_tags</th>\n",
              "      <th>processed</th>\n",
              "      <th>dem_scores</th>\n",
              "      <th>rela_scores</th>\n",
              "      <th>cult_scores</th>\n",
              "      <th>dem_sim</th>\n",
              "      <th>rela_sim</th>\n",
              "      <th>cult_sim</th>\n",
              "      <th>classified_perspective_wmd</th>\n",
              "      <th>classified_perspective_cos</th>\n",
              "    </tr>\n",
              "  </thead>\n",
              "  <tbody>\n",
              "    <tr>\n",
              "      <th>0</th>\n",
              "      <td>691</td>\n",
              "      <td>[['Institutional', 'Sources', 'of', 'Practice'...</td>\n",
              "      <td>1.0</td>\n",
              "      <td>Management &amp; Organizational Behavior</td>\n",
              "      <td>10.2307_2667124</td>\n",
              "      <td>Institutional Sources of Practice Variation: S...</td>\n",
              "      <td>Institutional Sources of Practice Variation: S...</td>\n",
              "      <td>Institutional Sources of Practice Variation: S...</td>\n",
              "      <td>institutional sources practice variation staf...</td>\n",
              "      <td>5.426379</td>\n",
              "      <td>5.232177</td>\n",
              "      <td>5.237167</td>\n",
              "      <td>0.040509</td>\n",
              "      <td>0.059071</td>\n",
              "      <td>0.010300</td>\n",
              "      <td>relational</td>\n",
              "      <td>relational</td>\n",
              "    </tr>\n",
              "    <tr>\n",
              "      <th>1</th>\n",
              "      <td>119</td>\n",
              "      <td>[['Autonomy', 'and', 'the', \"Commercializat'io...</td>\n",
              "      <td>1.0</td>\n",
              "      <td>Sociology</td>\n",
              "      <td>10.2307_3518065</td>\n",
              "      <td>Autonomy and the Commercialization of Higher E...</td>\n",
              "      <td>Autonomy and the Commercializat'ion of Higher ...</td>\n",
              "      <td>Autonomy and the Commercializat'ion of Higher ...</td>\n",
              "      <td>autonomy commercializat ion higher education ...</td>\n",
              "      <td>5.490213</td>\n",
              "      <td>5.240339</td>\n",
              "      <td>5.312080</td>\n",
              "      <td>0.019956</td>\n",
              "      <td>0.073942</td>\n",
              "      <td>0.038231</td>\n",
              "      <td>relational</td>\n",
              "      <td>relational</td>\n",
              "    </tr>\n",
              "    <tr>\n",
              "      <th>2</th>\n",
              "      <td>570</td>\n",
              "      <td>[['Bringing', 'Managers', 'into', 'Theories', ...</td>\n",
              "      <td>1.0</td>\n",
              "      <td>Management &amp; Organizational Behavior</td>\n",
              "      <td>10.2307_4135118</td>\n",
              "      <td>Bringing Managers into Theories of Multimarket...</td>\n",
              "      <td>Bringing Managers into Theories of Multimarket...</td>\n",
              "      <td>Bringing Managers into Theories of Multimarket...</td>\n",
              "      <td>bringing managers theories multimarket compet...</td>\n",
              "      <td>5.456102</td>\n",
              "      <td>5.226426</td>\n",
              "      <td>5.391672</td>\n",
              "      <td>0.027158</td>\n",
              "      <td>0.084170</td>\n",
              "      <td>0.018517</td>\n",
              "      <td>relational</td>\n",
              "      <td>relational</td>\n",
              "    </tr>\n",
              "    <tr>\n",
              "      <th>3</th>\n",
              "      <td>659</td>\n",
              "      <td>[['THE', 'DECLINE', 'AND', 'FALL', 'OF', 'THE'...</td>\n",
              "      <td>1.0</td>\n",
              "      <td>Sociology</td>\n",
              "      <td>10.2307_2095931</td>\n",
              "      <td>The Decline and Fall of the Conglomerate Firm ...</td>\n",
              "      <td>THE DECLINE AND FALL OF THE CONGLOMERATE FIRM ...</td>\n",
              "      <td>THE DECLINE AND FALL OF THE CONGLOMERATE FIRM ...</td>\n",
              "      <td>decline fall conglomerate firm deinstitutiona...</td>\n",
              "      <td>5.462405</td>\n",
              "      <td>5.122750</td>\n",
              "      <td>5.339013</td>\n",
              "      <td>0.055892</td>\n",
              "      <td>0.096728</td>\n",
              "      <td>0.022771</td>\n",
              "      <td>relational</td>\n",
              "      <td>relational</td>\n",
              "    </tr>\n",
              "    <tr>\n",
              "      <th>4</th>\n",
              "      <td>880</td>\n",
              "      <td>[['THE', 'ROLE', 'OF', 'INSTITUTIONALIZATION',...</td>\n",
              "      <td>1.0</td>\n",
              "      <td>Sociology</td>\n",
              "      <td>10.2307_2094862</td>\n",
              "      <td>The Role of Institutionalization in Cultural P...</td>\n",
              "      <td>THE ROLE OF INSTITUTIONALIZATION IN CULTURAL P...</td>\n",
              "      <td>THE ROLE OF INSTITUTIONALIZATION IN CULTURAL P...</td>\n",
              "      <td>role institutionalization cultural persistenc...</td>\n",
              "      <td>5.424501</td>\n",
              "      <td>5.243711</td>\n",
              "      <td>5.330189</td>\n",
              "      <td>0.047036</td>\n",
              "      <td>0.049208</td>\n",
              "      <td>0.089978</td>\n",
              "      <td>relational</td>\n",
              "      <td>cultural</td>\n",
              "    </tr>\n",
              "    <tr>\n",
              "      <th>5</th>\n",
              "      <td>113</td>\n",
              "      <td>[['Institutional', 'Isomorphism', 'and', 'Info...</td>\n",
              "      <td>1.0</td>\n",
              "      <td>Sociology</td>\n",
              "      <td>10.2307_3096861</td>\n",
              "      <td>Institutional Isomorphism and Informal Social ...</td>\n",
              "      <td>Institutional Isomorphism and Informal Social ...</td>\n",
              "      <td>Institutional Isomorphism and Informal Social ...</td>\n",
              "      <td>institutional isomorphism informal social con...</td>\n",
              "      <td>5.574269</td>\n",
              "      <td>5.348210</td>\n",
              "      <td>5.351642</td>\n",
              "      <td>0.007691</td>\n",
              "      <td>0.072982</td>\n",
              "      <td>0.042949</td>\n",
              "      <td>relational</td>\n",
              "      <td>relational</td>\n",
              "    </tr>\n",
              "    <tr>\n",
              "      <th>6</th>\n",
              "      <td>689</td>\n",
              "      <td>[['Organization', 'inf\"', 'Vol.', 'No.', 'Janu...</td>\n",
              "      <td>1.0</td>\n",
              "      <td>Management &amp; Organizational Behavior</td>\n",
              "      <td>10.2307_27765958</td>\n",
              "      <td>Young and No Money? Never Mind: The Material I...</td>\n",
              "      <td>Organization inf\" Vol. No. January-February is...</td>\n",
              "      <td>Organization inf\" Vol. No. January-February is...</td>\n",
              "      <td>organization inf vol january february issn ei...</td>\n",
              "      <td>5.414351</td>\n",
              "      <td>5.190310</td>\n",
              "      <td>5.275645</td>\n",
              "      <td>0.004057</td>\n",
              "      <td>0.000891</td>\n",
              "      <td>0.018885</td>\n",
              "      <td>relational</td>\n",
              "      <td>cultural</td>\n",
              "    </tr>\n",
              "    <tr>\n",
              "      <th>7</th>\n",
              "      <td>610</td>\n",
              "      <td>[['CEO', 'Narcissism,', 'Audience', 'Engagemen...</td>\n",
              "      <td>1.0</td>\n",
              "      <td>Management &amp; Organizational Behavior</td>\n",
              "      <td>10.2307_43546650</td>\n",
              "      <td>CEO Narcissism, Audience Engagement, and Organ...</td>\n",
              "      <td>CEO Narcissism, Audience Engagement and Organi...</td>\n",
              "      <td>CEO Narcissism, Audience Engagement and Organi...</td>\n",
              "      <td>ceo narcissism audience engagement organizati...</td>\n",
              "      <td>5.457953</td>\n",
              "      <td>5.237587</td>\n",
              "      <td>5.352402</td>\n",
              "      <td>0.013073</td>\n",
              "      <td>0.029155</td>\n",
              "      <td>0.099449</td>\n",
              "      <td>relational</td>\n",
              "      <td>cultural</td>\n",
              "    </tr>\n",
              "    <tr>\n",
              "      <th>8</th>\n",
              "      <td>916</td>\n",
              "      <td>[['Organizational', 'Structure', 'and', 'the',...</td>\n",
              "      <td>1.0</td>\n",
              "      <td>Management &amp; Organizational Behavior</td>\n",
              "      <td>10.2307_2392303</td>\n",
              "      <td>Organizational Structure and the Institutional...</td>\n",
              "      <td>Organizational Structure and the Institutional...</td>\n",
              "      <td>Organizational Structure and the Institutional...</td>\n",
              "      <td>organizational structure institutional enviro...</td>\n",
              "      <td>5.510996</td>\n",
              "      <td>5.283928</td>\n",
              "      <td>5.285227</td>\n",
              "      <td>0.079757</td>\n",
              "      <td>0.023204</td>\n",
              "      <td>0.009865</td>\n",
              "      <td>relational</td>\n",
              "      <td>demographic</td>\n",
              "    </tr>\n",
              "    <tr>\n",
              "      <th>9</th>\n",
              "      <td>644</td>\n",
              "      <td>[['Cultures', 'of', 'Culture:', 'This', 'paper...</td>\n",
              "      <td>1.0</td>\n",
              "      <td>Management &amp; Organizational Behavior</td>\n",
              "      <td>10.2307_2392854</td>\n",
              "      <td>Cultures of Culture: Academics, Practitioners ...</td>\n",
              "      <td>Cultures of Culture: This paper presents metho...</td>\n",
              "      <td>Cultures of Culture: This paper presents metho...</td>\n",
              "      <td>cultures culture paper presents method assess...</td>\n",
              "      <td>5.432191</td>\n",
              "      <td>5.179034</td>\n",
              "      <td>5.262543</td>\n",
              "      <td>0.051659</td>\n",
              "      <td>0.006384</td>\n",
              "      <td>0.070012</td>\n",
              "      <td>relational</td>\n",
              "      <td>cultural</td>\n",
              "    </tr>\n",
              "    <tr>\n",
              "      <th>10</th>\n",
              "      <td>633</td>\n",
              "      <td>[['Capitalizing', 'on', 'Paradox:', 'The', 'Ro...</td>\n",
              "      <td>1.0</td>\n",
              "      <td>Management &amp; Organizational Behavior</td>\n",
              "      <td>10.2307_3086086</td>\n",
              "      <td>Capitalizing on Paradox: The Role of Language ...</td>\n",
              "      <td>Capitalizing on Paradox: The Role of Language ...</td>\n",
              "      <td>Capitalizing on Paradox: The Role of Language ...</td>\n",
              "      <td>capitalizing paradox role language transformi...</td>\n",
              "      <td>5.370347</td>\n",
              "      <td>5.149661</td>\n",
              "      <td>5.229138</td>\n",
              "      <td>0.014958</td>\n",
              "      <td>0.057098</td>\n",
              "      <td>0.077500</td>\n",
              "      <td>relational</td>\n",
              "      <td>cultural</td>\n",
              "    </tr>\n",
              "    <tr>\n",
              "      <th>11</th>\n",
              "      <td>363</td>\n",
              "      <td>[['Industrial', 'Crisis', 'Quarterly', 'Elsevi...</td>\n",
              "      <td>1.0</td>\n",
              "      <td>Management &amp; Organizational Behavior</td>\n",
              "      <td>10.2307_26162680</td>\n",
              "      <td>Organizational disaster and organizational dec...</td>\n",
              "      <td>Industrial Crisis Quarterly Elsevier Science P...</td>\n",
              "      <td>Industrial Crisis Quarterly Elsevier Science P...</td>\n",
              "      <td>industrial crisis quarterly elsevier science ...</td>\n",
              "      <td>5.460109</td>\n",
              "      <td>5.246425</td>\n",
              "      <td>5.320785</td>\n",
              "      <td>0.104189</td>\n",
              "      <td>0.128652</td>\n",
              "      <td>0.138196</td>\n",
              "      <td>relational</td>\n",
              "      <td>cultural</td>\n",
              "    </tr>\n",
              "    <tr>\n",
              "      <th>12</th>\n",
              "      <td>685</td>\n",
              "      <td>[['gmi.intro', 'am', 'Page', 'GMI', 'Theme', '...</td>\n",
              "      <td>1.0</td>\n",
              "      <td>Management &amp; Organizational Behavior</td>\n",
              "      <td>10.2307_greemanainte.38.26</td>\n",
              "      <td>\\n</td>\n",
              "      <td>gmi.intro am Page GMI Theme Issue: Environment...</td>\n",
              "      <td>gmi.intro am Page GMI Theme Issue: Environment...</td>\n",
              "      <td>gmi intro page gmi theme issue environmental ...</td>\n",
              "      <td>5.419016</td>\n",
              "      <td>5.193178</td>\n",
              "      <td>5.283635</td>\n",
              "      <td>0.003254</td>\n",
              "      <td>0.071265</td>\n",
              "      <td>0.035546</td>\n",
              "      <td>relational</td>\n",
              "      <td>relational</td>\n",
              "    </tr>\n",
              "    <tr>\n",
              "      <th>13</th>\n",
              "      <td>714</td>\n",
              "      <td>[['The', 'Myth', 'Incarnate:', 'Recoupling', '...</td>\n",
              "      <td>1.0</td>\n",
              "      <td>Sociology</td>\n",
              "      <td>10.2307_27801511</td>\n",
              "      <td>The Myth Incarnate: Recoupling Processes, Turm...</td>\n",
              "      <td>The Myth Incarnate: Recoupling Processes, Turm...</td>\n",
              "      <td>The Myth Incarnate: Recoupling Processes, Turm...</td>\n",
              "      <td>myth incarnate recoupling processes turmoil i...</td>\n",
              "      <td>5.514743</td>\n",
              "      <td>5.315395</td>\n",
              "      <td>5.263791</td>\n",
              "      <td>0.127945</td>\n",
              "      <td>0.049041</td>\n",
              "      <td>0.017963</td>\n",
              "      <td>cultural</td>\n",
              "      <td>demographic</td>\n",
              "    </tr>\n",
              "    <tr>\n",
              "      <th>14</th>\n",
              "      <td>564</td>\n",
              "      <td>[['Management', 'Control', 'and', 'Museums', '...</td>\n",
              "      <td>1.0</td>\n",
              "      <td>Management &amp; Organizational Behavior</td>\n",
              "      <td>10.2307_41064743</td>\n",
              "      <td>Management Control and Museums</td>\n",
              "      <td>Management Control and Museums Stéphanie Chate...</td>\n",
              "      <td>Management Control and Museums Stéphanie Chate...</td>\n",
              "      <td>management control museums stéphanie chatelai...</td>\n",
              "      <td>5.487665</td>\n",
              "      <td>5.192805</td>\n",
              "      <td>5.299538</td>\n",
              "      <td>0.066910</td>\n",
              "      <td>0.016924</td>\n",
              "      <td>0.004967</td>\n",
              "      <td>relational</td>\n",
              "      <td>demographic</td>\n",
              "    </tr>\n",
              "    <tr>\n",
              "      <th>15</th>\n",
              "      <td>249</td>\n",
              "      <td>[['The', 'Collective', 'Strategy', 'Framework:...</td>\n",
              "      <td>1.0</td>\n",
              "      <td>Management &amp; Organizational Behavior</td>\n",
              "      <td>10.2307_2392643</td>\n",
              "      <td>The Collective Strategy Framework: An Applicat...</td>\n",
              "      <td>The Collective Strategy Framework: An Applicat...</td>\n",
              "      <td>The Collective Strategy Framework: An Applicat...</td>\n",
              "      <td>collective strategy framework application com...</td>\n",
              "      <td>5.267880</td>\n",
              "      <td>5.133712</td>\n",
              "      <td>5.177333</td>\n",
              "      <td>0.076800</td>\n",
              "      <td>0.118423</td>\n",
              "      <td>0.025326</td>\n",
              "      <td>relational</td>\n",
              "      <td>relational</td>\n",
              "    </tr>\n",
              "    <tr>\n",
              "      <th>16</th>\n",
              "      <td>222</td>\n",
              "      <td>[['Doris', 'Gomezelj', 'Omerzel,', 'Roberto', ...</td>\n",
              "      <td>1.0</td>\n",
              "      <td>Management &amp; Organizational Behavior</td>\n",
              "      <td>10.2307_23281852</td>\n",
              "      <td>Knowledge management and organisational cultur...</td>\n",
              "      <td>Doris Gomezelj Omerzel, Roberto Biloslavo, Ani...</td>\n",
              "      <td>Doris Gomezelj Omerzel, Roberto Biloslavo, Ani...</td>\n",
              "      <td>doris gomezelj omerzel roberto biloslavo anit...</td>\n",
              "      <td>5.426557</td>\n",
              "      <td>5.222780</td>\n",
              "      <td>5.291635</td>\n",
              "      <td>0.028378</td>\n",
              "      <td>0.023223</td>\n",
              "      <td>0.036472</td>\n",
              "      <td>relational</td>\n",
              "      <td>cultural</td>\n",
              "    </tr>\n",
              "    <tr>\n",
              "      <th>17</th>\n",
              "      <td>614</td>\n",
              "      <td>[['Article', 'Does', 'disclosure', 'matter?', ...</td>\n",
              "      <td>1.0</td>\n",
              "      <td>Management &amp; Organizational Behavior</td>\n",
              "      <td>10.2307_43581996</td>\n",
              "      <td>Does disclosure matter? Integrating organizati...</td>\n",
              "      <td>Article Does disclosure matter? Integrating or...</td>\n",
              "      <td>Article Does disclosure matter? Integrating or...</td>\n",
              "      <td>article disclosure matter integrating organiz...</td>\n",
              "      <td>5.359419</td>\n",
              "      <td>5.126492</td>\n",
              "      <td>5.279253</td>\n",
              "      <td>0.107199</td>\n",
              "      <td>0.153914</td>\n",
              "      <td>0.054842</td>\n",
              "      <td>relational</td>\n",
              "      <td>relational</td>\n",
              "    </tr>\n",
              "    <tr>\n",
              "      <th>18</th>\n",
              "      <td>178</td>\n",
              "      <td>[['European', 'Sociological', 'Review,', 'Vol....</td>\n",
              "      <td>1.0</td>\n",
              "      <td>Sociology</td>\n",
              "      <td>10.2307_522359</td>\n",
              "      <td>Managing the Institutional Environment: Eviden...</td>\n",
              "      <td>European Sociological Review, Vol. No. May Oxf...</td>\n",
              "      <td>European Sociological Review, Vol. No. May Oxf...</td>\n",
              "      <td>european sociological review vol oxford unive...</td>\n",
              "      <td>5.452200</td>\n",
              "      <td>5.094950</td>\n",
              "      <td>5.326366</td>\n",
              "      <td>0.029584</td>\n",
              "      <td>0.024100</td>\n",
              "      <td>0.065274</td>\n",
              "      <td>relational</td>\n",
              "      <td>cultural</td>\n",
              "    </tr>\n",
              "    <tr>\n",
              "      <th>19</th>\n",
              "      <td>571</td>\n",
              "      <td>[['Égli', 'JOHNSON', 'Cornell', 'University', ...</td>\n",
              "      <td>1.0</td>\n",
              "      <td>Management &amp; Organizational Behavior</td>\n",
              "      <td>10.2307_41410261</td>\n",
              "      <td>How Product Order Affects Market Identity: Rep...</td>\n",
              "      <td>Égli JOHNSON Cornell University How Product Or...</td>\n",
              "      <td>Égli JOHNSON Cornell University How Product Or...</td>\n",
              "      <td>égli johnson cornell university product order...</td>\n",
              "      <td>5.506057</td>\n",
              "      <td>5.335683</td>\n",
              "      <td>5.461711</td>\n",
              "      <td>0.016759</td>\n",
              "      <td>0.063470</td>\n",
              "      <td>0.009918</td>\n",
              "      <td>relational</td>\n",
              "      <td>relational</td>\n",
              "    </tr>\n",
              "  </tbody>\n",
              "</table>\n",
              "</div>\n",
              "      <button class=\"colab-df-convert\" onclick=\"convertToInteractive('df-20119fc3-cf51-48cd-8bbe-f88393d6223a')\"\n",
              "              title=\"Convert this dataframe to an interactive table.\"\n",
              "              style=\"display:none;\">\n",
              "        \n",
              "  <svg xmlns=\"http://www.w3.org/2000/svg\" height=\"24px\"viewBox=\"0 0 24 24\"\n",
              "       width=\"24px\">\n",
              "    <path d=\"M0 0h24v24H0V0z\" fill=\"none\"/>\n",
              "    <path d=\"M18.56 5.44l.94 2.06.94-2.06 2.06-.94-2.06-.94-.94-2.06-.94 2.06-2.06.94zm-11 1L8.5 8.5l.94-2.06 2.06-.94-2.06-.94L8.5 2.5l-.94 2.06-2.06.94zm10 10l.94 2.06.94-2.06 2.06-.94-2.06-.94-.94-2.06-.94 2.06-2.06.94z\"/><path d=\"M17.41 7.96l-1.37-1.37c-.4-.4-.92-.59-1.43-.59-.52 0-1.04.2-1.43.59L10.3 9.45l-7.72 7.72c-.78.78-.78 2.05 0 2.83L4 21.41c.39.39.9.59 1.41.59.51 0 1.02-.2 1.41-.59l7.78-7.78 2.81-2.81c.8-.78.8-2.07 0-2.86zM5.41 20L4 18.59l7.72-7.72 1.47 1.35L5.41 20z\"/>\n",
              "  </svg>\n",
              "      </button>\n",
              "      \n",
              "  <style>\n",
              "    .colab-df-container {\n",
              "      display:flex;\n",
              "      flex-wrap:wrap;\n",
              "      gap: 12px;\n",
              "    }\n",
              "\n",
              "    .colab-df-convert {\n",
              "      background-color: #E8F0FE;\n",
              "      border: none;\n",
              "      border-radius: 50%;\n",
              "      cursor: pointer;\n",
              "      display: none;\n",
              "      fill: #1967D2;\n",
              "      height: 32px;\n",
              "      padding: 0 0 0 0;\n",
              "      width: 32px;\n",
              "    }\n",
              "\n",
              "    .colab-df-convert:hover {\n",
              "      background-color: #E2EBFA;\n",
              "      box-shadow: 0px 1px 2px rgba(60, 64, 67, 0.3), 0px 1px 3px 1px rgba(60, 64, 67, 0.15);\n",
              "      fill: #174EA6;\n",
              "    }\n",
              "\n",
              "    [theme=dark] .colab-df-convert {\n",
              "      background-color: #3B4455;\n",
              "      fill: #D2E3FC;\n",
              "    }\n",
              "\n",
              "    [theme=dark] .colab-df-convert:hover {\n",
              "      background-color: #434B5C;\n",
              "      box-shadow: 0px 1px 3px 1px rgba(0, 0, 0, 0.15);\n",
              "      filter: drop-shadow(0px 1px 2px rgba(0, 0, 0, 0.3));\n",
              "      fill: #FFFFFF;\n",
              "    }\n",
              "  </style>\n",
              "\n",
              "      <script>\n",
              "        const buttonEl =\n",
              "          document.querySelector('#df-20119fc3-cf51-48cd-8bbe-f88393d6223a button.colab-df-convert');\n",
              "        buttonEl.style.display =\n",
              "          google.colab.kernel.accessAllowed ? 'block' : 'none';\n",
              "\n",
              "        async function convertToInteractive(key) {\n",
              "          const element = document.querySelector('#df-20119fc3-cf51-48cd-8bbe-f88393d6223a');\n",
              "          const dataTable =\n",
              "            await google.colab.kernel.invokeFunction('convertToInteractive',\n",
              "                                                     [key], {});\n",
              "          if (!dataTable) return;\n",
              "\n",
              "          const docLinkHtml = 'Like what you see? Visit the ' +\n",
              "            '<a target=\"_blank\" href=https://colab.research.google.com/notebooks/data_table.ipynb>data table notebook</a>'\n",
              "            + ' to learn more about interactive tables.';\n",
              "          element.innerHTML = '';\n",
              "          dataTable['output_type'] = 'display_data';\n",
              "          await google.colab.output.renderOutput(dataTable, element);\n",
              "          const docLink = document.createElement('div');\n",
              "          docLink.innerHTML = docLinkHtml;\n",
              "          element.appendChild(docLink);\n",
              "        }\n",
              "      </script>\n",
              "    </div>\n",
              "  </div>\n",
              "  "
            ]
          },
          "metadata": {},
          "execution_count": 140
        }
      ]
    },
    {
      "cell_type": "code",
      "source": [
        "pos_rela"
      ],
      "metadata": {
        "colab": {
          "base_uri": "https://localhost:8080/",
          "height": 1000
        },
        "id": "98o-BeQaiShn",
        "outputId": "82456903-44f3-41fb-de4d-8b40e2e8cc09"
      },
      "execution_count": null,
      "outputs": [
        {
          "output_type": "execute_result",
          "data": {
            "text/plain": [
              "    Unnamed: 0                                               text  \\\n",
              "0          767  [['Robust', 'Action', 'and', 'the', 'Rise', 'o...   \n",
              "1          606  [['Hitotsubashi', 'Journal', 'of', 'Commerce',...   \n",
              "2           75  [['Organizational', 'Approaches', 'to', 'Inequ...   \n",
              "3          741  [['BRINGING', 'STRONG', 'TIES', 'BACK', 'IN:',...   \n",
              "4           66  [['thnicities', 'article', 'The', 'Author(),',...   \n",
              "5          427  [['Academy', 'of', 'Management', 'Perspectives...   \n",
              "6          272  [['Interorganization', 'Contagion', 'in', 'Cor...   \n",
              "7          924  [['Joint', 'Ventures', 'and', 'Interorganizati...   \n",
              "8          302  [['Strategic', 'Management', 'Journal,', 'Vol....   \n",
              "9          768  [['<body', 'xmlns:mml=\"http://www..org//Math/M...   \n",
              "10         331  [['Organization', 'Science', 'infuuiiKi', 'Vol...   \n",
              "11         756  [['Should', 'We', 'Stay', 'or', 'Should', 'We'...   \n",
              "12         503  [['JAGDISH', 'SACHDEV', 'DISINVESTMENT:', 'NEW...   \n",
              "13         518  [['Int.', 'Studies', 'of', 'Man.', '&amp;', 'O...   \n",
              "14         927  [['Environmental', 'Linkages', 'and', 'Power',...   \n",
              "15         782  [['THE', 'SOURCES', 'AND', 'CONSEQUENCES', 'OF...   \n",
              "16         734  [['Local', 'Governments', 'as', 'Industrial', ...   \n",
              "17         434  [['MANAGEMENT', 'SCIENCE', 'Vol.', 'No.', 'Oct...   \n",
              "18         583  [['MANAGERIAL', 'AND', 'DECISION', 'ECONOMICS'...   \n",
              "19         172  [['AKA', 'AMERICAN', 'SOCIOLOGICAL', 'ASSOCIAT...   \n",
              "\n",
              "    relational_score                       primary_subject   edited_filename  \\\n",
              "0                1.0                             Sociology   10.2307_2781822   \n",
              "1                1.0  Management & Organizational Behavior  10.2307_43295012   \n",
              "2                1.0                             Sociology  10.2307_25735076   \n",
              "3                1.0                             Sociology   10.2307_2657311   \n",
              "4                1.0                             Sociology  10.2307_23890858   \n",
              "5                1.0  Management & Organizational Behavior  10.2307_29764992   \n",
              "6                1.0  Management & Organizational Behavior   10.2307_2393431   \n",
              "7                1.0  Management & Organizational Behavior   10.2307_2391851   \n",
              "8                1.0  Management & Organizational Behavior   10.2307_2486897   \n",
              "9                1.0                             Sociology    10.1086_661757   \n",
              "10               1.0  Management & Organizational Behavior  10.2307_25146199   \n",
              "11               1.0  Management & Organizational Behavior  10.2307_20109860   \n",
              "12               1.0  Management & Organizational Behavior  10.2307_40227275   \n",
              "13               1.0  Management & Organizational Behavior  10.2307_40396928   \n",
              "14               1.0  Management & Organizational Behavior   10.2307_2392452   \n",
              "15               1.0                             Sociology   10.2307_2096399   \n",
              "16               1.0                             Sociology   10.2307_2782429   \n",
              "17               1.0  Management & Organizational Behavior  10.2307_30046177   \n",
              "18               1.0  Management & Organizational Behavior   10.2307_4150432   \n",
              "19               1.0                             Sociology  10.2307_44076830   \n",
              "\n",
              "                                         article_name  \\\n",
              "0   Robust Action and the Rise of the Medici, 1400...   \n",
              "1   A CONCEPTUAL FRAMEWORK OF SOCIAL ENTREPRENEURS...   \n",
              "2   Organizational Approaches to Inequality: Inert...   \n",
              "3   Bringing Strong Ties Back in: Indirect Ties, N...   \n",
              "4   \"White Backlash\", 'Unfairness' and Justificati...   \n",
              "5   Tackling Design Anew: Getting Back to the Hear...   \n",
              "6   Interorganization Contagion in Corporate Phila...   \n",
              "7   Joint Ventures and Interorganizational Interde...   \n",
              "8   Corporate Governance and the Bankrupt Firm: An...   \n",
              "9   Jazz and the Disconnected: City Structural Dis...   \n",
              "10  Culture and Coworker Relations: Interpersonal ...   \n",
              "11  Should We Stay or Should We Go? Accountability...   \n",
              "12  Disinvestment: A New Problem in Multinational ...   \n",
              "13  Contrasting Control Modes in the Multinational...   \n",
              "14  Environmental Linkages and Power in Resource-D...   \n",
              "15  The Sources and Consequences of Embeddedness f...   \n",
              "16  Local Governments as Industrial Firms: An Orga...   \n",
              "17  How Do Value Creation and Competition Determin...   \n",
              "18  Altruism, Agency, and the Competitiveness of F...   \n",
              "19  Threat, Opportunity, and Network Interaction i...   \n",
              "\n",
              "                                            full_text  \\\n",
              "0   Robust Action and the Rise of the Medici, John...   \n",
              "1   Hitotsubashi Journal of Commerce and Managemen...   \n",
              "2   Organizational Approaches to Inequality: Inert...   \n",
              "3   BRINGING STRONG TIES BACK IN: INDIRECT TIES, N...   \n",
              "4   thnicities article The Author(), Reprints and ...   \n",
              "5   Academy of Management Perspectives November AR...   \n",
              "6   Interorganization Contagion in Corporate Phila...   \n",
              "7   Joint Ventures and Interorganizational Interde...   \n",
              "8   Strategic Management Journal, Vol. RESEARCH NO...   \n",
              "9   <body xmlns:mml=\"http://www..org//Math/MathML\"...   \n",
              "10  Organization Science infuuiiKi Vol. No. July-A...   \n",
              "11  Should We Stay or Should We Go? Accountability...   \n",
              "12  JAGDISH SACHDEV DISINVESTMENT: NEW PROBLEM IN ...   \n",
              "13  Int. Studies of Man. &amp; Org. Vol. XII, No. ...   \n",
              "14  Environmental Linkages and Power in Resource-D...   \n",
              "15  THE SOURCES AND CONSEQUENCES OF EMBEDDEDNESS F...   \n",
              "16  Local Governments as Industrial Firms: An Orga...   \n",
              "17  MANAGEMENT SCIENCE Vol. No. October ISSN EISSN...   \n",
              "18  MANAGERIAL AND DECISION ECONOMICS Manage. Deci...   \n",
              "19  AKA AMERICAN SOCIOLOGICAL ASSOCIATION Threat, ...   \n",
              "\n",
              "                                         text_no_tags  \\\n",
              "0   Robust Action and the Rise of the Medici, John...   \n",
              "1   Hitotsubashi Journal of Commerce and Managemen...   \n",
              "2   Organizational Approaches to Inequality: Inert...   \n",
              "3   BRINGING STRONG TIES BACK IN: INDIRECT TIES, N...   \n",
              "4   thnicities article The Author(), Reprints and ...   \n",
              "5   Academy of Management Perspectives November AR...   \n",
              "6   Interorganization Contagion in Corporate Phila...   \n",
              "7   Joint Ventures and Interorganizational Interde...   \n",
              "8   Strategic Management Journal, Vol. RESEARCH NO...   \n",
              "9    The Influence of the Disconnected: Addressing...   \n",
              "10  Organization Science infuuiiKi Vol. No. July-A...   \n",
              "11  Should We Stay or Should We Go? Accountability...   \n",
              "12  JAGDISH SACHDEV DISINVESTMENT: NEW PROBLEM IN ...   \n",
              "13  Int. Studies of Man. &amp; Org. Vol. XII, No. ...   \n",
              "14  Environmental Linkages and Power in Resource-D...   \n",
              "15  THE SOURCES AND CONSEQUENCES OF EMBEDDEDNESS F...   \n",
              "16  Local Governments as Industrial Firms: An Orga...   \n",
              "17  MANAGEMENT SCIENCE Vol. No. October ISSN EISSN...   \n",
              "18  MANAGERIAL AND DECISION ECONOMICS Manage. Deci...   \n",
              "19  AKA AMERICAN SOCIOLOGICAL ASSOCIATION Threat, ...   \n",
              "\n",
              "                                            processed  dem_scores  \\\n",
              "0    robust action rise medici john padgett christ...    5.511710   \n",
              "1    hitotsubashi journal commerce management hito...    5.436343   \n",
              "2    organizational approaches inequality inertia ...    5.452902   \n",
              "3    bringing strong ties back indirect ties netwo...    5.577844   \n",
              "4    thnicities article author reprints permission...    5.620786   \n",
              "5    academy management perspectives november arti...    5.396819   \n",
              "6    interorganization contagion corporate philant...    5.558303   \n",
              "7    joint ventures interorganizational interdepen...    5.501804   \n",
              "8    strategic management journal vol research not...    5.492804   \n",
              "9    influence disconnected addressing theoretical...    5.533154   \n",
              "10   organization science infuuiiki vol july augus...    5.474889   \n",
              "11   stay go accountability status anxiety client ...    5.479244   \n",
              "12   jagdish sachdev disinvestment problem multina...    5.484074   \n",
              "13   int studies man org vol xii sharpe inc contra...    5.430036   \n",
              "14   environmental linkages power resource depende...    5.518594   \n",
              "15   sources consequences embeddedness economic pe...    5.435554   \n",
              "16   local governments industrial firms organizati...    5.584034   \n",
              "17   management science vol october issn eissn inf...    5.321339   \n",
              "18   managerial decision economics manage decis ec...    5.474481   \n",
              "19   aka american sociological association threat ...    5.421604   \n",
              "\n",
              "    rela_scores  cult_scores   dem_sim  rela_sim  cult_sim  \\\n",
              "0      5.235622     5.398345  0.056104  0.044354  0.020747   \n",
              "1      5.143636     5.293934  0.083818  0.005271  0.015737   \n",
              "2      5.220748     5.264002  0.033815  0.015493  0.011559   \n",
              "3      5.256953     5.466884  0.081477  0.129933  0.087919   \n",
              "4      5.417672     5.454789  0.047709  0.025869  0.080882   \n",
              "5      5.170018     5.206127  0.029961  0.038949  0.071741   \n",
              "6      5.296124     5.381954  0.008463  0.020412  0.060866   \n",
              "7      4.858861     5.427747  0.075840  0.070776  0.030486   \n",
              "8      5.115070     5.395321  0.049956  0.032410  0.006674   \n",
              "9      5.293601     5.419942  0.077171  0.004326  0.054433   \n",
              "10     5.209109     5.275639  0.045448  0.002677  0.008038   \n",
              "11     5.173337     5.342241  0.083623  0.007190  0.058424   \n",
              "12     5.211561     5.346533  0.088349  0.006568  0.015083   \n",
              "13     5.143380     5.291036  0.033575  0.025864  0.023444   \n",
              "14     5.026422     5.415180  0.013981  0.000203  0.072236   \n",
              "15     5.061318     5.343437  0.024205  0.013629  0.011309   \n",
              "16     5.311331     5.467037  0.079200  0.056972  0.025164   \n",
              "17     5.139374     5.201560  0.082389  0.000208  0.139337   \n",
              "18     5.168733     5.353381  0.050386  0.043033  0.000507   \n",
              "19     5.061066     5.303980  0.016658  0.088049  0.056544   \n",
              "\n",
              "   classified_perspective_wmd classified_perspective_cos  \n",
              "0                  relational                demographic  \n",
              "1                  relational                demographic  \n",
              "2                  relational                demographic  \n",
              "3                  relational                demographic  \n",
              "4                  relational                demographic  \n",
              "5                  relational                demographic  \n",
              "6                  relational                demographic  \n",
              "7                  relational                demographic  \n",
              "8                  relational                demographic  \n",
              "9                  relational                demographic  \n",
              "10                 relational                demographic  \n",
              "11                 relational                demographic  \n",
              "12                 relational                demographic  \n",
              "13                 relational                demographic  \n",
              "14                 relational                demographic  \n",
              "15                 relational                demographic  \n",
              "16                 relational                demographic  \n",
              "17                 relational                demographic  \n",
              "18                 relational                demographic  \n",
              "19                 relational                demographic  "
            ],
            "text/html": [
              "\n",
              "  <div id=\"df-85ea974f-92dd-42b7-8386-b1eb8887b840\">\n",
              "    <div class=\"colab-df-container\">\n",
              "      <div>\n",
              "<style scoped>\n",
              "    .dataframe tbody tr th:only-of-type {\n",
              "        vertical-align: middle;\n",
              "    }\n",
              "\n",
              "    .dataframe tbody tr th {\n",
              "        vertical-align: top;\n",
              "    }\n",
              "\n",
              "    .dataframe thead th {\n",
              "        text-align: right;\n",
              "    }\n",
              "</style>\n",
              "<table border=\"1\" class=\"dataframe\">\n",
              "  <thead>\n",
              "    <tr style=\"text-align: right;\">\n",
              "      <th></th>\n",
              "      <th>Unnamed: 0</th>\n",
              "      <th>text</th>\n",
              "      <th>relational_score</th>\n",
              "      <th>primary_subject</th>\n",
              "      <th>edited_filename</th>\n",
              "      <th>article_name</th>\n",
              "      <th>full_text</th>\n",
              "      <th>text_no_tags</th>\n",
              "      <th>processed</th>\n",
              "      <th>dem_scores</th>\n",
              "      <th>rela_scores</th>\n",
              "      <th>cult_scores</th>\n",
              "      <th>dem_sim</th>\n",
              "      <th>rela_sim</th>\n",
              "      <th>cult_sim</th>\n",
              "      <th>classified_perspective_wmd</th>\n",
              "      <th>classified_perspective_cos</th>\n",
              "    </tr>\n",
              "  </thead>\n",
              "  <tbody>\n",
              "    <tr>\n",
              "      <th>0</th>\n",
              "      <td>767</td>\n",
              "      <td>[['Robust', 'Action', 'and', 'the', 'Rise', 'o...</td>\n",
              "      <td>1.0</td>\n",
              "      <td>Sociology</td>\n",
              "      <td>10.2307_2781822</td>\n",
              "      <td>Robust Action and the Rise of the Medici, 1400...</td>\n",
              "      <td>Robust Action and the Rise of the Medici, John...</td>\n",
              "      <td>Robust Action and the Rise of the Medici, John...</td>\n",
              "      <td>robust action rise medici john padgett christ...</td>\n",
              "      <td>5.511710</td>\n",
              "      <td>5.235622</td>\n",
              "      <td>5.398345</td>\n",
              "      <td>0.056104</td>\n",
              "      <td>0.044354</td>\n",
              "      <td>0.020747</td>\n",
              "      <td>relational</td>\n",
              "      <td>demographic</td>\n",
              "    </tr>\n",
              "    <tr>\n",
              "      <th>1</th>\n",
              "      <td>606</td>\n",
              "      <td>[['Hitotsubashi', 'Journal', 'of', 'Commerce',...</td>\n",
              "      <td>1.0</td>\n",
              "      <td>Management &amp; Organizational Behavior</td>\n",
              "      <td>10.2307_43295012</td>\n",
              "      <td>A CONCEPTUAL FRAMEWORK OF SOCIAL ENTREPRENEURS...</td>\n",
              "      <td>Hitotsubashi Journal of Commerce and Managemen...</td>\n",
              "      <td>Hitotsubashi Journal of Commerce and Managemen...</td>\n",
              "      <td>hitotsubashi journal commerce management hito...</td>\n",
              "      <td>5.436343</td>\n",
              "      <td>5.143636</td>\n",
              "      <td>5.293934</td>\n",
              "      <td>0.083818</td>\n",
              "      <td>0.005271</td>\n",
              "      <td>0.015737</td>\n",
              "      <td>relational</td>\n",
              "      <td>demographic</td>\n",
              "    </tr>\n",
              "    <tr>\n",
              "      <th>2</th>\n",
              "      <td>75</td>\n",
              "      <td>[['Organizational', 'Approaches', 'to', 'Inequ...</td>\n",
              "      <td>1.0</td>\n",
              "      <td>Sociology</td>\n",
              "      <td>10.2307_25735076</td>\n",
              "      <td>Organizational Approaches to Inequality: Inert...</td>\n",
              "      <td>Organizational Approaches to Inequality: Inert...</td>\n",
              "      <td>Organizational Approaches to Inequality: Inert...</td>\n",
              "      <td>organizational approaches inequality inertia ...</td>\n",
              "      <td>5.452902</td>\n",
              "      <td>5.220748</td>\n",
              "      <td>5.264002</td>\n",
              "      <td>0.033815</td>\n",
              "      <td>0.015493</td>\n",
              "      <td>0.011559</td>\n",
              "      <td>relational</td>\n",
              "      <td>demographic</td>\n",
              "    </tr>\n",
              "    <tr>\n",
              "      <th>3</th>\n",
              "      <td>741</td>\n",
              "      <td>[['BRINGING', 'STRONG', 'TIES', 'BACK', 'IN:',...</td>\n",
              "      <td>1.0</td>\n",
              "      <td>Sociology</td>\n",
              "      <td>10.2307_2657311</td>\n",
              "      <td>Bringing Strong Ties Back in: Indirect Ties, N...</td>\n",
              "      <td>BRINGING STRONG TIES BACK IN: INDIRECT TIES, N...</td>\n",
              "      <td>BRINGING STRONG TIES BACK IN: INDIRECT TIES, N...</td>\n",
              "      <td>bringing strong ties back indirect ties netwo...</td>\n",
              "      <td>5.577844</td>\n",
              "      <td>5.256953</td>\n",
              "      <td>5.466884</td>\n",
              "      <td>0.081477</td>\n",
              "      <td>0.129933</td>\n",
              "      <td>0.087919</td>\n",
              "      <td>relational</td>\n",
              "      <td>demographic</td>\n",
              "    </tr>\n",
              "    <tr>\n",
              "      <th>4</th>\n",
              "      <td>66</td>\n",
              "      <td>[['thnicities', 'article', 'The', 'Author(),',...</td>\n",
              "      <td>1.0</td>\n",
              "      <td>Sociology</td>\n",
              "      <td>10.2307_23890858</td>\n",
              "      <td>\"White Backlash\", 'Unfairness' and Justificati...</td>\n",
              "      <td>thnicities article The Author(), Reprints and ...</td>\n",
              "      <td>thnicities article The Author(), Reprints and ...</td>\n",
              "      <td>thnicities article author reprints permission...</td>\n",
              "      <td>5.620786</td>\n",
              "      <td>5.417672</td>\n",
              "      <td>5.454789</td>\n",
              "      <td>0.047709</td>\n",
              "      <td>0.025869</td>\n",
              "      <td>0.080882</td>\n",
              "      <td>relational</td>\n",
              "      <td>demographic</td>\n",
              "    </tr>\n",
              "    <tr>\n",
              "      <th>5</th>\n",
              "      <td>427</td>\n",
              "      <td>[['Academy', 'of', 'Management', 'Perspectives...</td>\n",
              "      <td>1.0</td>\n",
              "      <td>Management &amp; Organizational Behavior</td>\n",
              "      <td>10.2307_29764992</td>\n",
              "      <td>Tackling Design Anew: Getting Back to the Hear...</td>\n",
              "      <td>Academy of Management Perspectives November AR...</td>\n",
              "      <td>Academy of Management Perspectives November AR...</td>\n",
              "      <td>academy management perspectives november arti...</td>\n",
              "      <td>5.396819</td>\n",
              "      <td>5.170018</td>\n",
              "      <td>5.206127</td>\n",
              "      <td>0.029961</td>\n",
              "      <td>0.038949</td>\n",
              "      <td>0.071741</td>\n",
              "      <td>relational</td>\n",
              "      <td>demographic</td>\n",
              "    </tr>\n",
              "    <tr>\n",
              "      <th>6</th>\n",
              "      <td>272</td>\n",
              "      <td>[['Interorganization', 'Contagion', 'in', 'Cor...</td>\n",
              "      <td>1.0</td>\n",
              "      <td>Management &amp; Organizational Behavior</td>\n",
              "      <td>10.2307_2393431</td>\n",
              "      <td>Interorganization Contagion in Corporate Phila...</td>\n",
              "      <td>Interorganization Contagion in Corporate Phila...</td>\n",
              "      <td>Interorganization Contagion in Corporate Phila...</td>\n",
              "      <td>interorganization contagion corporate philant...</td>\n",
              "      <td>5.558303</td>\n",
              "      <td>5.296124</td>\n",
              "      <td>5.381954</td>\n",
              "      <td>0.008463</td>\n",
              "      <td>0.020412</td>\n",
              "      <td>0.060866</td>\n",
              "      <td>relational</td>\n",
              "      <td>demographic</td>\n",
              "    </tr>\n",
              "    <tr>\n",
              "      <th>7</th>\n",
              "      <td>924</td>\n",
              "      <td>[['Joint', 'Ventures', 'and', 'Interorganizati...</td>\n",
              "      <td>1.0</td>\n",
              "      <td>Management &amp; Organizational Behavior</td>\n",
              "      <td>10.2307_2391851</td>\n",
              "      <td>Joint Ventures and Interorganizational Interde...</td>\n",
              "      <td>Joint Ventures and Interorganizational Interde...</td>\n",
              "      <td>Joint Ventures and Interorganizational Interde...</td>\n",
              "      <td>joint ventures interorganizational interdepen...</td>\n",
              "      <td>5.501804</td>\n",
              "      <td>4.858861</td>\n",
              "      <td>5.427747</td>\n",
              "      <td>0.075840</td>\n",
              "      <td>0.070776</td>\n",
              "      <td>0.030486</td>\n",
              "      <td>relational</td>\n",
              "      <td>demographic</td>\n",
              "    </tr>\n",
              "    <tr>\n",
              "      <th>8</th>\n",
              "      <td>302</td>\n",
              "      <td>[['Strategic', 'Management', 'Journal,', 'Vol....</td>\n",
              "      <td>1.0</td>\n",
              "      <td>Management &amp; Organizational Behavior</td>\n",
              "      <td>10.2307_2486897</td>\n",
              "      <td>Corporate Governance and the Bankrupt Firm: An...</td>\n",
              "      <td>Strategic Management Journal, Vol. RESEARCH NO...</td>\n",
              "      <td>Strategic Management Journal, Vol. RESEARCH NO...</td>\n",
              "      <td>strategic management journal vol research not...</td>\n",
              "      <td>5.492804</td>\n",
              "      <td>5.115070</td>\n",
              "      <td>5.395321</td>\n",
              "      <td>0.049956</td>\n",
              "      <td>0.032410</td>\n",
              "      <td>0.006674</td>\n",
              "      <td>relational</td>\n",
              "      <td>demographic</td>\n",
              "    </tr>\n",
              "    <tr>\n",
              "      <th>9</th>\n",
              "      <td>768</td>\n",
              "      <td>[['&lt;body', 'xmlns:mml=\"http://www..org//Math/M...</td>\n",
              "      <td>1.0</td>\n",
              "      <td>Sociology</td>\n",
              "      <td>10.1086_661757</td>\n",
              "      <td>Jazz and the Disconnected: City Structural Dis...</td>\n",
              "      <td>&lt;body xmlns:mml=\"http://www..org//Math/MathML\"...</td>\n",
              "      <td>The Influence of the Disconnected: Addressing...</td>\n",
              "      <td>influence disconnected addressing theoretical...</td>\n",
              "      <td>5.533154</td>\n",
              "      <td>5.293601</td>\n",
              "      <td>5.419942</td>\n",
              "      <td>0.077171</td>\n",
              "      <td>0.004326</td>\n",
              "      <td>0.054433</td>\n",
              "      <td>relational</td>\n",
              "      <td>demographic</td>\n",
              "    </tr>\n",
              "    <tr>\n",
              "      <th>10</th>\n",
              "      <td>331</td>\n",
              "      <td>[['Organization', 'Science', 'infuuiiKi', 'Vol...</td>\n",
              "      <td>1.0</td>\n",
              "      <td>Management &amp; Organizational Behavior</td>\n",
              "      <td>10.2307_25146199</td>\n",
              "      <td>Culture and Coworker Relations: Interpersonal ...</td>\n",
              "      <td>Organization Science infuuiiKi Vol. No. July-A...</td>\n",
              "      <td>Organization Science infuuiiKi Vol. No. July-A...</td>\n",
              "      <td>organization science infuuiiki vol july augus...</td>\n",
              "      <td>5.474889</td>\n",
              "      <td>5.209109</td>\n",
              "      <td>5.275639</td>\n",
              "      <td>0.045448</td>\n",
              "      <td>0.002677</td>\n",
              "      <td>0.008038</td>\n",
              "      <td>relational</td>\n",
              "      <td>demographic</td>\n",
              "    </tr>\n",
              "    <tr>\n",
              "      <th>11</th>\n",
              "      <td>756</td>\n",
              "      <td>[['Should', 'We', 'Stay', 'or', 'Should', 'We'...</td>\n",
              "      <td>1.0</td>\n",
              "      <td>Management &amp; Organizational Behavior</td>\n",
              "      <td>10.2307_20109860</td>\n",
              "      <td>Should We Stay or Should We Go? Accountability...</td>\n",
              "      <td>Should We Stay or Should We Go? Accountability...</td>\n",
              "      <td>Should We Stay or Should We Go? Accountability...</td>\n",
              "      <td>stay go accountability status anxiety client ...</td>\n",
              "      <td>5.479244</td>\n",
              "      <td>5.173337</td>\n",
              "      <td>5.342241</td>\n",
              "      <td>0.083623</td>\n",
              "      <td>0.007190</td>\n",
              "      <td>0.058424</td>\n",
              "      <td>relational</td>\n",
              "      <td>demographic</td>\n",
              "    </tr>\n",
              "    <tr>\n",
              "      <th>12</th>\n",
              "      <td>503</td>\n",
              "      <td>[['JAGDISH', 'SACHDEV', 'DISINVESTMENT:', 'NEW...</td>\n",
              "      <td>1.0</td>\n",
              "      <td>Management &amp; Organizational Behavior</td>\n",
              "      <td>10.2307_40227275</td>\n",
              "      <td>Disinvestment: A New Problem in Multinational ...</td>\n",
              "      <td>JAGDISH SACHDEV DISINVESTMENT: NEW PROBLEM IN ...</td>\n",
              "      <td>JAGDISH SACHDEV DISINVESTMENT: NEW PROBLEM IN ...</td>\n",
              "      <td>jagdish sachdev disinvestment problem multina...</td>\n",
              "      <td>5.484074</td>\n",
              "      <td>5.211561</td>\n",
              "      <td>5.346533</td>\n",
              "      <td>0.088349</td>\n",
              "      <td>0.006568</td>\n",
              "      <td>0.015083</td>\n",
              "      <td>relational</td>\n",
              "      <td>demographic</td>\n",
              "    </tr>\n",
              "    <tr>\n",
              "      <th>13</th>\n",
              "      <td>518</td>\n",
              "      <td>[['Int.', 'Studies', 'of', 'Man.', '&amp;amp;', 'O...</td>\n",
              "      <td>1.0</td>\n",
              "      <td>Management &amp; Organizational Behavior</td>\n",
              "      <td>10.2307_40396928</td>\n",
              "      <td>Contrasting Control Modes in the Multinational...</td>\n",
              "      <td>Int. Studies of Man. &amp;amp; Org. Vol. XII, No. ...</td>\n",
              "      <td>Int. Studies of Man. &amp;amp; Org. Vol. XII, No. ...</td>\n",
              "      <td>int studies man org vol xii sharpe inc contra...</td>\n",
              "      <td>5.430036</td>\n",
              "      <td>5.143380</td>\n",
              "      <td>5.291036</td>\n",
              "      <td>0.033575</td>\n",
              "      <td>0.025864</td>\n",
              "      <td>0.023444</td>\n",
              "      <td>relational</td>\n",
              "      <td>demographic</td>\n",
              "    </tr>\n",
              "    <tr>\n",
              "      <th>14</th>\n",
              "      <td>927</td>\n",
              "      <td>[['Environmental', 'Linkages', 'and', 'Power',...</td>\n",
              "      <td>1.0</td>\n",
              "      <td>Management &amp; Organizational Behavior</td>\n",
              "      <td>10.2307_2392452</td>\n",
              "      <td>Environmental Linkages and Power in Resource-D...</td>\n",
              "      <td>Environmental Linkages and Power in Resource-D...</td>\n",
              "      <td>Environmental Linkages and Power in Resource-D...</td>\n",
              "      <td>environmental linkages power resource depende...</td>\n",
              "      <td>5.518594</td>\n",
              "      <td>5.026422</td>\n",
              "      <td>5.415180</td>\n",
              "      <td>0.013981</td>\n",
              "      <td>0.000203</td>\n",
              "      <td>0.072236</td>\n",
              "      <td>relational</td>\n",
              "      <td>demographic</td>\n",
              "    </tr>\n",
              "    <tr>\n",
              "      <th>15</th>\n",
              "      <td>782</td>\n",
              "      <td>[['THE', 'SOURCES', 'AND', 'CONSEQUENCES', 'OF...</td>\n",
              "      <td>1.0</td>\n",
              "      <td>Sociology</td>\n",
              "      <td>10.2307_2096399</td>\n",
              "      <td>The Sources and Consequences of Embeddedness f...</td>\n",
              "      <td>THE SOURCES AND CONSEQUENCES OF EMBEDDEDNESS F...</td>\n",
              "      <td>THE SOURCES AND CONSEQUENCES OF EMBEDDEDNESS F...</td>\n",
              "      <td>sources consequences embeddedness economic pe...</td>\n",
              "      <td>5.435554</td>\n",
              "      <td>5.061318</td>\n",
              "      <td>5.343437</td>\n",
              "      <td>0.024205</td>\n",
              "      <td>0.013629</td>\n",
              "      <td>0.011309</td>\n",
              "      <td>relational</td>\n",
              "      <td>demographic</td>\n",
              "    </tr>\n",
              "    <tr>\n",
              "      <th>16</th>\n",
              "      <td>734</td>\n",
              "      <td>[['Local', 'Governments', 'as', 'Industrial', ...</td>\n",
              "      <td>1.0</td>\n",
              "      <td>Sociology</td>\n",
              "      <td>10.2307_2782429</td>\n",
              "      <td>Local Governments as Industrial Firms: An Orga...</td>\n",
              "      <td>Local Governments as Industrial Firms: An Orga...</td>\n",
              "      <td>Local Governments as Industrial Firms: An Orga...</td>\n",
              "      <td>local governments industrial firms organizati...</td>\n",
              "      <td>5.584034</td>\n",
              "      <td>5.311331</td>\n",
              "      <td>5.467037</td>\n",
              "      <td>0.079200</td>\n",
              "      <td>0.056972</td>\n",
              "      <td>0.025164</td>\n",
              "      <td>relational</td>\n",
              "      <td>demographic</td>\n",
              "    </tr>\n",
              "    <tr>\n",
              "      <th>17</th>\n",
              "      <td>434</td>\n",
              "      <td>[['MANAGEMENT', 'SCIENCE', 'Vol.', 'No.', 'Oct...</td>\n",
              "      <td>1.0</td>\n",
              "      <td>Management &amp; Organizational Behavior</td>\n",
              "      <td>10.2307_30046177</td>\n",
              "      <td>How Do Value Creation and Competition Determin...</td>\n",
              "      <td>MANAGEMENT SCIENCE Vol. No. October ISSN EISSN...</td>\n",
              "      <td>MANAGEMENT SCIENCE Vol. No. October ISSN EISSN...</td>\n",
              "      <td>management science vol october issn eissn inf...</td>\n",
              "      <td>5.321339</td>\n",
              "      <td>5.139374</td>\n",
              "      <td>5.201560</td>\n",
              "      <td>0.082389</td>\n",
              "      <td>0.000208</td>\n",
              "      <td>0.139337</td>\n",
              "      <td>relational</td>\n",
              "      <td>demographic</td>\n",
              "    </tr>\n",
              "    <tr>\n",
              "      <th>18</th>\n",
              "      <td>583</td>\n",
              "      <td>[['MANAGERIAL', 'AND', 'DECISION', 'ECONOMICS'...</td>\n",
              "      <td>1.0</td>\n",
              "      <td>Management &amp; Organizational Behavior</td>\n",
              "      <td>10.2307_4150432</td>\n",
              "      <td>Altruism, Agency, and the Competitiveness of F...</td>\n",
              "      <td>MANAGERIAL AND DECISION ECONOMICS Manage. Deci...</td>\n",
              "      <td>MANAGERIAL AND DECISION ECONOMICS Manage. Deci...</td>\n",
              "      <td>managerial decision economics manage decis ec...</td>\n",
              "      <td>5.474481</td>\n",
              "      <td>5.168733</td>\n",
              "      <td>5.353381</td>\n",
              "      <td>0.050386</td>\n",
              "      <td>0.043033</td>\n",
              "      <td>0.000507</td>\n",
              "      <td>relational</td>\n",
              "      <td>demographic</td>\n",
              "    </tr>\n",
              "    <tr>\n",
              "      <th>19</th>\n",
              "      <td>172</td>\n",
              "      <td>[['AKA', 'AMERICAN', 'SOCIOLOGICAL', 'ASSOCIAT...</td>\n",
              "      <td>1.0</td>\n",
              "      <td>Sociology</td>\n",
              "      <td>10.2307_44076830</td>\n",
              "      <td>Threat, Opportunity, and Network Interaction i...</td>\n",
              "      <td>AKA AMERICAN SOCIOLOGICAL ASSOCIATION Threat, ...</td>\n",
              "      <td>AKA AMERICAN SOCIOLOGICAL ASSOCIATION Threat, ...</td>\n",
              "      <td>aka american sociological association threat ...</td>\n",
              "      <td>5.421604</td>\n",
              "      <td>5.061066</td>\n",
              "      <td>5.303980</td>\n",
              "      <td>0.016658</td>\n",
              "      <td>0.088049</td>\n",
              "      <td>0.056544</td>\n",
              "      <td>relational</td>\n",
              "      <td>demographic</td>\n",
              "    </tr>\n",
              "  </tbody>\n",
              "</table>\n",
              "</div>\n",
              "      <button class=\"colab-df-convert\" onclick=\"convertToInteractive('df-85ea974f-92dd-42b7-8386-b1eb8887b840')\"\n",
              "              title=\"Convert this dataframe to an interactive table.\"\n",
              "              style=\"display:none;\">\n",
              "        \n",
              "  <svg xmlns=\"http://www.w3.org/2000/svg\" height=\"24px\"viewBox=\"0 0 24 24\"\n",
              "       width=\"24px\">\n",
              "    <path d=\"M0 0h24v24H0V0z\" fill=\"none\"/>\n",
              "    <path d=\"M18.56 5.44l.94 2.06.94-2.06 2.06-.94-2.06-.94-.94-2.06-.94 2.06-2.06.94zm-11 1L8.5 8.5l.94-2.06 2.06-.94-2.06-.94L8.5 2.5l-.94 2.06-2.06.94zm10 10l.94 2.06.94-2.06 2.06-.94-2.06-.94-.94-2.06-.94 2.06-2.06.94z\"/><path d=\"M17.41 7.96l-1.37-1.37c-.4-.4-.92-.59-1.43-.59-.52 0-1.04.2-1.43.59L10.3 9.45l-7.72 7.72c-.78.78-.78 2.05 0 2.83L4 21.41c.39.39.9.59 1.41.59.51 0 1.02-.2 1.41-.59l7.78-7.78 2.81-2.81c.8-.78.8-2.07 0-2.86zM5.41 20L4 18.59l7.72-7.72 1.47 1.35L5.41 20z\"/>\n",
              "  </svg>\n",
              "      </button>\n",
              "      \n",
              "  <style>\n",
              "    .colab-df-container {\n",
              "      display:flex;\n",
              "      flex-wrap:wrap;\n",
              "      gap: 12px;\n",
              "    }\n",
              "\n",
              "    .colab-df-convert {\n",
              "      background-color: #E8F0FE;\n",
              "      border: none;\n",
              "      border-radius: 50%;\n",
              "      cursor: pointer;\n",
              "      display: none;\n",
              "      fill: #1967D2;\n",
              "      height: 32px;\n",
              "      padding: 0 0 0 0;\n",
              "      width: 32px;\n",
              "    }\n",
              "\n",
              "    .colab-df-convert:hover {\n",
              "      background-color: #E2EBFA;\n",
              "      box-shadow: 0px 1px 2px rgba(60, 64, 67, 0.3), 0px 1px 3px 1px rgba(60, 64, 67, 0.15);\n",
              "      fill: #174EA6;\n",
              "    }\n",
              "\n",
              "    [theme=dark] .colab-df-convert {\n",
              "      background-color: #3B4455;\n",
              "      fill: #D2E3FC;\n",
              "    }\n",
              "\n",
              "    [theme=dark] .colab-df-convert:hover {\n",
              "      background-color: #434B5C;\n",
              "      box-shadow: 0px 1px 3px 1px rgba(0, 0, 0, 0.15);\n",
              "      filter: drop-shadow(0px 1px 2px rgba(0, 0, 0, 0.3));\n",
              "      fill: #FFFFFF;\n",
              "    }\n",
              "  </style>\n",
              "\n",
              "      <script>\n",
              "        const buttonEl =\n",
              "          document.querySelector('#df-85ea974f-92dd-42b7-8386-b1eb8887b840 button.colab-df-convert');\n",
              "        buttonEl.style.display =\n",
              "          google.colab.kernel.accessAllowed ? 'block' : 'none';\n",
              "\n",
              "        async function convertToInteractive(key) {\n",
              "          const element = document.querySelector('#df-85ea974f-92dd-42b7-8386-b1eb8887b840');\n",
              "          const dataTable =\n",
              "            await google.colab.kernel.invokeFunction('convertToInteractive',\n",
              "                                                     [key], {});\n",
              "          if (!dataTable) return;\n",
              "\n",
              "          const docLinkHtml = 'Like what you see? Visit the ' +\n",
              "            '<a target=\"_blank\" href=https://colab.research.google.com/notebooks/data_table.ipynb>data table notebook</a>'\n",
              "            + ' to learn more about interactive tables.';\n",
              "          element.innerHTML = '';\n",
              "          dataTable['output_type'] = 'display_data';\n",
              "          await google.colab.output.renderOutput(dataTable, element);\n",
              "          const docLink = document.createElement('div');\n",
              "          docLink.innerHTML = docLinkHtml;\n",
              "          element.appendChild(docLink);\n",
              "        }\n",
              "      </script>\n",
              "    </div>\n",
              "  </div>\n",
              "  "
            ]
          },
          "metadata": {},
          "execution_count": 134
        }
      ]
    },
    {
      "cell_type": "code",
      "source": [
        "pos_cult.to_csv('pos_cult_sample_wmd_cos.csv')\n",
        "neg_cult.to_csv('neg_cult_sample_wmd_cos.csv')\n",
        "pos_demog.to_csv('pos_demog_sample_wmd_cos.csv')\n",
        "neg_demog.to_csv('neg_demog_sample_wmd_cos.csv')\n",
        "pos_rela.to_csv('pos_rela_sample_wmd_cos.csv')\n",
        "neg_rela.to_csv('neg_rela_sample_wmd_cos.csv')"
      ],
      "metadata": {
        "id": "K8SjK1HfiTdR"
      },
      "execution_count": null,
      "outputs": []
    },
    {
      "cell_type": "markdown",
      "source": [
        "## Inspecting Distribution of Similarity Metrics"
      ],
      "metadata": {
        "id": "7vb2LBlrm6wZ"
      }
    },
    {
      "cell_type": "code",
      "source": [
        "import matplotlib.pyplot as plt"
      ],
      "metadata": {
        "id": "ucRNAqP7m_Rn"
      },
      "execution_count": null,
      "outputs": []
    },
    {
      "cell_type": "code",
      "source": [
        "from sklearn.preprocessing import normalize"
      ],
      "metadata": {
        "id": "JYWDhjaspWHP"
      },
      "execution_count": null,
      "outputs": []
    },
    {
      "cell_type": "markdown",
      "source": [
        "#### Overlayed Distributions"
      ],
      "metadata": {
        "id": "f015otaRtC8J"
      }
    },
    {
      "cell_type": "markdown",
      "source": [
        "- normalize cosine similarity (range 0-1) and wmd (range 4-6) since they are on different scales\n",
        "- invert the normalized wmd score, since originally the bigger the wmd, the more distant 2 vectors are"
      ],
      "metadata": {
        "id": "_kNFbir3qxtR"
      }
    },
    {
      "cell_type": "markdown",
      "source": [
        "**Relational samples**"
      ],
      "metadata": {
        "id": "QmWTYSnQteiv"
      }
    },
    {
      "cell_type": "code",
      "source": [
        "\n",
        "plt.hist(normalize([pos_rela['rela_sim']])[0], label = 'relational cosine similarity score')\n",
        "plt.hist(1-normalize([pos_rela['rela_scores']])[0], label = 'relational wmd')\n",
        "plt.legend(loc='upper right')\n",
        "plt.title('Positive Relational Samples WMD vs. Cosine Similarity')\n",
        "plt.show()"
      ],
      "metadata": {
        "colab": {
          "base_uri": "https://localhost:8080/",
          "height": 281
        },
        "id": "UNEL3LU9pYiz",
        "outputId": "9aa2cdcb-011d-4065-a339-779d5428376c"
      },
      "execution_count": null,
      "outputs": [
        {
          "output_type": "display_data",
          "data": {
            "text/plain": [
              "<Figure size 432x288 with 1 Axes>"
            ],
            "image/png": "[encoded data removed]"
          },
          "metadata": {
            "needs_background": "light"
          }
        }
      ]
    },
    {
      "cell_type": "code",
      "source": [
        "plt.hist(normalize([neg_rela['rela_sim']])[0], label = 'relational cosine similarity score')\n",
        "plt.hist(1-normalize([neg_rela['rela_scores']])[0], label = 'relational wmd')\n",
        "plt.legend(loc='upper right')\n",
        "plt.title('Negative Relational Samples WMD vs. Cosine Similarity')\n",
        "plt.show()"
      ],
      "metadata": {
        "colab": {
          "base_uri": "https://localhost:8080/",
          "height": 281
        },
        "id": "6_TgOEPVrxqE",
        "outputId": "c616bde7-e315-42d1-cd6b-b05972654780"
      },
      "execution_count": null,
      "outputs": [
        {
          "output_type": "display_data",
          "data": {
            "text/plain": [
              "<Figure size 432x288 with 1 Axes>"
            ],
            "image/png": "[encoded data removed]"
          },
          "metadata": {
            "needs_background": "light"
          }
        }
      ]
    },
    {
      "cell_type": "markdown",
      "source": [
        "**Demographic samples**"
      ],
      "metadata": {
        "id": "myQfgiantwCZ"
      }
    },
    {
      "cell_type": "code",
      "source": [
        "plt.hist(normalize([pos_demog['dem_sim']])[0], label = 'demographic cosine similarity score')\n",
        "plt.hist(1-normalize([pos_demog['dem_scores']])[0], label = 'demographic wmd')\n",
        "plt.legend(loc='upper right')\n",
        "plt.title('Positive Demographic Samples WMD vs. Cosine Similarity')\n",
        "plt.show()"
      ],
      "metadata": {
        "colab": {
          "base_uri": "https://localhost:8080/",
          "height": 281
        },
        "id": "y4baOYG4nTtb",
        "outputId": "416dbfe7-a107-460e-d52c-4e8e4f069618"
      },
      "execution_count": null,
      "outputs": [
        {
          "output_type": "display_data",
          "data": {
            "text/plain": [
              "<Figure size 432x288 with 1 Axes>"
            ],
            "image/png": "[encoded data removed]"
          },
          "metadata": {
            "needs_background": "light"
          }
        }
      ]
    },
    {
      "cell_type": "code",
      "source": [
        "plt.hist(normalize([neg_demog['dem_sim']])[0], label = 'demographic cosine similarity score')\n",
        "plt.hist(1-normalize([neg_demog['dem_scores']])[0], label = 'demographic wmd')\n",
        "plt.legend(loc='upper right')\n",
        "plt.title('Negative Demographic Samples WMD vs. Cosine Similarity')\n",
        "plt.show()"
      ],
      "metadata": {
        "colab": {
          "base_uri": "https://localhost:8080/",
          "height": 281
        },
        "id": "4XXFHn-ZsG4F",
        "outputId": "dc396269-2492-471e-cfe9-7dbda53930fb"
      },
      "execution_count": null,
      "outputs": [
        {
          "output_type": "display_data",
          "data": {
            "text/plain": [
              "<Figure size 432x288 with 1 Axes>"
            ],
            "image/png": "[encoded data removed]"
          },
          "metadata": {
            "needs_background": "light"
          }
        }
      ]
    },
    {
      "cell_type": "markdown",
      "source": [
        "**Cultural samples**"
      ],
      "metadata": {
        "id": "apLFtZz5tyMi"
      }
    },
    {
      "cell_type": "code",
      "source": [
        "plt.hist(normalize([pos_cult['cult_sim']])[0], label = 'cultural cosine similarity score')\n",
        "plt.hist(1-normalize([pos_cult['cult_scores']])[0], label = 'cultural wmd')\n",
        "plt.legend(loc='upper right')\n",
        "plt.title('Positive Cultural Samples WMD vs. Cosine Similarity')\n",
        "plt.show()"
      ],
      "metadata": {
        "colab": {
          "base_uri": "https://localhost:8080/",
          "height": 281
        },
        "id": "AiRlBoFbsPaV",
        "outputId": "9bef5211-8d2a-49f0-b7da-29f00cfac487"
      },
      "execution_count": null,
      "outputs": [
        {
          "output_type": "display_data",
          "data": {
            "text/plain": [
              "<Figure size 432x288 with 1 Axes>"
            ],
            "image/png": "[encoded data removed]"
          },
          "metadata": {
            "needs_background": "light"
          }
        }
      ]
    },
    {
      "cell_type": "code",
      "source": [
        "plt.hist(normalize([neg_cult['cult_sim']])[0], label = 'cultural cosine similarity score')\n",
        "plt.hist(1-normalize([neg_cult['cult_scores']])[0], label = 'cultural wmd')\n",
        "plt.legend(loc='upper right')\n",
        "plt.title('Negative Cultural Samples WMD vs. Cosine Similarity')\n",
        "plt.show()"
      ],
      "metadata": {
        "colab": {
          "base_uri": "https://localhost:8080/",
          "height": 281
        },
        "id": "yAoLp3aJsYft",
        "outputId": "cfb7721b-e775-46ee-b3b3-f3f1a3f10d5f"
      },
      "execution_count": null,
      "outputs": [
        {
          "output_type": "display_data",
          "data": {
            "text/plain": [
              "<Figure size 432x288 with 1 Axes>"
            ],
            "image/png": "[encoded data removed]"
          },
          "metadata": {
            "needs_background": "light"
          }
        }
      ]
    },
    {
      "cell_type": "markdown",
      "source": [
        "Separate Distributions"
      ],
      "metadata": {
        "id": "QPMQ6uETtZWW"
      }
    },
    {
      "cell_type": "markdown",
      "source": [
        "**Relational samples**"
      ],
      "metadata": {
        "id": "ezri0G1Jt5V1"
      }
    },
    {
      "cell_type": "code",
      "source": [
        "plt.hist(([pos_rela['rela_sim']]), label = 'relational cosine similarity score')\n",
        "plt.title('Positive Relational Samples Cosine Similarity')\n",
        "plt.show()"
      ],
      "metadata": {
        "colab": {
          "base_uri": "https://localhost:8080/",
          "height": 281
        },
        "id": "muGX3AU4taM-",
        "outputId": "d08a55fb-669e-4758-e115-43e36aa72d6a"
      },
      "execution_count": null,
      "outputs": [
        {
          "output_type": "display_data",
          "data": {
            "text/plain": [
              "<Figure size 432x288 with 1 Axes>"
            ],
            "image/png": "[encoded data removed]"
          },
          "metadata": {
            "needs_background": "light"
          }
        }
      ]
    },
    {
      "cell_type": "code",
      "source": [
        "plt.hist(([pos_rela['rela_scores']]), label = 'relational wmd')\n",
        "plt.title('Positive Relational Samples WMD')\n",
        "plt.show()"
      ],
      "metadata": {
        "colab": {
          "base_uri": "https://localhost:8080/",
          "height": 281
        },
        "id": "d3z_I5UzuBN-",
        "outputId": "1b4b5a68-1fec-460f-c96b-73ec4a003801"
      },
      "execution_count": null,
      "outputs": [
        {
          "output_type": "display_data",
          "data": {
            "text/plain": [
              "<Figure size 432x288 with 1 Axes>"
            ],
            "image/png": "[encoded data removed]"
          },
          "metadata": {
            "needs_background": "light"
          }
        }
      ]
    },
    {
      "cell_type": "code",
      "source": [
        "plt.hist(([neg_rela['rela_sim']]), label = 'relational cosine similarity score')\n",
        "plt.title('Negative Relational Samples Cosine Similarity')\n",
        "plt.show()"
      ],
      "metadata": {
        "colab": {
          "base_uri": "https://localhost:8080/",
          "height": 281
        },
        "id": "dnugDuy_ukUN",
        "outputId": "59b21962-763c-4c2a-f2c4-8f88441d6f59"
      },
      "execution_count": null,
      "outputs": [
        {
          "output_type": "display_data",
          "data": {
            "text/plain": [
              "<Figure size 432x288 with 1 Axes>"
            ],
            "image/png": "[encoded data removed]"
          },
          "metadata": {
            "needs_background": "light"
          }
        }
      ]
    },
    {
      "cell_type": "code",
      "source": [
        "plt.hist(([neg_rela['rela_scores']]), label = 'relational cosine similarity score')\n",
        "plt.title('Negative Relational Samples WMD')\n",
        "plt.show()"
      ],
      "metadata": {
        "colab": {
          "base_uri": "https://localhost:8080/",
          "height": 281
        },
        "id": "dBKuPRkyunng",
        "outputId": "50ef51a9-d018-466e-f13a-c509411d5657"
      },
      "execution_count": null,
      "outputs": [
        {
          "output_type": "display_data",
          "data": {
            "text/plain": [
              "<Figure size 432x288 with 1 Axes>"
            ],
            "image/png": "[encoded data removed]"
          },
          "metadata": {
            "needs_background": "light"
          }
        }
      ]
    },
    {
      "cell_type": "markdown",
      "source": [
        "**Demographic Samples**"
      ],
      "metadata": {
        "id": "ni-EyQSZuPyJ"
      }
    },
    {
      "cell_type": "code",
      "source": [
        "plt.hist(([pos_demog['dem_sim']]))\n",
        "plt.title('Positive Demographic Samples Cosine Similarity')\n",
        "plt.show()"
      ],
      "metadata": {
        "colab": {
          "base_uri": "https://localhost:8080/",
          "height": 281
        },
        "id": "if9kDtTCuGQD",
        "outputId": "37ab2bb4-edb2-40f9-db35-d48da14a85be"
      },
      "execution_count": null,
      "outputs": [
        {
          "output_type": "display_data",
          "data": {
            "text/plain": [
              "<Figure size 432x288 with 1 Axes>"
            ],
            "image/png": "[encoded data removed]"
          },
          "metadata": {
            "needs_background": "light"
          }
        }
      ]
    },
    {
      "cell_type": "code",
      "source": [
        "plt.hist(([pos_demog['dem_scores']]))\n",
        "plt.title('Positive Demographic Samples WMD')\n",
        "plt.show()"
      ],
      "metadata": {
        "colab": {
          "base_uri": "https://localhost:8080/",
          "height": 281
        },
        "id": "klLDNZptuZFp",
        "outputId": "5a359bec-fd1c-409f-dc4a-7647a16cbfc2"
      },
      "execution_count": null,
      "outputs": [
        {
          "output_type": "display_data",
          "data": {
            "text/plain": [
              "<Figure size 432x288 with 1 Axes>"
            ],
            "image/png": "[encoded data removed]"
          },
          "metadata": {
            "needs_background": "light"
          }
        }
      ]
    },
    {
      "cell_type": "code",
      "source": [
        "plt.hist(([neg_demog['dem_sim']]))\n",
        "plt.title('Negative Demographic Samples Cosine Similarity')\n",
        "plt.show()"
      ],
      "metadata": {
        "colab": {
          "base_uri": "https://localhost:8080/",
          "height": 281
        },
        "id": "4J2QZLTsu0Cm",
        "outputId": "8a466623-f276-47df-afa2-e921ccfd2cdf"
      },
      "execution_count": null,
      "outputs": [
        {
          "output_type": "display_data",
          "data": {
            "text/plain": [
              "<Figure size 432x288 with 1 Axes>"
            ],
            "image/png": "[encoded data removed]"
          },
          "metadata": {
            "needs_background": "light"
          }
        }
      ]
    },
    {
      "cell_type": "code",
      "source": [
        "plt.hist(([neg_demog['dem_scores']]))\n",
        "plt.title('Negative Demographic Samples WMD')\n",
        "plt.show()"
      ],
      "metadata": {
        "colab": {
          "base_uri": "https://localhost:8080/",
          "height": 281
        },
        "id": "Pejc9fD6u2_Q",
        "outputId": "bb4cc7b8-b083-48f8-a61f-b2bc5fd43c5e"
      },
      "execution_count": null,
      "outputs": [
        {
          "output_type": "display_data",
          "data": {
            "text/plain": [
              "<Figure size 432x288 with 1 Axes>"
            ],
            "image/png": "[encoded data removed]"
          },
          "metadata": {
            "needs_background": "light"
          }
        }
      ]
    },
    {
      "cell_type": "markdown",
      "source": [
        "**Cultural Samples**"
      ],
      "metadata": {
        "id": "S0iSM1FEvApA"
      }
    },
    {
      "cell_type": "code",
      "source": [
        "plt.hist(([pos_cult['cult_sim']]))\n",
        "plt.title('Positive Cultural Samples Cosine Similarity')\n",
        "plt.show()"
      ],
      "metadata": {
        "colab": {
          "base_uri": "https://localhost:8080/",
          "height": 281
        },
        "id": "Kt95e8Ueu5Yl",
        "outputId": "77aa855c-9ec3-4ff1-8226-af1b5a96efce"
      },
      "execution_count": null,
      "outputs": [
        {
          "output_type": "display_data",
          "data": {
            "text/plain": [
              "<Figure size 432x288 with 1 Axes>"
            ],
            "image/png": "[encoded data removed]"
          },
          "metadata": {
            "needs_background": "light"
          }
        }
      ]
    },
    {
      "cell_type": "code",
      "source": [
        "plt.hist(([pos_cult['cult_scores']]))\n",
        "plt.title('Positive Cultural Samples WMD')\n",
        "plt.show()"
      ],
      "metadata": {
        "colab": {
          "base_uri": "https://localhost:8080/",
          "height": 281
        },
        "id": "2CfU4TqPvG26",
        "outputId": "34d9b992-c501-48f6-bc0e-388555f8ec82"
      },
      "execution_count": null,
      "outputs": [
        {
          "output_type": "display_data",
          "data": {
            "text/plain": [
              "<Figure size 432x288 with 1 Axes>"
            ],
            "image/png": "[encoded data removed]"
          },
          "metadata": {
            "needs_background": "light"
          }
        }
      ]
    },
    {
      "cell_type": "code",
      "source": [
        "plt.hist(([neg_cult['cult_sim']]))\n",
        "plt.title('Negative Cultural Samples Cosine Similarity')\n",
        "plt.show()"
      ],
      "metadata": {
        "colab": {
          "base_uri": "https://localhost:8080/",
          "height": 281
        },
        "id": "O2j3gUNxvKTJ",
        "outputId": "6e262de4-b14a-40f9-c808-962e3dacb8c2"
      },
      "execution_count": null,
      "outputs": [
        {
          "output_type": "display_data",
          "data": {
            "text/plain": [
              "<Figure size 432x288 with 1 Axes>"
            ],
            "image/png": "[encoded data removed]"
          },
          "metadata": {
            "needs_background": "light"
          }
        }
      ]
    },
    {
      "cell_type": "code",
      "source": [
        "plt.hist(([neg_cult['cult_scores']]))\n",
        "plt.title('Negative Cultural Samples WMD')\n",
        "plt.show()"
      ],
      "metadata": {
        "colab": {
          "base_uri": "https://localhost:8080/",
          "height": 281
        },
        "id": "Yp_F5didvNuu",
        "outputId": "03fb7d4e-5eb4-4079-f175-7adf07f2440d"
      },
      "execution_count": null,
      "outputs": [
        {
          "output_type": "display_data",
          "data": {
            "text/plain": [
              "<Figure size 432x288 with 1 Axes>"
            ],
            "image/png": "[encoded data removed]"
          },
          "metadata": {
            "needs_background": "light"
          }
        }
      ]
    }
  ]
}