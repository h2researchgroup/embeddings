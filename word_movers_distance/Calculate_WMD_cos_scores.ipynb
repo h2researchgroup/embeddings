{
 "cells": [
  {
   "cell_type": "markdown",
   "metadata": {
    "id": "K3ew8Mn2mfAC"
   },
   "source": [
    "\n",
    "# **Calculating WMD and Cosine Score for JSTOR Article Samples**\n",
    "\n"
   ]
  },
  {
   "cell_type": "markdown",
   "metadata": {
    "id": "8nMTP15rkxzK"
   },
   "source": [
    "Computational Literature Review\n",
    "\n",
    "Creator: Nancy Xu\n",
    "\n",
    "Date created: September 6, 2022\n",
    "\n",
    "Date last modified: September 21, 2022\n",
    "\n",
    "This notebook:\n",
    "- generates 20 samples of articles in positive/negative classes for each of the 3 perspectives\n",
    "- calculates Word Mover's Distance (using a gensim Word2Vec model) between an article and core seed terms\n",
    "- calculates cosine similarity between an article (represented by average of Word2Vec embeddings of its tokens) and average vector of core seed terms (represented by a Word2Vec embedding)\n",
    "- compares the distribution of WMD scores and cosine similarity scores for each positive/negative perspective"
   ]
  },
  {
   "cell_type": "markdown",
   "metadata": {},
   "source": [
    "Files used:\n",
    "- labeled data\n",
    "    - /home/jovyan/work/models_storage/preprocessed_texts/training_relational_preprocessed_100321.pkl\n",
    "    - /home/jovyan/work/models_storage/preprocessed_texts/training_demographic_preprocessed_100321.pkl\n",
    "    - /home/jovyan/work/models_storage/preprocessed_texts/training_orgs_preprocessed_100321.pkl\n",
    "    - /home/jovyan/work/models_storage/preprocessed_texts/training_cultural_preprocessed_100321.pkl\n",
    "- seed terms:\n",
    "    - demographic_core.txt\n",
    "    - relational_core.txt\n",
    "    - cultural_core.txt\n",
    "    \n",
    "- word2vec phased model\n",
    "    - models_storage/tree/master/w2v_models/word2vec_phrased_filtered_300d_2020_sept5.bin"
   ]
  },
  {
   "cell_type": "code",
   "execution_count": 11,
   "metadata": {
    "id": "ubnyAoBcbrp3"
   },
   "outputs": [],
   "source": [
    "import pandas as pd\n",
    "import gensim\n",
    "import pickle\n",
    "import os\n",
    "import re\n",
    "import ast\n",
    "from gensim.models.phrases import Phrases\n",
    "from gensim.models.phrases import Phrases, Phraser\n",
    "import multiprocessing\n",
    "from sklearn import utils\n",
    "cores = multiprocessing.cpu_count()\n",
    "import gensim\n",
    "from gensim.test.utils import get_tmpfile\n",
    "from gensim.models import Word2Vec\n",
    "from tqdm import tqdm\n",
    "from gensim.models.doc2vec import Doc2Vec, TaggedDocument\n",
    "from gensim.test.utils import common_texts\n",
    "from numpy import dot, absolute\n",
    "from numpy.linalg import norm\n",
    "import numpy as np"
   ]
  },
  {
   "cell_type": "markdown",
   "metadata": {
    "id": "olcmNTxOl0SF"
   },
   "source": [
    "## Text preprocessing & train phrased Word2Vec model"
   ]
  },
  {
   "cell_type": "markdown",
   "metadata": {
    "id": "86QasrCzbvyQ"
   },
   "source": [
    "Load in and preprocess dataframes for each perspective."
   ]
  },
  {
   "cell_type": "code",
   "execution_count": null,
   "metadata": {
    "id": "6XGM7Bk3br_2"
   },
   "outputs": [],
   "source": [
    "os.chdir('/home/jovyan/work/models_storage/preprocessed_texts')\n",
    "def open_test_data(path):\n",
    "    return open(path, 'rb')\n",
    "with open_test_data('training_relational_preprocessed_100321.pkl') as f:\n",
    "    rela = pickle.load(f)\n",
    "\n",
    "with open_test_data('training_demographic_preprocessed_100321.pkl') as f:\n",
    "    demog = pickle.load(f)\n",
    "\n",
    "with open_test_data('training_orgs_preprocessed_100321.pkl') as f:\n",
    "    orgs = pickle.load(f)\n",
    "\n",
    "with open_test_data('training_cultural_preprocessed_100321.pkl') as f:\n",
    "    cult = pickle.load(f)\n",
    "    \n",
    "\n",
    "import itertools\n",
    "full_text = []\n",
    "\n",
    "for i in cult['text']:\n",
    "    joined = list(itertools.chain(*i))\n",
    "    full_text.append(\" \".join(joined))\n",
    "\n",
    "full_text_demog = []\n",
    "for i in demog['text']:\n",
    "    joined = list(itertools.chain(*i))\n",
    "    full_text_demog.append(\" \".join(joined))\n",
    "\n",
    "full_text_orgs = []\n",
    "for j in orgs['text']:\n",
    "    joined = list(itertools.chain(*j))\n",
    "    full_text_orgs.append(\" \".join(joined))\n",
    "\n",
    "full_text_rela = []\n",
    "for j in rela['text']:\n",
    "    joined = list(itertools.chain(*j))\n",
    "    full_text_rela.append(\" \".join(joined))\n",
    "\n",
    "cult['full_text'] = full_text\n",
    "demog['full_text'] = full_text_demog\n",
    "orgs['full_text'] = full_text_orgs\n",
    "rela['full_text'] = full_text_rela\n",
    "\n",
    "def remove_tags(article):\n",
    "    article = re.sub('<plain_text> <page sequence=\"1\">', '', article)\n",
    "    article = re.sub(r'</page>(\\<.*?\\>)', ' \\n ', article)\n",
    "    # xml tags\n",
    "    article = re.sub(r'<.*?>', '', article)\n",
    "    article = re.sub(r'<body.*\\n\\s*.*\\s*.*>', '', article)\n",
    "    return article\n",
    "\n",
    "tags_removed = [remove_tags(art) for art in cult['full_text']]\n",
    "tags_removed_demog = [remove_tags(art) for art in demog['full_text']]\n",
    "tags_removed_org = [remove_tags(art) for art in orgs['full_text']]\n",
    "tags_removed_rela = [remove_tags(art) for art in rela['full_text']]\n",
    "cult['text_no_tags'] = tags_removed\n",
    "demog['text_no_tags'] = tags_removed_demog\n",
    "orgs['text_no_tags'] = tags_removed_org\n",
    "rela['text_no_tags'] = tags_removed_rela\n",
    "\n",
    "import nltk\n",
    "nltk.download('stopwords')\n",
    "from nltk.corpus import stopwords\n",
    "stop_words = stopwords.words('english')\n",
    "stop_words.extend(['one', 'two', 'three', 'amp', 'may', 'can', 'new', 'also', 'and'])\n",
    "\n",
    "import string\n",
    "import re\n",
    "import nltk\n",
    "\n",
    "def word_process(tt):\n",
    "    \"\"\"\n",
    "    helper function to lower text, remove stop words, numbers, and empty \n",
    "    \"\"\"\n",
    "    \n",
    "    tt = tt.lower()\n",
    "    \n",
    "    punc = '''!()-[]{};:'\"\\, <>./?@#$%^&*_~=\\n'''\n",
    "    # Removing punctuations in string \n",
    "    # Using loop + punctuation string \n",
    "\n",
    "\n",
    "    for ele in tt:  \n",
    "        if ele in punc:  \n",
    "            tt = tt.replace(ele, \" \")  \n",
    "\n",
    "    # read tokens\n",
    "    tokens = tt.split()\n",
    "    lst = [token.translate(punc).lower() for token in tokens ]\n",
    "    \n",
    "    #remove stop words\n",
    "    filtered = []\n",
    "    for i in lst:\n",
    "        if i not in stop_words:\n",
    "            filtered.append(i)\n",
    "    \n",
    "    # removing singular numbers and singular letters\n",
    "    pattern = '[0-9]'\n",
    "    filtered = [re.sub(pattern, '', i) for i in filtered] \n",
    "    new = []\n",
    "    for inp in filtered:\n",
    "        new.append(' '.join( [w for w in inp.split() if len(w)>1] ))\n",
    "        \n",
    "    # filter out empty strings \n",
    "    new = [i for i in new if i] \n",
    "\n",
    "    dt = [d.split() for d in new]\n",
    "    \n",
    "  \n",
    "    st = ''\n",
    "    for i in dt:\n",
    "        st = st + \" \" + i[0]\n",
    "    return st\n",
    "    \n",
    "\n",
    "cult['processed']  =  cult['text_no_tags'].apply(word_process)\n",
    "rela['processed']  =  rela['text_no_tags'].apply(word_process)\n",
    "demog['processed']  =  demog['text_no_tags'].apply(word_process)\n",
    "orgs['processed']  =  orgs['text_no_tags'].apply(word_process)\n",
    "\n",
    "cult_pos = cult[cult['cultural_score']==1]\n",
    "cult_neg = cult[cult['cultural_score']==0]\n",
    "\n",
    "rela_pos = rela[rela['relational_score']==1]\n",
    "rela_neg = rela[rela['relational_score']==0]\n",
    "\n",
    "demog_pos = demog[demog['demographic_score']==1]\n",
    "demog_neg = demog[demog['demographic_score']==0]\n",
    "\n",
    "pos_cult = cult_pos.sample(20, replace = False)\n",
    "neg_cult = cult_neg.sample(20, replace = False)\n",
    "\n",
    "pos_rela = rela_pos.sample(20, replace = False)\n",
    "neg_rela = rela_neg.sample(20, replace = False)\n",
    "\n",
    "pos_demog = demog_pos.sample(20, replace = False)\n",
    "neg_demog = demog_neg.sample(20, replace = False)\n",
    "\n",
    "pos_cult.to_csv('/home/jovyan/work/nancyxu/pos_cult.csv')\n",
    "neg_cult.to_csv('/home/jovyan/work/nancyxu/neg_cult.csv')\n",
    "pos_rela.to_csv('/home/jovyan/work/nancyxu/pos_rela.csv')\n",
    "neg_rela.to_csv('/home/jovyan/work/nancyxu/neg_rela.csv')\n",
    "pos_demog.to_csv('/home/jovyan/work/nancyxu/pos_demog.csv')\n",
    "neg_demog.to_csv('/home/jovyan/work/nancyxu/neg_demog.csv')\n"
   ]
  },
  {
   "cell_type": "code",
   "execution_count": null,
   "metadata": {},
   "outputs": [],
   "source": [
    "pos_cult = pd.read_csv('pos_cult.csv')\n",
    "neg_cult = pd.read_csv('neg_cult.csv')\n",
    "pos_rela = pd.read_csv('pos_rela.csv')\n",
    "neg_rela = pd.read_csv('neg_rela.csv')\n",
    "pos_demog = pd.read_csv('pos_demog.csv')\n",
    "neg_demog = pd.read_csv('neg_demog.csv')"
   ]
  },
  {
   "cell_type": "code",
   "execution_count": null,
   "metadata": {},
   "outputs": [],
   "source": []
  },
  {
   "cell_type": "markdown",
   "metadata": {
    "id": "wkcsUYwpjDRe"
   },
   "source": [
    "load in pretrained phrased w2v model"
   ]
  },
  {
   "cell_type": "code",
   "execution_count": null,
   "metadata": {
    "id": "-gWb9XQq1DP_"
   },
   "outputs": [],
   "source": [
    "w2v=Word2Vec.load('word2vec_phrased_filtered_300d_2020_sept5.bin')"
   ]
  },
  {
   "cell_type": "code",
   "execution_count": null,
   "metadata": {
    "id": "-1Y8J0QxjeTp"
   },
   "outputs": [],
   "source": [
    "# import numpy as np\n",
    "# def find_mean_and_closest_article(article,df,topk):\n",
    "#     \"\"\"\n",
    "#     calcalate the mean wmd of a certain article from other articles in the same perspective,\n",
    "#     then give the top k closest articles in the same perspective.\n",
    "#     \"\"\"\n",
    "#     d = []\n",
    "#     for i in np.arange(len(df)):\n",
    "#         d.append(calc_wmd(article,df.loc[i,'processed']))\n",
    "#     dis_dict = pd.DataFrame(list(zip(d,df['processed'])), columns = ['distance', 'article'])\n",
    "#     dis_dict['full_text'] = df['full_text']\n",
    "#     dis_dict['edited_filename'] = df['edited_filename'] \n",
    "#     dis_dict = dis_dict[dis_dict['article']!=article]\n",
    "#     srted = dis_dict.sort_values('distance').head(topk)\n",
    "\n",
    "#     return np.mean(dis_dict['distance']), tuple(zip(srted['edited_filename'], srted['distance']))\n",
    "        \n",
    "# def get_cols_sims(df):\n",
    "#     \"\"\"\n",
    "#     get mean wmd similarity scores \n",
    "#     \"\"\"\n",
    "#     results = pos_cult['processed'].apply(lambda x: find_closest_article(x,pos_cult,10))\n",
    "#     mean_sims_score = [i[0] for i in results]\n",
    "#     top10_sims_articles = [i[1] for i in results]\n",
    "#     df['mean_sims_score'] = mean_sims_score\n",
    "#     df['top10_sims_articles'] = top10_sims_articles\n",
    "#     return df.sort_values('mean_sims_score')"
   ]
  },
  {
   "cell_type": "markdown",
   "metadata": {
    "id": "OV-qAuC5joS3"
   },
   "source": [
    "## Compute WMD between an article and perspective seed terms"
   ]
  },
  {
   "cell_type": "markdown",
   "metadata": {
    "id": "EJhF40j7lWEs"
   },
   "source": [
    "reference: https://radimrehurek.com/gensim/auto_examples/tutorials/run_wmd.html"
   ]
  },
  {
   "cell_type": "code",
   "execution_count": null,
   "metadata": {
    "id": "R34TJeVkjlP8"
   },
   "outputs": [],
   "source": [
    "def calc_wmd(a,b):\n",
    "    return w2v.wmdistance(a,b)"
   ]
  },
  {
   "cell_type": "code",
   "execution_count": null,
   "metadata": {
    "id": "TkHfYQL-jqKY"
   },
   "outputs": [],
   "source": [
    "def read_txt_lst(file):\n",
    "    txt_file = open(file, \"r\")\n",
    "    file_content = txt_file.read()\n",
    "    # print(\"The file content are: \", file_content)\n",
    "\n",
    "    content_list = file_content.split(\"\\n\")\n",
    "    txt_file.close()\n",
    "    return content_list"
   ]
  },
  {
   "cell_type": "code",
   "execution_count": null,
   "metadata": {
    "id": "Ugre_Ef3jrH9"
   },
   "outputs": [],
   "source": [
    "dem_core=read_txt_lst('demographic_core.txt')\n",
    "rela_core=read_txt_lst('relational_core.txt')\n",
    "cult_core = read_txt_lst('cultural_core.txt')"
   ]
  },
  {
   "cell_type": "code",
   "execution_count": null,
   "metadata": {
    "id": "4DDlDpXk7A-v"
   },
   "outputs": [],
   "source": [
    "dem_core=[re.sub(r'\\s','_',x) for x in dem_core]\n",
    "rela_core=[re.sub(r'\\s','_',x) for x in rela_core]\n",
    "cult_core=[re.sub(r'\\s','_',x) for x in cult_core]"
   ]
  },
  {
   "cell_type": "code",
   "execution_count": null,
   "metadata": {},
   "outputs": [],
   "source": [
    "\n",
    "def build_phrases(sentences):\n",
    "    phrases = Phrases(sentences, min_count = 5, threshold = 7, progress_per = 1000)\n",
    "    return Phraser(phrases)"
   ]
  },
  {
   "cell_type": "code",
   "execution_count": null,
   "metadata": {},
   "outputs": [],
   "source": [
    "from nltk.tokenize import word_tokenize"
   ]
  },
  {
   "cell_type": "code",
   "execution_count": null,
   "metadata": {
    "id": "H3MVbOCejsCu"
   },
   "outputs": [],
   "source": [
    "def get_sims_with_perspective(article):\n",
    "  \"\"\"\n",
    "  get wmd similarity between this article and the core terms of each perspective\n",
    "  \"\"\"\n",
    "\n",
    "  ## first build bigram from the article\n",
    "\n",
    "  article_tokens = article.split()\n",
    "\n",
    "#   article_tokens = word_tokenize(article)\n",
    "    \n",
    "  dem_score = calc_wmd(article_tokens,(dem_core))\n",
    "  rela_score = calc_wmd(article_tokens,(rela_core))\n",
    "  cult_score = calc_wmd(article_tokens,(cult_core))\n",
    "  return (dem_score,rela_score,cult_score)"
   ]
  },
  {
   "cell_type": "code",
   "execution_count": null,
   "metadata": {
    "scrolled": true
   },
   "outputs": [],
   "source": [
    "get_sims_with_perspective(pos_cult.loc[0,'processed'])"
   ]
  },
  {
   "cell_type": "code",
   "execution_count": null,
   "metadata": {},
   "outputs": [],
   "source": [
    "get_sims_with_perspective(neg_rela.loc[0,'processed'])"
   ]
  },
  {
   "cell_type": "code",
   "execution_count": null,
   "metadata": {
    "id": "1Ziz5EEcjtNm"
   },
   "outputs": [],
   "source": [
    "\n",
    "def get_sim_perspective(df):\n",
    "\n",
    "    \"\"\"\n",
    "    returns modified df with extra columns dem_score,rela_score,cult_score\n",
    "    denoting the wmd score calculated for each article.\n",
    "    \"\"\"\n",
    "    tqdm.pandas()\n",
    "\n",
    "    results=df['processed'].apply(lambda x:get_sims_with_perspective(x))\n",
    "    dem_scores = [i[0] for i in results]\n",
    "    rela_scores = [i[1] for i in results]\n",
    "    cult_scores = [i[2] for i in results]\n",
    "    df['dem_scores'] = dem_scores\n",
    "    df['rela_scores'] = rela_scores\n",
    "    df['cult_scores']= cult_scores\n",
    "    return df"
   ]
  },
  {
   "cell_type": "code",
   "execution_count": null,
   "metadata": {
    "colab": {
     "base_uri": "https://localhost:8080/"
    },
    "id": "7a_y_d63juIY",
    "outputId": "eb087750-f5e0-4fee-d487-eab79513b1f2"
   },
   "outputs": [],
   "source": [
    "pos_cult = get_sim_perspective(pos_cult)\n",
    "neg_cult = get_sim_perspective(neg_cult)\n",
    "\n",
    "pos_demog = get_sim_perspective(pos_demog)\n",
    "neg_demog = get_sim_perspective(neg_demog)\n",
    "\n",
    "pos_rela = get_sim_perspective(pos_rela)\n",
    "neg_rela = get_sim_perspective(neg_rela)"
   ]
  },
  {
   "cell_type": "code",
   "execution_count": null,
   "metadata": {},
   "outputs": [],
   "source": [
    "pos_cult=pos_cult.rename(columns={'dem_scores':'dem_wmd', 'rela_scores':'rela_wmd', 'cult_scores':'cult_wmd'})\n",
    "neg_cult=neg_cult.rename(columns={'dem_scores':'dem_wmd', 'rela_scores':'rela_wmd', 'cult_scores':'cult_wmd'})\n",
    "\n",
    "pos_demog=pos_demog.rename(columns={'dem_scores':'dem_wmd', 'rela_scores':'rela_wmd', 'cult_scores':'cult_wmd'})\n",
    "neg_demog=neg_demog.rename(columns={'dem_scores':'dem_wmd', 'rela_scores':'rela_wmd', 'cult_scores':'cult_wmd'})\n",
    "\n",
    "pos_rela=pos_rela.rename(columns={'dem_scores':'dem_wmd', 'rela_scores':'rela_wmd', 'cult_scores':'cult_wmd'})\n",
    "neg_rela=neg_rela.rename(columns={'dem_scores':'dem_wmd', 'rela_scores':'rela_wmd', 'cult_scores':'cult_wmd'})"
   ]
  },
  {
   "cell_type": "code",
   "execution_count": null,
   "metadata": {
    "scrolled": true
   },
   "outputs": [],
   "source": [
    "pos_demog"
   ]
  },
  {
   "cell_type": "markdown",
   "metadata": {
    "id": "25usK4EBjXoM"
   },
   "source": [
    "## Calculate cosine similarity score between the article and each perspective"
   ]
  },
  {
   "cell_type": "markdown",
   "metadata": {
    "id": "LQTJDmbcj3-8"
   },
   "source": [
    "Using Word2Vec to get vector representations of the text in each jstor article, average them to get the article embedding, then calculate cosine similarity between the embedding of each article and average w2v vector for each perspective."
   ]
  },
  {
   "cell_type": "markdown",
   "metadata": {
    "id": "XJ2kEH8wjjF2"
   },
   "source": [
    "reference: https://github.com/h2researchgroup/embeddings/blob/main/preprocessing/cosine_values_calculate_word2vec.py"
   ]
  },
  {
   "cell_type": "code",
   "execution_count": null,
   "metadata": {
    "id": "B1DZj9J3pf63"
   },
   "outputs": [],
   "source": [
    "cult_core_embs=[]\n",
    "for x in cult_core:\n",
    "  try:\n",
    "    cult_core_embs.append(w2v.wv[x])\n",
    "  except:\n",
    "    pass\n"
   ]
  },
  {
   "cell_type": "code",
   "execution_count": null,
   "metadata": {
    "id": "iagTUAI2W4kK"
   },
   "outputs": [],
   "source": [
    "demog_core_embs=[]\n",
    "for x in dem_core:\n",
    "  try:\n",
    "    demog_core_embs.append(w2v.wv[x])\n",
    "  except:\n",
    "    pass\n"
   ]
  },
  {
   "cell_type": "code",
   "execution_count": null,
   "metadata": {
    "id": "ciBztsAbYpJN"
   },
   "outputs": [],
   "source": [
    "rela_core_embs=[]\n",
    "for x in rela_core:\n",
    "  try:\n",
    "    rela_core_embs.append(w2v.wv[x])\n",
    "  except:\n",
    "    pass\n"
   ]
  },
  {
   "cell_type": "code",
   "execution_count": null,
   "metadata": {
    "id": "gCPBxyzkY3dF"
   },
   "outputs": [],
   "source": [
    "import numpy as np\n",
    "rela_core_embs_mean = np.mean(rela_core_embs, axis=0)\n",
    "cult_core_embs_mean = np.mean(cult_core_embs, axis=0)\n",
    "demog_core_embs_mean = np.mean(demog_core_embs, axis=0)"
   ]
  },
  {
   "cell_type": "code",
   "execution_count": null,
   "metadata": {},
   "outputs": [],
   "source": [
    "def doc_words_cosine(doc):\n",
    "    \"\"\"\n",
    "  doc = str of text\n",
    "  get cosine similarity scores between the document embedding and average emb of the core terms in each perspective.\n",
    "  \"\"\"\n",
    "    ss = [doc.split()]\n",
    "    bb = build_phrases(ss)\n",
    "    pb = [bb[i] for i in ss][0]\n",
    "    article_embs=[]\n",
    "    for k in pb:\n",
    "      try:\n",
    "        article_embs.append(w2v.wv[k])\n",
    "      except:\n",
    "        pass\n",
    "    doc_vec = np.mean(np.array(article_embs), axis=0)\n",
    "    cult_sim = absolute(dot(doc_vec, cult_core_embs_mean)/(norm(doc_vec)*norm(cult_core_embs_mean)))\n",
    "    rela_sim = absolute(dot(doc_vec, rela_core_embs_mean)/(norm(doc_vec)*norm(rela_core_embs_mean)))\n",
    "    demog_sim = absolute(dot(doc_vec, demog_core_embs_mean)/(norm(doc_vec)*norm(demog_core_embs_mean)))\n",
    "    return (demog_sim,rela_sim,cult_sim)"
   ]
  },
  {
   "cell_type": "code",
   "execution_count": null,
   "metadata": {
    "id": "h7j1QLp6bpYA"
   },
   "outputs": [],
   "source": [
    "def apply_doc_words_cosine(df):\n",
    "\n",
    "  \"\"\"\n",
    "  applies doc_words_cosine on the processed texts in each df\n",
    "  returns modified df with new columns dem_sim,rela_sim,cult_sim\n",
    "  \"\"\"\n",
    "\n",
    "  results=df['processed'].apply(lambda x:doc_words_cosine(x))\n",
    "  dem_scores = [i[0] for i in results]\n",
    "  rela_scores = [i[1] for i in results]\n",
    "  cult_scores = [i[2] for i in results]\n",
    "  df['dem_sim'] = dem_scores\n",
    "  df['rela_sim'] = rela_scores\n",
    "  df['cult_sim']= cult_scores\n",
    "\n",
    "  return df"
   ]
  },
  {
   "cell_type": "code",
   "execution_count": null,
   "metadata": {
    "id": "sallbHzTevKS",
    "scrolled": true
   },
   "outputs": [],
   "source": [
    "pos_cult = apply_doc_words_cosine(pos_cult)\n",
    "neg_cult = apply_doc_words_cosine(neg_cult)\n",
    "\n",
    "pos_demog = apply_doc_words_cosine(pos_demog)\n",
    "neg_demog = apply_doc_words_cosine(neg_demog)\n",
    "\n",
    "pos_rela = apply_doc_words_cosine(pos_rela)\n",
    "neg_rela = apply_doc_words_cosine(neg_rela)"
   ]
  },
  {
   "cell_type": "code",
   "execution_count": null,
   "metadata": {
    "scrolled": true
   },
   "outputs": [],
   "source": [
    "neg_rela"
   ]
  },
  {
   "cell_type": "markdown",
   "metadata": {
    "id": "_XIYEuokkUsK"
   },
   "source": [
    "To classify an article with WMD, get the perspective with the smallest distance."
   ]
  },
  {
   "cell_type": "code",
   "execution_count": null,
   "metadata": {
    "id": "E4XqjL8VfNRu",
    "scrolled": true
   },
   "outputs": [],
   "source": [
    "pos_rela['classified_perspective_wmd']=pos_rela.apply(lambda x:np.argmin([x.dem_wmd,x.rela_wmd,x.cult_wmd]),axis=1)\n",
    "neg_rela['classified_perspective_wmd']=neg_rela.apply(lambda x:np.argmin([x.dem_wmd,x.rela_wmd,x.cult_wmd]),axis=1)\n",
    "pos_cult['classified_perspective_wmd']=pos_cult.apply(lambda x:np.argmin([x.dem_wmd,x.rela_wmd,x.cult_wmd]),axis=1)\n",
    "neg_cult['classified_perspective_wmd']=neg_cult.apply(lambda x:np.argmin([x.dem_wmd,x.rela_wmd,x.cult_wmd]),axis=1)\n",
    "pos_demog['classified_perspective_wmd']=pos_demog.apply(lambda x:np.argmin([x.dem_wmd,x.rela_wmd,x.cult_wmd]),axis=1)\n",
    "neg_demog['classified_perspective_wmd']=neg_demog.apply(lambda x:np.argmin([x.dem_wmd,x.rela_wmd,x.cult_wmd]),axis=1)"
   ]
  },
  {
   "cell_type": "code",
   "execution_count": null,
   "metadata": {
    "id": "YM0DnZeUgX59"
   },
   "outputs": [],
   "source": [
    "perspective_dict={0:'demographic', 1:'relational', 2:'cultural'}"
   ]
  },
  {
   "cell_type": "code",
   "execution_count": null,
   "metadata": {
    "id": "Y78bkczvhPGo"
   },
   "outputs": [],
   "source": [
    "pos_rela['classified_perspective_wmd'] = pos_rela['classified_perspective_wmd'].replace(perspective_dict)\n",
    "neg_rela['classified_perspective_wmd'] = neg_rela['classified_perspective_wmd'].replace(perspective_dict)\n",
    "pos_cult['classified_perspective_wmd'] = pos_cult['classified_perspective_wmd'].replace(perspective_dict)\n",
    "neg_cult['classified_perspective_wmd'] = neg_cult['classified_perspective_wmd'].replace(perspective_dict)\n",
    "pos_demog['classified_perspective_wmd'] = pos_demog['classified_perspective_wmd'].replace(perspective_dict)\n",
    "neg_demog['classified_perspective_wmd'] = neg_demog['classified_perspective_wmd'].replace(perspective_dict)"
   ]
  },
  {
   "cell_type": "markdown",
   "metadata": {
    "id": "u80Z_TaWkd5Y"
   },
   "source": [
    "To classify an article with cosine similarity, get the perspective with the biggest cosine similarity."
   ]
  },
  {
   "cell_type": "code",
   "execution_count": null,
   "metadata": {
    "id": "mRLewgkNh3e3"
   },
   "outputs": [],
   "source": [
    "pos_rela['classified_perspective_cos']=pos_rela.apply(lambda x:np.argmax([x.dem_sim,x.rela_sim,x.cult_sim]),axis=1)\n",
    "neg_rela['classified_perspective_cos']=neg_rela.apply(lambda x:np.argmax([x.dem_sim,x.rela_sim,x.cult_sim]),axis=1)\n",
    "pos_cult['classified_perspective_cos']=pos_cult.apply(lambda x:np.argmax([x.dem_sim,x.rela_sim,x.cult_sim]),axis=1)\n",
    "neg_cult['classified_perspective_cos']=neg_cult.apply(lambda x:np.argmax([x.dem_sim,x.rela_sim,x.cult_sim]),axis=1)\n",
    "pos_demog['classified_perspective_cos']=pos_demog.apply(lambda x:np.argmax([x.dem_sim,x.rela_sim,x.cult_sim]),axis=1)\n",
    "neg_demog['classified_perspective_cos']=neg_demog.apply(lambda x:np.argmax([x.dem_sim,x.rela_sim,x.cult_sim]),axis=1)"
   ]
  },
  {
   "cell_type": "code",
   "execution_count": null,
   "metadata": {
    "id": "Ayn8rRRViJkn"
   },
   "outputs": [],
   "source": [
    "pos_rela['classified_perspective_cos'] = pos_rela['classified_perspective_cos'].replace(perspective_dict)\n",
    "neg_rela['classified_perspective_cos'] = neg_rela['classified_perspective_cos'].replace(perspective_dict)\n",
    "pos_cult['classified_perspective_cos'] = pos_cult['classified_perspective_cos'].replace(perspective_dict)\n",
    "neg_cult['classified_perspective_cos'] = neg_cult['classified_perspective_cos'].replace(perspective_dict)\n",
    "pos_demog['classified_perspective_cos'] = pos_demog['classified_perspective_cos'].replace(perspective_dict)\n",
    "neg_demog['classified_perspective_cos'] = neg_demog['classified_perspective_cos'].replace(perspective_dict)"
   ]
  },
  {
   "cell_type": "code",
   "execution_count": null,
   "metadata": {},
   "outputs": [],
   "source": [
    "pos_cult=pos_cult.rename(columns={'dem_sim':'dem_cos_sim', 'rela_sim':'rela_cos_sim', 'cult_sim':'cult_cos_sim'})\n",
    "neg_cult=neg_cult.rename(columns={'dem_sim':'dem_cos_sim', 'rela_sim':'rela_cos_sim', 'cult_sim':'cult_cos_sim'})\n",
    "\n",
    "pos_demog=pos_demog.rename(columns={'dem_sim':'dem_cos_sim', 'rela_sim':'rela_cos_sim', 'cult_sim':'cult_cos_sim'})\n",
    "neg_demog=neg_demog.rename(columns={'dem_sim':'dem_cos_sim', 'rela_sim':'rela_cos_sim', 'cult_sim':'cult_cos_sim'})\n",
    "\n",
    "pos_rela=pos_rela.rename(columns={'dem_sim':'dem_cos_sim', 'rela_sim':'rela_cos_sim', 'cult_sim':'cult_cos_sim'})\n",
    "neg_rela=neg_rela.rename(columns={'dem_sim':'dem_cos_sim', 'rela_sim':'rela_cos_sim', 'cult_sim':'cult_cos_sim'})"
   ]
  },
  {
   "cell_type": "code",
   "execution_count": null,
   "metadata": {},
   "outputs": [],
   "source": [
    "from sklearn.preprocessing import normalize\n",
    "def normalize_invert_wmd(df):\n",
    "    \"\"\"\n",
    "    normalize the wmd, then invert it (1- normalized wmd),\n",
    "    also normalize cosine simiarlity score.\n",
    "    \n",
    "    \"\"\"\n",
    "    dem_wmd=df.dem_wmd\n",
    "    rela_wmd=df.rela_wmd\n",
    "    cult_wmd=df.cult_wmd\n",
    "    \n",
    "    dem_cos = df.dem_cos_sim\n",
    "    rela_cos = df.rela_cos_sim\n",
    "    cult_cos = df.cult_cos_sim\n",
    "    \n",
    "    normalized_dem_wmd,normalized_rela_wmd,normalized_cult_wmd = [],[],[]\n",
    "    normalized_dem_cos,normalized_rela_cos,normalized_cult_cos = [],[],[]\n",
    "    \n",
    "    for i in np.arange(len(df)):\n",
    "        normalized_inverted_3_scores_wmd = 1 - normalize([[dem_wmd[i],rela_wmd[i], cult_wmd[i]]])\n",
    "#         print(normalized_inverted_3_scores)\n",
    "        normalized_dem_wmd.append(normalized_inverted_3_scores_wmd[0][0])\n",
    "        normalized_rela_wmd.append(normalized_inverted_3_scores_wmd[0][1])\n",
    "        normalized_cult_wmd.append(normalized_inverted_3_scores_wmd[0][2])\n",
    "        \n",
    "        normalized_inverted_3_scores_cos = normalize([[dem_cos[i],rela_cos[i], cult_cos[i]]])\n",
    "        \n",
    "        normalized_dem_cos.append(normalized_inverted_3_scores_cos[0][0])\n",
    "        normalized_rela_cos.append(normalized_inverted_3_scores_cos[0][1])\n",
    "        normalized_cult_cos.append(normalized_inverted_3_scores_cos[0][2])\n",
    "        \n",
    "    df['normalized_dem_wmd']=normalized_dem_wmd\n",
    "    df['normalized_rela_wmd']=normalized_rela_wmd\n",
    "    df['normalized_cult_wmd']=normalized_cult_wmd\n",
    "    \n",
    "    df['normalized_dem_cos']=normalized_dem_cos\n",
    "    df['normalized_rela_cos']=normalized_rela_cos\n",
    "    df['normalized_cult_cos']=normalized_cult_cos\n",
    "    \n",
    "    return df\n",
    "        "
   ]
  },
  {
   "cell_type": "code",
   "execution_count": null,
   "metadata": {
    "scrolled": true
   },
   "outputs": [],
   "source": [
    "pos_cult"
   ]
  },
  {
   "cell_type": "code",
   "execution_count": null,
   "metadata": {},
   "outputs": [],
   "source": [
    "dem_wmd=pos_cult.dem_wmd\n",
    "rela_wmd=pos_cult.rela_wmd\n",
    "cult_wmd=pos_cult.cult_wmd\n",
    "\n",
    "dem_cos = pos_cult.dem_cos_sim\n",
    "rela_cos = pos_cult.rela_cos_sim\n",
    "cult_cos = pos_cult.cult_cos_sim"
   ]
  },
  {
   "cell_type": "code",
   "execution_count": null,
   "metadata": {
    "scrolled": true
   },
   "outputs": [],
   "source": [
    "dem_wmd"
   ]
  },
  {
   "cell_type": "code",
   "execution_count": null,
   "metadata": {},
   "outputs": [],
   "source": [
    "pos_cult = normalize_invert_wmd(pos_cult)\n",
    "neg_cult = normalize_invert_wmd(neg_cult)\n",
    "\n",
    "pos_demog = normalize_invert_wmd(pos_demog)\n",
    "neg_demog = normalize_invert_wmd(neg_demog)\n",
    "\n",
    "pos_rela = normalize_invert_wmd(pos_rela)\n",
    "neg_rela = normalize_invert_wmd(neg_rela)"
   ]
  },
  {
   "cell_type": "code",
   "execution_count": null,
   "metadata": {
    "scrolled": true
   },
   "outputs": [],
   "source": [
    "pos_rela"
   ]
  },
  {
   "cell_type": "code",
   "execution_count": null,
   "metadata": {},
   "outputs": [],
   "source": [
    "keep_cols = ['edited_filename', 'article_name', 'processed','classified_perspective_wmd',\n",
    "       'classified_perspective_cos', 'normalized_dem_wmd',\n",
    "       'normalized_rela_wmd', 'normalized_cult_wmd', 'normalized_dem_cos',\n",
    "       'normalized_rela_cos', 'normalized_cult_cos']"
   ]
  },
  {
   "cell_type": "code",
   "execution_count": null,
   "metadata": {
    "scrolled": true
   },
   "outputs": [],
   "source": [
    "pos_cult = pos_cult[keep_cols]\n",
    "neg_cult = neg_cult[keep_cols]\n",
    "pos_rela = pos_rela[keep_cols]\n",
    "neg_rela = neg_rela[keep_cols]\n",
    "pos_demog = pos_demog[keep_cols]\n",
    "neg_demog = neg_demog[keep_cols]"
   ]
  },
  {
   "cell_type": "code",
   "execution_count": null,
   "metadata": {
    "id": "K8SjK1HfiTdR"
   },
   "outputs": [],
   "source": [
    "pos_cult.to_csv('pos_cult_sample_wmd_cos.csv')\n",
    "neg_cult.to_csv('neg_cult_sample_wmd_cos.csv')\n",
    "pos_demog.to_csv('pos_demog_sample_wmd_cos.csv')\n",
    "neg_demog.to_csv('neg_demog_sample_wmd_cos.csv')\n",
    "pos_rela.to_csv('pos_rela_sample_wmd_cos.csv')\n",
    "neg_rela.to_csv('neg_rela_sample_wmd_cos.csv')"
   ]
  },
  {
   "cell_type": "markdown",
   "metadata": {
    "id": "7vb2LBlrm6wZ"
   },
   "source": [
    "## Inspecting Distribution of Similarity Metrics"
   ]
  },
  {
   "cell_type": "code",
   "execution_count": 2,
   "metadata": {
    "scrolled": false
   },
   "outputs": [],
   "source": [
    "pos_cult=pd.read_csv('pos_cult_sample_wmd_cos.csv')\n",
    "neg_cult=pd.read_csv('neg_cult_sample_wmd_cos.csv')\n",
    "pos_demog = pd.read_csv('pos_demog_sample_wmd_cos.csv')\n",
    "neg_demog = pd.read_csv('neg_demog_sample_wmd_cos.csv')\n",
    "pos_rela = pd.read_csv('pos_rela_sample_wmd_cos.csv')\n",
    "neg_rela = pd.read_csv('neg_rela_sample_wmd_cos.csv')"
   ]
  },
  {
   "cell_type": "code",
   "execution_count": 3,
   "metadata": {
    "scrolled": true
   },
   "outputs": [
    {
     "data": {
      "text/html": [
       "<div>\n",
       "<style scoped>\n",
       "    .dataframe tbody tr th:only-of-type {\n",
       "        vertical-align: middle;\n",
       "    }\n",
       "\n",
       "    .dataframe tbody tr th {\n",
       "        vertical-align: top;\n",
       "    }\n",
       "\n",
       "    .dataframe thead th {\n",
       "        text-align: right;\n",
       "    }\n",
       "</style>\n",
       "<table border=\"1\" class=\"dataframe\">\n",
       "  <thead>\n",
       "    <tr style=\"text-align: right;\">\n",
       "      <th></th>\n",
       "      <th>Unnamed: 0</th>\n",
       "      <th>edited_filename</th>\n",
       "      <th>article_name</th>\n",
       "      <th>processed</th>\n",
       "      <th>classified_perspective_wmd</th>\n",
       "      <th>classified_perspective_cos</th>\n",
       "      <th>normalized_dem_wmd</th>\n",
       "      <th>normalized_rela_wmd</th>\n",
       "      <th>normalized_cult_wmd</th>\n",
       "      <th>normalized_dem_cos</th>\n",
       "      <th>normalized_rela_cos</th>\n",
       "      <th>normalized_cult_cos</th>\n",
       "      <th>cultural_score</th>\n",
       "    </tr>\n",
       "  </thead>\n",
       "  <tbody>\n",
       "    <tr>\n",
       "      <th>0</th>\n",
       "      <td>0</td>\n",
       "      <td>10.2307_2393791</td>\n",
       "      <td>The Dynamics of Institutionalization: Transfor...</td>\n",
       "      <td>dynamics institutionalization transformation ...</td>\n",
       "      <td>cultural</td>\n",
       "      <td>cultural</td>\n",
       "      <td>0.400340</td>\n",
       "      <td>0.426599</td>\n",
       "      <td>0.441771</td>\n",
       "      <td>0.530715</td>\n",
       "      <td>0.596055</td>\n",
       "      <td>0.602545</td>\n",
       "      <td>1.0</td>\n",
       "    </tr>\n",
       "    <tr>\n",
       "      <th>1</th>\n",
       "      <td>1</td>\n",
       "      <td>10.2307_3086086</td>\n",
       "      <td>Capitalizing on Paradox: The Role of Language ...</td>\n",
       "      <td>capitalizing paradox role language transformi...</td>\n",
       "      <td>cultural</td>\n",
       "      <td>cultural</td>\n",
       "      <td>0.400013</td>\n",
       "      <td>0.423394</td>\n",
       "      <td>0.445436</td>\n",
       "      <td>0.531458</td>\n",
       "      <td>0.577613</td>\n",
       "      <td>0.619609</td>\n",
       "      <td>1.0</td>\n",
       "    </tr>\n",
       "    <tr>\n",
       "      <th>2</th>\n",
       "      <td>2</td>\n",
       "      <td>10.2307_26162677</td>\n",
       "      <td>Do (some) organizations cause their own crises...</td>\n",
       "      <td>industrial crisis quarterly elsevier science ...</td>\n",
       "      <td>cultural</td>\n",
       "      <td>cultural</td>\n",
       "      <td>0.399761</td>\n",
       "      <td>0.424079</td>\n",
       "      <td>0.444997</td>\n",
       "      <td>0.540425</td>\n",
       "      <td>0.589646</td>\n",
       "      <td>0.600215</td>\n",
       "      <td>1.0</td>\n",
       "    </tr>\n",
       "    <tr>\n",
       "      <th>3</th>\n",
       "      <td>3</td>\n",
       "      <td>10.2307_2391875</td>\n",
       "      <td>Educational Organizations as Loosely Coupled S...</td>\n",
       "      <td>educational organizations loosely coupled sys...</td>\n",
       "      <td>cultural</td>\n",
       "      <td>cultural</td>\n",
       "      <td>0.395996</td>\n",
       "      <td>0.425760</td>\n",
       "      <td>0.447345</td>\n",
       "      <td>0.527685</td>\n",
       "      <td>0.579211</td>\n",
       "      <td>0.621340</td>\n",
       "      <td>1.0</td>\n",
       "    </tr>\n",
       "    <tr>\n",
       "      <th>4</th>\n",
       "      <td>4</td>\n",
       "      <td>10.2307_2781778</td>\n",
       "      <td>Conflict Management, Honor, and Organizational...</td>\n",
       "      <td>conflict management honor organizational chan...</td>\n",
       "      <td>cultural</td>\n",
       "      <td>relational</td>\n",
       "      <td>0.395293</td>\n",
       "      <td>0.432978</td>\n",
       "      <td>0.440701</td>\n",
       "      <td>0.508466</td>\n",
       "      <td>0.617219</td>\n",
       "      <td>0.600419</td>\n",
       "      <td>1.0</td>\n",
       "    </tr>\n",
       "    <tr>\n",
       "      <th>5</th>\n",
       "      <td>5</td>\n",
       "      <td>10.1086_210316</td>\n",
       "      <td>The Endogeneity of Legal Regulation: Grievance...</td>\n",
       "      <td>endogeneity legal regulation grievance proced...</td>\n",
       "      <td>cultural</td>\n",
       "      <td>cultural</td>\n",
       "      <td>0.400096</td>\n",
       "      <td>0.425367</td>\n",
       "      <td>0.443302</td>\n",
       "      <td>0.533039</td>\n",
       "      <td>0.583080</td>\n",
       "      <td>0.613096</td>\n",
       "      <td>1.0</td>\n",
       "    </tr>\n",
       "    <tr>\n",
       "      <th>6</th>\n",
       "      <td>6</td>\n",
       "      <td>10.1525_si.1993.16.1.65</td>\n",
       "      <td>\\n</td>\n",
       "      <td>reflect america rain man las vegas action pos...</td>\n",
       "      <td>cultural</td>\n",
       "      <td>cultural</td>\n",
       "      <td>0.402088</td>\n",
       "      <td>0.422649</td>\n",
       "      <td>0.443972</td>\n",
       "      <td>0.528373</td>\n",
       "      <td>0.562441</td>\n",
       "      <td>0.635989</td>\n",
       "      <td>1.0</td>\n",
       "    </tr>\n",
       "    <tr>\n",
       "      <th>7</th>\n",
       "      <td>7</td>\n",
       "      <td>10.2307_2094525</td>\n",
       "      <td>Small Groups and Culture Creation: The Idiocul...</td>\n",
       "      <td>small groups culture creation idioculture lit...</td>\n",
       "      <td>cultural</td>\n",
       "      <td>cultural</td>\n",
       "      <td>0.397761</td>\n",
       "      <td>0.422390</td>\n",
       "      <td>0.448933</td>\n",
       "      <td>0.528273</td>\n",
       "      <td>0.576905</td>\n",
       "      <td>0.622983</td>\n",
       "      <td>1.0</td>\n",
       "    </tr>\n",
       "    <tr>\n",
       "      <th>8</th>\n",
       "      <td>8</td>\n",
       "      <td>10.1086_231293</td>\n",
       "      <td>Caveat Emptor: The Construction of Nonprofit C...</td>\n",
       "      <td>caveat emptor construction nonprofit consumer...</td>\n",
       "      <td>cultural</td>\n",
       "      <td>cultural</td>\n",
       "      <td>0.400378</td>\n",
       "      <td>0.424790</td>\n",
       "      <td>0.443595</td>\n",
       "      <td>0.542646</td>\n",
       "      <td>0.586974</td>\n",
       "      <td>0.600830</td>\n",
       "      <td>1.0</td>\n",
       "    </tr>\n",
       "    <tr>\n",
       "      <th>9</th>\n",
       "      <td>9</td>\n",
       "      <td>10.2307_2640266</td>\n",
       "      <td>Linking Organizational Values to Relationships...</td>\n",
       "      <td>linking organizational values relationships e...</td>\n",
       "      <td>cultural</td>\n",
       "      <td>relational</td>\n",
       "      <td>0.397579</td>\n",
       "      <td>0.429101</td>\n",
       "      <td>0.442181</td>\n",
       "      <td>0.534883</td>\n",
       "      <td>0.619557</td>\n",
       "      <td>0.574500</td>\n",
       "      <td>1.0</td>\n",
       "    </tr>\n",
       "    <tr>\n",
       "      <th>10</th>\n",
       "      <td>10</td>\n",
       "      <td>10.2307_41415719</td>\n",
       "      <td>The organizational science of disaster/terrori...</td>\n",
       "      <td>journal organizational behavior organiz behav...</td>\n",
       "      <td>cultural</td>\n",
       "      <td>relational</td>\n",
       "      <td>0.399089</td>\n",
       "      <td>0.428926</td>\n",
       "      <td>0.440733</td>\n",
       "      <td>0.546851</td>\n",
       "      <td>0.599103</td>\n",
       "      <td>0.584833</td>\n",
       "      <td>1.0</td>\n",
       "    </tr>\n",
       "    <tr>\n",
       "      <th>11</th>\n",
       "      <td>11</td>\n",
       "      <td>10.2307_43187345</td>\n",
       "      <td>The Worldwide Expansion of \"Organization\"</td>\n",
       "      <td>article worldwide expansion organization soci...</td>\n",
       "      <td>cultural</td>\n",
       "      <td>cultural</td>\n",
       "      <td>0.396036</td>\n",
       "      <td>0.421653</td>\n",
       "      <td>0.451601</td>\n",
       "      <td>0.528842</td>\n",
       "      <td>0.568658</td>\n",
       "      <td>0.630044</td>\n",
       "      <td>1.0</td>\n",
       "    </tr>\n",
       "    <tr>\n",
       "      <th>12</th>\n",
       "      <td>12</td>\n",
       "      <td>10.2307_27736048</td>\n",
       "      <td>The Discipline of Rankings: Tight Coupling and...</td>\n",
       "      <td>discipline rankings tight coupling organizati...</td>\n",
       "      <td>cultural</td>\n",
       "      <td>cultural</td>\n",
       "      <td>0.395620</td>\n",
       "      <td>0.427200</td>\n",
       "      <td>0.446263</td>\n",
       "      <td>0.527018</td>\n",
       "      <td>0.570640</td>\n",
       "      <td>0.629780</td>\n",
       "      <td>1.0</td>\n",
       "    </tr>\n",
       "    <tr>\n",
       "      <th>13</th>\n",
       "      <td>13</td>\n",
       "      <td>10.1086_659639</td>\n",
       "      <td>The Credit Crisis as a Problem in the Sociolog...</td>\n",
       "      <td>introduction heart credit crisis erupted summ...</td>\n",
       "      <td>cultural</td>\n",
       "      <td>relational</td>\n",
       "      <td>0.403658</td>\n",
       "      <td>0.432021</td>\n",
       "      <td>0.432747</td>\n",
       "      <td>0.538359</td>\n",
       "      <td>0.640935</td>\n",
       "      <td>0.547150</td>\n",
       "      <td>1.0</td>\n",
       "    </tr>\n",
       "    <tr>\n",
       "      <th>14</th>\n",
       "      <td>14</td>\n",
       "      <td>10.2307_2096420</td>\n",
       "      <td>Engendering the Worlds of Labor: Women Workers...</td>\n",
       "      <td>engendering worlds labor women workers labor ...</td>\n",
       "      <td>cultural</td>\n",
       "      <td>relational</td>\n",
       "      <td>0.397904</td>\n",
       "      <td>0.430581</td>\n",
       "      <td>0.440320</td>\n",
       "      <td>0.513062</td>\n",
       "      <td>0.619924</td>\n",
       "      <td>0.593684</td>\n",
       "      <td>1.0</td>\n",
       "    </tr>\n",
       "    <tr>\n",
       "      <th>15</th>\n",
       "      <td>15</td>\n",
       "      <td>10.2307_4501749</td>\n",
       "      <td>Before the Professional Project: Success and F...</td>\n",
       "      <td>theor soc doi professional project success fa...</td>\n",
       "      <td>cultural</td>\n",
       "      <td>cultural</td>\n",
       "      <td>0.400542</td>\n",
       "      <td>0.425403</td>\n",
       "      <td>0.442785</td>\n",
       "      <td>0.540666</td>\n",
       "      <td>0.593979</td>\n",
       "      <td>0.595709</td>\n",
       "      <td>1.0</td>\n",
       "    </tr>\n",
       "    <tr>\n",
       "      <th>16</th>\n",
       "      <td>16</td>\n",
       "      <td>10.2307_684324</td>\n",
       "      <td>Practical Knowledge and Occupational Control: ...</td>\n",
       "      <td>sociological forum vol practical knowledge oc...</td>\n",
       "      <td>cultural</td>\n",
       "      <td>cultural</td>\n",
       "      <td>0.396520</td>\n",
       "      <td>0.418556</td>\n",
       "      <td>0.454349</td>\n",
       "      <td>0.537222</td>\n",
       "      <td>0.559866</td>\n",
       "      <td>0.630827</td>\n",
       "      <td>1.0</td>\n",
       "    </tr>\n",
       "    <tr>\n",
       "      <th>17</th>\n",
       "      <td>17</td>\n",
       "      <td>10.2307_25146216</td>\n",
       "      <td>Institutional Logics or Agency Costs: The Infl...</td>\n",
       "      <td>organization science vol september october is...</td>\n",
       "      <td>relational</td>\n",
       "      <td>relational</td>\n",
       "      <td>0.396643</td>\n",
       "      <td>0.438933</td>\n",
       "      <td>0.433287</td>\n",
       "      <td>0.537286</td>\n",
       "      <td>0.646866</td>\n",
       "      <td>0.541192</td>\n",
       "      <td>1.0</td>\n",
       "    </tr>\n",
       "    <tr>\n",
       "      <th>18</th>\n",
       "      <td>18</td>\n",
       "      <td>10.2307_41783715</td>\n",
       "      <td>Connecting Developments in Corporate Human Man...</td>\n",
       "      <td>john cameron abena eyeson connecting developm...</td>\n",
       "      <td>cultural</td>\n",
       "      <td>relational</td>\n",
       "      <td>0.401022</td>\n",
       "      <td>0.425632</td>\n",
       "      <td>0.442033</td>\n",
       "      <td>0.537188</td>\n",
       "      <td>0.604685</td>\n",
       "      <td>0.588035</td>\n",
       "      <td>1.0</td>\n",
       "    </tr>\n",
       "    <tr>\n",
       "      <th>19</th>\n",
       "      <td>19</td>\n",
       "      <td>10.2307_2393338</td>\n",
       "      <td>Follow the Leader: Mimetic Isomorphism and Ent...</td>\n",
       "      <td>follow leader mimetic isomorphism entry marke...</td>\n",
       "      <td>cultural</td>\n",
       "      <td>relational</td>\n",
       "      <td>0.416565</td>\n",
       "      <td>0.421260</td>\n",
       "      <td>0.430207</td>\n",
       "      <td>0.591290</td>\n",
       "      <td>0.609407</td>\n",
       "      <td>0.528204</td>\n",
       "      <td>1.0</td>\n",
       "    </tr>\n",
       "  </tbody>\n",
       "</table>\n",
       "</div>"
      ],
      "text/plain": [
       "    Unnamed: 0          edited_filename  \\\n",
       "0            0          10.2307_2393791   \n",
       "1            1          10.2307_3086086   \n",
       "2            2         10.2307_26162677   \n",
       "3            3          10.2307_2391875   \n",
       "4            4          10.2307_2781778   \n",
       "5            5           10.1086_210316   \n",
       "6            6  10.1525_si.1993.16.1.65   \n",
       "7            7          10.2307_2094525   \n",
       "8            8           10.1086_231293   \n",
       "9            9          10.2307_2640266   \n",
       "10          10         10.2307_41415719   \n",
       "11          11         10.2307_43187345   \n",
       "12          12         10.2307_27736048   \n",
       "13          13           10.1086_659639   \n",
       "14          14          10.2307_2096420   \n",
       "15          15          10.2307_4501749   \n",
       "16          16           10.2307_684324   \n",
       "17          17         10.2307_25146216   \n",
       "18          18         10.2307_41783715   \n",
       "19          19          10.2307_2393338   \n",
       "\n",
       "                                         article_name  \\\n",
       "0   The Dynamics of Institutionalization: Transfor...   \n",
       "1   Capitalizing on Paradox: The Role of Language ...   \n",
       "2   Do (some) organizations cause their own crises...   \n",
       "3   Educational Organizations as Loosely Coupled S...   \n",
       "4   Conflict Management, Honor, and Organizational...   \n",
       "5   The Endogeneity of Legal Regulation: Grievance...   \n",
       "6                                   \\n                  \n",
       "7   Small Groups and Culture Creation: The Idiocul...   \n",
       "8   Caveat Emptor: The Construction of Nonprofit C...   \n",
       "9   Linking Organizational Values to Relationships...   \n",
       "10  The organizational science of disaster/terrori...   \n",
       "11          The Worldwide Expansion of \"Organization\"   \n",
       "12  The Discipline of Rankings: Tight Coupling and...   \n",
       "13  The Credit Crisis as a Problem in the Sociolog...   \n",
       "14  Engendering the Worlds of Labor: Women Workers...   \n",
       "15  Before the Professional Project: Success and F...   \n",
       "16  Practical Knowledge and Occupational Control: ...   \n",
       "17  Institutional Logics or Agency Costs: The Infl...   \n",
       "18  Connecting Developments in Corporate Human Man...   \n",
       "19  Follow the Leader: Mimetic Isomorphism and Ent...   \n",
       "\n",
       "                                            processed  \\\n",
       "0    dynamics institutionalization transformation ...   \n",
       "1    capitalizing paradox role language transformi...   \n",
       "2    industrial crisis quarterly elsevier science ...   \n",
       "3    educational organizations loosely coupled sys...   \n",
       "4    conflict management honor organizational chan...   \n",
       "5    endogeneity legal regulation grievance proced...   \n",
       "6    reflect america rain man las vegas action pos...   \n",
       "7    small groups culture creation idioculture lit...   \n",
       "8    caveat emptor construction nonprofit consumer...   \n",
       "9    linking organizational values relationships e...   \n",
       "10   journal organizational behavior organiz behav...   \n",
       "11   article worldwide expansion organization soci...   \n",
       "12   discipline rankings tight coupling organizati...   \n",
       "13   introduction heart credit crisis erupted summ...   \n",
       "14   engendering worlds labor women workers labor ...   \n",
       "15   theor soc doi professional project success fa...   \n",
       "16   sociological forum vol practical knowledge oc...   \n",
       "17   organization science vol september october is...   \n",
       "18   john cameron abena eyeson connecting developm...   \n",
       "19   follow leader mimetic isomorphism entry marke...   \n",
       "\n",
       "   classified_perspective_wmd classified_perspective_cos  normalized_dem_wmd  \\\n",
       "0                    cultural                   cultural            0.400340   \n",
       "1                    cultural                   cultural            0.400013   \n",
       "2                    cultural                   cultural            0.399761   \n",
       "3                    cultural                   cultural            0.395996   \n",
       "4                    cultural                 relational            0.395293   \n",
       "5                    cultural                   cultural            0.400096   \n",
       "6                    cultural                   cultural            0.402088   \n",
       "7                    cultural                   cultural            0.397761   \n",
       "8                    cultural                   cultural            0.400378   \n",
       "9                    cultural                 relational            0.397579   \n",
       "10                   cultural                 relational            0.399089   \n",
       "11                   cultural                   cultural            0.396036   \n",
       "12                   cultural                   cultural            0.395620   \n",
       "13                   cultural                 relational            0.403658   \n",
       "14                   cultural                 relational            0.397904   \n",
       "15                   cultural                   cultural            0.400542   \n",
       "16                   cultural                   cultural            0.396520   \n",
       "17                 relational                 relational            0.396643   \n",
       "18                   cultural                 relational            0.401022   \n",
       "19                   cultural                 relational            0.416565   \n",
       "\n",
       "    normalized_rela_wmd  normalized_cult_wmd  normalized_dem_cos  \\\n",
       "0              0.426599             0.441771            0.530715   \n",
       "1              0.423394             0.445436            0.531458   \n",
       "2              0.424079             0.444997            0.540425   \n",
       "3              0.425760             0.447345            0.527685   \n",
       "4              0.432978             0.440701            0.508466   \n",
       "5              0.425367             0.443302            0.533039   \n",
       "6              0.422649             0.443972            0.528373   \n",
       "7              0.422390             0.448933            0.528273   \n",
       "8              0.424790             0.443595            0.542646   \n",
       "9              0.429101             0.442181            0.534883   \n",
       "10             0.428926             0.440733            0.546851   \n",
       "11             0.421653             0.451601            0.528842   \n",
       "12             0.427200             0.446263            0.527018   \n",
       "13             0.432021             0.432747            0.538359   \n",
       "14             0.430581             0.440320            0.513062   \n",
       "15             0.425403             0.442785            0.540666   \n",
       "16             0.418556             0.454349            0.537222   \n",
       "17             0.438933             0.433287            0.537286   \n",
       "18             0.425632             0.442033            0.537188   \n",
       "19             0.421260             0.430207            0.591290   \n",
       "\n",
       "    normalized_rela_cos  normalized_cult_cos  cultural_score  \n",
       "0              0.596055             0.602545             1.0  \n",
       "1              0.577613             0.619609             1.0  \n",
       "2              0.589646             0.600215             1.0  \n",
       "3              0.579211             0.621340             1.0  \n",
       "4              0.617219             0.600419             1.0  \n",
       "5              0.583080             0.613096             1.0  \n",
       "6              0.562441             0.635989             1.0  \n",
       "7              0.576905             0.622983             1.0  \n",
       "8              0.586974             0.600830             1.0  \n",
       "9              0.619557             0.574500             1.0  \n",
       "10             0.599103             0.584833             1.0  \n",
       "11             0.568658             0.630044             1.0  \n",
       "12             0.570640             0.629780             1.0  \n",
       "13             0.640935             0.547150             1.0  \n",
       "14             0.619924             0.593684             1.0  \n",
       "15             0.593979             0.595709             1.0  \n",
       "16             0.559866             0.630827             1.0  \n",
       "17             0.646866             0.541192             1.0  \n",
       "18             0.604685             0.588035             1.0  \n",
       "19             0.609407             0.528204             1.0  "
      ]
     },
     "execution_count": 3,
     "metadata": {},
     "output_type": "execute_result"
    }
   ],
   "source": [
    "pos_cult"
   ]
  },
  {
   "cell_type": "code",
   "execution_count": 4,
   "metadata": {
    "id": "ucRNAqP7m_Rn"
   },
   "outputs": [],
   "source": [
    "import matplotlib.pyplot as plt"
   ]
  },
  {
   "cell_type": "code",
   "execution_count": 5,
   "metadata": {
    "id": "JYWDhjaspWHP"
   },
   "outputs": [],
   "source": [
    "from sklearn.preprocessing import normalize"
   ]
  },
  {
   "cell_type": "markdown",
   "metadata": {
    "id": "f015otaRtC8J"
   },
   "source": [
    "#### Overlayed Distributions for WMD"
   ]
  },
  {
   "cell_type": "code",
   "execution_count": 12,
   "metadata": {},
   "outputs": [
    {
     "data": {
      "image/png": "[encoded data removed]",
      "text/plain": [
       "<Figure size 432x288 with 1 Axes>"
      ]
     },
     "metadata": {
      "needs_background": "light"
     },
     "output_type": "display_data"
    }
   ],
   "source": [
    "plt.hist(pos_cult['normalized_cult_wmd'], label = 'positive cultural wmd score', alpha = 0.7)\n",
    "plt.hist(neg_cult['normalized_cult_wmd'], label = 'negative cultural wmd score', alpha = 0.7)\n",
    "plt.title('Distribution of positive vs. negative wmd cultural scores ')\n",
    "plt.legend()\n",
    "plt.show()"
   ]
  },
  {
   "cell_type": "code",
   "execution_count": 13,
   "metadata": {},
   "outputs": [
    {
     "data": {
      "text/plain": [
       "<matplotlib.legend.Legend at 0x7fc9a1950fd0>"
      ]
     },
     "execution_count": 13,
     "metadata": {},
     "output_type": "execute_result"
    },
    {
     "data": {
      "image/png": "[encoded data removed]",
      "text/plain": [
       "<Figure size 432x288 with 1 Axes>"
      ]
     },
     "metadata": {
      "needs_background": "light"
     },
     "output_type": "display_data"
    }
   ],
   "source": [
    "bins = np.arange(0.2,0.5,0.001)\n",
    "labels = ['positive cultural wmd score','negative cultural wmd score']\n",
    "\n",
    "plt.hist([pos_cult['normalized_cult_wmd'], neg_cult['normalized_cult_wmd']], histtype='bar', alpha = 0.7,stacked=True, label=labels, rwidth=1)\n",
    "plt.title('Stacked distribution of positive vs. negative wmd cultural scores ')\n",
    "plt.legend()\n",
    "\n"
   ]
  },
  {
   "cell_type": "code",
   "execution_count": 14,
   "metadata": {},
   "outputs": [
    {
     "data": {
      "image/png": "[encoded data removed]",
      "text/plain": [
       "<Figure size 432x288 with 1 Axes>"
      ]
     },
     "metadata": {
      "needs_background": "light"
     },
     "output_type": "display_data"
    }
   ],
   "source": [
    "plt.hist(pos_rela['normalized_rela_wmd'], label = 'positive relational wmd score', alpha = 0.7)\n",
    "plt.hist(neg_rela['normalized_rela_wmd'], label = 'negative relational wmd score', alpha = 0.7)\n",
    "plt.title('Distribution of positive vs. negative wmd relational scores ')\n",
    "plt.legend()\n",
    "plt.show()"
   ]
  },
  {
   "cell_type": "code",
   "execution_count": 15,
   "metadata": {},
   "outputs": [
    {
     "data": {
      "text/plain": [
       "<matplotlib.legend.Legend at 0x7fc9a19776d0>"
      ]
     },
     "execution_count": 15,
     "metadata": {},
     "output_type": "execute_result"
    },
    {
     "data": {
      "image/png": "[encoded data removed]",
      "text/plain": [
       "<Figure size 432x288 with 1 Axes>"
      ]
     },
     "metadata": {
      "needs_background": "light"
     },
     "output_type": "display_data"
    }
   ],
   "source": [
    "bins = np.arange(0.2,0.5,0.001)\n",
    "labels = ['positive relational wmd score','negative relational wmd score']\n",
    "\n",
    "plt.hist([pos_rela['normalized_rela_wmd'],neg_rela['normalized_rela_wmd']], histtype='bar', alpha = 0.7,stacked=True, label=labels, rwidth=1)\n",
    "plt.title('Stacked distribution of positive vs. negative wmd relational scores ')\n",
    "plt.legend()\n",
    "\n"
   ]
  },
  {
   "cell_type": "code",
   "execution_count": 16,
   "metadata": {
    "scrolled": true
   },
   "outputs": [
    {
     "data": {
      "image/png": "[encoded data removed]",
      "text/plain": [
       "<Figure size 432x288 with 1 Axes>"
      ]
     },
     "metadata": {
      "needs_background": "light"
     },
     "output_type": "display_data"
    }
   ],
   "source": [
    "plt.hist(pos_demog['normalized_dem_wmd'], label = 'positive demographic wmd score', alpha = 0.7)\n",
    "plt.hist(neg_demog['normalized_dem_wmd'], label = 'negative demographic wmd score', alpha = 0.7)\n",
    "plt.title('Distribution of positive vs. negative wmd demographic scores ')\n",
    "plt.legend()\n",
    "plt.show()"
   ]
  },
  {
   "cell_type": "code",
   "execution_count": 17,
   "metadata": {},
   "outputs": [
    {
     "data": {
      "text/plain": [
       "<matplotlib.legend.Legend at 0x7fc9a18b8ee0>"
      ]
     },
     "execution_count": 17,
     "metadata": {},
     "output_type": "execute_result"
    },
    {
     "data": {
      "image/png": "[encoded data removed]",
      "text/plain": [
       "<Figure size 432x288 with 1 Axes>"
      ]
     },
     "metadata": {
      "needs_background": "light"
     },
     "output_type": "display_data"
    }
   ],
   "source": [
    "bins = np.arange(0.2,0.5,0.001)\n",
    "labels = ['positive demog wmd score','negative demog wmd score']\n",
    "\n",
    "plt.hist([pos_demog['normalized_dem_wmd'],neg_demog['normalized_dem_wmd']], histtype='bar', alpha = 0.7,stacked=True, label=labels, rwidth=1)\n",
    "plt.title('Stacked distribution of positive vs. negative wmd demographic scores ')\n",
    "plt.legend()\n",
    "\n"
   ]
  },
  {
   "cell_type": "markdown",
   "metadata": {
    "id": "f015otaRtC8J"
   },
   "source": [
    "#### Overlayed Distributions for cosine"
   ]
  },
  {
   "cell_type": "code",
   "execution_count": 18,
   "metadata": {},
   "outputs": [
    {
     "data": {
      "image/png": "[encoded data removed]",
      "text/plain": [
       "<Figure size 432x288 with 1 Axes>"
      ]
     },
     "metadata": {
      "needs_background": "light"
     },
     "output_type": "display_data"
    }
   ],
   "source": [
    "plt.hist(pos_cult['normalized_cult_cos'], label = 'positive cultural cosine score', alpha=0.7)\n",
    "plt.hist(neg_cult['normalized_cult_cos'], label = 'negative cultural cosine score', alpha=0.7)\n",
    "plt.title('Distribution of positive vs. negative cosine cultural scores ')\n",
    "plt.legend()\n",
    "plt.show()"
   ]
  },
  {
   "cell_type": "code",
   "execution_count": 19,
   "metadata": {},
   "outputs": [
    {
     "data": {
      "text/plain": [
       "<matplotlib.legend.Legend at 0x7fc9c0336550>"
      ]
     },
     "execution_count": 19,
     "metadata": {},
     "output_type": "execute_result"
    },
    {
     "data": {
      "image/png": "[encoded data removed]",
      "text/plain": [
       "<Figure size 432x288 with 1 Axes>"
      ]
     },
     "metadata": {
      "needs_background": "light"
     },
     "output_type": "display_data"
    }
   ],
   "source": [
    "bins = np.arange(0.2,0.5,0.001)\n",
    "labels = ['positive cultural cos score','negative cultural cos score']\n",
    "\n",
    "plt.hist([pos_cult['normalized_cult_cos'],neg_cult['normalized_cult_cos']], histtype='bar', alpha = 0.7,stacked=True, label=labels, rwidth=1)\n",
    "plt.title('Stacked distribution of positive vs. negative cosine cultural scores ')\n",
    "plt.legend()\n",
    "\n"
   ]
  },
  {
   "cell_type": "code",
   "execution_count": 20,
   "metadata": {},
   "outputs": [
    {
     "data": {
      "image/png": "[encoded data removed]",
      "text/plain": [
       "<Figure size 432x288 with 1 Axes>"
      ]
     },
     "metadata": {
      "needs_background": "light"
     },
     "output_type": "display_data"
    }
   ],
   "source": [
    "plt.hist(pos_rela['normalized_rela_cos'], label = 'positive relational cosine score', alpha = 0.7)\n",
    "plt.hist(neg_rela['normalized_rela_cos'], label = 'negative relational cosine score', alpha = 0.7)\n",
    "plt.title('Distribution of positive vs. negative cosine relational scores ')\n",
    "plt.legend()\n",
    "plt.show()"
   ]
  },
  {
   "cell_type": "code",
   "execution_count": 21,
   "metadata": {},
   "outputs": [
    {
     "data": {
      "text/plain": [
       "<matplotlib.legend.Legend at 0x7fc9d27f6130>"
      ]
     },
     "execution_count": 21,
     "metadata": {},
     "output_type": "execute_result"
    },
    {
     "data": {
      "image/png": "[encoded data removed]",
      "text/plain": [
       "<Figure size 432x288 with 1 Axes>"
      ]
     },
     "metadata": {
      "needs_background": "light"
     },
     "output_type": "display_data"
    }
   ],
   "source": [
    "bins = np.arange(0.2,0.5,0.001)\n",
    "labels = ['positive relational cosine score','negative relational cosine score']\n",
    "\n",
    "plt.hist([pos_rela['normalized_rela_cos'],neg_rela['normalized_rela_cos']], histtype='bar', alpha = 0.7,stacked=True, label=labels, rwidth=1)\n",
    "plt.title('Stacked distribution of positive vs. negative cosine relational scores')\n",
    "plt.legend()\n",
    "\n"
   ]
  },
  {
   "cell_type": "code",
   "execution_count": 22,
   "metadata": {},
   "outputs": [
    {
     "data": {
      "image/png": "[encoded data removed]",
      "text/plain": [
       "<Figure size 432x288 with 1 Axes>"
      ]
     },
     "metadata": {
      "needs_background": "light"
     },
     "output_type": "display_data"
    }
   ],
   "source": [
    "plt.hist(pos_demog['normalized_dem_cos'], label = 'positive demographic cosine score', alpha = 0.7)\n",
    "plt.hist(neg_demog['normalized_dem_cos'], label = 'negative demographic cosine score', alpha = 0.7)\n",
    "plt.title('Distribution of positive vs. negative cosine demographic scores ')\n",
    "plt.legend()\n",
    "plt.show()"
   ]
  },
  {
   "cell_type": "code",
   "execution_count": 23,
   "metadata": {},
   "outputs": [
    {
     "data": {
      "text/plain": [
       "<matplotlib.legend.Legend at 0x7fc9c0359f10>"
      ]
     },
     "execution_count": 23,
     "metadata": {},
     "output_type": "execute_result"
    },
    {
     "data": {
      "image/png": "[encoded data removed]",
      "text/plain": [
       "<Figure size 432x288 with 1 Axes>"
      ]
     },
     "metadata": {
      "needs_background": "light"
     },
     "output_type": "display_data"
    }
   ],
   "source": [
    "bins = np.arange(0.2,0.5,0.001)\n",
    "labels = ['positive demog cosine score','negative demog cosine score']\n",
    "\n",
    "plt.hist([pos_demog['normalized_dem_cos'],neg_demog['normalized_dem_cos']], histtype='bar', alpha = 0.7,stacked=True, label=labels, rwidth=1)\n",
    "plt.title('Stacked distribution of positive vs.cosine demographic scores')\n",
    "plt.legend()\n",
    "\n"
   ]
  }
 ],
 "metadata": {
  "accelerator": "GPU",
  "colab": {
   "collapsed_sections": [],
   "provenance": []
  },
  "kernelspec": {
   "display_name": "Python 3 (ipykernel)",
   "language": "python",
   "name": "python3"
  },
  "language_info": {
   "codemirror_mode": {
    "name": "ipython",
    "version": 3
   },
   "file_extension": ".py",
   "mimetype": "text/x-python",
   "name": "python",
   "nbconvert_exporter": "python",
   "pygments_lexer": "ipython3",
   "version": "3.9.7"
  }
 },
 "nbformat": 4,
 "nbformat_minor": 1
}
